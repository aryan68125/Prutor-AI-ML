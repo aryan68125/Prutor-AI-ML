{
 "cells": [
  {
   "cell_type": "code",
   "execution_count": 2,
   "id": "35e8aded",
   "metadata": {},
   "outputs": [],
   "source": [
    "import numpy as np"
   ]
  },
  {
   "cell_type": "markdown",
   "id": "61c16258",
   "metadata": {},
   "source": [
    "# Date 27-04-2022"
   ]
  },
  {
   "cell_type": "code",
   "execution_count": 4,
   "id": "df03a36b",
   "metadata": {},
   "outputs": [],
   "source": [
    "# Create one dimensional array "
   ]
  },
  {
   "cell_type": "code",
   "execution_count": 5,
   "id": "c73411e3",
   "metadata": {},
   "outputs": [
    {
     "data": {
      "text/plain": [
       "array([4, 5, 6, 7])"
      ]
     },
     "execution_count": 5,
     "metadata": {},
     "output_type": "execute_result"
    }
   ],
   "source": [
    "data = [4,5,6,7]\n",
    "a = np.array(data)\n",
    "a"
   ]
  },
  {
   "cell_type": "code",
   "execution_count": 6,
   "id": "b077f4c9",
   "metadata": {},
   "outputs": [
    {
     "data": {
      "text/plain": [
       "1"
      ]
     },
     "execution_count": 6,
     "metadata": {},
     "output_type": "execute_result"
    }
   ],
   "source": [
    "a.ndim #this will tell us wheather a is one or 2 D array"
   ]
  },
  {
   "cell_type": "code",
   "execution_count": 7,
   "id": "d549b228",
   "metadata": {},
   "outputs": [
    {
     "name": "stdout",
     "output_type": "stream",
     "text": [
      "4\n"
     ]
    }
   ],
   "source": [
    "print(a.size)"
   ]
  },
  {
   "cell_type": "code",
   "execution_count": 8,
   "id": "369d2bdc",
   "metadata": {},
   "outputs": [],
   "source": [
    "# element-wise operations"
   ]
  },
  {
   "cell_type": "code",
   "execution_count": 9,
   "id": "371f3d3f",
   "metadata": {},
   "outputs": [
    {
     "data": {
      "text/plain": [
       "array([12, 15, 18, 21])"
      ]
     },
     "execution_count": 9,
     "metadata": {},
     "output_type": "execute_result"
    }
   ],
   "source": [
    "a*3 #all the elements in the array will be multiplied by 3 without changing the actual original array"
   ]
  },
  {
   "cell_type": "code",
   "execution_count": 10,
   "id": "1786a291",
   "metadata": {},
   "outputs": [
    {
     "name": "stdout",
     "output_type": "stream",
     "text": [
      "[16 25 36 49]\n"
     ]
    }
   ],
   "source": [
    "b= a**2 #all the elements in array will be powered by 2 without making changes to the actual array\n",
    "print(b)"
   ]
  },
  {
   "cell_type": "code",
   "execution_count": 11,
   "id": "dd64ea74",
   "metadata": {},
   "outputs": [
    {
     "data": {
      "text/plain": [
       "array([4, 5, 6, 7])"
      ]
     },
     "execution_count": 11,
     "metadata": {},
     "output_type": "execute_result"
    }
   ],
   "source": [
    "# checking if a is unchanged or not\n",
    "a"
   ]
  },
  {
   "cell_type": "code",
   "execution_count": 12,
   "id": "c4c9ed1c",
   "metadata": {},
   "outputs": [],
   "source": [
    "#hence we can see the elements in the array a is unchanged"
   ]
  },
  {
   "cell_type": "code",
   "execution_count": 13,
   "id": "df84e25c",
   "metadata": {},
   "outputs": [],
   "source": [
    "# Indexing and slicing"
   ]
  },
  {
   "cell_type": "code",
   "execution_count": 14,
   "id": "55dcf4d7",
   "metadata": {},
   "outputs": [
    {
     "data": {
      "text/plain": [
       "7"
      ]
     },
     "execution_count": 14,
     "metadata": {},
     "output_type": "execute_result"
    }
   ],
   "source": [
    "#indexing\n",
    "a[-1] #right to left indexing negative indexing"
   ]
  },
  {
   "cell_type": "code",
   "execution_count": 15,
   "id": "9dd5c331",
   "metadata": {},
   "outputs": [
    {
     "data": {
      "text/plain": [
       "6"
      ]
     },
     "execution_count": 15,
     "metadata": {},
     "output_type": "execute_result"
    }
   ],
   "source": [
    "a[-2]"
   ]
  },
  {
   "cell_type": "code",
   "execution_count": 16,
   "id": "9ea44e3a",
   "metadata": {},
   "outputs": [
    {
     "data": {
      "text/plain": [
       "6"
      ]
     },
     "execution_count": 16,
     "metadata": {},
     "output_type": "execute_result"
    }
   ],
   "source": [
    "a[2] #left to right indexing positive indexing"
   ]
  },
  {
   "cell_type": "code",
   "execution_count": 17,
   "id": "c1f2fbe3",
   "metadata": {},
   "outputs": [
    {
     "data": {
      "text/plain": [
       "5"
      ]
     },
     "execution_count": 17,
     "metadata": {},
     "output_type": "execute_result"
    }
   ],
   "source": [
    "a[1]"
   ]
  },
  {
   "cell_type": "code",
   "execution_count": 18,
   "id": "7b76f03f",
   "metadata": {},
   "outputs": [
    {
     "data": {
      "text/plain": [
       "array([5, 6])"
      ]
     },
     "execution_count": 18,
     "metadata": {},
     "output_type": "execute_result"
    }
   ],
   "source": [
    "# Slicing\n",
    "a[1:3] #start, stop"
   ]
  },
  {
   "cell_type": "code",
   "execution_count": 19,
   "id": "5d15ee70",
   "metadata": {},
   "outputs": [],
   "source": [
    "#Remeber the output of the stop point will not be included in the output"
   ]
  },
  {
   "cell_type": "code",
   "execution_count": 20,
   "id": "fb06f42b",
   "metadata": {},
   "outputs": [],
   "source": [
    "#Two dimensional array"
   ]
  },
  {
   "cell_type": "code",
   "execution_count": 21,
   "id": "30306ad8",
   "metadata": {},
   "outputs": [
    {
     "data": {
      "text/plain": [
       "[[1, 2, 3], [4, 5, 6], [7, 8, 9]]"
      ]
     },
     "execution_count": 21,
     "metadata": {},
     "output_type": "execute_result"
    }
   ],
   "source": [
    "d = [[1,2,3],[4,5,6],[7,8,9]]\n",
    "d"
   ]
  },
  {
   "cell_type": "code",
   "execution_count": 22,
   "id": "14218df9",
   "metadata": {},
   "outputs": [
    {
     "data": {
      "text/plain": [
       "array([[1, 2, 3],\n",
       "       [4, 5, 6],\n",
       "       [7, 8, 9]])"
      ]
     },
     "execution_count": 22,
     "metadata": {},
     "output_type": "execute_result"
    }
   ],
   "source": [
    "s= np.array(d)\n",
    "s"
   ]
  },
  {
   "cell_type": "code",
   "execution_count": 23,
   "id": "c26eac92",
   "metadata": {},
   "outputs": [
    {
     "data": {
      "text/plain": [
       "2"
      ]
     },
     "execution_count": 23,
     "metadata": {},
     "output_type": "execute_result"
    }
   ],
   "source": [
    "s.ndim # telling the user the dimensions of the array"
   ]
  },
  {
   "cell_type": "code",
   "execution_count": 24,
   "id": "ff00d84f",
   "metadata": {},
   "outputs": [
    {
     "data": {
      "text/plain": [
       "(3, 3)"
      ]
     },
     "execution_count": 24,
     "metadata": {},
     "output_type": "execute_result"
    }
   ],
   "source": [
    "s.shape"
   ]
  },
  {
   "cell_type": "code",
   "execution_count": 25,
   "id": "9b257baa",
   "metadata": {},
   "outputs": [
    {
     "data": {
      "text/plain": [
       "9"
      ]
     },
     "execution_count": 25,
     "metadata": {},
     "output_type": "execute_result"
    }
   ],
   "source": [
    "s.size"
   ]
  },
  {
   "cell_type": "code",
   "execution_count": 26,
   "id": "074a7467",
   "metadata": {},
   "outputs": [],
   "source": [
    "#indexing and slicing"
   ]
  },
  {
   "cell_type": "code",
   "execution_count": 27,
   "id": "5a6bfec5",
   "metadata": {},
   "outputs": [
    {
     "data": {
      "text/plain": [
       "array([[1, 2, 3],\n",
       "       [4, 5, 6],\n",
       "       [7, 8, 9]])"
      ]
     },
     "execution_count": 27,
     "metadata": {},
     "output_type": "execute_result"
    }
   ],
   "source": [
    "#indexing\n",
    "s"
   ]
  },
  {
   "cell_type": "code",
   "execution_count": 28,
   "id": "433a404b",
   "metadata": {},
   "outputs": [
    {
     "data": {
      "text/plain": [
       "8"
      ]
     },
     "execution_count": 28,
     "metadata": {},
     "output_type": "execute_result"
    }
   ],
   "source": [
    "s[-1,-2] #using the negative indexing to locate an element"
   ]
  },
  {
   "cell_type": "code",
   "execution_count": 29,
   "id": "9c11ade5",
   "metadata": {},
   "outputs": [
    {
     "data": {
      "text/plain": [
       "6"
      ]
     },
     "execution_count": 29,
     "metadata": {},
     "output_type": "execute_result"
    }
   ],
   "source": [
    "s[1,2] #using positive indexing to locate the element in the array"
   ]
  },
  {
   "cell_type": "code",
   "execution_count": 30,
   "id": "2120ada8",
   "metadata": {},
   "outputs": [
    {
     "data": {
      "text/plain": [
       "array([4, 5, 6])"
      ]
     },
     "execution_count": 30,
     "metadata": {},
     "output_type": "execute_result"
    }
   ],
   "source": [
    "#print the entire row of a 2 dimensional array\n",
    "s[1] #using positive indexing"
   ]
  },
  {
   "cell_type": "code",
   "execution_count": 31,
   "id": "549a91e4",
   "metadata": {},
   "outputs": [
    {
     "data": {
      "text/plain": [
       "array([7, 8, 9])"
      ]
     },
     "execution_count": 31,
     "metadata": {},
     "output_type": "execute_result"
    }
   ],
   "source": [
    "s[-1] #using negative indexing"
   ]
  },
  {
   "cell_type": "code",
   "execution_count": 32,
   "id": "ce3a7601",
   "metadata": {},
   "outputs": [
    {
     "data": {
      "text/plain": [
       "array([1, 4, 7])"
      ]
     },
     "execution_count": 32,
     "metadata": {},
     "output_type": "execute_result"
    }
   ],
   "source": [
    "#slicing\n",
    "s[:,0] #This how you can get the first column of all the rows in a 2D array"
   ]
  },
  {
   "cell_type": "code",
   "execution_count": 33,
   "id": "6318c057",
   "metadata": {},
   "outputs": [
    {
     "data": {
      "text/plain": [
       "array([[2, 3],\n",
       "       [5, 6]])"
      ]
     },
     "execution_count": 33,
     "metadata": {},
     "output_type": "execute_result"
    }
   ],
   "source": [
    "s[:2,1:]"
   ]
  },
  {
   "cell_type": "code",
   "execution_count": 34,
   "id": "29d77f98",
   "metadata": {},
   "outputs": [
    {
     "data": {
      "text/plain": [
       "array([[4, 5],\n",
       "       [7, 8]])"
      ]
     },
     "execution_count": 34,
     "metadata": {},
     "output_type": "execute_result"
    }
   ],
   "source": [
    "s[1:,:2]"
   ]
  },
  {
   "cell_type": "code",
   "execution_count": 35,
   "id": "84bd5115",
   "metadata": {},
   "outputs": [
    {
     "data": {
      "text/plain": [
       "array([[1, 2, 3],\n",
       "       [4, 5, 6],\n",
       "       [7, 8, 9]])"
      ]
     },
     "execution_count": 35,
     "metadata": {},
     "output_type": "execute_result"
    }
   ],
   "source": [
    "s"
   ]
  },
  {
   "cell_type": "code",
   "execution_count": 36,
   "id": "730afbe0",
   "metadata": {},
   "outputs": [
    {
     "data": {
      "text/plain": [
       "array([[2, 3],\n",
       "       [5, 6],\n",
       "       [8, 9]])"
      ]
     },
     "execution_count": 36,
     "metadata": {},
     "output_type": "execute_result"
    }
   ],
   "source": [
    "s[:,1:] #s[starting row : ending row , starting column : ending column]\n",
    "#Note the ending element entered will not be included in the output"
   ]
  },
  {
   "cell_type": "markdown",
   "id": "e280bfb0",
   "metadata": {},
   "source": [
    "# Date 28-04-2022"
   ]
  },
  {
   "cell_type": "markdown",
   "id": "49efaf28",
   "metadata": {},
   "source": [
    "## arange"
   ]
  },
  {
   "cell_type": "code",
   "execution_count": 37,
   "id": "f0861202",
   "metadata": {},
   "outputs": [],
   "source": [
    "#arange()\n",
    "#It is another way of creating a 1D array"
   ]
  },
  {
   "cell_type": "code",
   "execution_count": 38,
   "id": "74a668ef",
   "metadata": {},
   "outputs": [
    {
     "data": {
      "text/plain": [
       "array([0, 1, 2, 3, 4, 5, 6, 7, 8])"
      ]
     },
     "execution_count": 38,
     "metadata": {},
     "output_type": "execute_result"
    }
   ],
   "source": [
    "d = np.arange(0,9) #start,stop,step\n",
    "d"
   ]
  },
  {
   "cell_type": "code",
   "execution_count": 39,
   "id": "5c57e6e9",
   "metadata": {},
   "outputs": [],
   "source": [
    "#Reshape an array"
   ]
  },
  {
   "cell_type": "code",
   "execution_count": 40,
   "id": "8a2c7d2e",
   "metadata": {},
   "outputs": [
    {
     "data": {
      "text/plain": [
       "array([0, 1, 2, 3, 4, 5, 6, 7, 8])"
      ]
     },
     "execution_count": 40,
     "metadata": {},
     "output_type": "execute_result"
    }
   ],
   "source": [
    "d"
   ]
  },
  {
   "cell_type": "code",
   "execution_count": 41,
   "id": "4e31936e",
   "metadata": {},
   "outputs": [
    {
     "data": {
      "text/plain": [
       "array([[0, 1, 2],\n",
       "       [3, 4, 5],\n",
       "       [6, 7, 8]])"
      ]
     },
     "execution_count": 41,
     "metadata": {},
     "output_type": "execute_result"
    }
   ],
   "source": [
    "k = d.reshape(3,3)  #possible rehape arrays (3,3) , (9,1) , (1,9)\n",
    "k"
   ]
  },
  {
   "cell_type": "code",
   "execution_count": 42,
   "id": "e12cc871",
   "metadata": {},
   "outputs": [
    {
     "data": {
      "text/plain": [
       "array([[2, 3],\n",
       "       [5, 6],\n",
       "       [8, 9]])"
      ]
     },
     "execution_count": 42,
     "metadata": {},
     "output_type": "execute_result"
    }
   ],
   "source": [
    "j = s [:,1:3]\n",
    "j"
   ]
  },
  {
   "cell_type": "code",
   "execution_count": 43,
   "id": "cc87ce6f",
   "metadata": {},
   "outputs": [
    {
     "data": {
      "text/plain": [
       "array([[2, 3, 5],\n",
       "       [6, 8, 9]])"
      ]
     },
     "execution_count": 43,
     "metadata": {},
     "output_type": "execute_result"
    }
   ],
   "source": [
    "m = j.reshape(2,3)\n",
    "m"
   ]
  },
  {
   "cell_type": "markdown",
   "id": "8605dd58",
   "metadata": {},
   "source": [
    "## Array concatination"
   ]
  },
  {
   "cell_type": "code",
   "execution_count": 44,
   "id": "171c44ce",
   "metadata": {},
   "outputs": [],
   "source": [
    "x = np.array([[2,3],[4,5]])\n",
    "y = np.array([[1,8],[7,9]])"
   ]
  },
  {
   "cell_type": "code",
   "execution_count": 45,
   "id": "14175a2c",
   "metadata": {},
   "outputs": [
    {
     "data": {
      "text/plain": [
       "array([[2, 3],\n",
       "       [4, 5]])"
      ]
     },
     "execution_count": 45,
     "metadata": {},
     "output_type": "execute_result"
    }
   ],
   "source": [
    "x"
   ]
  },
  {
   "cell_type": "code",
   "execution_count": 46,
   "id": "9c904c8c",
   "metadata": {},
   "outputs": [
    {
     "data": {
      "text/plain": [
       "array([[1, 8],\n",
       "       [7, 9]])"
      ]
     },
     "execution_count": 46,
     "metadata": {},
     "output_type": "execute_result"
    }
   ],
   "source": [
    "y"
   ]
  },
  {
   "cell_type": "code",
   "execution_count": 57,
   "id": "d4737329",
   "metadata": {},
   "outputs": [
    {
     "data": {
      "text/plain": [
       "array([[2, 3, 1, 8],\n",
       "       [4, 5, 7, 9]])"
      ]
     },
     "execution_count": 57,
     "metadata": {},
     "output_type": "execute_result"
    }
   ],
   "source": [
    "f = np.concatenate((x,y),axis=1) #columnwise concatination\n",
    "f"
   ]
  },
  {
   "cell_type": "code",
   "execution_count": 58,
   "id": "4996c5f7",
   "metadata": {},
   "outputs": [
    {
     "data": {
      "text/plain": [
       "array([[2, 3],\n",
       "       [4, 5],\n",
       "       [1, 8],\n",
       "       [7, 9]])"
      ]
     },
     "execution_count": 58,
     "metadata": {},
     "output_type": "execute_result"
    }
   ],
   "source": [
    "u = np.concatenate((x,y),axis=0) #rowise concatenation\n",
    "u"
   ]
  },
  {
   "cell_type": "markdown",
   "id": "b24d23f7",
   "metadata": {},
   "source": [
    "## Transpose of the array"
   ]
  },
  {
   "cell_type": "code",
   "execution_count": 52,
   "id": "d0137842",
   "metadata": {},
   "outputs": [
    {
     "data": {
      "text/plain": [
       "array([[2, 4],\n",
       "       [3, 5],\n",
       "       [1, 7],\n",
       "       [8, 9]])"
      ]
     },
     "execution_count": 52,
     "metadata": {},
     "output_type": "execute_result"
    }
   ],
   "source": [
    "f.transpose()"
   ]
  },
  {
   "cell_type": "code",
   "execution_count": 54,
   "id": "725cae05",
   "metadata": {},
   "outputs": [
    {
     "data": {
      "text/plain": [
       "array([[2, 3, 1, 8],\n",
       "       [4, 5, 7, 9]])"
      ]
     },
     "execution_count": 54,
     "metadata": {},
     "output_type": "execute_result"
    }
   ],
   "source": [
    "f"
   ]
  },
  {
   "cell_type": "code",
   "execution_count": 55,
   "id": "d5191401",
   "metadata": {},
   "outputs": [
    {
     "data": {
      "text/plain": [
       "array([[2, 4, 1, 7],\n",
       "       [3, 5, 8, 9]])"
      ]
     },
     "execution_count": 55,
     "metadata": {},
     "output_type": "execute_result"
    }
   ],
   "source": [
    "u.transpose()"
   ]
  },
  {
   "cell_type": "code",
   "execution_count": 56,
   "id": "92558414",
   "metadata": {},
   "outputs": [
    {
     "data": {
      "text/plain": [
       "array([[2, 3],\n",
       "       [4, 5],\n",
       "       [1, 8],\n",
       "       [7, 9]])"
      ]
     },
     "execution_count": 56,
     "metadata": {},
     "output_type": "execute_result"
    }
   ],
   "source": [
    "u"
   ]
  },
  {
   "cell_type": "markdown",
   "id": "1aafcf85",
   "metadata": {},
   "source": [
    "## matrix multiplication"
   ]
  },
  {
   "cell_type": "code",
   "execution_count": 62,
   "id": "45946fe0",
   "metadata": {},
   "outputs": [
    {
     "data": {
      "text/plain": [
       "array([[2, 3],\n",
       "       [4, 5]])"
      ]
     },
     "execution_count": 62,
     "metadata": {},
     "output_type": "execute_result"
    }
   ],
   "source": [
    "x"
   ]
  },
  {
   "cell_type": "code",
   "execution_count": 63,
   "id": "ddfafd82",
   "metadata": {},
   "outputs": [
    {
     "data": {
      "text/plain": [
       "array([[1, 8],\n",
       "       [7, 9]])"
      ]
     },
     "execution_count": 63,
     "metadata": {},
     "output_type": "execute_result"
    }
   ],
   "source": [
    "y"
   ]
  },
  {
   "cell_type": "code",
   "execution_count": 66,
   "id": "dcfc0438",
   "metadata": {},
   "outputs": [],
   "source": [
    "c = np.matmul(x,y) #matrix multiplication"
   ]
  },
  {
   "cell_type": "code",
   "execution_count": 67,
   "id": "68fbe63c",
   "metadata": {},
   "outputs": [
    {
     "data": {
      "text/plain": [
       "array([[23, 43],\n",
       "       [39, 77]])"
      ]
     },
     "execution_count": 67,
     "metadata": {},
     "output_type": "execute_result"
    }
   ],
   "source": [
    "c"
   ]
  },
  {
   "cell_type": "code",
   "execution_count": 68,
   "id": "a3deca47",
   "metadata": {},
   "outputs": [
    {
     "data": {
      "text/plain": [
       "array([[2, 3, 1, 8],\n",
       "       [4, 5, 7, 9]])"
      ]
     },
     "execution_count": 68,
     "metadata": {},
     "output_type": "execute_result"
    }
   ],
   "source": [
    "f"
   ]
  },
  {
   "cell_type": "code",
   "execution_count": 69,
   "id": "03c9cf9f",
   "metadata": {},
   "outputs": [
    {
     "data": {
      "text/plain": [
       "array([[2, 3],\n",
       "       [4, 5],\n",
       "       [1, 8],\n",
       "       [7, 9]])"
      ]
     },
     "execution_count": 69,
     "metadata": {},
     "output_type": "execute_result"
    }
   ],
   "source": [
    "u"
   ]
  },
  {
   "cell_type": "code",
   "execution_count": 73,
   "id": "7113b03b",
   "metadata": {},
   "outputs": [],
   "source": [
    "v = np.matmul(f,u) #matrix multiplication"
   ]
  },
  {
   "cell_type": "code",
   "execution_count": 74,
   "id": "8e797e45",
   "metadata": {},
   "outputs": [
    {
     "data": {
      "text/plain": [
       "array([[ 73, 101],\n",
       "       [ 98, 174]])"
      ]
     },
     "execution_count": 74,
     "metadata": {},
     "output_type": "execute_result"
    }
   ],
   "source": [
    "v"
   ]
  },
  {
   "cell_type": "code",
   "execution_count": 75,
   "id": "6af1fd02",
   "metadata": {},
   "outputs": [],
   "source": [
    "#x-->(2,3) # column of x is not equal to row of y matrix so matrix multiplication is not possible\n",
    "#y-->(4,3)\n",
    "\n",
    "#transpose y to solve this problem\n",
    "#x-->(2,3) #not matrix multiplication is possible\n",
    "#y-->(3,4)"
   ]
  },
  {
   "cell_type": "markdown",
   "id": "159bf0e7",
   "metadata": {},
   "source": [
    "## unique values"
   ]
  },
  {
   "cell_type": "code",
   "execution_count": 76,
   "id": "d6d75aee",
   "metadata": {},
   "outputs": [],
   "source": [
    "z=np.array([0,2,1,2,0,3,4,4,3,4])"
   ]
  },
  {
   "cell_type": "code",
   "execution_count": 78,
   "id": "5964f089",
   "metadata": {},
   "outputs": [
    {
     "data": {
      "text/plain": [
       "(array([0, 1, 2, 3, 4]), array([2, 1, 2, 2, 3]))"
      ]
     },
     "execution_count": 78,
     "metadata": {},
     "output_type": "execute_result"
    }
   ],
   "source": [
    "np.unique(z,return_counts = True) #This will show the number of times an element is repeated in the array"
   ]
  },
  {
   "cell_type": "markdown",
   "id": "f1cf6441",
   "metadata": {},
   "source": [
    "## Change the nD array into 1D array"
   ]
  },
  {
   "cell_type": "code",
   "execution_count": 79,
   "id": "7f5ebe5c",
   "metadata": {},
   "outputs": [
    {
     "data": {
      "text/plain": [
       "array([[2, 3, 1, 8],\n",
       "       [4, 5, 7, 9]])"
      ]
     },
     "execution_count": 79,
     "metadata": {},
     "output_type": "execute_result"
    }
   ],
   "source": [
    "f"
   ]
  },
  {
   "cell_type": "code",
   "execution_count": 81,
   "id": "9003d37b",
   "metadata": {},
   "outputs": [
    {
     "data": {
      "text/plain": [
       "array([2, 3, 1, 8, 4, 5, 7, 9])"
      ]
     },
     "execution_count": 81,
     "metadata": {},
     "output_type": "execute_result"
    }
   ],
   "source": [
    "e = f.flatten()\n",
    "e"
   ]
  },
  {
   "cell_type": "markdown",
   "id": "74e42ffe",
   "metadata": {},
   "source": [
    "## finding out the elements greater than 5 in array"
   ]
  },
  {
   "cell_type": "code",
   "execution_count": 82,
   "id": "557c3ab3",
   "metadata": {},
   "outputs": [
    {
     "data": {
      "text/plain": [
       "array([2, 3, 1, 8, 4, 5, 7, 9])"
      ]
     },
     "execution_count": 82,
     "metadata": {},
     "output_type": "execute_result"
    }
   ],
   "source": [
    "e"
   ]
  },
  {
   "cell_type": "code",
   "execution_count": 84,
   "id": "cb6e2dfb",
   "metadata": {},
   "outputs": [
    {
     "data": {
      "text/plain": [
       "array([8, 7, 9])"
      ]
     },
     "execution_count": 84,
     "metadata": {},
     "output_type": "execute_result"
    }
   ],
   "source": [
    "e[e>5] #this will return the values in array which are greater than 5"
   ]
  },
  {
   "cell_type": "code",
   "execution_count": 86,
   "id": "2d43f13a",
   "metadata": {},
   "outputs": [
    {
     "data": {
      "text/plain": [
       "array([2, 1])"
      ]
     },
     "execution_count": 86,
     "metadata": {},
     "output_type": "execute_result"
    }
   ],
   "source": [
    "f[f<3]  #this will return the values in array which are less than 5=3"
   ]
  },
  {
   "cell_type": "code",
   "execution_count": 90,
   "id": "d9f9ba32",
   "metadata": {},
   "outputs": [
    {
     "data": {
      "text/plain": [
       "(array([0, 1, 1, 1]), array([3, 1, 2, 3]))"
      ]
     },
     "execution_count": 90,
     "metadata": {},
     "output_type": "execute_result"
    }
   ],
   "source": [
    "## getting the indexes of the values greater than 5\n",
    "indexes = np.where(f>4) #f is a 2D array\n",
    "indexes"
   ]
  },
  {
   "cell_type": "code",
   "execution_count": 91,
   "id": "284d8eb9",
   "metadata": {},
   "outputs": [
    {
     "data": {
      "text/plain": [
       "(array([3, 5, 6, 7]),)"
      ]
     },
     "execution_count": 91,
     "metadata": {},
     "output_type": "execute_result"
    }
   ],
   "source": [
    "indexes = np.where(e>4) #e is a 1D array\n",
    "indexes"
   ]
  },
  {
   "cell_type": "markdown",
   "id": "9eb3a50c",
   "metadata": {},
   "source": [
    "## Adding arrays vertically"
   ]
  },
  {
   "cell_type": "code",
   "execution_count": 92,
   "id": "4ec2d0fc",
   "metadata": {},
   "outputs": [
    {
     "data": {
      "text/plain": [
       "array([[2, 3],\n",
       "       [4, 5]])"
      ]
     },
     "execution_count": 92,
     "metadata": {},
     "output_type": "execute_result"
    }
   ],
   "source": [
    " x"
   ]
  },
  {
   "cell_type": "code",
   "execution_count": 93,
   "id": "34c48ac2",
   "metadata": {},
   "outputs": [
    {
     "data": {
      "text/plain": [
       "array([[1, 8],\n",
       "       [7, 9]])"
      ]
     },
     "execution_count": 93,
     "metadata": {},
     "output_type": "execute_result"
    }
   ],
   "source": [
    "y"
   ]
  },
  {
   "cell_type": "code",
   "execution_count": 95,
   "id": "4c133e4d",
   "metadata": {},
   "outputs": [
    {
     "data": {
      "text/plain": [
       "array([[2, 3],\n",
       "       [4, 5],\n",
       "       [1, 8],\n",
       "       [7, 9]])"
      ]
     },
     "execution_count": 95,
     "metadata": {},
     "output_type": "execute_result"
    }
   ],
   "source": [
    "np.vstack((x,y))"
   ]
  },
  {
   "cell_type": "code",
   "execution_count": 96,
   "id": "d435787a",
   "metadata": {},
   "outputs": [
    {
     "data": {
      "text/plain": [
       "array([[2, 3, 1, 8],\n",
       "       [4, 5, 7, 9]])"
      ]
     },
     "execution_count": 96,
     "metadata": {},
     "output_type": "execute_result"
    }
   ],
   "source": [
    "np.hstack((x,y))"
   ]
  },
  {
   "cell_type": "markdown",
   "id": "1d9d0e84",
   "metadata": {},
   "source": [
    "## How to find mean and median in array"
   ]
  },
  {
   "cell_type": "code",
   "execution_count": 101,
   "id": "5edb22d3",
   "metadata": {},
   "outputs": [
    {
     "data": {
      "text/plain": [
       "array([0, 2, 1, 2, 0, 3, 4, 4, 3, 4])"
      ]
     },
     "execution_count": 101,
     "metadata": {},
     "output_type": "execute_result"
    }
   ],
   "source": [
    "z"
   ]
  },
  {
   "cell_type": "code",
   "execution_count": 102,
   "id": "a74912f5",
   "metadata": {},
   "outputs": [
    {
     "data": {
      "text/plain": [
       "2.3"
      ]
     },
     "execution_count": 102,
     "metadata": {},
     "output_type": "execute_result"
    }
   ],
   "source": [
    "np.mean(z) #finding mean in array z"
   ]
  },
  {
   "cell_type": "code",
   "execution_count": 103,
   "id": "8e5dbcea",
   "metadata": {},
   "outputs": [
    {
     "data": {
      "text/plain": [
       "2.5"
      ]
     },
     "execution_count": 103,
     "metadata": {},
     "output_type": "execute_result"
    }
   ],
   "source": [
    "np.median(z) #finding median in array z"
   ]
  },
  {
   "cell_type": "markdown",
   "id": "0bc2ce40",
   "metadata": {},
   "source": [
    "## how to generate randome values in nD array"
   ]
  },
  {
   "cell_type": "code",
   "execution_count": 118,
   "id": "f2dd29ac",
   "metadata": {},
   "outputs": [
    {
     "data": {
      "text/plain": [
       "array([[1, 1, 3, 2],\n",
       "       [4, 5, 6, 7],\n",
       "       [3, 8, 6, 6]])"
      ]
     },
     "execution_count": 118,
     "metadata": {},
     "output_type": "execute_result"
    }
   ],
   "source": [
    "np.random.randint(1,10,(3,4)) #generating random number in integer form # argument start,stop, shape"
   ]
  },
  {
   "cell_type": "code",
   "execution_count": 121,
   "id": "a461e18f",
   "metadata": {},
   "outputs": [
    {
     "data": {
      "text/plain": [
       "array([[ 0.42931818,  0.0588659 , -0.80562508,  0.65595092],\n",
       "       [-0.80192687, -0.57579279, -0.1832773 ,  0.16562306],\n",
       "       [ 0.58452002, -0.92910208,  0.7729386 , -0.45525804]])"
      ]
     },
     "execution_count": 121,
     "metadata": {},
     "output_type": "execute_result"
    }
   ],
   "source": [
    "np.random.uniform(-1,1,(3,4)) \n",
    "#it generates random float values in between a particular range #-1 = starting,1 = ending,(3,4) = shape of the matrix"
   ]
  },
  {
   "cell_type": "code",
   "execution_count": 108,
   "id": "fc050140",
   "metadata": {},
   "outputs": [
    {
     "data": {
      "text/plain": [
       "array([[0.33669467, 0.11321821, 0.40383047],\n",
       "       [0.81736227, 0.01445906, 0.38221015]])"
      ]
     },
     "execution_count": 108,
     "metadata": {},
     "output_type": "execute_result"
    }
   ],
   "source": [
    "np.random.rand(2,3) #this will generate randome values in float between 1 and 0"
   ]
  },
  {
   "cell_type": "code",
   "execution_count": 111,
   "id": "1d7fa7b5",
   "metadata": {},
   "outputs": [],
   "source": [
    "m = np.linspace(0,1,50) # 0= start, 1= stop, 50 = number of element"
   ]
  },
  {
   "cell_type": "code",
   "execution_count": 124,
   "id": "0a0313cb",
   "metadata": {},
   "outputs": [
    {
     "data": {
      "text/plain": [
       "array([0.10204082, 0.30612245, 0.69387755, 0.02040816, 0.14285714,\n",
       "       0.08163265, 0.89795918, 0.06122449, 0.95918367, 0.57142857,\n",
       "       0.6122449 , 0.16326531, 0.42857143, 0.3877551 , 0.51020408,\n",
       "       0.12244898, 0.75510204, 0.34693878, 0.40816327, 0.04081633,\n",
       "       0.44897959, 0.32653061, 0.59183673, 0.28571429, 0.65306122,\n",
       "       0.73469388, 0.        , 0.93877551, 0.67346939, 0.24489796,\n",
       "       0.87755102, 0.55102041, 0.71428571, 0.79591837, 0.53061224,\n",
       "       1.        , 0.91836735, 0.63265306, 0.81632653, 0.36734694,\n",
       "       0.18367347, 0.46938776, 0.97959184, 0.85714286, 0.48979592,\n",
       "       0.2244898 , 0.7755102 , 0.26530612, 0.83673469, 0.20408163])"
      ]
     },
     "execution_count": 124,
     "metadata": {},
     "output_type": "execute_result"
    }
   ],
   "source": [
    "np.random.shuffle(m) #it shuffles the values inside the array and automatically stores in the array\n",
    "m"
   ]
  },
  {
   "cell_type": "code",
   "execution_count": 125,
   "id": "87f292a9",
   "metadata": {},
   "outputs": [
    {
     "data": {
      "text/plain": [
       "1.0"
      ]
     },
     "execution_count": 125,
     "metadata": {},
     "output_type": "execute_result"
    }
   ],
   "source": [
    "m.max() #it returns max value"
   ]
  },
  {
   "cell_type": "code",
   "execution_count": 126,
   "id": "49c0f020",
   "metadata": {},
   "outputs": [
    {
     "data": {
      "text/plain": [
       "0.0"
      ]
     },
     "execution_count": 126,
     "metadata": {},
     "output_type": "execute_result"
    }
   ],
   "source": [
    "m.min() #it returns max value"
   ]
  },
  {
   "cell_type": "code",
   "execution_count": 127,
   "id": "316637a1",
   "metadata": {},
   "outputs": [
    {
     "data": {
      "text/plain": [
       "26"
      ]
     },
     "execution_count": 127,
     "metadata": {},
     "output_type": "execute_result"
    }
   ],
   "source": [
    "m.argmin() #it returns indexes of the minimum value"
   ]
  },
  {
   "cell_type": "code",
   "execution_count": 128,
   "id": "9c1ddad1",
   "metadata": {},
   "outputs": [
    {
     "data": {
      "text/plain": [
       "35"
      ]
     },
     "execution_count": 128,
     "metadata": {},
     "output_type": "execute_result"
    }
   ],
   "source": [
    "m.argmax() #it returns indexes of the maximum value"
   ]
  },
  {
   "cell_type": "code",
   "execution_count": null,
   "id": "082dcb35",
   "metadata": {},
   "outputs": [],
   "source": []
  }
 ],
 "metadata": {
  "kernelspec": {
   "display_name": "Python [conda env:tensorflow] *",
   "language": "python",
   "name": "conda-env-tensorflow-py"
  },
  "language_info": {
   "codemirror_mode": {
    "name": "ipython",
    "version": 3
   },
   "file_extension": ".py",
   "mimetype": "text/x-python",
   "name": "python",
   "nbconvert_exporter": "python",
   "pygments_lexer": "ipython3",
   "version": "3.8.12"
  }
 },
 "nbformat": 4,
 "nbformat_minor": 5
}

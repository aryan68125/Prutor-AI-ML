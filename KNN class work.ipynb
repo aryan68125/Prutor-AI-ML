{
 "cells": [
  {
   "cell_type": "markdown",
   "id": "b66b1d96",
   "metadata": {},
   "source": [
    "# KNN K nearest neighbours"
   ]
  },
  {
   "cell_type": "markdown",
   "id": "c63a8020",
   "metadata": {},
   "source": [
    "## Steps followed by KNN"
   ]
  },
  {
   "cell_type": "markdown",
   "id": "67b46f7c",
   "metadata": {},
   "source": [
    "## Set the value of k . for example k=3 "
   ]
  },
  {
   "cell_type": "markdown",
   "id": "ff71b9ab",
   "metadata": {},
   "source": [
    "## K's value will depend on number of classes \n",
    "## If no of classes is even then k will be odd\n",
    "## If no of classes is odd then k will be even"
   ]
  },
  {
   "cell_type": "code",
   "execution_count": 19,
   "id": "c0c5b6b4",
   "metadata": {},
   "outputs": [],
   "source": [
    "from sklearn.datasets import load_iris"
   ]
  },
  {
   "cell_type": "code",
   "execution_count": 20,
   "id": "b84046fc",
   "metadata": {},
   "outputs": [],
   "source": [
    "import pandas as pd"
   ]
  },
  {
   "cell_type": "code",
   "execution_count": 21,
   "id": "6415e787",
   "metadata": {},
   "outputs": [],
   "source": [
    "from sklearn.metrics import accuracy_score"
   ]
  },
  {
   "cell_type": "code",
   "execution_count": 22,
   "id": "36b03e03",
   "metadata": {},
   "outputs": [],
   "source": [
    "iris = load_iris()"
   ]
  },
  {
   "cell_type": "code",
   "execution_count": 23,
   "id": "d2d7a6e6",
   "metadata": {},
   "outputs": [],
   "source": [
    "x = iris.data"
   ]
  },
  {
   "cell_type": "code",
   "execution_count": 24,
   "id": "6ac5b1a5",
   "metadata": {},
   "outputs": [],
   "source": [
    "y = iris.target"
   ]
  },
  {
   "cell_type": "code",
   "execution_count": 25,
   "id": "dbe599ed",
   "metadata": {},
   "outputs": [
    {
     "name": "stdout",
     "output_type": "stream",
     "text": [
      "(150, 4)\n"
     ]
    }
   ],
   "source": [
    "print(x.shape)"
   ]
  },
  {
   "cell_type": "markdown",
   "id": "3e0bfbb5",
   "metadata": {},
   "source": [
    "## Split data in train and test dataset"
   ]
  },
  {
   "cell_type": "code",
   "execution_count": 26,
   "id": "ac4f0ef0",
   "metadata": {},
   "outputs": [],
   "source": [
    "from sklearn.model_selection import train_test_split"
   ]
  },
  {
   "cell_type": "code",
   "execution_count": 27,
   "id": "b92e5a94",
   "metadata": {},
   "outputs": [],
   "source": [
    "xtrain,xtest,ytrain,ytest = train_test_split(x,y,test_size=.2,random_state=13)"
   ]
  },
  {
   "cell_type": "markdown",
   "id": "d32979e7",
   "metadata": {},
   "source": [
    "## Initializing KNN class with euclidean equation metric with n_neighbors(k) = 3"
   ]
  },
  {
   "cell_type": "code",
   "execution_count": 28,
   "id": "5eb39f7d",
   "metadata": {},
   "outputs": [],
   "source": [
    "from sklearn.neighbors import KNeighborsClassifier"
   ]
  },
  {
   "cell_type": "code",
   "execution_count": 29,
   "id": "69160abd",
   "metadata": {},
   "outputs": [],
   "source": [
    "knn = KNeighborsClassifier(metric = 'euclidean',n_neighbors = 3)"
   ]
  },
  {
   "cell_type": "markdown",
   "id": "27f9bfc0",
   "metadata": {},
   "source": [
    "## Train KNN model"
   ]
  },
  {
   "cell_type": "code",
   "execution_count": 30,
   "id": "6cafabd4",
   "metadata": {},
   "outputs": [
    {
     "data": {
      "text/plain": [
       "KNeighborsClassifier(metric='euclidean', n_neighbors=3)"
      ]
     },
     "execution_count": 30,
     "metadata": {},
     "output_type": "execute_result"
    }
   ],
   "source": [
    "knn.fit(xtrain,ytrain) "
   ]
  },
  {
   "cell_type": "markdown",
   "id": "60dc324a",
   "metadata": {},
   "source": [
    "## Run prediction on Trained KNN model"
   ]
  },
  {
   "cell_type": "code",
   "execution_count": 31,
   "id": "73fc0de1",
   "metadata": {},
   "outputs": [],
   "source": [
    "pred = knn.predict(xtest)"
   ]
  },
  {
   "cell_type": "code",
   "execution_count": 32,
   "id": "5e168440",
   "metadata": {},
   "outputs": [
    {
     "data": {
      "text/plain": [
       "array([1, 1, 0, 2, 2, 0, 2, 2, 0, 1, 2, 1, 1, 0, 2, 0, 2, 2, 1, 0, 1, 0,\n",
       "       0, 2, 1, 2, 0, 2, 1, 2])"
      ]
     },
     "execution_count": 32,
     "metadata": {},
     "output_type": "execute_result"
    }
   ],
   "source": [
    "pred"
   ]
  },
  {
   "cell_type": "markdown",
   "id": "fcbb80bd",
   "metadata": {},
   "source": [
    "## Testing accuracy of the Trained KNN model"
   ]
  },
  {
   "cell_type": "code",
   "execution_count": 37,
   "id": "53219cc8",
   "metadata": {},
   "outputs": [
    {
     "data": {
      "text/plain": [
       "0.9666666666666667"
      ]
     },
     "execution_count": 37,
     "metadata": {},
     "output_type": "execute_result"
    }
   ],
   "source": [
    "accuracy_score(ytest,pred) #accuracy of the KNN model on test dataset"
   ]
  },
  {
   "cell_type": "markdown",
   "id": "82c76a77",
   "metadata": {},
   "source": [
    "# Example 2 of KNN model"
   ]
  },
  {
   "cell_type": "code",
   "execution_count": 38,
   "id": "ee90b733",
   "metadata": {},
   "outputs": [],
   "source": [
    "from sklearn.datasets import load_iris"
   ]
  },
  {
   "cell_type": "code",
   "execution_count": 39,
   "id": "ecd5bfdb",
   "metadata": {},
   "outputs": [],
   "source": [
    "import pandas as pd"
   ]
  },
  {
   "cell_type": "code",
   "execution_count": 70,
   "id": "5807b8c3",
   "metadata": {},
   "outputs": [],
   "source": [
    "import numpy as np"
   ]
  },
  {
   "cell_type": "code",
   "execution_count": 40,
   "id": "a2ec8dd3",
   "metadata": {},
   "outputs": [],
   "source": [
    "from sklearn.metrics import accuracy_score"
   ]
  },
  {
   "cell_type": "code",
   "execution_count": 41,
   "id": "7fef5d25",
   "metadata": {},
   "outputs": [],
   "source": [
    "iris = load_iris()"
   ]
  },
  {
   "cell_type": "code",
   "execution_count": 42,
   "id": "33936b0c",
   "metadata": {},
   "outputs": [],
   "source": [
    "x1 = iris.data"
   ]
  },
  {
   "cell_type": "code",
   "execution_count": 43,
   "id": "78075ab5",
   "metadata": {},
   "outputs": [],
   "source": [
    "yr = iris.target"
   ]
  },
  {
   "cell_type": "code",
   "execution_count": 44,
   "id": "d60c4f1e",
   "metadata": {},
   "outputs": [
    {
     "data": {
      "text/plain": [
       "(150, 4)"
      ]
     },
     "execution_count": 44,
     "metadata": {},
     "output_type": "execute_result"
    }
   ],
   "source": [
    "x1.shape"
   ]
  },
  {
   "cell_type": "markdown",
   "id": "92b04a0a",
   "metadata": {},
   "source": [
    "## Split data into train and test dataset"
   ]
  },
  {
   "cell_type": "code",
   "execution_count": 45,
   "id": "5cab0445",
   "metadata": {},
   "outputs": [],
   "source": [
    "from sklearn.model_selection import train_test_split"
   ]
  },
  {
   "cell_type": "code",
   "execution_count": 46,
   "id": "96066c52",
   "metadata": {},
   "outputs": [],
   "source": [
    "xtrain,xtest,ytrain,ytest = train_test_split(x,y,test_size=.2,random_state=13)"
   ]
  },
  {
   "cell_type": "code",
   "execution_count": 47,
   "id": "5fdf7e65",
   "metadata": {},
   "outputs": [
    {
     "data": {
      "text/plain": [
       "(120, 4)"
      ]
     },
     "execution_count": 47,
     "metadata": {},
     "output_type": "execute_result"
    }
   ],
   "source": [
    "xtrain.shape"
   ]
  },
  {
   "cell_type": "markdown",
   "id": "9318b108",
   "metadata": {},
   "source": [
    "## Initializing KNN class with euclidean equation metric with n_neighbors(k) = 3"
   ]
  },
  {
   "cell_type": "code",
   "execution_count": 56,
   "id": "68f16c3d",
   "metadata": {},
   "outputs": [],
   "source": [
    "from sklearn.neighbors import KNeighborsClassifier"
   ]
  },
  {
   "cell_type": "code",
   "execution_count": 57,
   "id": "91c46ffc",
   "metadata": {},
   "outputs": [],
   "source": [
    "knn = KNeighborsClassifier(metric = 'euclidean')"
   ]
  },
  {
   "cell_type": "markdown",
   "id": "92433656",
   "metadata": {},
   "source": [
    "## Train KNN model"
   ]
  },
  {
   "cell_type": "code",
   "execution_count": 58,
   "id": "2a9f1e6e",
   "metadata": {},
   "outputs": [
    {
     "data": {
      "text/plain": [
       "KNeighborsClassifier(metric='euclidean')"
      ]
     },
     "execution_count": 58,
     "metadata": {},
     "output_type": "execute_result"
    }
   ],
   "source": [
    "knn.fit(xtrain,ytrain)"
   ]
  },
  {
   "cell_type": "code",
   "execution_count": 59,
   "id": "6a5b396d",
   "metadata": {},
   "outputs": [],
   "source": [
    "t = xtest[0].reshape(1,-1) #Why is there a need for reshaping xtest"
   ]
  },
  {
   "cell_type": "code",
   "execution_count": 60,
   "id": "d3a169bd",
   "metadata": {},
   "outputs": [],
   "source": [
    "n,m = knn.kneighbors(t,n_neighbors = 5,return_distance = True)"
   ]
  },
  {
   "cell_type": "code",
   "execution_count": 61,
   "id": "4c380aab",
   "metadata": {},
   "outputs": [
    {
     "data": {
      "text/plain": [
       "array([[ 7, 12, 74, 21, 58]])"
      ]
     },
     "execution_count": 61,
     "metadata": {},
     "output_type": "execute_result"
    }
   ],
   "source": [
    "m #what is m"
   ]
  },
  {
   "cell_type": "code",
   "execution_count": 63,
   "id": "b6671b97",
   "metadata": {},
   "outputs": [
    {
     "data": {
      "text/plain": [
       "array([[0.3       , 0.31622777, 0.33166248, 0.37416574, 0.4       ]])"
      ]
     },
     "execution_count": 63,
     "metadata": {},
     "output_type": "execute_result"
    }
   ],
   "source": [
    "n #what is n"
   ]
  },
  {
   "cell_type": "code",
   "execution_count": 64,
   "id": "4c684006",
   "metadata": {},
   "outputs": [
    {
     "name": "stdout",
     "output_type": "stream",
     "text": [
      "1\n",
      "1\n",
      "1\n",
      "1\n",
      "1\n"
     ]
    }
   ],
   "source": [
    "for i in m[0]:\n",
    "    print(ytrain[i])"
   ]
  },
  {
   "cell_type": "code",
   "execution_count": 65,
   "id": "bc40a1d4",
   "metadata": {},
   "outputs": [
    {
     "name": "stdout",
     "output_type": "stream",
     "text": [
      "[1]\n"
     ]
    }
   ],
   "source": [
    "print(knn.predict(t))"
   ]
  },
  {
   "cell_type": "code",
   "execution_count": 66,
   "id": "d98bbfe3",
   "metadata": {},
   "outputs": [
    {
     "name": "stdout",
     "output_type": "stream",
     "text": [
      "1\n"
     ]
    }
   ],
   "source": [
    "print(ytest[0])"
   ]
  },
  {
   "cell_type": "code",
   "execution_count": 67,
   "id": "5ef19c21",
   "metadata": {},
   "outputs": [
    {
     "data": {
      "text/plain": [
       "array([1, 1, 0, 2, 2, 0, 2, 2, 0, 1, 1, 1, 1, 0, 2, 0, 1, 2, 1, 0, 1, 0,\n",
       "       0, 2, 1, 2, 0, 2, 1, 2])"
      ]
     },
     "execution_count": 67,
     "metadata": {},
     "output_type": "execute_result"
    }
   ],
   "source": [
    "pred = knn.predict(xtest)\n",
    "pred"
   ]
  },
  {
   "cell_type": "code",
   "execution_count": 68,
   "id": "9e751df7",
   "metadata": {},
   "outputs": [
    {
     "data": {
      "text/plain": [
       "0.9"
      ]
     },
     "execution_count": 68,
     "metadata": {},
     "output_type": "execute_result"
    }
   ],
   "source": [
    "accuracy_score(ytest,pred) #accuracy of the KNN model on test dataset"
   ]
  },
  {
   "cell_type": "markdown",
   "id": "d1ad111c",
   "metadata": {},
   "source": [
    "## Indexes of missclassified samples"
   ]
  },
  {
   "cell_type": "code",
   "execution_count": 71,
   "id": "d39e7f3a",
   "metadata": {},
   "outputs": [
    {
     "name": "stdout",
     "output_type": "stream",
     "text": [
      "(array([10, 11, 16]),)\n"
     ]
    }
   ],
   "source": [
    "print(np.where(ytest!=pred))"
   ]
  },
  {
   "cell_type": "code",
   "execution_count": null,
   "id": "14410467",
   "metadata": {},
   "outputs": [],
   "source": []
  }
 ],
 "metadata": {
  "kernelspec": {
   "display_name": "Python [conda env:tensorflow] *",
   "language": "python",
   "name": "conda-env-tensorflow-py"
  },
  "language_info": {
   "codemirror_mode": {
    "name": "ipython",
    "version": 3
   },
   "file_extension": ".py",
   "mimetype": "text/x-python",
   "name": "python",
   "nbconvert_exporter": "python",
   "pygments_lexer": "ipython3",
   "version": "3.8.12"
  }
 },
 "nbformat": 4,
 "nbformat_minor": 5
}

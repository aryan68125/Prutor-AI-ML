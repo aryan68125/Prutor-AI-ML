{
 "cells": [
  {
   "cell_type": "markdown",
   "id": "032fb1bd",
   "metadata": {},
   "source": [
    "# KNN K nearest neighbours"
   ]
  },
  {
   "cell_type": "markdown",
   "id": "ba94d09c",
   "metadata": {},
   "source": [
    "## Steps followed by KNN"
   ]
  },
  {
   "cell_type": "markdown",
   "id": "926efd18",
   "metadata": {},
   "source": [
    "## Set the value of k . for example k=3 "
   ]
  },
  {
   "cell_type": "markdown",
   "id": "43f09120",
   "metadata": {},
   "source": [
    "## K's value will depend on number of classes \n",
    "## If no of classes is even then k will be odd\n",
    "## If no of classes is odd then k will be even"
   ]
  },
  {
   "cell_type": "code",
   "execution_count": 46,
   "id": "d00558df",
   "metadata": {},
   "outputs": [],
   "source": [
    "from sklearn.datasets import load_iris"
   ]
  },
  {
   "cell_type": "code",
   "execution_count": 47,
   "id": "60dd95d1",
   "metadata": {},
   "outputs": [],
   "source": [
    "import pandas as pd"
   ]
  },
  {
   "cell_type": "code",
   "execution_count": 48,
   "id": "41941b08",
   "metadata": {},
   "outputs": [],
   "source": [
    "from sklearn.metrics import accuracy_score"
   ]
  },
  {
   "cell_type": "code",
   "execution_count": 49,
   "id": "b6123d9c",
   "metadata": {},
   "outputs": [],
   "source": [
    "iris = load_iris()"
   ]
  },
  {
   "cell_type": "code",
   "execution_count": 50,
   "id": "dd98d0b6",
   "metadata": {},
   "outputs": [],
   "source": [
    "x = iris.data"
   ]
  },
  {
   "cell_type": "code",
   "execution_count": 51,
   "id": "46975dd2",
   "metadata": {},
   "outputs": [],
   "source": [
    "y = iris.target"
   ]
  },
  {
   "cell_type": "code",
   "execution_count": 52,
   "id": "91f0f3bb",
   "metadata": {},
   "outputs": [
    {
     "name": "stdout",
     "output_type": "stream",
     "text": [
      "(150, 4)\n"
     ]
    }
   ],
   "source": [
    "print(x.shape)"
   ]
  },
  {
   "cell_type": "markdown",
   "id": "3199a255",
   "metadata": {},
   "source": [
    "## Split data in train and test dataset"
   ]
  },
  {
   "cell_type": "code",
   "execution_count": 53,
   "id": "f66cc132",
   "metadata": {},
   "outputs": [],
   "source": [
    "from sklearn.model_selection import train_test_split"
   ]
  },
  {
   "cell_type": "code",
   "execution_count": 54,
   "id": "d15f80ca",
   "metadata": {},
   "outputs": [],
   "source": [
    "xtrain,xtest,ytrain,ytest = train_test_split(x,y,test_size=.2,random_state=13)"
   ]
  },
  {
   "cell_type": "markdown",
   "id": "8608926e",
   "metadata": {},
   "source": [
    "## Initializing KNN class with euclidean equation metric with n_neighbors(k) = 3"
   ]
  },
  {
   "cell_type": "code",
   "execution_count": 55,
   "id": "f88af2e9",
   "metadata": {},
   "outputs": [],
   "source": [
    "from sklearn.neighbors import KNeighborsClassifier"
   ]
  },
  {
   "cell_type": "code",
   "execution_count": 56,
   "id": "1ce97235",
   "metadata": {},
   "outputs": [],
   "source": [
    "knn = KNeighborsClassifier(metric = 'euclidean',n_neighbors = 3)"
   ]
  },
  {
   "cell_type": "markdown",
   "id": "9eb966e2",
   "metadata": {},
   "source": [
    "## Train KNN model"
   ]
  },
  {
   "cell_type": "code",
   "execution_count": 57,
   "id": "225c2c7e",
   "metadata": {},
   "outputs": [
    {
     "data": {
      "text/plain": [
       "KNeighborsClassifier(metric='euclidean', n_neighbors=3)"
      ]
     },
     "execution_count": 57,
     "metadata": {},
     "output_type": "execute_result"
    }
   ],
   "source": [
    "knn.fit(xtrain,ytrain) "
   ]
  },
  {
   "cell_type": "markdown",
   "id": "7b1a6390",
   "metadata": {},
   "source": [
    "## Run prediction on Trained KNN model"
   ]
  },
  {
   "cell_type": "code",
   "execution_count": 58,
   "id": "ee753ddd",
   "metadata": {},
   "outputs": [],
   "source": [
    "pred = knn.predict(xtest)"
   ]
  },
  {
   "cell_type": "code",
   "execution_count": 59,
   "id": "eff17740",
   "metadata": {},
   "outputs": [
    {
     "data": {
      "text/plain": [
       "array([1, 1, 0, 2, 2, 0, 2, 2, 0, 1, 2, 1, 1, 0, 2, 0, 2, 2, 1, 0, 1, 0,\n",
       "       0, 2, 1, 2, 0, 2, 1, 2])"
      ]
     },
     "execution_count": 59,
     "metadata": {},
     "output_type": "execute_result"
    }
   ],
   "source": [
    "pred"
   ]
  },
  {
   "cell_type": "markdown",
   "id": "80c29324",
   "metadata": {},
   "source": [
    "## Testing accuracy of the Trained KNN model"
   ]
  },
  {
   "cell_type": "code",
   "execution_count": 60,
   "id": "a9fa9357",
   "metadata": {},
   "outputs": [
    {
     "data": {
      "text/plain": [
       "0.9666666666666667"
      ]
     },
     "execution_count": 60,
     "metadata": {},
     "output_type": "execute_result"
    }
   ],
   "source": [
    "accuracy_score(ytest,pred) #accuracy of the KNN model on test dataset"
   ]
  },
  {
   "cell_type": "markdown",
   "id": "4b0d03e5",
   "metadata": {},
   "source": [
    "# Example 2 of KNN model"
   ]
  },
  {
   "cell_type": "code",
   "execution_count": 61,
   "id": "95a7d3d3",
   "metadata": {},
   "outputs": [],
   "source": [
    "from sklearn.datasets import load_iris"
   ]
  },
  {
   "cell_type": "code",
   "execution_count": 62,
   "id": "551103da",
   "metadata": {},
   "outputs": [],
   "source": [
    "import pandas as pd"
   ]
  },
  {
   "cell_type": "code",
   "execution_count": 63,
   "id": "dc5a2980",
   "metadata": {},
   "outputs": [],
   "source": [
    "import numpy as np"
   ]
  },
  {
   "cell_type": "code",
   "execution_count": 64,
   "id": "1f453d3e",
   "metadata": {},
   "outputs": [],
   "source": [
    "from sklearn.metrics import accuracy_score"
   ]
  },
  {
   "cell_type": "code",
   "execution_count": 65,
   "id": "327c7714",
   "metadata": {},
   "outputs": [],
   "source": [
    "iris = load_iris()"
   ]
  },
  {
   "cell_type": "code",
   "execution_count": 66,
   "id": "180b5306",
   "metadata": {},
   "outputs": [],
   "source": [
    "x1 = iris.data"
   ]
  },
  {
   "cell_type": "code",
   "execution_count": 67,
   "id": "1029796d",
   "metadata": {},
   "outputs": [],
   "source": [
    "yr = iris.target"
   ]
  },
  {
   "cell_type": "code",
   "execution_count": 68,
   "id": "f5ee5c97",
   "metadata": {},
   "outputs": [
    {
     "data": {
      "text/plain": [
       "(150, 4)"
      ]
     },
     "execution_count": 68,
     "metadata": {},
     "output_type": "execute_result"
    }
   ],
   "source": [
    "x1.shape"
   ]
  },
  {
   "cell_type": "markdown",
   "id": "0898c9cb",
   "metadata": {},
   "source": [
    "## Split data into train and test dataset"
   ]
  },
  {
   "cell_type": "code",
   "execution_count": 69,
   "id": "4b614056",
   "metadata": {},
   "outputs": [],
   "source": [
    "from sklearn.model_selection import train_test_split"
   ]
  },
  {
   "cell_type": "code",
   "execution_count": 70,
   "id": "6cb9707c",
   "metadata": {},
   "outputs": [],
   "source": [
    "xtrain,xtest,ytrain,ytest = train_test_split(x,y,test_size=.2,random_state=13)"
   ]
  },
  {
   "cell_type": "code",
   "execution_count": 71,
   "id": "1e0a074f",
   "metadata": {},
   "outputs": [
    {
     "data": {
      "text/plain": [
       "(120, 4)"
      ]
     },
     "execution_count": 71,
     "metadata": {},
     "output_type": "execute_result"
    }
   ],
   "source": [
    "xtrain.shape"
   ]
  },
  {
   "cell_type": "markdown",
   "id": "945b5956",
   "metadata": {},
   "source": [
    "## Initializing KNN class with euclidean equation metric with n_neighbors(k) = 3"
   ]
  },
  {
   "cell_type": "code",
   "execution_count": 72,
   "id": "cbfa6b45",
   "metadata": {},
   "outputs": [],
   "source": [
    "from sklearn.neighbors import KNeighborsClassifier"
   ]
  },
  {
   "cell_type": "code",
   "execution_count": 73,
   "id": "a2d11067",
   "metadata": {},
   "outputs": [],
   "source": [
    "knn = KNeighborsClassifier(metric = 'euclidean')"
   ]
  },
  {
   "cell_type": "markdown",
   "id": "18fd34b5",
   "metadata": {},
   "source": [
    "## Train KNN model"
   ]
  },
  {
   "cell_type": "code",
   "execution_count": 74,
   "id": "33894c1f",
   "metadata": {},
   "outputs": [
    {
     "data": {
      "text/plain": [
       "KNeighborsClassifier(metric='euclidean')"
      ]
     },
     "execution_count": 74,
     "metadata": {},
     "output_type": "execute_result"
    }
   ],
   "source": [
    "knn.fit(xtrain,ytrain)"
   ]
  },
  {
   "cell_type": "code",
   "execution_count": 75,
   "id": "904159ef",
   "metadata": {},
   "outputs": [
    {
     "data": {
      "text/plain": [
       "(4,)"
      ]
     },
     "execution_count": 75,
     "metadata": {},
     "output_type": "execute_result"
    }
   ],
   "source": [
    "xtest[0].shape"
   ]
  },
  {
   "cell_type": "code",
   "execution_count": 82,
   "id": "7f16d775",
   "metadata": {},
   "outputs": [],
   "source": [
    "t = xtest[0].reshape(1,-1)"
   ]
  },
  {
   "cell_type": "code",
   "execution_count": 83,
   "id": "2423bb8e",
   "metadata": {},
   "outputs": [
    {
     "data": {
      "text/plain": [
       "(1, 4)"
      ]
     },
     "execution_count": 83,
     "metadata": {},
     "output_type": "execute_result"
    }
   ],
   "source": [
    "t.shape"
   ]
  },
  {
   "cell_type": "code",
   "execution_count": 84,
   "id": "4e85e7b0",
   "metadata": {},
   "outputs": [],
   "source": [
    "n,m = knn.kneighbors(t,n_neighbors = 5,return_distance = True)"
   ]
  },
  {
   "cell_type": "code",
   "execution_count": 85,
   "id": "91c65c27",
   "metadata": {},
   "outputs": [
    {
     "data": {
      "text/plain": [
       "array([[ 7, 12, 74, 21, 58]])"
      ]
     },
     "execution_count": 85,
     "metadata": {},
     "output_type": "execute_result"
    }
   ],
   "source": [
    "m #close neighbors index numbers from samples"
   ]
  },
  {
   "cell_type": "code",
   "execution_count": 86,
   "id": "48245b53",
   "metadata": {},
   "outputs": [
    {
     "data": {
      "text/plain": [
       "array([[0.3       , 0.31622777, 0.33166248, 0.37416574, 0.4       ]])"
      ]
     },
     "execution_count": 86,
     "metadata": {},
     "output_type": "execute_result"
    }
   ],
   "source": [
    "n #distance between sample and closest neighbors"
   ]
  },
  {
   "cell_type": "code",
   "execution_count": 87,
   "id": "16a3a730",
   "metadata": {},
   "outputs": [
    {
     "name": "stdout",
     "output_type": "stream",
     "text": [
      "1\n",
      "1\n",
      "1\n",
      "1\n",
      "1\n"
     ]
    }
   ],
   "source": [
    "for i in m[0]:\n",
    "    print(ytrain[i])"
   ]
  },
  {
   "cell_type": "code",
   "execution_count": 88,
   "id": "9b5f357c",
   "metadata": {},
   "outputs": [
    {
     "name": "stdout",
     "output_type": "stream",
     "text": [
      "[1]\n"
     ]
    }
   ],
   "source": [
    "print(knn.predict(t))"
   ]
  },
  {
   "cell_type": "code",
   "execution_count": 89,
   "id": "f8264da2",
   "metadata": {},
   "outputs": [
    {
     "name": "stdout",
     "output_type": "stream",
     "text": [
      "1\n"
     ]
    }
   ],
   "source": [
    "print(ytest[0])"
   ]
  },
  {
   "cell_type": "code",
   "execution_count": 90,
   "id": "3861da82",
   "metadata": {},
   "outputs": [
    {
     "data": {
      "text/plain": [
       "array([1, 1, 0, 2, 2, 0, 2, 2, 0, 1, 1, 1, 1, 0, 2, 0, 1, 2, 1, 0, 1, 0,\n",
       "       0, 2, 1, 2, 0, 2, 1, 2])"
      ]
     },
     "execution_count": 90,
     "metadata": {},
     "output_type": "execute_result"
    }
   ],
   "source": [
    "pred = knn.predict(xtest)\n",
    "pred"
   ]
  },
  {
   "cell_type": "code",
   "execution_count": 91,
   "id": "25c1c278",
   "metadata": {},
   "outputs": [
    {
     "data": {
      "text/plain": [
       "0.9"
      ]
     },
     "execution_count": 91,
     "metadata": {},
     "output_type": "execute_result"
    }
   ],
   "source": [
    "accuracy_score(ytest,pred) #accuracy of the KNN model on test dataset"
   ]
  },
  {
   "cell_type": "markdown",
   "id": "9ca1e987",
   "metadata": {},
   "source": [
    "## Indexes of missclassified samples"
   ]
  },
  {
   "cell_type": "code",
   "execution_count": 92,
   "id": "0c2112af",
   "metadata": {},
   "outputs": [
    {
     "name": "stdout",
     "output_type": "stream",
     "text": [
      "(array([10, 11, 16]),)\n"
     ]
    }
   ],
   "source": [
    "print(np.where(ytest!=pred))"
   ]
  },
  {
   "cell_type": "markdown",
   "id": "641133da",
   "metadata": {},
   "source": [
    "# Example 3"
   ]
  },
  {
   "cell_type": "markdown",
   "id": "11f4f5d0",
   "metadata": {},
   "source": [
    "## Applying KNN on minset dataset "
   ]
  },
  {
   "cell_type": "code",
   "execution_count": 93,
   "id": "190c9bd0",
   "metadata": {},
   "outputs": [],
   "source": [
    "from sklearn.datasets import fetch_openml\n",
    "import numpy as np"
   ]
  },
  {
   "cell_type": "markdown",
   "id": "4ad24092",
   "metadata": {},
   "source": [
    "## downloading mnsit dataset from open_ml website"
   ]
  },
  {
   "cell_type": "code",
   "execution_count": 95,
   "id": "2188da06",
   "metadata": {},
   "outputs": [],
   "source": [
    "mnist = fetch_openml('mnist_784') # it is a dataset that contains images of numbers from 0 to 9"
   ]
  },
  {
   "cell_type": "markdown",
   "id": "e62fcdee",
   "metadata": {},
   "source": [
    "## x and y comes in the form of dataframe hence use .values to convert them into arrays"
   ]
  },
  {
   "cell_type": "code",
   "execution_count": 135,
   "id": "65c88d69",
   "metadata": {},
   "outputs": [],
   "source": [
    "x_num = mnist.data.values"
   ]
  },
  {
   "cell_type": "code",
   "execution_count": 136,
   "id": "d49085a7",
   "metadata": {},
   "outputs": [],
   "source": [
    "y_num = mnist.target.values"
   ]
  },
  {
   "cell_type": "code",
   "execution_count": 137,
   "id": "de1f3fe9",
   "metadata": {},
   "outputs": [
    {
     "data": {
      "text/plain": [
       "(70000, 784)"
      ]
     },
     "execution_count": 137,
     "metadata": {},
     "output_type": "execute_result"
    }
   ],
   "source": [
    "x_num.shape"
   ]
  },
  {
   "cell_type": "code",
   "execution_count": 138,
   "id": "08809009",
   "metadata": {},
   "outputs": [
    {
     "data": {
      "text/plain": [
       "2"
      ]
     },
     "execution_count": 138,
     "metadata": {},
     "output_type": "execute_result"
    }
   ],
   "source": [
    "x_num.ndim"
   ]
  },
  {
   "cell_type": "code",
   "execution_count": 139,
   "id": "8609a92a",
   "metadata": {},
   "outputs": [
    {
     "data": {
      "text/plain": [
       "(70000,)"
      ]
     },
     "execution_count": 139,
     "metadata": {},
     "output_type": "execute_result"
    }
   ],
   "source": [
    "y_num.shape"
   ]
  },
  {
   "cell_type": "code",
   "execution_count": 140,
   "id": "eb961d2e",
   "metadata": {},
   "outputs": [
    {
     "data": {
      "text/plain": [
       "1"
      ]
     },
     "execution_count": 140,
     "metadata": {},
     "output_type": "execute_result"
    }
   ],
   "source": [
    "y_num.ndim"
   ]
  },
  {
   "cell_type": "code",
   "execution_count": 141,
   "id": "24b5413c",
   "metadata": {},
   "outputs": [
    {
     "data": {
      "text/plain": [
       "array([[0., 0., 0., ..., 0., 0., 0.],\n",
       "       [0., 0., 0., ..., 0., 0., 0.],\n",
       "       [0., 0., 0., ..., 0., 0., 0.],\n",
       "       ...,\n",
       "       [0., 0., 0., ..., 0., 0., 0.],\n",
       "       [0., 0., 0., ..., 0., 0., 0.],\n",
       "       [0., 0., 0., ..., 0., 0., 0.]])"
      ]
     },
     "execution_count": 141,
     "metadata": {},
     "output_type": "execute_result"
    }
   ],
   "source": [
    "x_num"
   ]
  },
  {
   "cell_type": "code",
   "execution_count": 106,
   "id": "e224579d",
   "metadata": {},
   "outputs": [],
   "source": [
    "import matplotlib.pyplot as plt #importing pyplot"
   ]
  },
  {
   "cell_type": "code",
   "execution_count": 142,
   "id": "c9c2c017",
   "metadata": {},
   "outputs": [
    {
     "data": {
      "image/png": "[encoded data removed]",
      "text/plain": [
       "<Figure size 432x288 with 1 Axes>"
      ]
     },
     "metadata": {
      "needs_background": "light"
     },
     "output_type": "display_data"
    }
   ],
   "source": [
    "plt.imshow(x_num[2].reshape(28,28),cmap='gray')\n",
    "plt.show()"
   ]
  },
  {
   "cell_type": "code",
   "execution_count": 143,
   "id": "06c200f1",
   "metadata": {},
   "outputs": [
    {
     "data": {
      "text/plain": [
       "(array(['0', '1', '2', '3', '4', '5', '6', '7', '8', '9'], dtype=object),\n",
       " array([6903, 7877, 6990, 7141, 6824, 6313, 6876, 7293, 6825, 6958]))"
      ]
     },
     "execution_count": 143,
     "metadata": {},
     "output_type": "execute_result"
    }
   ],
   "source": [
    "np.unique(y_num,return_counts=True)"
   ]
  },
  {
   "cell_type": "code",
   "execution_count": 144,
   "id": "9ff5fb31",
   "metadata": {},
   "outputs": [
    {
     "data": {
      "image/png": "[encoded data removed]",
      "text/plain": [
       "<Figure size 432x288 with 1 Axes>"
      ]
     },
     "metadata": {
      "needs_background": "light"
     },
     "output_type": "display_data"
    }
   ],
   "source": [
    "plt.imshow(x_num[10000].reshape(28,28),cmap='gray')\n",
    "plt.show()"
   ]
  },
  {
   "cell_type": "markdown",
   "id": "5443f55d",
   "metadata": {},
   "source": [
    "## Split data into train and test dataset"
   ]
  },
  {
   "cell_type": "code",
   "execution_count": 113,
   "id": "969f97f9",
   "metadata": {},
   "outputs": [],
   "source": [
    "from sklearn.model_selection import train_test_split"
   ]
  },
  {
   "cell_type": "code",
   "execution_count": 145,
   "id": "6a091fb4",
   "metadata": {},
   "outputs": [],
   "source": [
    "xtrain_num,xtest_num,ytrain_num,ytest_num = train_test_split(x_num,y_num,test_size=.2,random_state=13)"
   ]
  },
  {
   "cell_type": "code",
   "execution_count": 146,
   "id": "0b6683a0",
   "metadata": {},
   "outputs": [],
   "source": [
    "knn = KNeighborsClassifier(metric = 'euclidean')"
   ]
  },
  {
   "cell_type": "markdown",
   "id": "fd219060",
   "metadata": {},
   "source": [
    "## Train KNN model"
   ]
  },
  {
   "cell_type": "code",
   "execution_count": 147,
   "id": "5a4262b6",
   "metadata": {},
   "outputs": [
    {
     "data": {
      "text/plain": [
       "KNeighborsClassifier(metric='euclidean')"
      ]
     },
     "execution_count": 147,
     "metadata": {},
     "output_type": "execute_result"
    }
   ],
   "source": [
    "knn.fit(xtrain_num,ytrain_num)"
   ]
  },
  {
   "cell_type": "code",
   "execution_count": 148,
   "id": "463c9dc0",
   "metadata": {},
   "outputs": [
    {
     "data": {
      "text/plain": [
       "(784,)"
      ]
     },
     "execution_count": 148,
     "metadata": {},
     "output_type": "execute_result"
    }
   ],
   "source": [
    "xtest_num[0].shape"
   ]
  },
  {
   "cell_type": "code",
   "execution_count": 149,
   "id": "389b3ae2",
   "metadata": {},
   "outputs": [
    {
     "data": {
      "text/plain": [
       "1"
      ]
     },
     "execution_count": 149,
     "metadata": {},
     "output_type": "execute_result"
    }
   ],
   "source": [
    "xtest_num[0].ndim"
   ]
  },
  {
   "cell_type": "code",
   "execution_count": 150,
   "id": "cb87a045",
   "metadata": {},
   "outputs": [
    {
     "data": {
      "text/plain": [
       "2"
      ]
     },
     "execution_count": 150,
     "metadata": {},
     "output_type": "execute_result"
    }
   ],
   "source": [
    "t = xtest_num[0].reshape(1,-1) # here we are changing xtest[0] from 1D array into 2D array\n",
    "t.ndim"
   ]
  },
  {
   "cell_type": "code",
   "execution_count": 151,
   "id": "0a0f8e0c",
   "metadata": {},
   "outputs": [
    {
     "data": {
      "text/plain": [
       "(1, 784)"
      ]
     },
     "execution_count": 151,
     "metadata": {},
     "output_type": "execute_result"
    }
   ],
   "source": [
    "t.shape"
   ]
  },
  {
   "cell_type": "code",
   "execution_count": 152,
   "id": "ad8bfd92",
   "metadata": {},
   "outputs": [],
   "source": [
    "n,m = knn.kneighbors(t,n_neighbors = 5,return_distance = True) # this only excepts a 2D numpy array"
   ]
  },
  {
   "cell_type": "code",
   "execution_count": 153,
   "id": "eb978499",
   "metadata": {},
   "outputs": [
    {
     "data": {
      "text/plain": [
       "array([[30768, 45364, 35911, 28480, 36280]])"
      ]
     },
     "execution_count": 153,
     "metadata": {},
     "output_type": "execute_result"
    }
   ],
   "source": [
    "m #close neighbors index numbers from samples"
   ]
  },
  {
   "cell_type": "code",
   "execution_count": 154,
   "id": "239a358c",
   "metadata": {},
   "outputs": [
    {
     "data": {
      "text/plain": [
       "array([[858.77179739, 929.84568612, 931.12136695, 983.39615619,\n",
       "        996.11143955]])"
      ]
     },
     "execution_count": 154,
     "metadata": {},
     "output_type": "execute_result"
    }
   ],
   "source": [
    "n #distance between sample and closest neighbors"
   ]
  },
  {
   "cell_type": "markdown",
   "id": "ac0fff09",
   "metadata": {},
   "source": [
    "## Checking the values in ytrain of m[0] array"
   ]
  },
  {
   "cell_type": "code",
   "execution_count": 155,
   "id": "6de421cc",
   "metadata": {},
   "outputs": [
    {
     "name": "stdout",
     "output_type": "stream",
     "text": [
      "7\n",
      "7\n",
      "7\n",
      "7\n",
      "7\n"
     ]
    }
   ],
   "source": [
    "for i in m[0]:\n",
    "    print(ytrain_num[i])"
   ]
  },
  {
   "cell_type": "markdown",
   "id": "a74689a1",
   "metadata": {},
   "source": [
    "## Testing predictions"
   ]
  },
  {
   "cell_type": "code",
   "execution_count": 156,
   "id": "14d06c3c",
   "metadata": {},
   "outputs": [
    {
     "name": "stdout",
     "output_type": "stream",
     "text": [
      "['7']\n"
     ]
    }
   ],
   "source": [
    "print(knn.predict(t))"
   ]
  },
  {
   "cell_type": "code",
   "execution_count": 157,
   "id": "38264d77",
   "metadata": {},
   "outputs": [
    {
     "name": "stdout",
     "output_type": "stream",
     "text": [
      "7\n"
     ]
    }
   ],
   "source": [
    "print(ytest_num[0])"
   ]
  },
  {
   "cell_type": "markdown",
   "id": "203d3377",
   "metadata": {},
   "source": [
    "## Running predictions"
   ]
  },
  {
   "cell_type": "code",
   "execution_count": 158,
   "id": "b4d28a7a",
   "metadata": {},
   "outputs": [
    {
     "data": {
      "text/plain": [
       "array(['7', '3', '8', ..., '2', '2', '4'], dtype=object)"
      ]
     },
     "execution_count": 158,
     "metadata": {},
     "output_type": "execute_result"
    }
   ],
   "source": [
    "pred = knn.predict(xtest_num)\n",
    "pred"
   ]
  },
  {
   "cell_type": "code",
   "execution_count": 159,
   "id": "9eaa5476",
   "metadata": {},
   "outputs": [
    {
     "data": {
      "text/plain": [
       "['7', '3', '8', '6', '6', ..., '9', '4', '2', '2', '4']\n",
       "Length: 14000\n",
       "Categories (10, object): ['0', '1', '2', '3', ..., '6', '7', '8', '9']"
      ]
     },
     "execution_count": 159,
     "metadata": {},
     "output_type": "execute_result"
    }
   ],
   "source": [
    "ytest_num"
   ]
  },
  {
   "cell_type": "markdown",
   "id": "d4cae998",
   "metadata": {},
   "source": [
    "## Testing accuracy of the model"
   ]
  },
  {
   "cell_type": "code",
   "execution_count": 160,
   "id": "6aa3a840",
   "metadata": {},
   "outputs": [
    {
     "data": {
      "text/plain": [
       "0.97"
      ]
     },
     "execution_count": 160,
     "metadata": {},
     "output_type": "execute_result"
    }
   ],
   "source": [
    "accuracy_score(ytest_num,pred) #accuracy of the KNN model on test dataset"
   ]
  },
  {
   "cell_type": "markdown",
   "id": "cac60997",
   "metadata": {},
   "source": [
    "## Getting misclassified samples"
   ]
  },
  {
   "cell_type": "code",
   "execution_count": 161,
   "id": "0fc9e0b1",
   "metadata": {},
   "outputs": [
    {
     "name": "stdout",
     "output_type": "stream",
     "text": [
      "(array([   36,    60,    71,   143,   162,   226,   235,   250,   253,\n",
      "         256,   333,   350,   379,   477,   583,   596,   604,   695,\n",
      "         713,   718,   776,   810,   811,   842,   937,   982,   989,\n",
      "         991,  1096,  1103,  1132,  1255,  1306,  1345,  1400,  1433,\n",
      "        1447,  1478,  1563,  1579,  1582,  1620,  1650,  1655,  1662,\n",
      "        1758,  1833,  1850,  1875,  1890,  2002,  2026,  2048,  2087,\n",
      "        2096,  2186,  2188,  2208,  2218,  2222,  2275,  2312,  2379,\n",
      "        2423,  2428,  2430,  2432,  2466,  2499,  2562,  2672,  2690,\n",
      "        2704,  2744,  2764,  2794,  2828,  2899,  2923,  2929,  2931,\n",
      "        2932,  2974,  3049,  3073,  3080,  3115,  3164,  3192,  3257,\n",
      "        3266,  3286,  3296,  3308,  3339,  3410,  3460,  3480,  3494,\n",
      "        3634,  3661,  3673,  3682,  3693,  3713,  3733,  3825,  3834,\n",
      "        3857,  3881,  3912,  4037,  4079,  4120,  4122,  4170,  4206,\n",
      "        4212,  4278,  4287,  4298,  4299,  4300,  4351,  4365,  4368,\n",
      "        4424,  4429,  4622,  4632,  4638,  4645,  4703,  4765,  4771,\n",
      "        4807,  4854,  4951,  4955,  4974,  4980,  5076,  5111,  5135,\n",
      "        5137,  5167,  5182,  5185,  5224,  5258,  5304,  5318,  5325,\n",
      "        5337,  5360,  5373,  5401,  5408,  5412,  5422,  5429,  5481,\n",
      "        5490,  5542,  5546,  5702,  5825,  5830,  5927,  5953,  5963,\n",
      "        5966,  5971,  5985,  5992,  6010,  6079,  6088,  6138,  6139,\n",
      "        6151,  6172,  6263,  6287,  6305,  6314,  6347,  6369,  6382,\n",
      "        6399,  6420,  6437,  6512,  6536,  6551,  6555,  6561,  6592,\n",
      "        6615,  6627,  6670,  6703,  6733,  6738,  6864,  6891,  6899,\n",
      "        6910,  6999,  7186,  7190,  7221,  7250,  7263,  7302,  7338,\n",
      "        7438,  7469,  7534,  7555,  7576,  7590,  7597,  7625,  7659,\n",
      "        7662,  7671,  7712,  7762,  7812,  7860,  7882,  7936,  7953,\n",
      "        7989,  8002,  8010,  8056,  8115,  8139,  8149,  8216,  8274,\n",
      "        8277,  8366,  8367,  8416,  8419,  8443,  8477,  8508,  8586,\n",
      "        8632,  8652,  8685,  8755,  8767,  8928,  8943,  8998,  9026,\n",
      "        9035,  9049,  9061,  9065,  9137,  9189,  9193,  9200,  9255,\n",
      "        9278,  9287,  9315,  9419,  9440,  9454,  9471,  9565,  9598,\n",
      "        9610,  9623,  9643,  9645,  9648,  9773,  9807,  9848,  9865,\n",
      "        9868,  9891,  9952, 10030, 10086, 10096, 10112, 10159, 10170,\n",
      "       10194, 10228, 10240, 10248, 10346, 10354, 10405, 10419, 10456,\n",
      "       10506, 10516, 10531, 10558, 10578, 10628, 10656, 10658, 10691,\n",
      "       10696, 10704, 10707, 10760, 10770, 10789, 10820, 10867, 10880,\n",
      "       10917, 10955, 10999, 11013, 11021, 11068, 11110, 11128, 11137,\n",
      "       11139, 11318, 11353, 11447, 11457, 11477, 11505, 11527, 11533,\n",
      "       11536, 11541, 11577, 11598, 11644, 11645, 11696, 11705, 11768,\n",
      "       11825, 11842, 11899, 11944, 11973, 11996, 12002, 12076, 12108,\n",
      "       12109, 12159, 12209, 12219, 12325, 12402, 12422, 12466, 12499,\n",
      "       12502, 12513, 12535, 12537, 12547, 12563, 12597, 12614, 12622,\n",
      "       12666, 12684, 12702, 12707, 12710, 12711, 12749, 12827, 12838,\n",
      "       12840, 12855, 12856, 12877, 12920, 12964, 12980, 12989, 13111,\n",
      "       13114, 13148, 13159, 13232, 13319, 13333, 13370, 13423, 13468,\n",
      "       13472, 13473, 13486, 13514, 13517, 13524, 13537, 13551, 13569,\n",
      "       13580, 13594, 13811, 13822, 13900, 13996]),)\n"
     ]
    }
   ],
   "source": [
    "print(np.where(ytest_num!=pred))"
   ]
  },
  {
   "cell_type": "markdown",
   "id": "40c4edb6",
   "metadata": {},
   "source": [
    "## Now importing our cutom image and try to classify the number using KNN"
   ]
  },
  {
   "cell_type": "markdown",
   "id": "17e50ac2",
   "metadata": {},
   "source": [
    "## Importing image in this jupyter notebook using OpenCv"
   ]
  },
  {
   "cell_type": "code",
   "execution_count": 162,
   "id": "b22eb296",
   "metadata": {},
   "outputs": [],
   "source": [
    "import cv2\n",
    "import matplotlib.pyplot as plt\n",
    "import numpy as np"
   ]
  },
  {
   "cell_type": "code",
   "execution_count": 219,
   "id": "96e88beb",
   "metadata": {},
   "outputs": [],
   "source": [
    "# importing image\n",
    "image = cv2.imread('/home/Machine_learning/github/Machine_Learning/Prutor_ML_ClassWork/six.png')"
   ]
  },
  {
   "cell_type": "code",
   "execution_count": 220,
   "id": "226f3b34",
   "metadata": {},
   "outputs": [
    {
     "data": {
      "text/plain": [
       "3"
      ]
     },
     "execution_count": 220,
     "metadata": {},
     "output_type": "execute_result"
    }
   ],
   "source": [
    "image.ndim #here image imported via opencv is in 3D numpy array  "
   ]
  },
  {
   "cell_type": "code",
   "execution_count": 221,
   "id": "bbad5042",
   "metadata": {},
   "outputs": [
    {
     "data": {
      "text/plain": [
       "<matplotlib.image.AxesImage at 0x7f91a09e0700>"
      ]
     },
     "execution_count": 221,
     "metadata": {},
     "output_type": "execute_result"
    },
    {
     "data": {
      "image/png": "[encoded data removed]",
      "text/plain": [
       "<Figure size 432x288 with 1 Axes>"
      ]
     },
     "metadata": {
      "needs_background": "light"
     },
     "output_type": "display_data"
    }
   ],
   "source": [
    "plt.imshow(image)"
   ]
  },
  {
   "cell_type": "markdown",
   "id": "adf777cc",
   "metadata": {},
   "source": [
    "## Because we trained our model using numbers of color white with a black background we need to invert the color of our image"
   ]
  },
  {
   "cell_type": "code",
   "execution_count": 222,
   "id": "bab8437a",
   "metadata": {},
   "outputs": [],
   "source": [
    "image1 = np.invert(image) #inverting color using numpy"
   ]
  },
  {
   "cell_type": "code",
   "execution_count": 223,
   "id": "f87a6646",
   "metadata": {},
   "outputs": [
    {
     "data": {
      "text/plain": [
       "<matplotlib.image.AxesImage at 0x7f91a094d190>"
      ]
     },
     "execution_count": 223,
     "metadata": {},
     "output_type": "execute_result"
    },
    {
     "data": {
      "image/png": "[encoded data removed]",
      "text/plain": [
       "<Figure size 432x288 with 1 Axes>"
      ]
     },
     "metadata": {
      "needs_background": "light"
     },
     "output_type": "display_data"
    }
   ],
   "source": [
    "plt.imshow(image1)"
   ]
  },
  {
   "cell_type": "code",
   "execution_count": 224,
   "id": "fc008a4e",
   "metadata": {},
   "outputs": [],
   "source": [
    "gray = cv2.cvtColor(image, cv2.COLOR_BGR2GRAY)"
   ]
  },
  {
   "cell_type": "code",
   "execution_count": 225,
   "id": "a14b5652",
   "metadata": {},
   "outputs": [
    {
     "data": {
      "text/plain": [
       "2"
      ]
     },
     "execution_count": 225,
     "metadata": {},
     "output_type": "execute_result"
    }
   ],
   "source": [
    "gray.ndim #it will convert 3D array of image into 2D array of image "
   ]
  },
  {
   "cell_type": "markdown",
   "id": "73c649f6",
   "metadata": {},
   "source": [
    "## We trained our model using 28 x 28 size images so we need to resize our imported image in 28 x 28 size"
   ]
  },
  {
   "cell_type": "code",
   "execution_count": 226,
   "id": "63918405",
   "metadata": {},
   "outputs": [],
   "source": [
    "resized_img = cv2.resize(gray,(28,28)) #resize image into 28 x 28"
   ]
  },
  {
   "cell_type": "code",
   "execution_count": 227,
   "id": "eae08312",
   "metadata": {},
   "outputs": [
    {
     "data": {
      "text/plain": [
       "(28, 28)"
      ]
     },
     "execution_count": 227,
     "metadata": {},
     "output_type": "execute_result"
    }
   ],
   "source": [
    "resized_img.shape"
   ]
  },
  {
   "cell_type": "code",
   "execution_count": 228,
   "id": "c0327c18",
   "metadata": {},
   "outputs": [
    {
     "data": {
      "text/plain": [
       "2"
      ]
     },
     "execution_count": 228,
     "metadata": {},
     "output_type": "execute_result"
    }
   ],
   "source": [
    "resized_img.ndim"
   ]
  },
  {
   "cell_type": "markdown",
   "id": "3a43986f",
   "metadata": {},
   "source": [
    "## reshaping image because our KNN model is expecting 784 features in the input data"
   ]
  },
  {
   "cell_type": "code",
   "execution_count": 229,
   "id": "2ad74fb0",
   "metadata": {},
   "outputs": [],
   "source": [
    "reshaped_image = resized_img.reshape(1,784) "
   ]
  },
  {
   "cell_type": "code",
   "execution_count": 230,
   "id": "8e56d54b",
   "metadata": {},
   "outputs": [
    {
     "data": {
      "text/plain": [
       "2"
      ]
     },
     "execution_count": 230,
     "metadata": {},
     "output_type": "execute_result"
    }
   ],
   "source": [
    "reshaped_image.ndim"
   ]
  },
  {
   "cell_type": "code",
   "execution_count": 231,
   "id": "2439ceb1",
   "metadata": {},
   "outputs": [
    {
     "data": {
      "text/plain": [
       "array(['7'], dtype=object)"
      ]
     },
     "execution_count": 231,
     "metadata": {},
     "output_type": "execute_result"
    }
   ],
   "source": [
    "pred = knn.predict(reshaped_image)\n",
    "pred"
   ]
  },
  {
   "cell_type": "code",
   "execution_count": null,
   "id": "2dc55f4f",
   "metadata": {},
   "outputs": [],
   "source": []
  }
 ],
 "metadata": {
  "kernelspec": {
   "display_name": "Python [conda env:tensorflow] *",
   "language": "python",
   "name": "conda-env-tensorflow-py"
  },
  "language_info": {
   "codemirror_mode": {
    "name": "ipython",
    "version": 3
   },
   "file_extension": ".py",
   "mimetype": "text/x-python",
   "name": "python",
   "nbconvert_exporter": "python",
   "pygments_lexer": "ipython3",
   "version": "3.8.12"
  }
 },
 "nbformat": 4,
 "nbformat_minor": 5
}

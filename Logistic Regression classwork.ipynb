{
 "cells": [
  {
   "cell_type": "markdown",
   "id": "cc65468f",
   "metadata": {},
   "source": [
    "# Logistic Regression"
   ]
  },
  {
   "cell_type": "markdown",
   "id": "4f81915a",
   "metadata": {},
   "source": [
    "## It's a classification algorithm"
   ]
  },
  {
   "cell_type": "markdown",
   "id": "746a589a",
   "metadata": {},
   "source": [
    "## Its used to classify images or objects using labels"
   ]
  },
  {
   "cell_type": "markdown",
   "id": "645c0c07",
   "metadata": {},
   "source": [
    "## We usually use this for binary classification but we can also use this for multi class classification"
   ]
  },
  {
   "cell_type": "markdown",
   "id": "cab8eef4",
   "metadata": {},
   "source": [
    "## Binary classification: Number of classes is number of 2\n",
    "## Multiclass classification: Number of classes more than 2"
   ]
  },
  {
   "cell_type": "markdown",
   "id": "f1d3891d",
   "metadata": {},
   "source": [
    "## This algorithm is based on regression algoritm"
   ]
  },
  {
   "cell_type": "markdown",
   "id": "21e617e3",
   "metadata": {},
   "source": [
    "## This model will find a seperation line in the backend between different classes of samples of data. This is done to classify the input data."
   ]
  },
  {
   "cell_type": "markdown",
   "id": "c29edf38",
   "metadata": {},
   "source": [
    "## At first y=mx+c is used to find y on the basis of test input. Now Y will be passed in sigmoid function and it will convert the value of Y into the respective classes"
   ]
  },
  {
   "cell_type": "markdown",
   "id": "96771416",
   "metadata": {},
   "source": [
    "## The output of sigmoid function will be in between 0 and 1 or in form of probability"
   ]
  },
  {
   "cell_type": "markdown",
   "id": "61852011",
   "metadata": {},
   "source": [
    "# Binary Classification"
   ]
  },
  {
   "cell_type": "code",
   "execution_count": 1,
   "id": "c2673679",
   "metadata": {},
   "outputs": [],
   "source": [
    "from sklearn.datasets import load_iris\n",
    "import pandas as pd"
   ]
  },
  {
   "cell_type": "code",
   "execution_count": 2,
   "id": "0aa1ecae",
   "metadata": {},
   "outputs": [],
   "source": [
    "iris = load_iris() #loading information from the inbuilt iris dataset"
   ]
  },
  {
   "cell_type": "code",
   "execution_count": 3,
   "id": "17a87c9d",
   "metadata": {},
   "outputs": [],
   "source": [
    "x = iris.data\n",
    "y = iris.target"
   ]
  },
  {
   "cell_type": "code",
   "execution_count": 4,
   "id": "788245fa",
   "metadata": {},
   "outputs": [
    {
     "data": {
      "text/plain": [
       "2"
      ]
     },
     "execution_count": 4,
     "metadata": {},
     "output_type": "execute_result"
    }
   ],
   "source": [
    "x.ndim"
   ]
  },
  {
   "cell_type": "code",
   "execution_count": 5,
   "id": "8259181f",
   "metadata": {},
   "outputs": [
    {
     "data": {
      "text/plain": [
       "1"
      ]
     },
     "execution_count": 5,
     "metadata": {},
     "output_type": "execute_result"
    }
   ],
   "source": [
    "y.ndim"
   ]
  },
  {
   "cell_type": "code",
   "execution_count": 6,
   "id": "c046ef1b",
   "metadata": {},
   "outputs": [],
   "source": [
    "#displatying x inform of dataframe tables\n",
    "df = pd.DataFrame(x,columns = iris.feature_names)\n",
    "df['target'] = y"
   ]
  },
  {
   "cell_type": "code",
   "execution_count": 7,
   "id": "9a022d6d",
   "metadata": {},
   "outputs": [
    {
     "data": {
      "text/html": [
       "<div>\n",
       "<style scoped>\n",
       "    .dataframe tbody tr th:only-of-type {\n",
       "        vertical-align: middle;\n",
       "    }\n",
       "\n",
       "    .dataframe tbody tr th {\n",
       "        vertical-align: top;\n",
       "    }\n",
       "\n",
       "    .dataframe thead th {\n",
       "        text-align: right;\n",
       "    }\n",
       "</style>\n",
       "<table border=\"1\" class=\"dataframe\">\n",
       "  <thead>\n",
       "    <tr style=\"text-align: right;\">\n",
       "      <th></th>\n",
       "      <th>sepal length (cm)</th>\n",
       "      <th>sepal width (cm)</th>\n",
       "      <th>petal length (cm)</th>\n",
       "      <th>petal width (cm)</th>\n",
       "      <th>target</th>\n",
       "    </tr>\n",
       "  </thead>\n",
       "  <tbody>\n",
       "    <tr>\n",
       "      <th>0</th>\n",
       "      <td>5.1</td>\n",
       "      <td>3.5</td>\n",
       "      <td>1.4</td>\n",
       "      <td>0.2</td>\n",
       "      <td>0</td>\n",
       "    </tr>\n",
       "    <tr>\n",
       "      <th>1</th>\n",
       "      <td>4.9</td>\n",
       "      <td>3.0</td>\n",
       "      <td>1.4</td>\n",
       "      <td>0.2</td>\n",
       "      <td>0</td>\n",
       "    </tr>\n",
       "    <tr>\n",
       "      <th>2</th>\n",
       "      <td>4.7</td>\n",
       "      <td>3.2</td>\n",
       "      <td>1.3</td>\n",
       "      <td>0.2</td>\n",
       "      <td>0</td>\n",
       "    </tr>\n",
       "    <tr>\n",
       "      <th>3</th>\n",
       "      <td>4.6</td>\n",
       "      <td>3.1</td>\n",
       "      <td>1.5</td>\n",
       "      <td>0.2</td>\n",
       "      <td>0</td>\n",
       "    </tr>\n",
       "    <tr>\n",
       "      <th>4</th>\n",
       "      <td>5.0</td>\n",
       "      <td>3.6</td>\n",
       "      <td>1.4</td>\n",
       "      <td>0.2</td>\n",
       "      <td>0</td>\n",
       "    </tr>\n",
       "    <tr>\n",
       "      <th>...</th>\n",
       "      <td>...</td>\n",
       "      <td>...</td>\n",
       "      <td>...</td>\n",
       "      <td>...</td>\n",
       "      <td>...</td>\n",
       "    </tr>\n",
       "    <tr>\n",
       "      <th>145</th>\n",
       "      <td>6.7</td>\n",
       "      <td>3.0</td>\n",
       "      <td>5.2</td>\n",
       "      <td>2.3</td>\n",
       "      <td>2</td>\n",
       "    </tr>\n",
       "    <tr>\n",
       "      <th>146</th>\n",
       "      <td>6.3</td>\n",
       "      <td>2.5</td>\n",
       "      <td>5.0</td>\n",
       "      <td>1.9</td>\n",
       "      <td>2</td>\n",
       "    </tr>\n",
       "    <tr>\n",
       "      <th>147</th>\n",
       "      <td>6.5</td>\n",
       "      <td>3.0</td>\n",
       "      <td>5.2</td>\n",
       "      <td>2.0</td>\n",
       "      <td>2</td>\n",
       "    </tr>\n",
       "    <tr>\n",
       "      <th>148</th>\n",
       "      <td>6.2</td>\n",
       "      <td>3.4</td>\n",
       "      <td>5.4</td>\n",
       "      <td>2.3</td>\n",
       "      <td>2</td>\n",
       "    </tr>\n",
       "    <tr>\n",
       "      <th>149</th>\n",
       "      <td>5.9</td>\n",
       "      <td>3.0</td>\n",
       "      <td>5.1</td>\n",
       "      <td>1.8</td>\n",
       "      <td>2</td>\n",
       "    </tr>\n",
       "  </tbody>\n",
       "</table>\n",
       "<p>150 rows × 5 columns</p>\n",
       "</div>"
      ],
      "text/plain": [
       "     sepal length (cm)  sepal width (cm)  petal length (cm)  petal width (cm)  \\\n",
       "0                  5.1               3.5                1.4               0.2   \n",
       "1                  4.9               3.0                1.4               0.2   \n",
       "2                  4.7               3.2                1.3               0.2   \n",
       "3                  4.6               3.1                1.5               0.2   \n",
       "4                  5.0               3.6                1.4               0.2   \n",
       "..                 ...               ...                ...               ...   \n",
       "145                6.7               3.0                5.2               2.3   \n",
       "146                6.3               2.5                5.0               1.9   \n",
       "147                6.5               3.0                5.2               2.0   \n",
       "148                6.2               3.4                5.4               2.3   \n",
       "149                5.9               3.0                5.1               1.8   \n",
       "\n",
       "     target  \n",
       "0         0  \n",
       "1         0  \n",
       "2         0  \n",
       "3         0  \n",
       "4         0  \n",
       "..      ...  \n",
       "145       2  \n",
       "146       2  \n",
       "147       2  \n",
       "148       2  \n",
       "149       2  \n",
       "\n",
       "[150 rows x 5 columns]"
      ]
     },
     "execution_count": 7,
     "metadata": {},
     "output_type": "execute_result"
    }
   ],
   "source": [
    "df"
   ]
  },
  {
   "cell_type": "code",
   "execution_count": 8,
   "id": "d3a27c7e",
   "metadata": {},
   "outputs": [
    {
     "data": {
      "text/plain": [
       "0    50\n",
       "1    50\n",
       "2    50\n",
       "Name: target, dtype: int64"
      ]
     },
     "execution_count": 8,
     "metadata": {},
     "output_type": "execute_result"
    }
   ],
   "source": [
    "df.target.value_counts() # getting the number of classes in the target columns"
   ]
  },
  {
   "cell_type": "code",
   "execution_count": 9,
   "id": "a82e4b7e",
   "metadata": {},
   "outputs": [
    {
     "data": {
      "text/plain": [
       "array(['setosa', 'versicolor', 'virginica'], dtype='<U10')"
      ]
     },
     "execution_count": 9,
     "metadata": {},
     "output_type": "execute_result"
    }
   ],
   "source": [
    "iris.target_names #getting target names"
   ]
  },
  {
   "cell_type": "code",
   "execution_count": 10,
   "id": "f45c1ff3",
   "metadata": {},
   "outputs": [
    {
     "data": {
      "text/plain": [
       "(150, 5)"
      ]
     },
     "execution_count": 10,
     "metadata": {},
     "output_type": "execute_result"
    }
   ],
   "source": [
    "df.shape"
   ]
  },
  {
   "cell_type": "markdown",
   "id": "155adcd0",
   "metadata": {},
   "source": [
    "### Here we are using only 100 rows because we only want to perform Binary classification. \n",
    "### Splitting dataFrame and saving the from 0 to 100 rows into x1 and y1"
   ]
  },
  {
   "cell_type": "code",
   "execution_count": 11,
   "id": "344f10c1",
   "metadata": {},
   "outputs": [],
   "source": [
    "x1 = df.iloc[:100,:-1].values # It gives us 2D array\n",
    "y1 = df.iloc[:100,-1].values # It gives us 1D array"
   ]
  },
  {
   "cell_type": "code",
   "execution_count": 12,
   "id": "b28786b5",
   "metadata": {},
   "outputs": [
    {
     "data": {
      "text/plain": [
       "2"
      ]
     },
     "execution_count": 12,
     "metadata": {},
     "output_type": "execute_result"
    }
   ],
   "source": [
    "x1.ndim"
   ]
  },
  {
   "cell_type": "code",
   "execution_count": 13,
   "id": "25d6b105",
   "metadata": {},
   "outputs": [
    {
     "data": {
      "text/plain": [
       "1"
      ]
     },
     "execution_count": 13,
     "metadata": {},
     "output_type": "execute_result"
    }
   ],
   "source": [
    "y1.ndim"
   ]
  },
  {
   "cell_type": "code",
   "execution_count": 14,
   "id": "ae4712fc",
   "metadata": {},
   "outputs": [],
   "source": [
    "import matplotlib.pyplot as plt #importing pyplot"
   ]
  },
  {
   "cell_type": "code",
   "execution_count": 15,
   "id": "ae8930b9",
   "metadata": {},
   "outputs": [
    {
     "data": {
      "image/png": "[encoded data removed]",
      "text/plain": [
       "<Figure size 432x288 with 1 Axes>"
      ]
     },
     "metadata": {
      "needs_background": "light"
     },
     "output_type": "display_data"
    }
   ],
   "source": [
    "plt.scatter(x1[:,0],x1[:,1])\n",
    "\n",
    "plt.show()"
   ]
  },
  {
   "cell_type": "code",
   "execution_count": 16,
   "id": "6c12599c",
   "metadata": {},
   "outputs": [
    {
     "data": {
      "image/png": "[encoded data removed]",
      "text/plain": [
       "<Figure size 432x288 with 1 Axes>"
      ]
     },
     "metadata": {
      "needs_background": "light"
     },
     "output_type": "display_data"
    }
   ],
   "source": [
    "## getting samples of class zero from the dataframe\n",
    "plt.scatter(x[y==0,0],x[y==0,1],color='red',label='0') # class 1 samples\n",
    "plt.scatter(x[y==1,0],x[y==1,1],color='blue',label='1') # class 2 samples\n",
    "plt.scatter(x[y==2,0],x[y==2,1],color='green',label='2') # class 3 samples\n",
    "plt.legend()\n",
    "plt.xlabel('saple length')\n",
    "plt.ylabel('saple width')\n",
    "plt.show()"
   ]
  },
  {
   "cell_type": "code",
   "execution_count": 17,
   "id": "783ccd67",
   "metadata": {},
   "outputs": [
    {
     "data": {
      "image/png": "[encoded data removed]",
      "text/plain": [
       "<Figure size 432x288 with 1 Axes>"
      ]
     },
     "metadata": {
      "needs_background": "light"
     },
     "output_type": "display_data"
    }
   ],
   "source": [
    "## getting samples of class zero from the dataframe\n",
    "plt.scatter(x[y==0,2],x[y==0,3],color='red',label='0') # class 1 samples\n",
    "plt.scatter(x[y==1,2],x[y==1,3],color='blue',label='1') # class 2 samples\n",
    "plt.scatter(x[y==2,2],x[y==2,3],color='green',label='2') # class 3 samples\n",
    "plt.legend()\n",
    "plt.xlabel('pattle length')\n",
    "plt.ylabel('pattle width')\n",
    "plt.show()"
   ]
  },
  {
   "cell_type": "markdown",
   "id": "d51948c8",
   "metadata": {},
   "source": [
    "## Splitting data into train and test data"
   ]
  },
  {
   "cell_type": "code",
   "execution_count": 18,
   "id": "a5ececc5",
   "metadata": {},
   "outputs": [],
   "source": [
    "from sklearn.model_selection import train_test_split"
   ]
  },
  {
   "cell_type": "code",
   "execution_count": 19,
   "id": "12f7269e",
   "metadata": {},
   "outputs": [],
   "source": [
    "xtrain,xtest,ytrain,ytest = train_test_split(x1,y1,test_size=20,random_state=12)"
   ]
  },
  {
   "cell_type": "code",
   "execution_count": 20,
   "id": "96324e89",
   "metadata": {},
   "outputs": [
    {
     "data": {
      "text/plain": [
       "(80, 4)"
      ]
     },
     "execution_count": 20,
     "metadata": {},
     "output_type": "execute_result"
    }
   ],
   "source": [
    "xtrain.shape"
   ]
  },
  {
   "cell_type": "code",
   "execution_count": 21,
   "id": "6451a7f7",
   "metadata": {},
   "outputs": [
    {
     "data": {
      "text/plain": [
       "(20, 4)"
      ]
     },
     "execution_count": 21,
     "metadata": {},
     "output_type": "execute_result"
    }
   ],
   "source": [
    "xtest.shape"
   ]
  },
  {
   "cell_type": "code",
   "execution_count": 22,
   "id": "c5753c93",
   "metadata": {},
   "outputs": [],
   "source": [
    "from sklearn.linear_model import LogisticRegression\n",
    "\n",
    "from sklearn.metrics import accuracy_score"
   ]
  },
  {
   "cell_type": "code",
   "execution_count": 23,
   "id": "b0ec0a84",
   "metadata": {},
   "outputs": [],
   "source": [
    "log = LogisticRegression()"
   ]
  },
  {
   "cell_type": "code",
   "execution_count": 24,
   "id": "69adb841",
   "metadata": {},
   "outputs": [
    {
     "data": {
      "text/plain": [
       "(80, 4)"
      ]
     },
     "execution_count": 24,
     "metadata": {},
     "output_type": "execute_result"
    }
   ],
   "source": [
    "xtrain.shape"
   ]
  },
  {
   "cell_type": "code",
   "execution_count": 25,
   "id": "e05c8176",
   "metadata": {},
   "outputs": [
    {
     "data": {
      "text/plain": [
       "1"
      ]
     },
     "execution_count": 25,
     "metadata": {},
     "output_type": "execute_result"
    }
   ],
   "source": [
    "ytrain.ndim"
   ]
  },
  {
   "cell_type": "code",
   "execution_count": 26,
   "id": "6250da12",
   "metadata": {},
   "outputs": [
    {
     "data": {
      "text/plain": [
       "LogisticRegression()"
      ]
     },
     "execution_count": 26,
     "metadata": {},
     "output_type": "execute_result"
    }
   ],
   "source": [
    "log.fit(xtrain,ytrain)"
   ]
  },
  {
   "cell_type": "code",
   "execution_count": 27,
   "id": "bf8a61f5",
   "metadata": {},
   "outputs": [
    {
     "data": {
      "text/plain": [
       "array([[5.1, 3.5, 1.4, 0.3]])"
      ]
     },
     "execution_count": 27,
     "metadata": {},
     "output_type": "execute_result"
    }
   ],
   "source": [
    "test = xtest[0].reshape(1,-1) #reshape xtest from 1D to 2D and save it inside the test variable\n",
    "test"
   ]
  },
  {
   "cell_type": "code",
   "execution_count": 28,
   "id": "5883cd13",
   "metadata": {},
   "outputs": [
    {
     "data": {
      "text/plain": [
       "array([0])"
      ]
     },
     "execution_count": 28,
     "metadata": {},
     "output_type": "execute_result"
    }
   ],
   "source": [
    "log.predict(test) #log.predict(expecting 2D array) only accepts test in 2D and not in 1D"
   ]
  },
  {
   "cell_type": "code",
   "execution_count": 29,
   "id": "ad847961",
   "metadata": {},
   "outputs": [
    {
     "data": {
      "text/plain": [
       "array([0, 0, 1, 0, 1, 0, 1, 0, 0, 1, 0, 0, 0, 0, 0, 1, 1, 0, 1, 0])"
      ]
     },
     "execution_count": 29,
     "metadata": {},
     "output_type": "execute_result"
    }
   ],
   "source": [
    "pred = log.predict(xtest)\n",
    "pred"
   ]
  },
  {
   "cell_type": "code",
   "execution_count": 30,
   "id": "46f0bf64",
   "metadata": {},
   "outputs": [
    {
     "data": {
      "text/plain": [
       "array([0, 0, 1, 0, 1, 0, 1, 0, 0, 1, 0, 0, 0, 0, 0, 1, 1, 0, 1, 0])"
      ]
     },
     "execution_count": 30,
     "metadata": {},
     "output_type": "execute_result"
    }
   ],
   "source": [
    "ytest"
   ]
  },
  {
   "cell_type": "markdown",
   "id": "1f4ac50a",
   "metadata": {},
   "source": [
    "### So here we can see that ytest(output labels in test dataset) and pred(our model predictions) are same. That means that your model is 100% accurate"
   ]
  },
  {
   "cell_type": "markdown",
   "id": "24e84f5f",
   "metadata": {},
   "source": [
    "### we can test our binary classification model's accuracy using sklearn"
   ]
  },
  {
   "cell_type": "markdown",
   "id": "287665f7",
   "metadata": {},
   "source": [
    "### testing accuracy"
   ]
  },
  {
   "cell_type": "code",
   "execution_count": 31,
   "id": "fe35ad69",
   "metadata": {},
   "outputs": [],
   "source": [
    "from sklearn.metrics import accuracy_score"
   ]
  },
  {
   "cell_type": "code",
   "execution_count": 32,
   "id": "2d6971aa",
   "metadata": {},
   "outputs": [
    {
     "data": {
      "text/plain": [
       "1.0"
      ]
     },
     "execution_count": 32,
     "metadata": {},
     "output_type": "execute_result"
    }
   ],
   "source": [
    "accuracy_score(ytest,pred)"
   ]
  },
  {
   "cell_type": "markdown",
   "id": "8d23ce7f",
   "metadata": {},
   "source": [
    "# Multiclass Classification"
   ]
  },
  {
   "cell_type": "markdown",
   "id": "bcd1bcf3",
   "metadata": {},
   "source": [
    "## For image recognition use MNIST dataset"
   ]
  },
  {
   "cell_type": "markdown",
   "id": "4c8e7c64",
   "metadata": {},
   "source": [
    "## Here we are going to classify numbers from images using multi class classification. Here we are using MinMaxScalar to transform data. then we are going to use LogisticRegression(multi_class='multinomial',max_iter=20000) nad then train the model on xtrain and ytrain"
   ]
  },
  {
   "cell_type": "code",
   "execution_count": 33,
   "id": "d33a6f98",
   "metadata": {},
   "outputs": [],
   "source": [
    "from sklearn.datasets import fetch_openml\n",
    "import numpy as np"
   ]
  },
  {
   "cell_type": "markdown",
   "id": "72c0945b",
   "metadata": {},
   "source": [
    "## downloading mnsit dataset from open_ml website"
   ]
  },
  {
   "cell_type": "code",
   "execution_count": 34,
   "id": "b95828fe",
   "metadata": {},
   "outputs": [],
   "source": [
    "mnist = fetch_openml('mnist_784') # it is a dataset that contains images of numbers from 0 to 9"
   ]
  },
  {
   "cell_type": "markdown",
   "id": "2a4c8cf3",
   "metadata": {},
   "source": [
    "## x and y comes in the form of dataframe hence use .values to convert them into arrays"
   ]
  },
  {
   "cell_type": "code",
   "execution_count": 35,
   "id": "2ad8cc48",
   "metadata": {},
   "outputs": [],
   "source": [
    "x = mnist.data.values"
   ]
  },
  {
   "cell_type": "code",
   "execution_count": 36,
   "id": "a43d21da",
   "metadata": {},
   "outputs": [],
   "source": [
    "y = mnist.target.values"
   ]
  },
  {
   "cell_type": "code",
   "execution_count": 37,
   "id": "d1adb333",
   "metadata": {},
   "outputs": [
    {
     "data": {
      "text/plain": [
       "(70000, 784)"
      ]
     },
     "execution_count": 37,
     "metadata": {},
     "output_type": "execute_result"
    }
   ],
   "source": [
    "x.shape"
   ]
  },
  {
   "cell_type": "code",
   "execution_count": 38,
   "id": "bfbffa56",
   "metadata": {},
   "outputs": [
    {
     "data": {
      "text/plain": [
       "2"
      ]
     },
     "execution_count": 38,
     "metadata": {},
     "output_type": "execute_result"
    }
   ],
   "source": [
    "x.ndim"
   ]
  },
  {
   "cell_type": "code",
   "execution_count": 39,
   "id": "814da6eb",
   "metadata": {},
   "outputs": [
    {
     "data": {
      "text/plain": [
       "(70000,)"
      ]
     },
     "execution_count": 39,
     "metadata": {},
     "output_type": "execute_result"
    }
   ],
   "source": [
    "y.shape"
   ]
  },
  {
   "cell_type": "code",
   "execution_count": 40,
   "id": "e92c1913",
   "metadata": {},
   "outputs": [
    {
     "data": {
      "text/plain": [
       "1"
      ]
     },
     "execution_count": 40,
     "metadata": {},
     "output_type": "execute_result"
    }
   ],
   "source": [
    "y.ndim"
   ]
  },
  {
   "cell_type": "code",
   "execution_count": 41,
   "id": "4c05dee7",
   "metadata": {},
   "outputs": [
    {
     "data": {
      "text/plain": [
       "array([[0., 0., 0., ..., 0., 0., 0.],\n",
       "       [0., 0., 0., ..., 0., 0., 0.],\n",
       "       [0., 0., 0., ..., 0., 0., 0.],\n",
       "       ...,\n",
       "       [0., 0., 0., ..., 0., 0., 0.],\n",
       "       [0., 0., 0., ..., 0., 0., 0.],\n",
       "       [0., 0., 0., ..., 0., 0., 0.]])"
      ]
     },
     "execution_count": 41,
     "metadata": {},
     "output_type": "execute_result"
    }
   ],
   "source": [
    "x"
   ]
  },
  {
   "cell_type": "code",
   "execution_count": 42,
   "id": "feb0ba99",
   "metadata": {},
   "outputs": [
    {
     "data": {
      "image/png": "[encoded data removed]",
      "text/plain": [
       "<Figure size 432x288 with 1 Axes>"
      ]
     },
     "metadata": {
      "needs_background": "light"
     },
     "output_type": "display_data"
    }
   ],
   "source": [
    "plt.imshow(x[2].reshape(28,28),cmap='gray')\n",
    "plt.show()"
   ]
  },
  {
   "cell_type": "code",
   "execution_count": 43,
   "id": "e288a017",
   "metadata": {},
   "outputs": [
    {
     "data": {
      "text/plain": [
       "(array(['0', '1', '2', '3', '4', '5', '6', '7', '8', '9'], dtype=object),\n",
       " array([6903, 7877, 6990, 7141, 6824, 6313, 6876, 7293, 6825, 6958]))"
      ]
     },
     "execution_count": 43,
     "metadata": {},
     "output_type": "execute_result"
    }
   ],
   "source": [
    "np.unique(y,return_counts=True)"
   ]
  },
  {
   "cell_type": "code",
   "execution_count": 44,
   "id": "3746052f",
   "metadata": {},
   "outputs": [
    {
     "data": {
      "image/png": "[encoded data removed]",
      "text/plain": [
       "<Figure size 432x288 with 1 Axes>"
      ]
     },
     "metadata": {
      "needs_background": "light"
     },
     "output_type": "display_data"
    }
   ],
   "source": [
    "plt.imshow(x[10000].reshape(28,28),cmap='gray')\n",
    "plt.show()"
   ]
  },
  {
   "cell_type": "markdown",
   "id": "e08f92dd",
   "metadata": {},
   "source": [
    "## use minmax scalar here for feature scaling"
   ]
  },
  {
   "cell_type": "code",
   "execution_count": 45,
   "id": "06202938",
   "metadata": {},
   "outputs": [],
   "source": [
    "from sklearn.preprocessing import MinMaxScaler "
   ]
  },
  {
   "cell_type": "code",
   "execution_count": 46,
   "id": "03a48995",
   "metadata": {},
   "outputs": [],
   "source": [
    "minmax_scaler = MinMaxScaler() # initialization of minmaxScalar"
   ]
  },
  {
   "cell_type": "markdown",
   "id": "2ed45978",
   "metadata": {},
   "source": [
    "## Splitting data"
   ]
  },
  {
   "cell_type": "code",
   "execution_count": 47,
   "id": "a5c9ce44",
   "metadata": {},
   "outputs": [],
   "source": [
    "from sklearn.model_selection import train_test_split"
   ]
  },
  {
   "cell_type": "code",
   "execution_count": 48,
   "id": "a98f9ec9",
   "metadata": {},
   "outputs": [],
   "source": [
    "xtrain,xtest,ytrain,ytest = train_test_split(x,y,test_size=.2,random_state=12)"
   ]
  },
  {
   "cell_type": "markdown",
   "id": "f08807cb",
   "metadata": {},
   "source": [
    "## Transforming data using Feature Scaling (MinMaxScaler)"
   ]
  },
  {
   "cell_type": "code",
   "execution_count": 49,
   "id": "7ab9972e",
   "metadata": {},
   "outputs": [],
   "source": [
    "minmax_scaler_train = minmax_scaler.fit_transform(xtrain)\n",
    "minmax_scaler_test = minmax_scaler.transform(xtest)"
   ]
  },
  {
   "cell_type": "markdown",
   "id": "89b78ddb",
   "metadata": {},
   "source": [
    "## Now applying Logistic regression"
   ]
  },
  {
   "cell_type": "code",
   "execution_count": 50,
   "id": "80731f37",
   "metadata": {},
   "outputs": [],
   "source": [
    "from sklearn.linear_model import LogisticRegression\n",
    "\n",
    "log = LogisticRegression(multi_class='multinomial',max_iter=100)"
   ]
  },
  {
   "cell_type": "code",
   "execution_count": 64,
   "id": "ea09b457",
   "metadata": {},
   "outputs": [
    {
     "name": "stderr",
     "output_type": "stream",
     "text": [
      "/home/Machine_learning/miniconda3/envs/tensorflow/lib/python3.8/site-packages/sklearn/linear_model/_logistic.py:814: ConvergenceWarning: lbfgs failed to converge (status=1):\n",
      "STOP: TOTAL NO. of ITERATIONS REACHED LIMIT.\n",
      "\n",
      "Increase the number of iterations (max_iter) or scale the data as shown in:\n",
      "    https://scikit-learn.org/stable/modules/preprocessing.html\n",
      "Please also refer to the documentation for alternative solver options:\n",
      "    https://scikit-learn.org/stable/modules/linear_model.html#logistic-regression\n",
      "  n_iter_i = _check_optimize_result(\n"
     ]
    },
    {
     "data": {
      "text/plain": [
       "LogisticRegression(multi_class='multinomial')"
      ]
     },
     "execution_count": 64,
     "metadata": {},
     "output_type": "execute_result"
    }
   ],
   "source": [
    "log.fit(xtrain,ytrain)"
   ]
  },
  {
   "cell_type": "code",
   "execution_count": 65,
   "id": "418d4a5d",
   "metadata": {},
   "outputs": [
    {
     "data": {
      "text/plain": [
       "array(['3', '7', '1', ..., '5', '7', '4'], dtype=object)"
      ]
     },
     "execution_count": 65,
     "metadata": {},
     "output_type": "execute_result"
    }
   ],
   "source": [
    "pred = log.predict(xtest)\n",
    "pred"
   ]
  },
  {
   "cell_type": "code",
   "execution_count": 66,
   "id": "267e1531",
   "metadata": {},
   "outputs": [
    {
     "data": {
      "text/plain": [
       "['3', '7', '1', '9', '1', ..., '6', '1', '5', '7', '2']\n",
       "Length: 14000\n",
       "Categories (10, object): ['0', '1', '2', '3', ..., '6', '7', '8', '9']"
      ]
     },
     "execution_count": 66,
     "metadata": {},
     "output_type": "execute_result"
    }
   ],
   "source": [
    "ytest"
   ]
  },
  {
   "cell_type": "code",
   "execution_count": 67,
   "id": "f22b74d5",
   "metadata": {},
   "outputs": [
    {
     "data": {
      "text/plain": [
       "0.9206428571428571"
      ]
     },
     "execution_count": 67,
     "metadata": {},
     "output_type": "execute_result"
    }
   ],
   "source": [
    "score = log.score(xtest,ytest)\n",
    "score"
   ]
  },
  {
   "cell_type": "code",
   "execution_count": 68,
   "id": "54384626",
   "metadata": {},
   "outputs": [],
   "source": [
    "# How do I get score greater than 91%"
   ]
  },
  {
   "cell_type": "markdown",
   "id": "4356e370",
   "metadata": {},
   "source": [
    "## save the model to disk"
   ]
  },
  {
   "cell_type": "code",
   "execution_count": 51,
   "id": "7ea69028",
   "metadata": {},
   "outputs": [],
   "source": [
    "#pickle.dump(model_name, open(filename, 'wb')) ->wb = write binary"
   ]
  },
  {
   "cell_type": "code",
   "execution_count": 52,
   "id": "544f0aa0",
   "metadata": {},
   "outputs": [],
   "source": [
    "import pickle"
   ]
  },
  {
   "cell_type": "code",
   "execution_count": 71,
   "id": "cb1ccaf5",
   "metadata": {},
   "outputs": [],
   "source": [
    "filename = 'digit_recognizer.sav'\n",
    "pickle.dump(log, open(filename, 'wb'))"
   ]
  },
  {
   "cell_type": "markdown",
   "id": "e26ce472",
   "metadata": {},
   "source": [
    "## Read the saved model from the disk"
   ]
  },
  {
   "cell_type": "code",
   "execution_count": 53,
   "id": "6e2f3cc0",
   "metadata": {},
   "outputs": [],
   "source": [
    "# load the model from disk\n",
    "filename = 'digit_recognizer.sav'\n",
    "loaded_model = pickle.load(open(filename, 'rb')) # -> rb = read binary\n",
    "result = loaded_model.score(xtest,ytest)"
   ]
  },
  {
   "cell_type": "code",
   "execution_count": 54,
   "id": "b9986e17",
   "metadata": {},
   "outputs": [
    {
     "data": {
      "text/plain": [
       "0.9206428571428571"
      ]
     },
     "execution_count": 54,
     "metadata": {},
     "output_type": "execute_result"
    }
   ],
   "source": [
    "result"
   ]
  },
  {
   "cell_type": "code",
   "execution_count": 55,
   "id": "789ef7fe",
   "metadata": {},
   "outputs": [
    {
     "data": {
      "text/plain": [
       "array(['3', '7', '1', ..., '5', '7', '4'], dtype=object)"
      ]
     },
     "execution_count": 55,
     "metadata": {},
     "output_type": "execute_result"
    }
   ],
   "source": [
    "loaded_model.predict(xtest)"
   ]
  },
  {
   "cell_type": "code",
   "execution_count": 56,
   "id": "d7a0d9ea",
   "metadata": {},
   "outputs": [
    {
     "data": {
      "text/plain": [
       "['3', '7', '1', '9', '1', ..., '6', '1', '5', '7', '2']\n",
       "Length: 14000\n",
       "Categories (10, object): ['0', '1', '2', '3', ..., '6', '7', '8', '9']"
      ]
     },
     "execution_count": 56,
     "metadata": {},
     "output_type": "execute_result"
    }
   ],
   "source": [
    "ytest"
   ]
  },
  {
   "cell_type": "code",
   "execution_count": 57,
   "id": "fb109ab0",
   "metadata": {},
   "outputs": [
    {
     "data": {
      "text/plain": [
       "2"
      ]
     },
     "execution_count": 57,
     "metadata": {},
     "output_type": "execute_result"
    }
   ],
   "source": [
    "xtest.ndim"
   ]
  },
  {
   "cell_type": "code",
   "execution_count": 58,
   "id": "e302d002",
   "metadata": {},
   "outputs": [
    {
     "data": {
      "text/plain": [
       "(14000, 784)"
      ]
     },
     "execution_count": 58,
     "metadata": {},
     "output_type": "execute_result"
    }
   ],
   "source": [
    "xtest.shape"
   ]
  },
  {
   "cell_type": "code",
   "execution_count": 59,
   "id": "c2829802",
   "metadata": {},
   "outputs": [
    {
     "data": {
      "text/plain": [
       "array([[0., 0., 0., ..., 0., 0., 0.],\n",
       "       [0., 0., 0., ..., 0., 0., 0.],\n",
       "       [0., 0., 0., ..., 0., 0., 0.],\n",
       "       ...,\n",
       "       [0., 0., 0., ..., 0., 0., 0.],\n",
       "       [0., 0., 0., ..., 0., 0., 0.],\n",
       "       [0., 0., 0., ..., 0., 0., 0.]])"
      ]
     },
     "execution_count": 59,
     "metadata": {},
     "output_type": "execute_result"
    }
   ],
   "source": [
    "xtest"
   ]
  },
  {
   "cell_type": "code",
   "execution_count": 60,
   "id": "780e394c",
   "metadata": {},
   "outputs": [],
   "source": [
    "# how do I use this ML model in opencv"
   ]
  },
  {
   "cell_type": "markdown",
   "id": "3238a04e",
   "metadata": {},
   "source": [
    "## Importing image in this jupyter notebook using OpenCv"
   ]
  },
  {
   "cell_type": "code",
   "execution_count": 61,
   "id": "87055044",
   "metadata": {},
   "outputs": [],
   "source": [
    "import cv2\n",
    "import matplotlib.pyplot as plt\n",
    "import numpy as np"
   ]
  },
  {
   "cell_type": "markdown",
   "id": "afbe94ac",
   "metadata": {},
   "source": [
    "### When you use opencv to import an image the image is plready in numpy nD array format and is ready to be used"
   ]
  },
  {
   "cell_type": "code",
   "execution_count": 108,
   "id": "37f53a15",
   "metadata": {},
   "outputs": [],
   "source": [
    "# importing image\n",
    "image = cv2.imread('/home/Machine_learning/github/Machine_Learning/Prutor_ML_ClassWork/six.png')"
   ]
  },
  {
   "cell_type": "code",
   "execution_count": 109,
   "id": "c85fc984",
   "metadata": {},
   "outputs": [
    {
     "data": {
      "text/plain": [
       "3"
      ]
     },
     "execution_count": 109,
     "metadata": {},
     "output_type": "execute_result"
    }
   ],
   "source": [
    "image.ndim #here image imported via opencv is in 3D numpy array  "
   ]
  },
  {
   "cell_type": "code",
   "execution_count": 110,
   "id": "a75138da",
   "metadata": {},
   "outputs": [
    {
     "data": {
      "text/plain": [
       "<matplotlib.image.AxesImage at 0x7fd178e8f850>"
      ]
     },
     "execution_count": 110,
     "metadata": {},
     "output_type": "execute_result"
    },
    {
     "data": {
      "image/png": "[encoded data removed]",
      "text/plain": [
       "<Figure size 432x288 with 1 Axes>"
      ]
     },
     "metadata": {
      "needs_background": "light"
     },
     "output_type": "display_data"
    }
   ],
   "source": [
    "plt.imshow(image)"
   ]
  },
  {
   "cell_type": "markdown",
   "id": "6e3eda92",
   "metadata": {},
   "source": [
    "### Because we trained our model using numbers of color white with a black background we need to invert the color of our image"
   ]
  },
  {
   "cell_type": "code",
   "execution_count": 111,
   "id": "e634bacf",
   "metadata": {},
   "outputs": [],
   "source": [
    "image1 = np.invert(image) #inverting color using numpy"
   ]
  },
  {
   "cell_type": "code",
   "execution_count": 112,
   "id": "96d63db7",
   "metadata": {},
   "outputs": [
    {
     "data": {
      "text/plain": [
       "<matplotlib.image.AxesImage at 0x7fd178bbd280>"
      ]
     },
     "execution_count": 112,
     "metadata": {},
     "output_type": "execute_result"
    },
    {
     "data": {
      "image/png": "[encoded data removed]",
      "text/plain": [
       "<Figure size 432x288 with 1 Axes>"
      ]
     },
     "metadata": {
      "needs_background": "light"
     },
     "output_type": "display_data"
    }
   ],
   "source": [
    "plt.imshow(image1)"
   ]
  },
  {
   "cell_type": "markdown",
   "id": "c7b4680c",
   "metadata": {},
   "source": [
    "### converting image into a gray scale image"
   ]
  },
  {
   "cell_type": "code",
   "execution_count": 113,
   "id": "b4e14048",
   "metadata": {},
   "outputs": [],
   "source": [
    "gray = cv2.cvtColor(image, cv2.COLOR_BGR2GRAY)"
   ]
  },
  {
   "cell_type": "code",
   "execution_count": 114,
   "id": "403c53e3",
   "metadata": {},
   "outputs": [
    {
     "data": {
      "text/plain": [
       "2"
      ]
     },
     "execution_count": 114,
     "metadata": {},
     "output_type": "execute_result"
    }
   ],
   "source": [
    "gray.ndim #it will convert 3D array of image into 2D array of image "
   ]
  },
  {
   "cell_type": "markdown",
   "id": "a497ba7e",
   "metadata": {},
   "source": [
    "### We trained our model using 28 x 28 size images so we need to resize our imported image in 28 x 28 size"
   ]
  },
  {
   "cell_type": "code",
   "execution_count": 115,
   "id": "1d6c4302",
   "metadata": {},
   "outputs": [],
   "source": [
    "resized_img = cv2.resize(gray,(28,28)) #resize image into 28 x 28"
   ]
  },
  {
   "cell_type": "code",
   "execution_count": 116,
   "id": "4f323432",
   "metadata": {},
   "outputs": [
    {
     "data": {
      "text/plain": [
       "(28, 28)"
      ]
     },
     "execution_count": 116,
     "metadata": {},
     "output_type": "execute_result"
    }
   ],
   "source": [
    "resized_img.shape"
   ]
  },
  {
   "cell_type": "markdown",
   "id": "b73d768c",
   "metadata": {},
   "source": [
    "## Feature scaling using Minmax Scalar"
   ]
  },
  {
   "cell_type": "markdown",
   "id": "9fe992a4",
   "metadata": {},
   "source": [
    "### our pickeled model only accepts 784 features so we need to reshape our image_array into (1,784) shape"
   ]
  },
  {
   "cell_type": "code",
   "execution_count": 117,
   "id": "8654bb5e",
   "metadata": {},
   "outputs": [],
   "source": [
    "reshaped_image = resized_img.reshape(1,784) "
   ]
  },
  {
   "cell_type": "code",
   "execution_count": 118,
   "id": "38b2400e",
   "metadata": {},
   "outputs": [],
   "source": [
    "minmax_scaler_image = minmax_scaler.transform(reshaped_image) #feature scaling using minmaxscalar"
   ]
  },
  {
   "cell_type": "code",
   "execution_count": 119,
   "id": "d2bd6515",
   "metadata": {},
   "outputs": [],
   "source": [
    "# load the model from disk\n",
    "filename = 'digit_recognizer.sav'\n",
    "loaded_model = pickle.load(open(filename, 'rb')) # -> rb = read binary"
   ]
  },
  {
   "cell_type": "code",
   "execution_count": 120,
   "id": "4a121d0e",
   "metadata": {},
   "outputs": [
    {
     "data": {
      "text/plain": [
       "array(['2'], dtype=object)"
      ]
     },
     "execution_count": 120,
     "metadata": {},
     "output_type": "execute_result"
    }
   ],
   "source": [
    "loaded_model.predict(minmax_scaler_image)"
   ]
  },
  {
   "cell_type": "markdown",
   "id": "1cb603dc",
   "metadata": {},
   "source": [
    "## NOTE-> The Logistic Reagression model that we trained here is not working properly as you can see our predictions are not correct"
   ]
  },
  {
   "cell_type": "code",
   "execution_count": null,
   "id": "c4598ed4",
   "metadata": {},
   "outputs": [],
   "source": []
  }
 ],
 "metadata": {
  "kernelspec": {
   "display_name": "Python [conda env:tensorflow] *",
   "language": "python",
   "name": "conda-env-tensorflow-py"
  },
  "language_info": {
   "codemirror_mode": {
    "name": "ipython",
    "version": 3
   },
   "file_extension": ".py",
   "mimetype": "text/x-python",
   "name": "python",
   "nbconvert_exporter": "python",
   "pygments_lexer": "ipython3",
   "version": "3.8.12"
  }
 },
 "nbformat": 4,
 "nbformat_minor": 5
}

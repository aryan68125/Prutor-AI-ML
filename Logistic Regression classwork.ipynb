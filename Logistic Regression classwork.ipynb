{
 "cells": [
  {
   "cell_type": "markdown",
   "id": "e358af7f",
   "metadata": {},
   "source": [
    "# Logistic Regression"
   ]
  },
  {
   "cell_type": "markdown",
   "id": "ee3fa074",
   "metadata": {},
   "source": [
    "## It's a classification algorithm"
   ]
  },
  {
   "cell_type": "markdown",
   "id": "73b3bed3",
   "metadata": {},
   "source": [
    "## Its used to classify images or objects using labels"
   ]
  },
  {
   "cell_type": "markdown",
   "id": "2795e85d",
   "metadata": {},
   "source": [
    "## We usually use this for binary classification but we can also use this for multi class classification"
   ]
  },
  {
   "cell_type": "markdown",
   "id": "1632d68c",
   "metadata": {},
   "source": [
    "## Binary classification: Number of classes is number of 2\n",
    "## Multiclass classification: Number of classes more than 2"
   ]
  },
  {
   "cell_type": "markdown",
   "id": "1fd71309",
   "metadata": {},
   "source": [
    "## This algorithm is based on regression algoritm"
   ]
  },
  {
   "cell_type": "markdown",
   "id": "355914f4",
   "metadata": {},
   "source": [
    "## This model will find a seperation line in the backend between different classes of samples of data. This is done to classify the input data."
   ]
  },
  {
   "cell_type": "markdown",
   "id": "af1c9414",
   "metadata": {},
   "source": [
    "## At first y=mx+c is used to find y on the basis of test input. Now Y will be passed in sigmoid function and it will convert the value of Y into the respective classes"
   ]
  },
  {
   "cell_type": "markdown",
   "id": "82a4eb0d",
   "metadata": {},
   "source": [
    "## The output of sigmoid function will be in between 0 and 1 or in form of probability"
   ]
  },
  {
   "cell_type": "markdown",
   "id": "f91b0f13",
   "metadata": {},
   "source": [
    "# Binary Classification"
   ]
  },
  {
   "cell_type": "code",
   "execution_count": 2,
   "id": "f42b5e7e",
   "metadata": {},
   "outputs": [],
   "source": [
    "from sklearn.datasets import load_iris\n",
    "import pandas as pd"
   ]
  },
  {
   "cell_type": "code",
   "execution_count": 3,
   "id": "3b709a18",
   "metadata": {},
   "outputs": [],
   "source": [
    "iris = load_iris() #loading information from the inbuilt iris dataset"
   ]
  },
  {
   "cell_type": "code",
   "execution_count": 4,
   "id": "f3b330e5",
   "metadata": {},
   "outputs": [],
   "source": [
    "x = iris.data\n",
    "y = iris.target"
   ]
  },
  {
   "cell_type": "code",
   "execution_count": 5,
   "id": "737efdb0",
   "metadata": {},
   "outputs": [
    {
     "data": {
      "text/plain": [
       "2"
      ]
     },
     "execution_count": 5,
     "metadata": {},
     "output_type": "execute_result"
    }
   ],
   "source": [
    "x.ndim"
   ]
  },
  {
   "cell_type": "code",
   "execution_count": 6,
   "id": "4a03517d",
   "metadata": {},
   "outputs": [
    {
     "data": {
      "text/plain": [
       "1"
      ]
     },
     "execution_count": 6,
     "metadata": {},
     "output_type": "execute_result"
    }
   ],
   "source": [
    "y.ndim"
   ]
  },
  {
   "cell_type": "code",
   "execution_count": 7,
   "id": "2b93031f",
   "metadata": {},
   "outputs": [],
   "source": [
    "#displatying x inform of dataframe tables\n",
    "df = pd.DataFrame(x,columns = iris.feature_names)\n",
    "df['target'] = y"
   ]
  },
  {
   "cell_type": "code",
   "execution_count": 8,
   "id": "6b20bce0",
   "metadata": {},
   "outputs": [
    {
     "data": {
      "text/html": [
       "<div>\n",
       "<style scoped>\n",
       "    .dataframe tbody tr th:only-of-type {\n",
       "        vertical-align: middle;\n",
       "    }\n",
       "\n",
       "    .dataframe tbody tr th {\n",
       "        vertical-align: top;\n",
       "    }\n",
       "\n",
       "    .dataframe thead th {\n",
       "        text-align: right;\n",
       "    }\n",
       "</style>\n",
       "<table border=\"1\" class=\"dataframe\">\n",
       "  <thead>\n",
       "    <tr style=\"text-align: right;\">\n",
       "      <th></th>\n",
       "      <th>sepal length (cm)</th>\n",
       "      <th>sepal width (cm)</th>\n",
       "      <th>petal length (cm)</th>\n",
       "      <th>petal width (cm)</th>\n",
       "      <th>target</th>\n",
       "    </tr>\n",
       "  </thead>\n",
       "  <tbody>\n",
       "    <tr>\n",
       "      <th>0</th>\n",
       "      <td>5.1</td>\n",
       "      <td>3.5</td>\n",
       "      <td>1.4</td>\n",
       "      <td>0.2</td>\n",
       "      <td>0</td>\n",
       "    </tr>\n",
       "    <tr>\n",
       "      <th>1</th>\n",
       "      <td>4.9</td>\n",
       "      <td>3.0</td>\n",
       "      <td>1.4</td>\n",
       "      <td>0.2</td>\n",
       "      <td>0</td>\n",
       "    </tr>\n",
       "    <tr>\n",
       "      <th>2</th>\n",
       "      <td>4.7</td>\n",
       "      <td>3.2</td>\n",
       "      <td>1.3</td>\n",
       "      <td>0.2</td>\n",
       "      <td>0</td>\n",
       "    </tr>\n",
       "    <tr>\n",
       "      <th>3</th>\n",
       "      <td>4.6</td>\n",
       "      <td>3.1</td>\n",
       "      <td>1.5</td>\n",
       "      <td>0.2</td>\n",
       "      <td>0</td>\n",
       "    </tr>\n",
       "    <tr>\n",
       "      <th>4</th>\n",
       "      <td>5.0</td>\n",
       "      <td>3.6</td>\n",
       "      <td>1.4</td>\n",
       "      <td>0.2</td>\n",
       "      <td>0</td>\n",
       "    </tr>\n",
       "    <tr>\n",
       "      <th>...</th>\n",
       "      <td>...</td>\n",
       "      <td>...</td>\n",
       "      <td>...</td>\n",
       "      <td>...</td>\n",
       "      <td>...</td>\n",
       "    </tr>\n",
       "    <tr>\n",
       "      <th>145</th>\n",
       "      <td>6.7</td>\n",
       "      <td>3.0</td>\n",
       "      <td>5.2</td>\n",
       "      <td>2.3</td>\n",
       "      <td>2</td>\n",
       "    </tr>\n",
       "    <tr>\n",
       "      <th>146</th>\n",
       "      <td>6.3</td>\n",
       "      <td>2.5</td>\n",
       "      <td>5.0</td>\n",
       "      <td>1.9</td>\n",
       "      <td>2</td>\n",
       "    </tr>\n",
       "    <tr>\n",
       "      <th>147</th>\n",
       "      <td>6.5</td>\n",
       "      <td>3.0</td>\n",
       "      <td>5.2</td>\n",
       "      <td>2.0</td>\n",
       "      <td>2</td>\n",
       "    </tr>\n",
       "    <tr>\n",
       "      <th>148</th>\n",
       "      <td>6.2</td>\n",
       "      <td>3.4</td>\n",
       "      <td>5.4</td>\n",
       "      <td>2.3</td>\n",
       "      <td>2</td>\n",
       "    </tr>\n",
       "    <tr>\n",
       "      <th>149</th>\n",
       "      <td>5.9</td>\n",
       "      <td>3.0</td>\n",
       "      <td>5.1</td>\n",
       "      <td>1.8</td>\n",
       "      <td>2</td>\n",
       "    </tr>\n",
       "  </tbody>\n",
       "</table>\n",
       "<p>150 rows × 5 columns</p>\n",
       "</div>"
      ],
      "text/plain": [
       "     sepal length (cm)  sepal width (cm)  petal length (cm)  petal width (cm)  \\\n",
       "0                  5.1               3.5                1.4               0.2   \n",
       "1                  4.9               3.0                1.4               0.2   \n",
       "2                  4.7               3.2                1.3               0.2   \n",
       "3                  4.6               3.1                1.5               0.2   \n",
       "4                  5.0               3.6                1.4               0.2   \n",
       "..                 ...               ...                ...               ...   \n",
       "145                6.7               3.0                5.2               2.3   \n",
       "146                6.3               2.5                5.0               1.9   \n",
       "147                6.5               3.0                5.2               2.0   \n",
       "148                6.2               3.4                5.4               2.3   \n",
       "149                5.9               3.0                5.1               1.8   \n",
       "\n",
       "     target  \n",
       "0         0  \n",
       "1         0  \n",
       "2         0  \n",
       "3         0  \n",
       "4         0  \n",
       "..      ...  \n",
       "145       2  \n",
       "146       2  \n",
       "147       2  \n",
       "148       2  \n",
       "149       2  \n",
       "\n",
       "[150 rows x 5 columns]"
      ]
     },
     "execution_count": 8,
     "metadata": {},
     "output_type": "execute_result"
    }
   ],
   "source": [
    "df"
   ]
  },
  {
   "cell_type": "code",
   "execution_count": 9,
   "id": "6fb2bfc9",
   "metadata": {},
   "outputs": [
    {
     "data": {
      "text/plain": [
       "0    50\n",
       "1    50\n",
       "2    50\n",
       "Name: target, dtype: int64"
      ]
     },
     "execution_count": 9,
     "metadata": {},
     "output_type": "execute_result"
    }
   ],
   "source": [
    "df.target.value_counts() # getting the number of classes in the target columns"
   ]
  },
  {
   "cell_type": "code",
   "execution_count": 10,
   "id": "c7ab851d",
   "metadata": {},
   "outputs": [
    {
     "data": {
      "text/plain": [
       "array(['setosa', 'versicolor', 'virginica'], dtype='<U10')"
      ]
     },
     "execution_count": 10,
     "metadata": {},
     "output_type": "execute_result"
    }
   ],
   "source": [
    "iris.target_names #getting target names"
   ]
  },
  {
   "cell_type": "code",
   "execution_count": 11,
   "id": "d6f7f330",
   "metadata": {},
   "outputs": [
    {
     "data": {
      "text/plain": [
       "(150, 5)"
      ]
     },
     "execution_count": 11,
     "metadata": {},
     "output_type": "execute_result"
    }
   ],
   "source": [
    "df.shape"
   ]
  },
  {
   "cell_type": "markdown",
   "id": "30418c1b",
   "metadata": {},
   "source": [
    "### Here we are using only 100 rows because we only want to perform Binary classification. \n",
    "### Splitting dataFrame and saving the from 0 to 100 rows into x1 and y1"
   ]
  },
  {
   "cell_type": "code",
   "execution_count": 12,
   "id": "82d3877f",
   "metadata": {},
   "outputs": [],
   "source": [
    "x1 = df.iloc[:100,:-1].values # It gives us 2D array\n",
    "y1 = df.iloc[:100,-1].values # It gives us 1D array"
   ]
  },
  {
   "cell_type": "code",
   "execution_count": 13,
   "id": "9d7c7ae4",
   "metadata": {},
   "outputs": [
    {
     "data": {
      "text/plain": [
       "2"
      ]
     },
     "execution_count": 13,
     "metadata": {},
     "output_type": "execute_result"
    }
   ],
   "source": [
    "x1.ndim"
   ]
  },
  {
   "cell_type": "code",
   "execution_count": 14,
   "id": "a3d0af1e",
   "metadata": {},
   "outputs": [
    {
     "data": {
      "text/plain": [
       "1"
      ]
     },
     "execution_count": 14,
     "metadata": {},
     "output_type": "execute_result"
    }
   ],
   "source": [
    "y1.ndim"
   ]
  },
  {
   "cell_type": "code",
   "execution_count": 15,
   "id": "2aeeb50e",
   "metadata": {},
   "outputs": [],
   "source": [
    "import matplotlib.pyplot as plt #importing pyplot"
   ]
  },
  {
   "cell_type": "code",
   "execution_count": 16,
   "id": "69178410",
   "metadata": {},
   "outputs": [
    {
     "data": {
      "image/png": "[encoded data removed]",
      "text/plain": [
       "<Figure size 432x288 with 1 Axes>"
      ]
     },
     "metadata": {
      "needs_background": "light"
     },
     "output_type": "display_data"
    }
   ],
   "source": [
    "plt.scatter(x1[:,0],x1[:,1])\n",
    "\n",
    "plt.show()"
   ]
  },
  {
   "cell_type": "code",
   "execution_count": 17,
   "id": "ea9ef645",
   "metadata": {},
   "outputs": [
    {
     "data": {
      "image/png": "[encoded data removed]",
      "text/plain": [
       "<Figure size 432x288 with 1 Axes>"
      ]
     },
     "metadata": {
      "needs_background": "light"
     },
     "output_type": "display_data"
    }
   ],
   "source": [
    "## getting samples of class zero from the dataframe\n",
    "plt.scatter(x[y==0,0],x[y==0,1],color='red',label='0') # class 1 samples\n",
    "plt.scatter(x[y==1,0],x[y==1,1],color='blue',label='1') # class 2 samples\n",
    "plt.scatter(x[y==2,0],x[y==2,1],color='green',label='2') # class 3 samples\n",
    "plt.legend()\n",
    "plt.xlabel('saple length')\n",
    "plt.ylabel('saple width')\n",
    "plt.show()"
   ]
  },
  {
   "cell_type": "code",
   "execution_count": 18,
   "id": "9b46f963",
   "metadata": {},
   "outputs": [
    {
     "data": {
      "image/png": "[encoded data removed]",
      "text/plain": [
       "<Figure size 432x288 with 1 Axes>"
      ]
     },
     "metadata": {
      "needs_background": "light"
     },
     "output_type": "display_data"
    }
   ],
   "source": [
    "## getting samples of class zero from the dataframe\n",
    "plt.scatter(x[y==0,2],x[y==0,3],color='red',label='0') # class 1 samples\n",
    "plt.scatter(x[y==1,2],x[y==1,3],color='blue',label='1') # class 2 samples\n",
    "plt.scatter(x[y==2,2],x[y==2,3],color='green',label='2') # class 3 samples\n",
    "plt.legend()\n",
    "plt.xlabel('pattle length')\n",
    "plt.ylabel('pattle width')\n",
    "plt.show()"
   ]
  },
  {
   "cell_type": "markdown",
   "id": "febc3991",
   "metadata": {},
   "source": [
    "## Splitting data into train and test data"
   ]
  },
  {
   "cell_type": "code",
   "execution_count": 19,
   "id": "6f198000",
   "metadata": {},
   "outputs": [],
   "source": [
    "from sklearn.model_selection import train_test_split"
   ]
  },
  {
   "cell_type": "code",
   "execution_count": 20,
   "id": "54e27712",
   "metadata": {},
   "outputs": [],
   "source": [
    "xtrain,xtest,ytrain,ytest = train_test_split(x1,y1,test_size=20,random_state=12)"
   ]
  },
  {
   "cell_type": "code",
   "execution_count": 21,
   "id": "a76a66cf",
   "metadata": {},
   "outputs": [
    {
     "data": {
      "text/plain": [
       "(80, 4)"
      ]
     },
     "execution_count": 21,
     "metadata": {},
     "output_type": "execute_result"
    }
   ],
   "source": [
    "xtrain.shape"
   ]
  },
  {
   "cell_type": "code",
   "execution_count": 22,
   "id": "8393c5eb",
   "metadata": {},
   "outputs": [
    {
     "data": {
      "text/plain": [
       "(20, 4)"
      ]
     },
     "execution_count": 22,
     "metadata": {},
     "output_type": "execute_result"
    }
   ],
   "source": [
    "xtest.shape"
   ]
  },
  {
   "cell_type": "code",
   "execution_count": 23,
   "id": "7b7b5066",
   "metadata": {},
   "outputs": [],
   "source": [
    "from sklearn.linear_model import LogisticRegression\n",
    "\n",
    "from sklearn.metrics import accuracy_score"
   ]
  },
  {
   "cell_type": "code",
   "execution_count": 24,
   "id": "8e0d4bb1",
   "metadata": {},
   "outputs": [],
   "source": [
    "log = LogisticRegression()"
   ]
  },
  {
   "cell_type": "code",
   "execution_count": 25,
   "id": "460580ce",
   "metadata": {},
   "outputs": [
    {
     "data": {
      "text/plain": [
       "(80, 4)"
      ]
     },
     "execution_count": 25,
     "metadata": {},
     "output_type": "execute_result"
    }
   ],
   "source": [
    "xtrain.shape"
   ]
  },
  {
   "cell_type": "code",
   "execution_count": 26,
   "id": "348c999f",
   "metadata": {},
   "outputs": [
    {
     "data": {
      "text/plain": [
       "1"
      ]
     },
     "execution_count": 26,
     "metadata": {},
     "output_type": "execute_result"
    }
   ],
   "source": [
    "ytrain.ndim"
   ]
  },
  {
   "cell_type": "code",
   "execution_count": 27,
   "id": "a7851131",
   "metadata": {},
   "outputs": [
    {
     "data": {
      "text/plain": [
       "LogisticRegression()"
      ]
     },
     "execution_count": 27,
     "metadata": {},
     "output_type": "execute_result"
    }
   ],
   "source": [
    "log.fit(xtrain,ytrain)"
   ]
  },
  {
   "cell_type": "code",
   "execution_count": 28,
   "id": "032f4ca5",
   "metadata": {},
   "outputs": [
    {
     "data": {
      "text/plain": [
       "array([[5.1, 3.5, 1.4, 0.3]])"
      ]
     },
     "execution_count": 28,
     "metadata": {},
     "output_type": "execute_result"
    }
   ],
   "source": [
    "test = xtest[0].reshape(1,-1) #reshape xtest from 1D to 2D and save it inside the test variable\n",
    "test"
   ]
  },
  {
   "cell_type": "code",
   "execution_count": 29,
   "id": "085add57",
   "metadata": {},
   "outputs": [
    {
     "data": {
      "text/plain": [
       "array([0])"
      ]
     },
     "execution_count": 29,
     "metadata": {},
     "output_type": "execute_result"
    }
   ],
   "source": [
    "log.predict(test) #log.predict(expecting 2D array) only accepts test in 2D and not in 1D"
   ]
  },
  {
   "cell_type": "code",
   "execution_count": 30,
   "id": "bbea6ba1",
   "metadata": {},
   "outputs": [
    {
     "data": {
      "text/plain": [
       "array([0, 0, 1, 0, 1, 0, 1, 0, 0, 1, 0, 0, 0, 0, 0, 1, 1, 0, 1, 0])"
      ]
     },
     "execution_count": 30,
     "metadata": {},
     "output_type": "execute_result"
    }
   ],
   "source": [
    "pred = log.predict(xtest)\n",
    "pred"
   ]
  },
  {
   "cell_type": "code",
   "execution_count": 31,
   "id": "9781bdb5",
   "metadata": {},
   "outputs": [
    {
     "data": {
      "text/plain": [
       "array([0, 0, 1, 0, 1, 0, 1, 0, 0, 1, 0, 0, 0, 0, 0, 1, 1, 0, 1, 0])"
      ]
     },
     "execution_count": 31,
     "metadata": {},
     "output_type": "execute_result"
    }
   ],
   "source": [
    "ytest"
   ]
  },
  {
   "cell_type": "markdown",
   "id": "c73bb6e8",
   "metadata": {},
   "source": [
    "### So here we can see that ytest(output labels in test dataset) and pred(our model predictions) are same. That means that your model is 100% accurate"
   ]
  },
  {
   "cell_type": "markdown",
   "id": "f9b04761",
   "metadata": {},
   "source": [
    "### we can test our binary classification model's accuracy using sklearn"
   ]
  },
  {
   "cell_type": "markdown",
   "id": "a5dc501b",
   "metadata": {},
   "source": [
    "### testing accuracy"
   ]
  },
  {
   "cell_type": "code",
   "execution_count": 32,
   "id": "1b908dae",
   "metadata": {},
   "outputs": [],
   "source": [
    "from sklearn.metrics import accuracy_score"
   ]
  },
  {
   "cell_type": "code",
   "execution_count": 33,
   "id": "18a37429",
   "metadata": {},
   "outputs": [
    {
     "data": {
      "text/plain": [
       "1.0"
      ]
     },
     "execution_count": 33,
     "metadata": {},
     "output_type": "execute_result"
    }
   ],
   "source": [
    "accuracy_score(ytest,pred)"
   ]
  },
  {
   "cell_type": "markdown",
   "id": "66ae4b19",
   "metadata": {},
   "source": [
    "# Multiclass Classification"
   ]
  },
  {
   "cell_type": "markdown",
   "id": "539ed2ae",
   "metadata": {},
   "source": [
    "## For image recognition use MNIST dataset"
   ]
  },
  {
   "cell_type": "markdown",
   "id": "f568e8be",
   "metadata": {},
   "source": [
    "## Here we are going to classify numbers from images using multi class classification. Here we are using MinMaxScalar to transform data. then we are going to use LogisticRegression(multi_class='multinomial',max_iter=20000) nad then train the model on xtrain and ytrain"
   ]
  },
  {
   "cell_type": "code",
   "execution_count": 34,
   "id": "2374460f",
   "metadata": {},
   "outputs": [],
   "source": [
    "from sklearn.datasets import fetch_openml\n",
    "import numpy as np"
   ]
  },
  {
   "cell_type": "markdown",
   "id": "e7ae76b6",
   "metadata": {},
   "source": [
    "## downloading mnsit dataset from open_ml website"
   ]
  },
  {
   "cell_type": "code",
   "execution_count": 35,
   "id": "fe8c719e",
   "metadata": {},
   "outputs": [],
   "source": [
    "mnist = fetch_openml('mnist_784') # it is a dataset that contains images of numbers from 0 to 9"
   ]
  },
  {
   "cell_type": "markdown",
   "id": "b77c3e39",
   "metadata": {},
   "source": [
    "## x and y comes in the form of dataframe hence use .values to convert them into arrays"
   ]
  },
  {
   "cell_type": "code",
   "execution_count": 36,
   "id": "8c811677",
   "metadata": {},
   "outputs": [],
   "source": [
    "x = mnist.data.values"
   ]
  },
  {
   "cell_type": "code",
   "execution_count": 37,
   "id": "12f8d827",
   "metadata": {},
   "outputs": [],
   "source": [
    "y = mnist.target.values"
   ]
  },
  {
   "cell_type": "code",
   "execution_count": 38,
   "id": "a7cb4dc4",
   "metadata": {},
   "outputs": [
    {
     "data": {
      "text/plain": [
       "(70000, 784)"
      ]
     },
     "execution_count": 38,
     "metadata": {},
     "output_type": "execute_result"
    }
   ],
   "source": [
    "x.shape"
   ]
  },
  {
   "cell_type": "code",
   "execution_count": 39,
   "id": "d9d64874",
   "metadata": {},
   "outputs": [
    {
     "data": {
      "text/plain": [
       "2"
      ]
     },
     "execution_count": 39,
     "metadata": {},
     "output_type": "execute_result"
    }
   ],
   "source": [
    "x.ndim"
   ]
  },
  {
   "cell_type": "code",
   "execution_count": 40,
   "id": "c60b8e12",
   "metadata": {},
   "outputs": [
    {
     "data": {
      "text/plain": [
       "(70000,)"
      ]
     },
     "execution_count": 40,
     "metadata": {},
     "output_type": "execute_result"
    }
   ],
   "source": [
    "y.shape"
   ]
  },
  {
   "cell_type": "code",
   "execution_count": 41,
   "id": "fc739591",
   "metadata": {},
   "outputs": [
    {
     "data": {
      "text/plain": [
       "1"
      ]
     },
     "execution_count": 41,
     "metadata": {},
     "output_type": "execute_result"
    }
   ],
   "source": [
    "y.ndim"
   ]
  },
  {
   "cell_type": "code",
   "execution_count": 42,
   "id": "5c4a2d7c",
   "metadata": {},
   "outputs": [
    {
     "data": {
      "text/plain": [
       "array([[0., 0., 0., ..., 0., 0., 0.],\n",
       "       [0., 0., 0., ..., 0., 0., 0.],\n",
       "       [0., 0., 0., ..., 0., 0., 0.],\n",
       "       ...,\n",
       "       [0., 0., 0., ..., 0., 0., 0.],\n",
       "       [0., 0., 0., ..., 0., 0., 0.],\n",
       "       [0., 0., 0., ..., 0., 0., 0.]])"
      ]
     },
     "execution_count": 42,
     "metadata": {},
     "output_type": "execute_result"
    }
   ],
   "source": [
    "x"
   ]
  },
  {
   "cell_type": "code",
   "execution_count": 43,
   "id": "9ea691f3",
   "metadata": {},
   "outputs": [
    {
     "data": {
      "image/png": "[encoded data removed]",
      "text/plain": [
       "<Figure size 432x288 with 1 Axes>"
      ]
     },
     "metadata": {
      "needs_background": "light"
     },
     "output_type": "display_data"
    }
   ],
   "source": [
    "plt.imshow(x[2].reshape(28,28),cmap='gray')\n",
    "plt.show()"
   ]
  },
  {
   "cell_type": "code",
   "execution_count": 44,
   "id": "50641919",
   "metadata": {},
   "outputs": [
    {
     "data": {
      "text/plain": [
       "(array(['0', '1', '2', '3', '4', '5', '6', '7', '8', '9'], dtype=object),\n",
       " array([6903, 7877, 6990, 7141, 6824, 6313, 6876, 7293, 6825, 6958]))"
      ]
     },
     "execution_count": 44,
     "metadata": {},
     "output_type": "execute_result"
    }
   ],
   "source": [
    "np.unique(y,return_counts=True)"
   ]
  },
  {
   "cell_type": "code",
   "execution_count": 45,
   "id": "ce0267b9",
   "metadata": {},
   "outputs": [
    {
     "data": {
      "image/png": "[encoded data removed]",
      "text/plain": [
       "<Figure size 432x288 with 1 Axes>"
      ]
     },
     "metadata": {
      "needs_background": "light"
     },
     "output_type": "display_data"
    }
   ],
   "source": [
    "plt.imshow(x[10000].reshape(28,28),cmap='gray')\n",
    "plt.show()"
   ]
  },
  {
   "cell_type": "markdown",
   "id": "f9bb3c5c",
   "metadata": {},
   "source": [
    "## use minmax scalar here for feature scaling"
   ]
  },
  {
   "cell_type": "code",
   "execution_count": 46,
   "id": "bec50acb",
   "metadata": {},
   "outputs": [],
   "source": [
    "from sklearn.preprocessing import MinMaxScaler "
   ]
  },
  {
   "cell_type": "code",
   "execution_count": 47,
   "id": "ed492d39",
   "metadata": {},
   "outputs": [],
   "source": [
    "minmax_scaler = MinMaxScaler() # initialization of minmaxScalar"
   ]
  },
  {
   "cell_type": "markdown",
   "id": "c5ea7f80",
   "metadata": {},
   "source": [
    "## Splitting data"
   ]
  },
  {
   "cell_type": "code",
   "execution_count": 48,
   "id": "ada2bf8d",
   "metadata": {},
   "outputs": [],
   "source": [
    "from sklearn.model_selection import train_test_split"
   ]
  },
  {
   "cell_type": "code",
   "execution_count": 49,
   "id": "7c24646a",
   "metadata": {},
   "outputs": [],
   "source": [
    "xtrain,xtest,ytrain,ytest = train_test_split(x,y,test_size=.2,random_state=12)"
   ]
  },
  {
   "cell_type": "markdown",
   "id": "50471538",
   "metadata": {},
   "source": [
    "## Transforming data using Feature Scaling (MinMaxScaler)"
   ]
  },
  {
   "cell_type": "code",
   "execution_count": 50,
   "id": "62ead5f6",
   "metadata": {},
   "outputs": [],
   "source": [
    "minmax_scaler_train = minmax_scaler.fit_transform(xtrain)\n",
    "minmax_scaler_test = minmax_scaler.transform(xtest)"
   ]
  },
  {
   "cell_type": "markdown",
   "id": "6b06b034",
   "metadata": {},
   "source": [
    "## Now applying Logistic regression"
   ]
  },
  {
   "cell_type": "code",
   "execution_count": 51,
   "id": "dfac69b7",
   "metadata": {},
   "outputs": [],
   "source": [
    "from sklearn.linear_model import LogisticRegression\n",
    "\n",
    "log = LogisticRegression(multi_class='multinomial',max_iter=100)"
   ]
  },
  {
   "cell_type": "code",
   "execution_count": 52,
   "id": "acfcd87c",
   "metadata": {},
   "outputs": [
    {
     "name": "stderr",
     "output_type": "stream",
     "text": [
      "/home/Machine_learning/miniconda3/envs/tensorflow/lib/python3.8/site-packages/sklearn/linear_model/_logistic.py:814: ConvergenceWarning: lbfgs failed to converge (status=1):\n",
      "STOP: TOTAL NO. of ITERATIONS REACHED LIMIT.\n",
      "\n",
      "Increase the number of iterations (max_iter) or scale the data as shown in:\n",
      "    https://scikit-learn.org/stable/modules/preprocessing.html\n",
      "Please also refer to the documentation for alternative solver options:\n",
      "    https://scikit-learn.org/stable/modules/linear_model.html#logistic-regression\n",
      "  n_iter_i = _check_optimize_result(\n"
     ]
    },
    {
     "data": {
      "text/plain": [
       "LogisticRegression(multi_class='multinomial')"
      ]
     },
     "execution_count": 52,
     "metadata": {},
     "output_type": "execute_result"
    }
   ],
   "source": [
    "log.fit(minmax_scaler_train,ytrain)"
   ]
  },
  {
   "cell_type": "code",
   "execution_count": 53,
   "id": "bdd7f99b",
   "metadata": {},
   "outputs": [
    {
     "data": {
      "text/plain": [
       "array(['3', '7', '1', ..., '8', '7', '4'], dtype=object)"
      ]
     },
     "execution_count": 53,
     "metadata": {},
     "output_type": "execute_result"
    }
   ],
   "source": [
    "pred = log.predict(xtest)\n",
    "pred"
   ]
  },
  {
   "cell_type": "code",
   "execution_count": 54,
   "id": "374c882f",
   "metadata": {},
   "outputs": [
    {
     "data": {
      "text/plain": [
       "['3', '7', '1', '9', '1', ..., '6', '1', '5', '7', '2']\n",
       "Length: 14000\n",
       "Categories (10, object): ['0', '1', '2', '3', ..., '6', '7', '8', '9']"
      ]
     },
     "execution_count": 54,
     "metadata": {},
     "output_type": "execute_result"
    }
   ],
   "source": [
    "ytest"
   ]
  },
  {
   "cell_type": "code",
   "execution_count": 82,
   "id": "a0380536",
   "metadata": {},
   "outputs": [
    {
     "data": {
      "text/plain": [
       "0.9225714285714286"
      ]
     },
     "execution_count": 82,
     "metadata": {},
     "output_type": "execute_result"
    }
   ],
   "source": [
    "score = log.score(minmax_scaler_test,ytest)\n",
    "score"
   ]
  },
  {
   "cell_type": "code",
   "execution_count": 56,
   "id": "42c18382",
   "metadata": {},
   "outputs": [],
   "source": [
    "# How do I get score greater than 91%"
   ]
  },
  {
   "cell_type": "markdown",
   "id": "bcb2c4c7",
   "metadata": {},
   "source": [
    "## save the model to disk"
   ]
  },
  {
   "cell_type": "code",
   "execution_count": 57,
   "id": "c093060b",
   "metadata": {},
   "outputs": [],
   "source": [
    "#pickle.dump(model_name, open(filename, 'wb')) ->wb = write binary"
   ]
  },
  {
   "cell_type": "code",
   "execution_count": 58,
   "id": "2a6cf9ac",
   "metadata": {},
   "outputs": [],
   "source": [
    "import pickle"
   ]
  },
  {
   "cell_type": "code",
   "execution_count": 59,
   "id": "7a78714a",
   "metadata": {},
   "outputs": [],
   "source": [
    "filename = 'digit_recognizer.sav'\n",
    "pickle.dump(log, open(filename, 'wb'))"
   ]
  },
  {
   "cell_type": "markdown",
   "id": "cb39e8fa",
   "metadata": {},
   "source": [
    "## Read the saved model from the disk"
   ]
  },
  {
   "cell_type": "code",
   "execution_count": 83,
   "id": "18284d6c",
   "metadata": {},
   "outputs": [],
   "source": [
    "# load the model from disk\n",
    "filename = 'digit_recognizer.sav'\n",
    "loaded_model = pickle.load(open(filename, 'rb')) # -> rb = read binary\n",
    "result = loaded_model.score(minmax_scaler_test,ytest)"
   ]
  },
  {
   "cell_type": "code",
   "execution_count": 84,
   "id": "a3ab7248",
   "metadata": {},
   "outputs": [
    {
     "data": {
      "text/plain": [
       "0.9225714285714286"
      ]
     },
     "execution_count": 84,
     "metadata": {},
     "output_type": "execute_result"
    }
   ],
   "source": [
    "result"
   ]
  },
  {
   "cell_type": "code",
   "execution_count": 85,
   "id": "2e2fd427",
   "metadata": {},
   "outputs": [
    {
     "data": {
      "text/plain": [
       "array(['3', '7', '1', ..., '5', '7', '4'], dtype=object)"
      ]
     },
     "execution_count": 85,
     "metadata": {},
     "output_type": "execute_result"
    }
   ],
   "source": [
    "loaded_model.predict(minmax_scaler_test)"
   ]
  },
  {
   "cell_type": "code",
   "execution_count": 86,
   "id": "ae149e2d",
   "metadata": {},
   "outputs": [
    {
     "data": {
      "text/plain": [
       "['3', '7', '1', '9', '1', ..., '6', '1', '5', '7', '2']\n",
       "Length: 14000\n",
       "Categories (10, object): ['0', '1', '2', '3', ..., '6', '7', '8', '9']"
      ]
     },
     "execution_count": 86,
     "metadata": {},
     "output_type": "execute_result"
    }
   ],
   "source": [
    "ytest"
   ]
  },
  {
   "cell_type": "code",
   "execution_count": 87,
   "id": "9c738c0f",
   "metadata": {},
   "outputs": [
    {
     "data": {
      "text/plain": [
       "2"
      ]
     },
     "execution_count": 87,
     "metadata": {},
     "output_type": "execute_result"
    }
   ],
   "source": [
    "xtest.ndim"
   ]
  },
  {
   "cell_type": "code",
   "execution_count": 88,
   "id": "6bcc479f",
   "metadata": {},
   "outputs": [
    {
     "data": {
      "text/plain": [
       "(14000, 784)"
      ]
     },
     "execution_count": 88,
     "metadata": {},
     "output_type": "execute_result"
    }
   ],
   "source": [
    "xtest.shape"
   ]
  },
  {
   "cell_type": "code",
   "execution_count": 89,
   "id": "9fb9a7d5",
   "metadata": {},
   "outputs": [
    {
     "data": {
      "text/plain": [
       "array([[0., 0., 0., ..., 0., 0., 0.],\n",
       "       [0., 0., 0., ..., 0., 0., 0.],\n",
       "       [0., 0., 0., ..., 0., 0., 0.],\n",
       "       ...,\n",
       "       [0., 0., 0., ..., 0., 0., 0.],\n",
       "       [0., 0., 0., ..., 0., 0., 0.],\n",
       "       [0., 0., 0., ..., 0., 0., 0.]])"
      ]
     },
     "execution_count": 89,
     "metadata": {},
     "output_type": "execute_result"
    }
   ],
   "source": [
    "xtest"
   ]
  },
  {
   "cell_type": "code",
   "execution_count": 67,
   "id": "bad56fd0",
   "metadata": {},
   "outputs": [],
   "source": [
    "# how do I use this ML model in opencv"
   ]
  },
  {
   "cell_type": "markdown",
   "id": "809dfbbf",
   "metadata": {},
   "source": [
    "## Importing image in this jupyter notebook using OpenCv"
   ]
  },
  {
   "cell_type": "code",
   "execution_count": 68,
   "id": "71eee187",
   "metadata": {},
   "outputs": [],
   "source": [
    "import cv2\n",
    "import matplotlib.pyplot as plt\n",
    "import numpy as np"
   ]
  },
  {
   "cell_type": "markdown",
   "id": "3301f287",
   "metadata": {},
   "source": [
    "### When you use opencv to import an image the image is plready in numpy nD array format and is ready to be used"
   ]
  },
  {
   "cell_type": "code",
   "execution_count": 165,
   "id": "0f49c150",
   "metadata": {},
   "outputs": [],
   "source": [
    "# importing image\n",
    "image = cv2.imread('/home/Machine_learning/github/Machine_Learning/Prutor_ML_ClassWork/numbers/4.jpeg')"
   ]
  },
  {
   "cell_type": "code",
   "execution_count": 166,
   "id": "97365f1e",
   "metadata": {},
   "outputs": [
    {
     "data": {
      "text/plain": [
       "3"
      ]
     },
     "execution_count": 166,
     "metadata": {},
     "output_type": "execute_result"
    }
   ],
   "source": [
    "image.ndim #here image imported via opencv is in 3D numpy array  "
   ]
  },
  {
   "cell_type": "code",
   "execution_count": 167,
   "id": "692b7d7a",
   "metadata": {},
   "outputs": [
    {
     "data": {
      "text/plain": [
       "<matplotlib.image.AxesImage at 0x7fd443c31b20>"
      ]
     },
     "execution_count": 167,
     "metadata": {},
     "output_type": "execute_result"
    },
    {
     "data": {
      "image/png": "[encoded data removed]",
      "text/plain": [
       "<Figure size 432x288 with 1 Axes>"
      ]
     },
     "metadata": {
      "needs_background": "light"
     },
     "output_type": "display_data"
    }
   ],
   "source": [
    "plt.imshow(image)"
   ]
  },
  {
   "cell_type": "markdown",
   "id": "f398384c",
   "metadata": {},
   "source": [
    "### Because we trained our model using numbers of color white with a black background we need to invert the color of our image"
   ]
  },
  {
   "cell_type": "code",
   "execution_count": 168,
   "id": "141c0cf9",
   "metadata": {},
   "outputs": [],
   "source": [
    "image1 = np.invert(image) #inverting color using numpy"
   ]
  },
  {
   "cell_type": "code",
   "execution_count": 169,
   "id": "2e755506",
   "metadata": {},
   "outputs": [
    {
     "data": {
      "text/plain": [
       "<matplotlib.image.AxesImage at 0x7fd443c0ea90>"
      ]
     },
     "execution_count": 169,
     "metadata": {},
     "output_type": "execute_result"
    },
    {
     "data": {
      "image/png": "[encoded data removed]",
      "text/plain": [
       "<Figure size 432x288 with 1 Axes>"
      ]
     },
     "metadata": {
      "needs_background": "light"
     },
     "output_type": "display_data"
    }
   ],
   "source": [
    "plt.imshow(image1)"
   ]
  },
  {
   "cell_type": "markdown",
   "id": "d1be15b0",
   "metadata": {},
   "source": [
    "### converting image into a gray scale image"
   ]
  },
  {
   "cell_type": "code",
   "execution_count": 170,
   "id": "e2b9fd64",
   "metadata": {},
   "outputs": [],
   "source": [
    "gray = cv2.cvtColor(image, cv2.COLOR_BGR2GRAY)"
   ]
  },
  {
   "cell_type": "code",
   "execution_count": 171,
   "id": "d34047ab",
   "metadata": {},
   "outputs": [
    {
     "data": {
      "text/plain": [
       "2"
      ]
     },
     "execution_count": 171,
     "metadata": {},
     "output_type": "execute_result"
    }
   ],
   "source": [
    "gray.ndim #it will convert 3D array of image into 2D array of image "
   ]
  },
  {
   "cell_type": "markdown",
   "id": "025c1e7d",
   "metadata": {},
   "source": [
    "### We trained our model using 28 x 28 size images so we need to resize our imported image in 28 x 28 size"
   ]
  },
  {
   "cell_type": "code",
   "execution_count": 172,
   "id": "41185285",
   "metadata": {},
   "outputs": [],
   "source": [
    "resized_img = cv2.resize(gray,(28,28)) #resize image into 28 x 28"
   ]
  },
  {
   "cell_type": "code",
   "execution_count": 173,
   "id": "9cb2ea63",
   "metadata": {},
   "outputs": [
    {
     "data": {
      "text/plain": [
       "(28, 28)"
      ]
     },
     "execution_count": 173,
     "metadata": {},
     "output_type": "execute_result"
    }
   ],
   "source": [
    "resized_img.shape"
   ]
  },
  {
   "cell_type": "markdown",
   "id": "3b2a3b32",
   "metadata": {},
   "source": [
    "## Feature scaling using Minmax Scalar"
   ]
  },
  {
   "cell_type": "markdown",
   "id": "c3573175",
   "metadata": {},
   "source": [
    "### our pickeled model only accepts 784 features so we need to reshape our image_array into (1,784) shape"
   ]
  },
  {
   "cell_type": "code",
   "execution_count": 174,
   "id": "4fa53bab",
   "metadata": {},
   "outputs": [],
   "source": [
    "reshaped_image = resized_img.reshape(1,784) "
   ]
  },
  {
   "cell_type": "code",
   "execution_count": 175,
   "id": "11cec72a",
   "metadata": {},
   "outputs": [],
   "source": [
    "minmax_scaler_image = minmax_scaler.transform(reshaped_image) #feature scaling using minmaxscalar"
   ]
  },
  {
   "cell_type": "code",
   "execution_count": 176,
   "id": "f1211b78",
   "metadata": {},
   "outputs": [],
   "source": [
    "# load the model from disk\n",
    "filename = 'digit_recognizer.sav'\n",
    "loaded_model = pickle.load(open(filename, 'rb')) # -> rb = read binary"
   ]
  },
  {
   "cell_type": "code",
   "execution_count": 177,
   "id": "0d64b44d",
   "metadata": {},
   "outputs": [
    {
     "data": {
      "text/plain": [
       "array(['2'], dtype=object)"
      ]
     },
     "execution_count": 177,
     "metadata": {},
     "output_type": "execute_result"
    }
   ],
   "source": [
    "loaded_model.predict(minmax_scaler_image)"
   ]
  },
  {
   "cell_type": "markdown",
   "id": "973a6ac2",
   "metadata": {},
   "source": [
    "## NOTE-> The Logistic Reagression model that we trained here is not working properly as you can see our predictions are not correct"
   ]
  },
  {
   "cell_type": "markdown",
   "id": "33d6e921",
   "metadata": {},
   "source": [
    "# EXAMPLE --> Using Logistic Regression model to classify numbers in images using PCA to reduce the features in the image with minimum losses"
   ]
  },
  {
   "cell_type": "code",
   "execution_count": 42,
   "id": "bf58f3d6",
   "metadata": {},
   "outputs": [],
   "source": [
    "from sklearn.datasets import fetch_openml\n",
    "import numpy as np\n",
    "import cv2\n",
    "import matplotlib.pyplot as plt\n",
    "import pickle"
   ]
  },
  {
   "cell_type": "markdown",
   "id": "bf54bb72",
   "metadata": {},
   "source": [
    "## downloading mnsit dataset from open_ml website"
   ]
  },
  {
   "cell_type": "code",
   "execution_count": 11,
   "id": "6de11adc",
   "metadata": {},
   "outputs": [],
   "source": [
    "mnist = fetch_openml('mnist_784') # it is a dataset that contains images of numbers from 0 to 9"
   ]
  },
  {
   "cell_type": "markdown",
   "id": "c5a7c97f",
   "metadata": {},
   "source": [
    "## x and y comes in the form of dataframe hence use .values to convert them into arrays"
   ]
  },
  {
   "cell_type": "code",
   "execution_count": 12,
   "id": "043d78a0",
   "metadata": {},
   "outputs": [],
   "source": [
    "x = mnist.data.values"
   ]
  },
  {
   "cell_type": "code",
   "execution_count": 13,
   "id": "75a87ecc",
   "metadata": {},
   "outputs": [],
   "source": [
    "y = mnist.target.values"
   ]
  },
  {
   "cell_type": "code",
   "execution_count": 14,
   "id": "10e9d458",
   "metadata": {},
   "outputs": [
    {
     "data": {
      "text/plain": [
       "(70000, 784)"
      ]
     },
     "execution_count": 14,
     "metadata": {},
     "output_type": "execute_result"
    }
   ],
   "source": [
    "x.shape"
   ]
  },
  {
   "cell_type": "code",
   "execution_count": 15,
   "id": "35a49429",
   "metadata": {},
   "outputs": [
    {
     "data": {
      "text/plain": [
       "2"
      ]
     },
     "execution_count": 15,
     "metadata": {},
     "output_type": "execute_result"
    }
   ],
   "source": [
    "x.ndim"
   ]
  },
  {
   "cell_type": "code",
   "execution_count": 16,
   "id": "6c0b1192",
   "metadata": {},
   "outputs": [
    {
     "data": {
      "text/plain": [
       "(70000,)"
      ]
     },
     "execution_count": 16,
     "metadata": {},
     "output_type": "execute_result"
    }
   ],
   "source": [
    "y.shape"
   ]
  },
  {
   "cell_type": "code",
   "execution_count": 17,
   "id": "ed3978e5",
   "metadata": {},
   "outputs": [
    {
     "data": {
      "text/plain": [
       "1"
      ]
     },
     "execution_count": 17,
     "metadata": {},
     "output_type": "execute_result"
    }
   ],
   "source": [
    "y.ndim"
   ]
  },
  {
   "cell_type": "code",
   "execution_count": 18,
   "id": "84c109ac",
   "metadata": {},
   "outputs": [
    {
     "data": {
      "image/png": "[encoded data removed]",
      "text/plain": [
       "<Figure size 432x288 with 1 Axes>"
      ]
     },
     "metadata": {
      "needs_background": "light"
     },
     "output_type": "display_data"
    }
   ],
   "source": [
    "plt.imshow(x[2].reshape(28,28),cmap='gray')\n",
    "plt.show()"
   ]
  },
  {
   "cell_type": "code",
   "execution_count": 19,
   "id": "359b713f",
   "metadata": {},
   "outputs": [
    {
     "data": {
      "text/plain": [
       "(array(['0', '1', '2', '3', '4', '5', '6', '7', '8', '9'], dtype=object),\n",
       " array([6903, 7877, 6990, 7141, 6824, 6313, 6876, 7293, 6825, 6958]))"
      ]
     },
     "execution_count": 19,
     "metadata": {},
     "output_type": "execute_result"
    }
   ],
   "source": [
    "np.unique(y,return_counts=True)"
   ]
  },
  {
   "cell_type": "markdown",
   "id": "76041e4e",
   "metadata": {},
   "source": [
    "## use minmax scalar here for feature scaling"
   ]
  },
  {
   "cell_type": "code",
   "execution_count": 21,
   "id": "564e4ad8",
   "metadata": {},
   "outputs": [],
   "source": [
    "from sklearn.preprocessing import MinMaxScaler "
   ]
  },
  {
   "cell_type": "code",
   "execution_count": 22,
   "id": "72ae33b2",
   "metadata": {},
   "outputs": [],
   "source": [
    "minmax_scaler = MinMaxScaler() # initialization of minmaxScalar"
   ]
  },
  {
   "cell_type": "markdown",
   "id": "180cd5f8",
   "metadata": {},
   "source": [
    "## Splitting data"
   ]
  },
  {
   "cell_type": "code",
   "execution_count": 23,
   "id": "6dcf92ad",
   "metadata": {},
   "outputs": [],
   "source": [
    "from sklearn.model_selection import train_test_split"
   ]
  },
  {
   "cell_type": "code",
   "execution_count": 24,
   "id": "93196a78",
   "metadata": {},
   "outputs": [],
   "source": [
    "xtrain,xtest,ytrain,ytest = train_test_split(x,y,test_size=.2,random_state=12)"
   ]
  },
  {
   "cell_type": "code",
   "execution_count": 25,
   "id": "cc8e9375",
   "metadata": {},
   "outputs": [
    {
     "data": {
      "text/plain": [
       "(56000, 784)"
      ]
     },
     "execution_count": 25,
     "metadata": {},
     "output_type": "execute_result"
    }
   ],
   "source": [
    "xtrain.shape"
   ]
  },
  {
   "cell_type": "code",
   "execution_count": 27,
   "id": "118b4956",
   "metadata": {},
   "outputs": [
    {
     "data": {
      "text/plain": [
       "(14000, 784)"
      ]
     },
     "execution_count": 27,
     "metadata": {},
     "output_type": "execute_result"
    }
   ],
   "source": [
    "xtest.shape"
   ]
  },
  {
   "cell_type": "markdown",
   "id": "0e01157e",
   "metadata": {},
   "source": [
    "## Transforming data using Feature Scaling (MinMaxScaler) OR Normalizing data using MinMax Scalar. It is very important to normalize data in the dataframe before feeding it to Logistic regression"
   ]
  },
  {
   "cell_type": "code",
   "execution_count": 28,
   "id": "3f13c582",
   "metadata": {},
   "outputs": [],
   "source": [
    "minmax_scaler_train = minmax_scaler.fit_transform(xtrain)\n",
    "minmax_scaler_test = minmax_scaler.transform(xtest)"
   ]
  },
  {
   "cell_type": "code",
   "execution_count": 29,
   "id": "c8ba231e",
   "metadata": {},
   "outputs": [
    {
     "data": {
      "text/plain": [
       "(56000, 784)"
      ]
     },
     "execution_count": 29,
     "metadata": {},
     "output_type": "execute_result"
    }
   ],
   "source": [
    "minmax_scaler_train.shape"
   ]
  },
  {
   "cell_type": "code",
   "execution_count": 30,
   "id": "c37d7465",
   "metadata": {},
   "outputs": [
    {
     "data": {
      "text/plain": [
       "(14000, 784)"
      ]
     },
     "execution_count": 30,
     "metadata": {},
     "output_type": "execute_result"
    }
   ],
   "source": [
    "minmax_scaler_test.shape"
   ]
  },
  {
   "cell_type": "markdown",
   "id": "d8ecd5bc",
   "metadata": {},
   "source": [
    "## Use PCA ->It reduces dimension or Features with the minimum loss of information to reduce model training time and remove less important features in the dataset"
   ]
  },
  {
   "cell_type": "code",
   "execution_count": 31,
   "id": "9e7127fb",
   "metadata": {},
   "outputs": [],
   "source": [
    "from sklearn.decomposition import PCA"
   ]
  },
  {
   "cell_type": "code",
   "execution_count": 32,
   "id": "7bb4054b",
   "metadata": {},
   "outputs": [],
   "source": [
    "pca = PCA(n_components=.95)"
   ]
  },
  {
   "cell_type": "code",
   "execution_count": 33,
   "id": "985e86a0",
   "metadata": {},
   "outputs": [],
   "source": [
    "pca_train = pca.fit_transform(minmax_scaler_train)\n",
    "pca_test = pca.transform(minmax_scaler_test)"
   ]
  },
  {
   "cell_type": "code",
   "execution_count": 34,
   "id": "84f912dd",
   "metadata": {},
   "outputs": [
    {
     "data": {
      "text/plain": [
       "(56000, 154)"
      ]
     },
     "execution_count": 34,
     "metadata": {},
     "output_type": "execute_result"
    }
   ],
   "source": [
    "pca_train.shape"
   ]
  },
  {
   "cell_type": "code",
   "execution_count": 35,
   "id": "216360ad",
   "metadata": {},
   "outputs": [
    {
     "data": {
      "text/plain": [
       "(14000, 154)"
      ]
     },
     "execution_count": 35,
     "metadata": {},
     "output_type": "execute_result"
    }
   ],
   "source": [
    "pca_test.shape"
   ]
  },
  {
   "cell_type": "markdown",
   "id": "b7a8d7f6",
   "metadata": {},
   "source": [
    "## Now applying Logistic Regression"
   ]
  },
  {
   "cell_type": "code",
   "execution_count": 36,
   "id": "d75fa0dc",
   "metadata": {},
   "outputs": [],
   "source": [
    "from sklearn.linear_model import LogisticRegression\n",
    "\n",
    "log = LogisticRegression(multi_class='multinomial',max_iter=10000)"
   ]
  },
  {
   "cell_type": "code",
   "execution_count": 37,
   "id": "d289d206",
   "metadata": {},
   "outputs": [
    {
     "data": {
      "text/plain": [
       "LogisticRegression(max_iter=10000, multi_class='multinomial')"
      ]
     },
     "execution_count": 37,
     "metadata": {},
     "output_type": "execute_result"
    }
   ],
   "source": [
    "log.fit(pca_train,ytrain)"
   ]
  },
  {
   "cell_type": "code",
   "execution_count": 38,
   "id": "e8f75fb6",
   "metadata": {},
   "outputs": [
    {
     "data": {
      "text/plain": [
       "array(['3', '7', '1', ..., '5', '7', '5'], dtype=object)"
      ]
     },
     "execution_count": 38,
     "metadata": {},
     "output_type": "execute_result"
    }
   ],
   "source": [
    "pred = log.predict(pca_test)\n",
    "pred"
   ]
  },
  {
   "cell_type": "code",
   "execution_count": 39,
   "id": "57bea7b7",
   "metadata": {},
   "outputs": [
    {
     "data": {
      "text/plain": [
       "['3', '7', '1', '9', '1', ..., '6', '1', '5', '7', '2']\n",
       "Length: 14000\n",
       "Categories (10, object): ['0', '1', '2', '3', ..., '6', '7', '8', '9']"
      ]
     },
     "execution_count": 39,
     "metadata": {},
     "output_type": "execute_result"
    }
   ],
   "source": [
    "ytest"
   ]
  },
  {
   "cell_type": "code",
   "execution_count": 40,
   "id": "eaed7b46",
   "metadata": {},
   "outputs": [
    {
     "data": {
      "text/plain": [
       "0.9212857142857143"
      ]
     },
     "execution_count": 40,
     "metadata": {},
     "output_type": "execute_result"
    }
   ],
   "source": [
    "score = log.score(pca_test,ytest)\n",
    "score"
   ]
  },
  {
   "cell_type": "markdown",
   "id": "aed8fd30",
   "metadata": {},
   "source": [
    "## Now save MinmaxScalar, PCA and Logistic Regression model using pickle into Hard Disk so that we can use it Later"
   ]
  },
  {
   "cell_type": "markdown",
   "id": "4f556987",
   "metadata": {},
   "source": [
    "### save MinmaxScalar"
   ]
  },
  {
   "cell_type": "code",
   "execution_count": 43,
   "id": "1d7a14da",
   "metadata": {},
   "outputs": [],
   "source": [
    "#pickle.dump(model_name, open(filename, 'wb')) ->wb = write binary\n",
    "filename = 'MinmaxScalar.sav'\n",
    "pickle.dump(minmax_scaler, open(filename, 'wb'))"
   ]
  },
  {
   "cell_type": "markdown",
   "id": "9df6c1a9",
   "metadata": {},
   "source": [
    "### save PCA"
   ]
  },
  {
   "cell_type": "code",
   "execution_count": 44,
   "id": "dc422392",
   "metadata": {},
   "outputs": [],
   "source": [
    "#pickle.dump(model_name, open(filename, 'wb')) ->wb = write binary\n",
    "filename = 'PCA_Logistic_regression.sav'\n",
    "pickle.dump(pca, open(filename, 'wb'))"
   ]
  },
  {
   "cell_type": "markdown",
   "id": "2ccde6f5",
   "metadata": {},
   "source": [
    "### save Logistic Regression model"
   ]
  },
  {
   "cell_type": "code",
   "execution_count": 45,
   "id": "f948aa4b",
   "metadata": {},
   "outputs": [],
   "source": [
    "#pickle.dump(model_name, open(filename, 'wb')) ->wb = write binary\n",
    "filename = 'Logistic_regression_model.sav'\n",
    "pickle.dump(log, open(filename, 'wb'))"
   ]
  },
  {
   "cell_type": "markdown",
   "id": "a755e40b",
   "metadata": {},
   "source": [
    "## Importing image in this jupyter notebook using OpenCv"
   ]
  },
  {
   "cell_type": "code",
   "execution_count": 46,
   "id": "2f99456f",
   "metadata": {},
   "outputs": [],
   "source": [
    "import cv2\n",
    "import matplotlib.pyplot as plt\n",
    "import numpy as np"
   ]
  },
  {
   "cell_type": "markdown",
   "id": "acea5aff",
   "metadata": {},
   "source": [
    "### When you use opencv to import an image the image is plready in numpy nD array format and is ready to be used"
   ]
  },
  {
   "cell_type": "code",
   "execution_count": 117,
   "id": "48edc975",
   "metadata": {},
   "outputs": [],
   "source": [
    "# importing image\n",
    "image = cv2.imread('/home/Machine_learning/github/Machine_Learning/Prutor_ML_ClassWork/numbers/7.jpeg')"
   ]
  },
  {
   "cell_type": "code",
   "execution_count": 118,
   "id": "b7037675",
   "metadata": {},
   "outputs": [
    {
     "data": {
      "text/plain": [
       "3"
      ]
     },
     "execution_count": 118,
     "metadata": {},
     "output_type": "execute_result"
    }
   ],
   "source": [
    "image.ndim #here image imported via opencv is in 3D numpy array  "
   ]
  },
  {
   "cell_type": "code",
   "execution_count": 119,
   "id": "a2c36c63",
   "metadata": {},
   "outputs": [
    {
     "data": {
      "text/plain": [
       "(1028, 540, 3)"
      ]
     },
     "execution_count": 119,
     "metadata": {},
     "output_type": "execute_result"
    }
   ],
   "source": [
    "image.shape"
   ]
  },
  {
   "cell_type": "code",
   "execution_count": 120,
   "id": "51c07d74",
   "metadata": {},
   "outputs": [
    {
     "data": {
      "text/plain": [
       "<matplotlib.image.AxesImage at 0x7fd443f0dac0>"
      ]
     },
     "execution_count": 120,
     "metadata": {},
     "output_type": "execute_result"
    },
    {
     "data": {
      "image/png": "[encoded data removed]",
      "text/plain": [
       "<Figure size 432x288 with 1 Axes>"
      ]
     },
     "metadata": {
      "needs_background": "light"
     },
     "output_type": "display_data"
    }
   ],
   "source": [
    "plt.imshow(image)"
   ]
  },
  {
   "cell_type": "markdown",
   "id": "e420ae31",
   "metadata": {},
   "source": [
    "### Because we trained our model using numbers of color white with a black background we need to invert the color of our image"
   ]
  },
  {
   "cell_type": "code",
   "execution_count": 121,
   "id": "7d52c594",
   "metadata": {},
   "outputs": [],
   "source": [
    "image1 = np.invert(image) #inverting color using numpy"
   ]
  },
  {
   "cell_type": "code",
   "execution_count": 122,
   "id": "5d4f47b7",
   "metadata": {},
   "outputs": [
    {
     "data": {
      "text/plain": [
       "<matplotlib.image.AxesImage at 0x7fd443e6da30>"
      ]
     },
     "execution_count": 122,
     "metadata": {},
     "output_type": "execute_result"
    },
    {
     "data": {
      "image/png": "[encoded data removed]",
      "text/plain": [
       "<Figure size 432x288 with 1 Axes>"
      ]
     },
     "metadata": {
      "needs_background": "light"
     },
     "output_type": "display_data"
    }
   ],
   "source": [
    "plt.imshow(image1)"
   ]
  },
  {
   "cell_type": "markdown",
   "id": "0d1f05c2",
   "metadata": {},
   "source": [
    "### converting image into a gray scale image"
   ]
  },
  {
   "cell_type": "code",
   "execution_count": 123,
   "id": "229d4495",
   "metadata": {},
   "outputs": [],
   "source": [
    "gray = cv2.cvtColor(image, cv2.COLOR_BGR2GRAY)"
   ]
  },
  {
   "cell_type": "code",
   "execution_count": 124,
   "id": "14aa68ac",
   "metadata": {},
   "outputs": [
    {
     "data": {
      "text/plain": [
       "2"
      ]
     },
     "execution_count": 124,
     "metadata": {},
     "output_type": "execute_result"
    }
   ],
   "source": [
    "gray.ndim #it will convert 3D array of image into 2D array of image "
   ]
  },
  {
   "cell_type": "markdown",
   "id": "6de74a8b",
   "metadata": {},
   "source": [
    "### We trained our model using 28 x 28 size images so we need to resize our imported image in 28 x 28 size"
   ]
  },
  {
   "cell_type": "code",
   "execution_count": 125,
   "id": "675dd8ff",
   "metadata": {},
   "outputs": [],
   "source": [
    "resized_img = cv2.resize(gray,(28,28)) #resize image into 28 x 28"
   ]
  },
  {
   "cell_type": "code",
   "execution_count": 126,
   "id": "e667e0a0",
   "metadata": {},
   "outputs": [
    {
     "data": {
      "text/plain": [
       "(28, 28)"
      ]
     },
     "execution_count": 126,
     "metadata": {},
     "output_type": "execute_result"
    }
   ],
   "source": [
    "resized_img.shape"
   ]
  },
  {
   "cell_type": "code",
   "execution_count": 127,
   "id": "df5f9f40",
   "metadata": {},
   "outputs": [
    {
     "data": {
      "text/plain": [
       "<matplotlib.image.AxesImage at 0x7fd443dcf940>"
      ]
     },
     "execution_count": 127,
     "metadata": {},
     "output_type": "execute_result"
    },
    {
     "data": {
      "image/png": "[encoded data removed]",
      "text/plain": [
       "<Figure size 432x288 with 1 Axes>"
      ]
     },
     "metadata": {
      "needs_background": "light"
     },
     "output_type": "display_data"
    }
   ],
   "source": [
    "plt.imshow(resized_img)"
   ]
  },
  {
   "cell_type": "markdown",
   "id": "c4223648",
   "metadata": {},
   "source": [
    "## Load Saved MinmaxScalar, PCA and LogisticRegression model using pickle from HDD"
   ]
  },
  {
   "cell_type": "markdown",
   "id": "2bd546f4",
   "metadata": {},
   "source": [
    "### Loading MinmaxScalar from HDD using pickle"
   ]
  },
  {
   "cell_type": "code",
   "execution_count": 128,
   "id": "967f3d55",
   "metadata": {},
   "outputs": [],
   "source": [
    "# load the PCA from disk\n",
    "filename = 'MinmaxScalar.sav'\n",
    "minmaxScalar = pickle.load(open(filename, 'rb')) # -> rb = read binary"
   ]
  },
  {
   "cell_type": "markdown",
   "id": "cbd98526",
   "metadata": {},
   "source": [
    "### Loading PCA from HDD using pickle"
   ]
  },
  {
   "cell_type": "code",
   "execution_count": 129,
   "id": "77ab8e70",
   "metadata": {},
   "outputs": [],
   "source": [
    "# load the PCA from disk\n",
    "filename = 'PCA_Logistic_regression.sav'\n",
    "pca = pickle.load(open(filename, 'rb')) # -> rb = read binary"
   ]
  },
  {
   "cell_type": "markdown",
   "id": "db4d5ef6",
   "metadata": {},
   "source": [
    "### Loading LogisticRegression from HDD using pickle"
   ]
  },
  {
   "cell_type": "code",
   "execution_count": 130,
   "id": "fd9f5698",
   "metadata": {},
   "outputs": [],
   "source": [
    "# load the PCA from disk\n",
    "filename = 'Logistic_regression_model.sav'\n",
    "logisticRegression = pickle.load(open(filename, 'rb')) # -> rb = read binary"
   ]
  },
  {
   "cell_type": "markdown",
   "id": "3336fe38",
   "metadata": {},
   "source": [
    "## Feature scaling using Minmax Scalar"
   ]
  },
  {
   "cell_type": "markdown",
   "id": "20a6d1c5",
   "metadata": {},
   "source": [
    "### our pickeled model only accepts 784 features so we need to reshape our image_array into (1,784) shape"
   ]
  },
  {
   "cell_type": "code",
   "execution_count": 131,
   "id": "522819f6",
   "metadata": {},
   "outputs": [],
   "source": [
    "reshaped_image = resized_img.reshape(1,784) "
   ]
  },
  {
   "cell_type": "code",
   "execution_count": 132,
   "id": "7d16b091",
   "metadata": {},
   "outputs": [],
   "source": [
    "minmax_scaler_image = minmaxScalar.transform(reshaped_image) #feature scaling using minmaxscalar"
   ]
  },
  {
   "cell_type": "code",
   "execution_count": 133,
   "id": "400a4482",
   "metadata": {},
   "outputs": [
    {
     "data": {
      "text/plain": [
       "(1, 784)"
      ]
     },
     "execution_count": 133,
     "metadata": {},
     "output_type": "execute_result"
    }
   ],
   "source": [
    "minmax_scaler_image.shape"
   ]
  },
  {
   "cell_type": "code",
   "execution_count": 134,
   "id": "4c5bfedb",
   "metadata": {},
   "outputs": [],
   "source": [
    "pca_image = pca.transform(minmax_scaler_image) #reducing features using PCA"
   ]
  },
  {
   "cell_type": "code",
   "execution_count": 135,
   "id": "5853ef7f",
   "metadata": {},
   "outputs": [
    {
     "data": {
      "text/plain": [
       "(1, 154)"
      ]
     },
     "execution_count": 135,
     "metadata": {},
     "output_type": "execute_result"
    }
   ],
   "source": [
    "pca_image.shape"
   ]
  },
  {
   "cell_type": "code",
   "execution_count": 136,
   "id": "efb40dc2",
   "metadata": {},
   "outputs": [
    {
     "data": {
      "text/plain": [
       "array(['3'], dtype=object)"
      ]
     },
     "execution_count": 136,
     "metadata": {},
     "output_type": "execute_result"
    }
   ],
   "source": [
    "logisticRegression.predict(pca_image)"
   ]
  },
  {
   "cell_type": "code",
   "execution_count": null,
   "id": "35bf19cf",
   "metadata": {},
   "outputs": [],
   "source": []
  },
  {
   "cell_type": "code",
   "execution_count": null,
   "id": "37776b24",
   "metadata": {},
   "outputs": [],
   "source": []
  }
 ],
 "metadata": {
  "kernelspec": {
   "display_name": "Python [conda env:tensorflow] *",
   "language": "python",
   "name": "conda-env-tensorflow-py"
  },
  "language_info": {
   "codemirror_mode": {
    "name": "ipython",
    "version": 3
   },
   "file_extension": ".py",
   "mimetype": "text/x-python",
   "name": "python",
   "nbconvert_exporter": "python",
   "pygments_lexer": "ipython3",
   "version": "3.8.12"
  }
 },
 "nbformat": 4,
 "nbformat_minor": 5
}

{
 "cells": [
  {
   "cell_type": "markdown",
   "id": "5313d05e",
   "metadata": {},
   "source": [
    "# Naive Bayes Algotitem is  only used when we want to work with text data"
   ]
  },
  {
   "cell_type": "code",
   "execution_count": 1,
   "id": "785999b8",
   "metadata": {},
   "outputs": [
    {
     "name": "stderr",
     "output_type": "stream",
     "text": [
      "[nltk_data] Downloading package stopwords to\n",
      "[nltk_data]     /home/Machine_learning/nltk_data...\n",
      "[nltk_data]   Package stopwords is already up-to-date!\n"
     ]
    }
   ],
   "source": [
    "import pandas as pd\n",
    "import re #re here is the regex module of python\n",
    "import numpy as np\n",
    "from sklearn.model_selection import train_test_split\n",
    "\n",
    "from sklearn.feature_extraction.text import CountVectorizer\n",
    "import nltk\n",
    "nltk.download('stopwords') #Run this command to download and install Stopwords from natural language processor\n",
    "from nltk.corpus import stopwords"
   ]
  },
  {
   "cell_type": "code",
   "execution_count": 2,
   "id": "983b645e",
   "metadata": {},
   "outputs": [],
   "source": [
    "df = pd.read_csv('Restaurant_Reviews.tsv', sep='\\t') # define seprator as \\t"
   ]
  },
  {
   "cell_type": "code",
   "execution_count": 3,
   "id": "33bde95f",
   "metadata": {},
   "outputs": [
    {
     "data": {
      "text/html": [
       "<div>\n",
       "<style scoped>\n",
       "    .dataframe tbody tr th:only-of-type {\n",
       "        vertical-align: middle;\n",
       "    }\n",
       "\n",
       "    .dataframe tbody tr th {\n",
       "        vertical-align: top;\n",
       "    }\n",
       "\n",
       "    .dataframe thead th {\n",
       "        text-align: right;\n",
       "    }\n",
       "</style>\n",
       "<table border=\"1\" class=\"dataframe\">\n",
       "  <thead>\n",
       "    <tr style=\"text-align: right;\">\n",
       "      <th></th>\n",
       "      <th>Review</th>\n",
       "      <th>Liked</th>\n",
       "    </tr>\n",
       "  </thead>\n",
       "  <tbody>\n",
       "    <tr>\n",
       "      <th>0</th>\n",
       "      <td>Wow... Loved this place.</td>\n",
       "      <td>1</td>\n",
       "    </tr>\n",
       "    <tr>\n",
       "      <th>1</th>\n",
       "      <td>Crust is not good.</td>\n",
       "      <td>0</td>\n",
       "    </tr>\n",
       "    <tr>\n",
       "      <th>2</th>\n",
       "      <td>Not tasty and the texture was just nasty.</td>\n",
       "      <td>0</td>\n",
       "    </tr>\n",
       "    <tr>\n",
       "      <th>3</th>\n",
       "      <td>Stopped by during the late May bank holiday of...</td>\n",
       "      <td>1</td>\n",
       "    </tr>\n",
       "    <tr>\n",
       "      <th>4</th>\n",
       "      <td>The selection on the menu was great and so wer...</td>\n",
       "      <td>1</td>\n",
       "    </tr>\n",
       "    <tr>\n",
       "      <th>...</th>\n",
       "      <td>...</td>\n",
       "      <td>...</td>\n",
       "    </tr>\n",
       "    <tr>\n",
       "      <th>995</th>\n",
       "      <td>I think food should have flavor and texture an...</td>\n",
       "      <td>0</td>\n",
       "    </tr>\n",
       "    <tr>\n",
       "      <th>996</th>\n",
       "      <td>Appetite instantly gone.</td>\n",
       "      <td>0</td>\n",
       "    </tr>\n",
       "    <tr>\n",
       "      <th>997</th>\n",
       "      <td>Overall I was not impressed and would not go b...</td>\n",
       "      <td>0</td>\n",
       "    </tr>\n",
       "    <tr>\n",
       "      <th>998</th>\n",
       "      <td>The whole experience was underwhelming, and I ...</td>\n",
       "      <td>0</td>\n",
       "    </tr>\n",
       "    <tr>\n",
       "      <th>999</th>\n",
       "      <td>Then, as if I hadn't wasted enough of my life ...</td>\n",
       "      <td>0</td>\n",
       "    </tr>\n",
       "  </tbody>\n",
       "</table>\n",
       "<p>1000 rows × 2 columns</p>\n",
       "</div>"
      ],
      "text/plain": [
       "                                                Review  Liked\n",
       "0                             Wow... Loved this place.      1\n",
       "1                                   Crust is not good.      0\n",
       "2            Not tasty and the texture was just nasty.      0\n",
       "3    Stopped by during the late May bank holiday of...      1\n",
       "4    The selection on the menu was great and so wer...      1\n",
       "..                                                 ...    ...\n",
       "995  I think food should have flavor and texture an...      0\n",
       "996                           Appetite instantly gone.      0\n",
       "997  Overall I was not impressed and would not go b...      0\n",
       "998  The whole experience was underwhelming, and I ...      0\n",
       "999  Then, as if I hadn't wasted enough of my life ...      0\n",
       "\n",
       "[1000 rows x 2 columns]"
      ]
     },
     "execution_count": 3,
     "metadata": {},
     "output_type": "execute_result"
    }
   ],
   "source": [
    "df"
   ]
  },
  {
   "cell_type": "code",
   "execution_count": 4,
   "id": "334c7504",
   "metadata": {},
   "outputs": [
    {
     "data": {
      "text/plain": [
       "(1000, 2)"
      ]
     },
     "execution_count": 4,
     "metadata": {},
     "output_type": "execute_result"
    }
   ],
   "source": [
    "df.shape"
   ]
  },
  {
   "cell_type": "code",
   "execution_count": 5,
   "id": "4689c03f",
   "metadata": {},
   "outputs": [
    {
     "data": {
      "text/plain": [
       "0    500\n",
       "1    500\n",
       "Name: Liked, dtype: int64"
      ]
     },
     "execution_count": 5,
     "metadata": {},
     "output_type": "execute_result"
    }
   ],
   "source": [
    "df.Liked.value_counts() ## Cheking the number of liked and disliked reviews in the dataset"
   ]
  },
  {
   "cell_type": "code",
   "execution_count": 37,
   "id": "11a2f3fd",
   "metadata": {},
   "outputs": [],
   "source": [
    "def clean(x):\n",
    "    s = re.sub('<*?>',' ', x) #removes all html tags\n",
    "    \n",
    "    s = re.sub(\"wasn't\", 'was not',s) #removes wasn't to was not\n",
    "    s = re.sub(\"don't\", 'do not',s)\n",
    "    s = re.sub(\"din't\", 'did not',s)\n",
    "    s = re.sub(\"wouldn't\", 'would not',s)\n",
    "    s = re.sub(\"won't\", 'will not',s)\n",
    "    s = re.sub(\"isn't\", 'is not',s)\n",
    "    s = re.sub(\"needn't\", 'need not',s)\n",
    "    s = re.sub(\"hasn't\", 'has not',s)\n",
    "    \n",
    "    s = re.sub('[^A-Za-z]',' ',s) #removes everything else except for a to z and A to Z\n",
    "    s = re.sub('\\s+',' ',s) #removes more than one spaces\n",
    "    s = s.strip() #removes spaces from the beginning and ending of the sentences\n",
    "    return s.lower()"
   ]
  },
  {
   "cell_type": "code",
   "execution_count": 38,
   "id": "7663853c",
   "metadata": {},
   "outputs": [],
   "source": [
    "df['Review'] = df.Review.apply(clean)"
   ]
  },
  {
   "cell_type": "code",
   "execution_count": 39,
   "id": "38b70006",
   "metadata": {},
   "outputs": [
    {
     "data": {
      "text/html": [
       "<div>\n",
       "<style scoped>\n",
       "    .dataframe tbody tr th:only-of-type {\n",
       "        vertical-align: middle;\n",
       "    }\n",
       "\n",
       "    .dataframe tbody tr th {\n",
       "        vertical-align: top;\n",
       "    }\n",
       "\n",
       "    .dataframe thead th {\n",
       "        text-align: right;\n",
       "    }\n",
       "</style>\n",
       "<table border=\"1\" class=\"dataframe\">\n",
       "  <thead>\n",
       "    <tr style=\"text-align: right;\">\n",
       "      <th></th>\n",
       "      <th>Review</th>\n",
       "      <th>Liked</th>\n",
       "    </tr>\n",
       "  </thead>\n",
       "  <tbody>\n",
       "    <tr>\n",
       "      <th>0</th>\n",
       "      <td>wow loved this place</td>\n",
       "      <td>1</td>\n",
       "    </tr>\n",
       "    <tr>\n",
       "      <th>1</th>\n",
       "      <td>crust is not good</td>\n",
       "      <td>0</td>\n",
       "    </tr>\n",
       "    <tr>\n",
       "      <th>2</th>\n",
       "      <td>not tasty and the texture was just nasty</td>\n",
       "      <td>0</td>\n",
       "    </tr>\n",
       "    <tr>\n",
       "      <th>3</th>\n",
       "      <td>stopped by during the late may bank holiday of...</td>\n",
       "      <td>1</td>\n",
       "    </tr>\n",
       "    <tr>\n",
       "      <th>4</th>\n",
       "      <td>the selection on the menu was great and so wer...</td>\n",
       "      <td>1</td>\n",
       "    </tr>\n",
       "    <tr>\n",
       "      <th>...</th>\n",
       "      <td>...</td>\n",
       "      <td>...</td>\n",
       "    </tr>\n",
       "    <tr>\n",
       "      <th>995</th>\n",
       "      <td>i think food should have flavor and texture an...</td>\n",
       "      <td>0</td>\n",
       "    </tr>\n",
       "    <tr>\n",
       "      <th>996</th>\n",
       "      <td>appetite instantly gone</td>\n",
       "      <td>0</td>\n",
       "    </tr>\n",
       "    <tr>\n",
       "      <th>997</th>\n",
       "      <td>overall i was not impressed and would not go back</td>\n",
       "      <td>0</td>\n",
       "    </tr>\n",
       "    <tr>\n",
       "      <th>998</th>\n",
       "      <td>the whole experience was underwhelming and i t...</td>\n",
       "      <td>0</td>\n",
       "    </tr>\n",
       "    <tr>\n",
       "      <th>999</th>\n",
       "      <td>then as if i hadn t wasted enough of my life t...</td>\n",
       "      <td>0</td>\n",
       "    </tr>\n",
       "  </tbody>\n",
       "</table>\n",
       "<p>1000 rows × 2 columns</p>\n",
       "</div>"
      ],
      "text/plain": [
       "                                                Review  Liked\n",
       "0                                 wow loved this place      1\n",
       "1                                    crust is not good      0\n",
       "2             not tasty and the texture was just nasty      0\n",
       "3    stopped by during the late may bank holiday of...      1\n",
       "4    the selection on the menu was great and so wer...      1\n",
       "..                                                 ...    ...\n",
       "995  i think food should have flavor and texture an...      0\n",
       "996                            appetite instantly gone      0\n",
       "997  overall i was not impressed and would not go back      0\n",
       "998  the whole experience was underwhelming and i t...      0\n",
       "999  then as if i hadn t wasted enough of my life t...      0\n",
       "\n",
       "[1000 rows x 2 columns]"
      ]
     },
     "execution_count": 39,
     "metadata": {},
     "output_type": "execute_result"
    }
   ],
   "source": [
    "df"
   ]
  },
  {
   "cell_type": "code",
   "execution_count": 40,
   "id": "aff3768e",
   "metadata": {},
   "outputs": [],
   "source": [
    "x = df.Review.values"
   ]
  },
  {
   "cell_type": "code",
   "execution_count": 41,
   "id": "77df30ab",
   "metadata": {},
   "outputs": [
    {
     "data": {
      "text/plain": [
       "(1000,)"
      ]
     },
     "execution_count": 41,
     "metadata": {},
     "output_type": "execute_result"
    }
   ],
   "source": [
    "x.shape"
   ]
  },
  {
   "cell_type": "code",
   "execution_count": 42,
   "id": "7dcbeac6",
   "metadata": {},
   "outputs": [
    {
     "data": {
      "text/plain": [
       "1"
      ]
     },
     "execution_count": 42,
     "metadata": {},
     "output_type": "execute_result"
    }
   ],
   "source": [
    "x.ndim"
   ]
  },
  {
   "cell_type": "code",
   "execution_count": 43,
   "id": "a7105331",
   "metadata": {},
   "outputs": [],
   "source": [
    "y = df.Liked.values"
   ]
  },
  {
   "cell_type": "code",
   "execution_count": 44,
   "id": "25a2ebd9",
   "metadata": {},
   "outputs": [
    {
     "data": {
      "text/plain": [
       "(1000,)"
      ]
     },
     "execution_count": 44,
     "metadata": {},
     "output_type": "execute_result"
    }
   ],
   "source": [
    "y.shape"
   ]
  },
  {
   "cell_type": "code",
   "execution_count": 45,
   "id": "54b776ee",
   "metadata": {},
   "outputs": [
    {
     "data": {
      "text/plain": [
       "1"
      ]
     },
     "execution_count": 45,
     "metadata": {},
     "output_type": "execute_result"
    }
   ],
   "source": [
    "y.ndim"
   ]
  },
  {
   "cell_type": "markdown",
   "id": "718b35ac",
   "metadata": {},
   "source": [
    "## Split data"
   ]
  },
  {
   "cell_type": "code",
   "execution_count": 46,
   "id": "f1bc0503",
   "metadata": {},
   "outputs": [],
   "source": [
    "xtrain,xtest,ytrain,ytest = train_test_split(x,y,test_size = 0.20,random_state=12)"
   ]
  },
  {
   "cell_type": "markdown",
   "id": "263e7457",
   "metadata": {},
   "source": [
    "## Now Apply CountVectorizer"
   ]
  },
  {
   "cell_type": "code",
   "execution_count": 47,
   "id": "2debbabe",
   "metadata": {},
   "outputs": [],
   "source": [
    "words = stopwords.words('english')"
   ]
  },
  {
   "cell_type": "code",
   "execution_count": 48,
   "id": "2bb00a92",
   "metadata": {},
   "outputs": [
    {
     "name": "stdout",
     "output_type": "stream",
     "text": [
      "i,me,my,myself,we,our,ours,ourselves,you,you're,you've,you'll,you'd,your,yours,yourself,yourselves,he,him,his,himself,she,she's,her,hers,herself,it,it's,its,itself,they,them,their,theirs,themselves,what,which,who,whom,this,that,that'll,these,those,am,is,are,was,were,be,been,being,have,has,had,having,do,does,did,doing,a,an,the,and,but,if,or,because,as,until,while,of,at,by,for,with,about,against,between,into,through,during,before,after,above,below,to,from,up,down,in,out,on,off,over,under,again,further,then,once,here,there,when,where,why,how,all,any,both,each,few,more,most,other,some,such,no,nor,not,only,own,same,so,than,too,very,s,t,can,will,just,don,don't,should,should've,now,d,ll,m,o,re,ve,y,ain,aren,aren't,couldn,couldn't,didn,didn't,doesn,doesn't,hadn,hadn't,hasn,hasn't,haven,haven't,isn,isn't,ma,mightn,mightn't,mustn,mustn't,needn,needn't,shan,shan't,shouldn,shouldn't,wasn,wasn't,weren,weren't,won,won't,wouldn,wouldn't,"
     ]
    }
   ],
   "source": [
    "# getting stopwords from nltk \n",
    "for i in list(words):\n",
    "    print(i,end=',')"
   ]
  },
  {
   "cell_type": "code",
   "execution_count": 49,
   "id": "b928b6a0",
   "metadata": {},
   "outputs": [
    {
     "name": "stdout",
     "output_type": "stream",
     "text": [
      "no is present\n",
      "not is present\n",
      "don't is present\n",
      "wouldn't is present\n",
      "won't is present\n",
      "wasn't is present\n",
      "isn't is present\n",
      "needn't is present\n",
      "hasn't is present\n"
     ]
    }
   ],
   "source": [
    "#checking if now, no, don't , do not , not are present or not\n",
    "if 'no' in words:\n",
    "    print(\"no is present\")\n",
    "if 'not' in words:\n",
    "    print(\"not is present\")\n",
    "if 'never' in words:\n",
    "    print(\"never is present\")\n",
    "if \"don't\" in words:\n",
    "    print(\"don't is present\")\n",
    "if 'do not' in words:\n",
    "    print(\"do not is present\")\n",
    "if \"din't\" in words:\n",
    "    print(\"din't is present\")\n",
    "if 'did not' in words:\n",
    "    print(\"did not is present\")\n",
    "if \"wouldn't\" in words:\n",
    "    print(\"wouldn't is present\")\n",
    "if 'would not' in words:\n",
    "    print(\"would not is present\")\n",
    "if 'will not' in words:\n",
    "    print(\"will not is present\")\n",
    "if \"won't\" in words:\n",
    "    print(\"won't is present\")\n",
    "if \"wasn't\" in words:\n",
    "    print(\"wasn't is present\")\n",
    "if \"isn't\" in words:\n",
    "    print(\"isn't is present\")\n",
    "if \"needn't\" in words:\n",
    "    print(\"needn't is present\")\n",
    "if \"hasn't\" in words:\n",
    "    print(\"hasn't is present\")"
   ]
  },
  {
   "cell_type": "markdown",
   "id": "9f616004",
   "metadata": {},
   "source": [
    "## now we have to make sure that all the negative words are removed from 'words = stopwords.words('english')' before we feed it to 'count_vectorizer = CountVectorizer(stop_words=words)'"
   ]
  },
  {
   "cell_type": "code",
   "execution_count": 50,
   "id": "df50662b",
   "metadata": {},
   "outputs": [],
   "source": [
    "#Removinf all the negative words from the \"words\" variable\n",
    "negative_words = ['no','not','never', \"don't\", \"do not\", \"din't\", \"did not\", \"wouldn't\", \"would not\"]\n",
    "if 'no' in words:\n",
    "    words.remove(\"no\")\n",
    "if 'not' in words:\n",
    "    words.remove(\"not\")\n",
    "if 'never' in words:\n",
    "    words.remove(\"never\")\n",
    "# if \"don't\" in words:\n",
    "#     words.remove(\"don't\")\n",
    "# if 'do not' in words:\n",
    "#     words.remove(\"do not\")\n",
    "# if \"din't\" in words:\n",
    "#     words.remove(\"din't\")\n",
    "# if 'did not' in words:\n",
    "#     words.remove(\"did not\")\n",
    "# if \"wouldn't\" in words:\n",
    "#     words.remove(\"wouldn't\")\n",
    "# if 'would not' in words:\n",
    "#     words.remove(\"would not\")\n",
    "# if 'will not' in words:\n",
    "#     words.remove(\"will not\")\n",
    "# if \"won't\" in words:\n",
    "#     words.remove(\"won't\")\n",
    "# if \"wasn't\" in words:\n",
    "#     words.remove(\"wasn't\")\n",
    "# if \"isn't\" in words:\n",
    "#     words.remove(\"isn't\")\n",
    "# if \"needn't\" in words:\n",
    "#     words.remove(\"needn't\")\n",
    "# if \"hasn't\" in words:\n",
    "#     words.remove(\"hasn't\")"
   ]
  },
  {
   "cell_type": "code",
   "execution_count": 51,
   "id": "01eb4883",
   "metadata": {},
   "outputs": [
    {
     "name": "stdout",
     "output_type": "stream",
     "text": [
      "don't is present\n",
      "wouldn't is present\n",
      "won't is present\n",
      "wasn't is present\n",
      "isn't is present\n",
      "needn't is present\n",
      "hasn't is present\n"
     ]
    }
   ],
   "source": [
    "#again rechecking if negative words are present or not \n",
    "negative_words = ['no','not','never', \"don't\", \"do not\", \"din't\", \"did not\", \"wouldn't\", \"would not\"]\n",
    "if 'no' in words:\n",
    "    print(\"no is present\")\n",
    "if 'not' in words:\n",
    "    print(\"not is present\")\n",
    "if 'never' in words:\n",
    "    print(\"never is present\")\n",
    "if \"don't\" in words:\n",
    "    print(\"don't is present\")\n",
    "if 'do not' in words:\n",
    "    print(\"do not is present\")\n",
    "if \"din't\" in words:\n",
    "    print(\"din't is present\")\n",
    "if 'did not' in words:\n",
    "    print(\"did not is present\")\n",
    "if \"wouldn't\" in words:\n",
    "    print(\"wouldn't is present\")\n",
    "if 'would not' in words:\n",
    "    print(\"would not is present\")\n",
    "if 'will not' in words:\n",
    "    print(\"will not is present\")\n",
    "if \"won't\" in words:\n",
    "    print(\"won't is present\")\n",
    "if \"wasn't\" in words:\n",
    "    print(\"wasn't is present\")\n",
    "if \"isn't\" in words:\n",
    "    print(\"isn't is present\")\n",
    "if \"needn't\" in words:\n",
    "    print(\"needn't is present\")\n",
    "if \"hasn't\" in words:\n",
    "    print(\"hasn't is present\")\n",
    "else:\n",
    "    print(\"no negative words are present\")"
   ]
  },
  {
   "cell_type": "code",
   "execution_count": 52,
   "id": "1b640a48",
   "metadata": {},
   "outputs": [],
   "source": [
    "count_vectorizer = CountVectorizer(stop_words=words) #initialization"
   ]
  },
  {
   "cell_type": "code",
   "execution_count": 53,
   "id": "313097ed",
   "metadata": {},
   "outputs": [],
   "source": [
    "cv_train = count_vectorizer.fit_transform(xtrain) # transforming data from text to integers\n",
    "cv_test = count_vectorizer.transform(xtest)"
   ]
  },
  {
   "cell_type": "code",
   "execution_count": 54,
   "id": "96c03bc0",
   "metadata": {},
   "outputs": [
    {
     "data": {
      "text/plain": [
       "(800, 1653)"
      ]
     },
     "execution_count": 54,
     "metadata": {},
     "output_type": "execute_result"
    }
   ],
   "source": [
    "cv_train.shape"
   ]
  },
  {
   "cell_type": "code",
   "execution_count": 55,
   "id": "2f72043c",
   "metadata": {},
   "outputs": [
    {
     "data": {
      "text/plain": [
       "2"
      ]
     },
     "execution_count": 55,
     "metadata": {},
     "output_type": "execute_result"
    }
   ],
   "source": [
    "cv_train.ndim"
   ]
  },
  {
   "cell_type": "code",
   "execution_count": 56,
   "id": "a58aff4a",
   "metadata": {},
   "outputs": [
    {
     "data": {
      "text/plain": [
       "(200, 1653)"
      ]
     },
     "execution_count": 56,
     "metadata": {},
     "output_type": "execute_result"
    }
   ],
   "source": [
    "cv_test.shape"
   ]
  },
  {
   "cell_type": "code",
   "execution_count": 57,
   "id": "16b605aa",
   "metadata": {},
   "outputs": [
    {
     "data": {
      "text/plain": [
       "2"
      ]
     },
     "execution_count": 57,
     "metadata": {},
     "output_type": "execute_result"
    }
   ],
   "source": [
    "cv_test.ndim"
   ]
  },
  {
   "cell_type": "markdown",
   "id": "c1625f11",
   "metadata": {},
   "source": [
    "## Now we can apply Naive Bayes Algotitem Machine Learning model"
   ]
  },
  {
   "cell_type": "code",
   "execution_count": 58,
   "id": "629a6662",
   "metadata": {},
   "outputs": [],
   "source": [
    "from sklearn.naive_bayes import MultinomialNB"
   ]
  },
  {
   "cell_type": "code",
   "execution_count": 59,
   "id": "22d3b0c8",
   "metadata": {},
   "outputs": [],
   "source": [
    "nb = MultinomialNB() #initialization"
   ]
  },
  {
   "cell_type": "code",
   "execution_count": 60,
   "id": "1d9c13e9",
   "metadata": {},
   "outputs": [
    {
     "data": {
      "text/plain": [
       "MultinomialNB()"
      ]
     },
     "execution_count": 60,
     "metadata": {},
     "output_type": "execute_result"
    }
   ],
   "source": [
    "nb.fit(cv_train,ytrain)"
   ]
  },
  {
   "cell_type": "code",
   "execution_count": 61,
   "id": "693398c8",
   "metadata": {},
   "outputs": [],
   "source": [
    "test_score = nb.score(cv_test,ytest)"
   ]
  },
  {
   "cell_type": "code",
   "execution_count": 62,
   "id": "d3f99383",
   "metadata": {},
   "outputs": [
    {
     "name": "stdout",
     "output_type": "stream",
     "text": [
      "0.77\n"
     ]
    }
   ],
   "source": [
    "print(test_score)"
   ]
  },
  {
   "cell_type": "markdown",
   "id": "9d11b9a0",
   "metadata": {},
   "source": [
    "## Evaluating model"
   ]
  },
  {
   "cell_type": "code",
   "execution_count": 63,
   "id": "23ec28a9",
   "metadata": {},
   "outputs": [],
   "source": [
    "test = [\"I wouldn't have eaten the food if I had known\", \n",
    "        \"I won't eat here ever again\", \n",
    "        \"The food was good\", \n",
    "        \"It was a good meal\",\n",
    "       \"The food was not upto the mark like it used to in previous years\", \n",
    "        \"I should not have ordered these. It's bad...It's really bad\",\n",
    "       \"Awesome Food !!!...Good service\", \n",
    "        \"I am satisfied with the food\",\n",
    "       \"They needn't have to make the order process so complicated\",\n",
    "       \"They din't have to go above and beyond but they did it was cool.....I loved it\",\n",
    "       \"The meal wasn't satisfactory\",\n",
    "       \"The food was bad\"]\n",
    "clean_data = []\n",
    "for k in test:\n",
    "    clean_data.append(clean(k))"
   ]
  },
  {
   "cell_type": "code",
   "execution_count": 64,
   "id": "ef8d14cc",
   "metadata": {},
   "outputs": [],
   "source": [
    "test1 = count_vectorizer.transform(clean_data)"
   ]
  },
  {
   "cell_type": "code",
   "execution_count": 65,
   "id": "85ed8c4c",
   "metadata": {},
   "outputs": [
    {
     "data": {
      "text/plain": [
       "array([0, 0, 1, 1, 0, 0, 1, 0, 0, 1, 0, 0])"
      ]
     },
     "execution_count": 65,
     "metadata": {},
     "output_type": "execute_result"
    }
   ],
   "source": [
    "nb.predict(test1) # 0 means negative review and 1 means positive review"
   ]
  },
  {
   "cell_type": "code",
   "execution_count": 147,
   "id": "8dd89ca9",
   "metadata": {},
   "outputs": [],
   "source": [
    "#  \"They din't have to go above and beyond but they did it was cool.....I loved it\", \n",
    "# was predicted correctly in this model\n",
    "# In this model also \"\"I am satisfied with the food\"\" was predicted incorrectly"
   ]
  },
  {
   "cell_type": "markdown",
   "id": "79987568",
   "metadata": {},
   "source": [
    "# Example 2"
   ]
  },
  {
   "cell_type": "code",
   "execution_count": 68,
   "id": "a98dc140",
   "metadata": {},
   "outputs": [],
   "source": [
    "## Detect spam and ham email messages using naive bayes algorithm"
   ]
  },
  {
   "cell_type": "code",
   "execution_count": 74,
   "id": "eb81a4d7",
   "metadata": {},
   "outputs": [],
   "source": [
    "#spam_ham_dataset.csv\n",
    "df2 = pd.read_csv('spam_ham_dataset.csv', sep=',') # define seprator as ,"
   ]
  },
  {
   "cell_type": "code",
   "execution_count": 75,
   "id": "b208b916",
   "metadata": {},
   "outputs": [
    {
     "data": {
      "text/html": [
       "<div>\n",
       "<style scoped>\n",
       "    .dataframe tbody tr th:only-of-type {\n",
       "        vertical-align: middle;\n",
       "    }\n",
       "\n",
       "    .dataframe tbody tr th {\n",
       "        vertical-align: top;\n",
       "    }\n",
       "\n",
       "    .dataframe thead th {\n",
       "        text-align: right;\n",
       "    }\n",
       "</style>\n",
       "<table border=\"1\" class=\"dataframe\">\n",
       "  <thead>\n",
       "    <tr style=\"text-align: right;\">\n",
       "      <th></th>\n",
       "      <th>Unnamed: 0</th>\n",
       "      <th>label</th>\n",
       "      <th>text</th>\n",
       "      <th>label_num</th>\n",
       "    </tr>\n",
       "  </thead>\n",
       "  <tbody>\n",
       "    <tr>\n",
       "      <th>0</th>\n",
       "      <td>605</td>\n",
       "      <td>ham</td>\n",
       "      <td>Subject: enron methanol ; meter # : 988291\\r\\n...</td>\n",
       "      <td>0</td>\n",
       "    </tr>\n",
       "    <tr>\n",
       "      <th>1</th>\n",
       "      <td>2349</td>\n",
       "      <td>ham</td>\n",
       "      <td>Subject: hpl nom for january 9 , 2001\\r\\n( see...</td>\n",
       "      <td>0</td>\n",
       "    </tr>\n",
       "    <tr>\n",
       "      <th>2</th>\n",
       "      <td>3624</td>\n",
       "      <td>ham</td>\n",
       "      <td>Subject: neon retreat\\r\\nho ho ho , we ' re ar...</td>\n",
       "      <td>0</td>\n",
       "    </tr>\n",
       "    <tr>\n",
       "      <th>3</th>\n",
       "      <td>4685</td>\n",
       "      <td>spam</td>\n",
       "      <td>Subject: photoshop , windows , office . cheap ...</td>\n",
       "      <td>1</td>\n",
       "    </tr>\n",
       "    <tr>\n",
       "      <th>4</th>\n",
       "      <td>2030</td>\n",
       "      <td>ham</td>\n",
       "      <td>Subject: re : indian springs\\r\\nthis deal is t...</td>\n",
       "      <td>0</td>\n",
       "    </tr>\n",
       "    <tr>\n",
       "      <th>...</th>\n",
       "      <td>...</td>\n",
       "      <td>...</td>\n",
       "      <td>...</td>\n",
       "      <td>...</td>\n",
       "    </tr>\n",
       "    <tr>\n",
       "      <th>5166</th>\n",
       "      <td>1518</td>\n",
       "      <td>ham</td>\n",
       "      <td>Subject: put the 10 on the ft\\r\\nthe transport...</td>\n",
       "      <td>0</td>\n",
       "    </tr>\n",
       "    <tr>\n",
       "      <th>5167</th>\n",
       "      <td>404</td>\n",
       "      <td>ham</td>\n",
       "      <td>Subject: 3 / 4 / 2000 and following noms\\r\\nhp...</td>\n",
       "      <td>0</td>\n",
       "    </tr>\n",
       "    <tr>\n",
       "      <th>5168</th>\n",
       "      <td>2933</td>\n",
       "      <td>ham</td>\n",
       "      <td>Subject: calpine daily gas nomination\\r\\n&gt;\\r\\n...</td>\n",
       "      <td>0</td>\n",
       "    </tr>\n",
       "    <tr>\n",
       "      <th>5169</th>\n",
       "      <td>1409</td>\n",
       "      <td>ham</td>\n",
       "      <td>Subject: industrial worksheets for august 2000...</td>\n",
       "      <td>0</td>\n",
       "    </tr>\n",
       "    <tr>\n",
       "      <th>5170</th>\n",
       "      <td>4807</td>\n",
       "      <td>spam</td>\n",
       "      <td>Subject: important online banking alert\\r\\ndea...</td>\n",
       "      <td>1</td>\n",
       "    </tr>\n",
       "  </tbody>\n",
       "</table>\n",
       "<p>5171 rows × 4 columns</p>\n",
       "</div>"
      ],
      "text/plain": [
       "      Unnamed: 0 label                                               text  \\\n",
       "0            605   ham  Subject: enron methanol ; meter # : 988291\\r\\n...   \n",
       "1           2349   ham  Subject: hpl nom for january 9 , 2001\\r\\n( see...   \n",
       "2           3624   ham  Subject: neon retreat\\r\\nho ho ho , we ' re ar...   \n",
       "3           4685  spam  Subject: photoshop , windows , office . cheap ...   \n",
       "4           2030   ham  Subject: re : indian springs\\r\\nthis deal is t...   \n",
       "...          ...   ...                                                ...   \n",
       "5166        1518   ham  Subject: put the 10 on the ft\\r\\nthe transport...   \n",
       "5167         404   ham  Subject: 3 / 4 / 2000 and following noms\\r\\nhp...   \n",
       "5168        2933   ham  Subject: calpine daily gas nomination\\r\\n>\\r\\n...   \n",
       "5169        1409   ham  Subject: industrial worksheets for august 2000...   \n",
       "5170        4807  spam  Subject: important online banking alert\\r\\ndea...   \n",
       "\n",
       "      label_num  \n",
       "0             0  \n",
       "1             0  \n",
       "2             0  \n",
       "3             1  \n",
       "4             0  \n",
       "...         ...  \n",
       "5166          0  \n",
       "5167          0  \n",
       "5168          0  \n",
       "5169          0  \n",
       "5170          1  \n",
       "\n",
       "[5171 rows x 4 columns]"
      ]
     },
     "execution_count": 75,
     "metadata": {},
     "output_type": "execute_result"
    }
   ],
   "source": [
    "df2"
   ]
  },
  {
   "cell_type": "code",
   "execution_count": 79,
   "id": "54fb1423",
   "metadata": {},
   "outputs": [
    {
     "data": {
      "text/plain": [
       "(5171, 4)"
      ]
     },
     "execution_count": 79,
     "metadata": {},
     "output_type": "execute_result"
    }
   ],
   "source": [
    "df2.shape"
   ]
  },
  {
   "cell_type": "code",
   "execution_count": 80,
   "id": "441328f6",
   "metadata": {},
   "outputs": [],
   "source": [
    "def clean(x):\n",
    "    s = re.sub('<*?>',' ', x) #removes all html tags\n",
    "    \n",
    "    s = re.sub(\"wasn't\", 'was not',s) #removes wasn't to was not\n",
    "    s = re.sub(\"don't\", 'do not',s)\n",
    "    s = re.sub(\"din't\", 'did not',s)\n",
    "    s = re.sub(\"wouldn't\", 'would not',s)\n",
    "    s = re.sub(\"won't\", 'will not',s)\n",
    "    s = re.sub(\"isn't\", 'is not',s)\n",
    "    s = re.sub(\"needn't\", 'need not',s)\n",
    "    s = re.sub(\"hasn't\", 'has not',s)\n",
    "    s = re.sub(\"shan't\",'shall not',s)\n",
    "    \n",
    "    s = re.sub('[^A-Za-z]',' ',s) #removes everything else except for a to z and A to Z\n",
    "    s = re.sub('\\s+',' ',s) #removes more than one spaces\n",
    "    s = s.strip() #removes spaces from the beginning and ending of the sentences\n",
    "    return s.lower()"
   ]
  },
  {
   "cell_type": "code",
   "execution_count": 82,
   "id": "6efdce19",
   "metadata": {},
   "outputs": [],
   "source": [
    "df2['text'] = df.text.apply(clean)"
   ]
  },
  {
   "cell_type": "code",
   "execution_count": 83,
   "id": "0655196a",
   "metadata": {},
   "outputs": [
    {
     "data": {
      "text/html": [
       "<div>\n",
       "<style scoped>\n",
       "    .dataframe tbody tr th:only-of-type {\n",
       "        vertical-align: middle;\n",
       "    }\n",
       "\n",
       "    .dataframe tbody tr th {\n",
       "        vertical-align: top;\n",
       "    }\n",
       "\n",
       "    .dataframe thead th {\n",
       "        text-align: right;\n",
       "    }\n",
       "</style>\n",
       "<table border=\"1\" class=\"dataframe\">\n",
       "  <thead>\n",
       "    <tr style=\"text-align: right;\">\n",
       "      <th></th>\n",
       "      <th>Unnamed: 0</th>\n",
       "      <th>label</th>\n",
       "      <th>text</th>\n",
       "      <th>label_num</th>\n",
       "    </tr>\n",
       "  </thead>\n",
       "  <tbody>\n",
       "    <tr>\n",
       "      <th>0</th>\n",
       "      <td>605</td>\n",
       "      <td>ham</td>\n",
       "      <td>subject enron methanol meter this is a follow ...</td>\n",
       "      <td>0</td>\n",
       "    </tr>\n",
       "    <tr>\n",
       "      <th>1</th>\n",
       "      <td>2349</td>\n",
       "      <td>ham</td>\n",
       "      <td>subject hpl nom for january see attached file ...</td>\n",
       "      <td>0</td>\n",
       "    </tr>\n",
       "    <tr>\n",
       "      <th>2</th>\n",
       "      <td>3624</td>\n",
       "      <td>ham</td>\n",
       "      <td>subject neon retreat ho ho ho we re around to ...</td>\n",
       "      <td>0</td>\n",
       "    </tr>\n",
       "    <tr>\n",
       "      <th>3</th>\n",
       "      <td>4685</td>\n",
       "      <td>spam</td>\n",
       "      <td>subject photoshop windows office cheap main tr...</td>\n",
       "      <td>1</td>\n",
       "    </tr>\n",
       "    <tr>\n",
       "      <th>4</th>\n",
       "      <td>2030</td>\n",
       "      <td>ham</td>\n",
       "      <td>subject re indian springs this deal is to book...</td>\n",
       "      <td>0</td>\n",
       "    </tr>\n",
       "    <tr>\n",
       "      <th>...</th>\n",
       "      <td>...</td>\n",
       "      <td>...</td>\n",
       "      <td>...</td>\n",
       "      <td>...</td>\n",
       "    </tr>\n",
       "    <tr>\n",
       "      <th>5166</th>\n",
       "      <td>1518</td>\n",
       "      <td>ham</td>\n",
       "      <td>subject put the on the ft the transport volume...</td>\n",
       "      <td>0</td>\n",
       "    </tr>\n",
       "    <tr>\n",
       "      <th>5167</th>\n",
       "      <td>404</td>\n",
       "      <td>ham</td>\n",
       "      <td>subject and following noms hpl can t take the ...</td>\n",
       "      <td>0</td>\n",
       "    </tr>\n",
       "    <tr>\n",
       "      <th>5168</th>\n",
       "      <td>2933</td>\n",
       "      <td>ham</td>\n",
       "      <td>subject calpine daily gas nomination julie as ...</td>\n",
       "      <td>0</td>\n",
       "    </tr>\n",
       "    <tr>\n",
       "      <th>5169</th>\n",
       "      <td>1409</td>\n",
       "      <td>ham</td>\n",
       "      <td>subject industrial worksheets for august activ...</td>\n",
       "      <td>0</td>\n",
       "    </tr>\n",
       "    <tr>\n",
       "      <th>5170</th>\n",
       "      <td>4807</td>\n",
       "      <td>spam</td>\n",
       "      <td>subject important online banking alert dear va...</td>\n",
       "      <td>1</td>\n",
       "    </tr>\n",
       "  </tbody>\n",
       "</table>\n",
       "<p>5171 rows × 4 columns</p>\n",
       "</div>"
      ],
      "text/plain": [
       "      Unnamed: 0 label                                               text  \\\n",
       "0            605   ham  subject enron methanol meter this is a follow ...   \n",
       "1           2349   ham  subject hpl nom for january see attached file ...   \n",
       "2           3624   ham  subject neon retreat ho ho ho we re around to ...   \n",
       "3           4685  spam  subject photoshop windows office cheap main tr...   \n",
       "4           2030   ham  subject re indian springs this deal is to book...   \n",
       "...          ...   ...                                                ...   \n",
       "5166        1518   ham  subject put the on the ft the transport volume...   \n",
       "5167         404   ham  subject and following noms hpl can t take the ...   \n",
       "5168        2933   ham  subject calpine daily gas nomination julie as ...   \n",
       "5169        1409   ham  subject industrial worksheets for august activ...   \n",
       "5170        4807  spam  subject important online banking alert dear va...   \n",
       "\n",
       "      label_num  \n",
       "0             0  \n",
       "1             0  \n",
       "2             0  \n",
       "3             1  \n",
       "4             0  \n",
       "...         ...  \n",
       "5166          0  \n",
       "5167          0  \n",
       "5168          0  \n",
       "5169          0  \n",
       "5170          1  \n",
       "\n",
       "[5171 rows x 4 columns]"
      ]
     },
     "execution_count": 83,
     "metadata": {},
     "output_type": "execute_result"
    }
   ],
   "source": [
    "df2"
   ]
  },
  {
   "cell_type": "code",
   "execution_count": 85,
   "id": "aca982dc",
   "metadata": {},
   "outputs": [],
   "source": [
    "x = df2.text.values"
   ]
  },
  {
   "cell_type": "code",
   "execution_count": 86,
   "id": "6d38e946",
   "metadata": {},
   "outputs": [
    {
     "data": {
      "text/plain": [
       "(5171,)"
      ]
     },
     "execution_count": 86,
     "metadata": {},
     "output_type": "execute_result"
    }
   ],
   "source": [
    "x.shape"
   ]
  },
  {
   "cell_type": "code",
   "execution_count": 87,
   "id": "776debab",
   "metadata": {},
   "outputs": [
    {
     "data": {
      "text/plain": [
       "1"
      ]
     },
     "execution_count": 87,
     "metadata": {},
     "output_type": "execute_result"
    }
   ],
   "source": [
    "x.ndim"
   ]
  },
  {
   "cell_type": "code",
   "execution_count": 90,
   "id": "a73ac4b8",
   "metadata": {},
   "outputs": [],
   "source": [
    "y = df2.label_num.values"
   ]
  },
  {
   "cell_type": "code",
   "execution_count": 91,
   "id": "3b60b625",
   "metadata": {},
   "outputs": [
    {
     "data": {
      "text/plain": [
       "(5171,)"
      ]
     },
     "execution_count": 91,
     "metadata": {},
     "output_type": "execute_result"
    }
   ],
   "source": [
    "y.shape"
   ]
  },
  {
   "cell_type": "code",
   "execution_count": 92,
   "id": "c7546bd4",
   "metadata": {},
   "outputs": [
    {
     "data": {
      "text/plain": [
       "1"
      ]
     },
     "execution_count": 92,
     "metadata": {},
     "output_type": "execute_result"
    }
   ],
   "source": [
    "y.ndim"
   ]
  },
  {
   "cell_type": "markdown",
   "id": "df7eba7c",
   "metadata": {},
   "source": [
    "# Split data"
   ]
  },
  {
   "cell_type": "code",
   "execution_count": 93,
   "id": "0c055b83",
   "metadata": {},
   "outputs": [],
   "source": [
    "from sklearn.model_selection import train_test_split"
   ]
  },
  {
   "cell_type": "code",
   "execution_count": 94,
   "id": "0f71eed8",
   "metadata": {},
   "outputs": [],
   "source": [
    "xtrain,xtest,ytrain,ytest = train_test_split(x,y,test_size = 0.20,random_state=12)"
   ]
  },
  {
   "cell_type": "code",
   "execution_count": 95,
   "id": "b3129a68",
   "metadata": {},
   "outputs": [
    {
     "name": "stderr",
     "output_type": "stream",
     "text": [
      "[nltk_data] Downloading package stopwords to\n",
      "[nltk_data]     /home/Machine_learning/nltk_data...\n",
      "[nltk_data]   Package stopwords is already up-to-date!\n"
     ]
    }
   ],
   "source": [
    "from sklearn.feature_extraction.text import CountVectorizer\n",
    "import nltk\n",
    "nltk.download('stopwords') #Run this command to download and install Stopwords from natural language processor\n",
    "from nltk.corpus import stopwords"
   ]
  },
  {
   "cell_type": "code",
   "execution_count": 96,
   "id": "87be45c2",
   "metadata": {},
   "outputs": [],
   "source": [
    "words = stopwords.words('english')"
   ]
  },
  {
   "cell_type": "code",
   "execution_count": 97,
   "id": "2ca74b29",
   "metadata": {},
   "outputs": [
    {
     "name": "stdout",
     "output_type": "stream",
     "text": [
      "i,me,my,myself,we,our,ours,ourselves,you,you're,you've,you'll,you'd,your,yours,yourself,yourselves,he,him,his,himself,she,she's,her,hers,herself,it,it's,its,itself,they,them,their,theirs,themselves,what,which,who,whom,this,that,that'll,these,those,am,is,are,was,were,be,been,being,have,has,had,having,do,does,did,doing,a,an,the,and,but,if,or,because,as,until,while,of,at,by,for,with,about,against,between,into,through,during,before,after,above,below,to,from,up,down,in,out,on,off,over,under,again,further,then,once,here,there,when,where,why,how,all,any,both,each,few,more,most,other,some,such,no,nor,not,only,own,same,so,than,too,very,s,t,can,will,just,don,don't,should,should've,now,d,ll,m,o,re,ve,y,ain,aren,aren't,couldn,couldn't,didn,didn't,doesn,doesn't,hadn,hadn't,hasn,hasn't,haven,haven't,isn,isn't,ma,mightn,mightn't,mustn,mustn't,needn,needn't,shan,shan't,shouldn,shouldn't,wasn,wasn't,weren,weren't,won,won't,wouldn,wouldn't,"
     ]
    }
   ],
   "source": [
    "# getting stopwords from nltk \n",
    "for i in list(words):\n",
    "    print(i,end=',')"
   ]
  },
  {
   "cell_type": "code",
   "execution_count": 98,
   "id": "2963a982",
   "metadata": {},
   "outputs": [
    {
     "name": "stdout",
     "output_type": "stream",
     "text": [
      "no is present\n",
      "not is present\n",
      "don't is present\n",
      "wouldn't is present\n",
      "won't is present\n",
      "wasn't is present\n",
      "isn't is present\n",
      "needn't is present\n",
      "hasn't is present\n"
     ]
    }
   ],
   "source": [
    "#checking if now, no, don't , do not , not are present or not\n",
    "if 'no' in words:\n",
    "    print(\"no is present\")\n",
    "if 'not' in words:\n",
    "    print(\"not is present\")\n",
    "if 'never' in words:\n",
    "    print(\"never is present\")\n",
    "if \"don't\" in words:\n",
    "    print(\"don't is present\")\n",
    "if 'do not' in words:\n",
    "    print(\"do not is present\")\n",
    "if \"din't\" in words:\n",
    "    print(\"din't is present\")\n",
    "if 'did not' in words:\n",
    "    print(\"did not is present\")\n",
    "if \"wouldn't\" in words:\n",
    "    print(\"wouldn't is present\")\n",
    "if 'would not' in words:\n",
    "    print(\"would not is present\")\n",
    "if 'will not' in words:\n",
    "    print(\"will not is present\")\n",
    "if \"won't\" in words:\n",
    "    print(\"won't is present\")\n",
    "if \"wasn't\" in words:\n",
    "    print(\"wasn't is present\")\n",
    "if \"isn't\" in words:\n",
    "    print(\"isn't is present\")\n",
    "if \"needn't\" in words:\n",
    "    print(\"needn't is present\")\n",
    "if \"hasn't\" in words:\n",
    "    print(\"hasn't is present\")"
   ]
  },
  {
   "cell_type": "code",
   "execution_count": 99,
   "id": "c5823817",
   "metadata": {},
   "outputs": [],
   "source": [
    "#Removinf all the negative words from the \"words\" variable\n",
    "negative_words = ['no','not','never', \"don't\", \"do not\", \"din't\", \"did not\", \"wouldn't\", \"would not\"]\n",
    "if 'no' in words:\n",
    "    words.remove(\"no\")\n",
    "if 'not' in words:\n",
    "    words.remove(\"not\")\n",
    "if 'never' in words:\n",
    "    words.remove(\"never\")\n",
    "if \"don't\" in words:\n",
    "    words.remove(\"don't\")\n",
    "if 'do not' in words:\n",
    "    words.remove(\"do not\")\n",
    "if \"din't\" in words:\n",
    "    words.remove(\"din't\")\n",
    "if 'did not' in words:\n",
    "    words.remove(\"did not\")\n",
    "if \"wouldn't\" in words:\n",
    "    words.remove(\"wouldn't\")\n",
    "if 'would not' in words:\n",
    "    words.remove(\"would not\")\n",
    "if 'will not' in words:\n",
    "    words.remove(\"will not\")\n",
    "if \"won't\" in words:\n",
    "    words.remove(\"won't\")\n",
    "if \"wasn't\" in words:\n",
    "    words.remove(\"wasn't\")\n",
    "if \"isn't\" in words:\n",
    "    words.remove(\"isn't\")\n",
    "if \"needn't\" in words:\n",
    "    words.remove(\"needn't\")\n",
    "if \"hasn't\" in words:\n",
    "    words.remove(\"hasn't\")"
   ]
  },
  {
   "cell_type": "code",
   "execution_count": 100,
   "id": "bb304dd0",
   "metadata": {},
   "outputs": [
    {
     "name": "stdout",
     "output_type": "stream",
     "text": [
      "no negative words are present\n"
     ]
    }
   ],
   "source": [
    "#again rechecking if negative words are present or not \n",
    "negative_words = ['no','not','never', \"don't\", \"do not\", \"din't\", \"did not\", \"wouldn't\", \"would not\"]\n",
    "if 'no' in words:\n",
    "    print(\"no is present\")\n",
    "if 'not' in words:\n",
    "    print(\"not is present\")\n",
    "if 'never' in words:\n",
    "    print(\"never is present\")\n",
    "if \"don't\" in words:\n",
    "    print(\"don't is present\")\n",
    "if 'do not' in words:\n",
    "    print(\"do not is present\")\n",
    "if \"din't\" in words:\n",
    "    print(\"din't is present\")\n",
    "if 'did not' in words:\n",
    "    print(\"did not is present\")\n",
    "if \"wouldn't\" in words:\n",
    "    print(\"wouldn't is present\")\n",
    "if 'would not' in words:\n",
    "    print(\"would not is present\")\n",
    "if 'will not' in words:\n",
    "    print(\"will not is present\")\n",
    "if \"won't\" in words:\n",
    "    print(\"won't is present\")\n",
    "if \"wasn't\" in words:\n",
    "    print(\"wasn't is present\")\n",
    "if \"isn't\" in words:\n",
    "    print(\"isn't is present\")\n",
    "if \"needn't\" in words:\n",
    "    print(\"needn't is present\")\n",
    "if \"hasn't\" in words:\n",
    "    print(\"hasn't is present\")\n",
    "else:\n",
    "    print(\"no negative words are present\")"
   ]
  },
  {
   "cell_type": "code",
   "execution_count": 101,
   "id": "9487d6de",
   "metadata": {},
   "outputs": [],
   "source": [
    "count_vectorizer = CountVectorizer(stop_words=words) #initialization"
   ]
  },
  {
   "cell_type": "code",
   "execution_count": 129,
   "id": "38474f22",
   "metadata": {},
   "outputs": [],
   "source": [
    "cv_train = count_vectorizer.fit_transform(xtrain)\n",
    "cv_test = count_vectorizer.transform(xtest)"
   ]
  },
  {
   "cell_type": "code",
   "execution_count": 130,
   "id": "97749696",
   "metadata": {},
   "outputs": [
    {
     "data": {
      "text/plain": [
       "(4136, 39211)"
      ]
     },
     "execution_count": 130,
     "metadata": {},
     "output_type": "execute_result"
    }
   ],
   "source": [
    "cv_train.shape"
   ]
  },
  {
   "cell_type": "code",
   "execution_count": 131,
   "id": "cadca096",
   "metadata": {},
   "outputs": [
    {
     "data": {
      "text/plain": [
       "2"
      ]
     },
     "execution_count": 131,
     "metadata": {},
     "output_type": "execute_result"
    }
   ],
   "source": [
    "cv_train.ndim"
   ]
  },
  {
   "cell_type": "code",
   "execution_count": 132,
   "id": "78918398",
   "metadata": {},
   "outputs": [
    {
     "data": {
      "text/plain": [
       "(1035, 39211)"
      ]
     },
     "execution_count": 132,
     "metadata": {},
     "output_type": "execute_result"
    }
   ],
   "source": [
    "cv_test.shape"
   ]
  },
  {
   "cell_type": "code",
   "execution_count": 133,
   "id": "d283b1f0",
   "metadata": {},
   "outputs": [
    {
     "data": {
      "text/plain": [
       "2"
      ]
     },
     "execution_count": 133,
     "metadata": {},
     "output_type": "execute_result"
    }
   ],
   "source": [
    "cv_test.ndim"
   ]
  },
  {
   "cell_type": "markdown",
   "id": "e1e7bbb2",
   "metadata": {},
   "source": [
    "## Now we can apply Naive Bayes Algotitem Machine Learning model"
   ]
  },
  {
   "cell_type": "code",
   "execution_count": 134,
   "id": "2fb99cf0",
   "metadata": {},
   "outputs": [],
   "source": [
    "from sklearn.naive_bayes import MultinomialNB"
   ]
  },
  {
   "cell_type": "code",
   "execution_count": 135,
   "id": "ea230683",
   "metadata": {},
   "outputs": [],
   "source": [
    "nb = MultinomialNB() #initialization"
   ]
  },
  {
   "cell_type": "code",
   "execution_count": 136,
   "id": "ad2ada1f",
   "metadata": {},
   "outputs": [
    {
     "data": {
      "text/plain": [
       "MultinomialNB()"
      ]
     },
     "execution_count": 136,
     "metadata": {},
     "output_type": "execute_result"
    }
   ],
   "source": [
    "nb.fit(cv_train,ytrain)"
   ]
  },
  {
   "cell_type": "code",
   "execution_count": 137,
   "id": "4e569e00",
   "metadata": {},
   "outputs": [],
   "source": [
    "test_score = nb.score(cv_test,ytest)"
   ]
  },
  {
   "cell_type": "code",
   "execution_count": 138,
   "id": "c25248a1",
   "metadata": {},
   "outputs": [
    {
     "name": "stdout",
     "output_type": "stream",
     "text": [
      "0.9748792270531401\n"
     ]
    }
   ],
   "source": [
    "print(test_score)"
   ]
  },
  {
   "cell_type": "code",
   "execution_count": 140,
   "id": "0aae491c",
   "metadata": {},
   "outputs": [
    {
     "data": {
      "text/plain": [
       "array([0, 0, 0, ..., 0, 1, 0])"
      ]
     },
     "execution_count": 140,
     "metadata": {},
     "output_type": "execute_result"
    }
   ],
   "source": [
    "nb.predict(cv_test)"
   ]
  },
  {
   "cell_type": "code",
   "execution_count": 144,
   "id": "bb981687",
   "metadata": {},
   "outputs": [],
   "source": [
    "test = [\"Congractulations you have won $1000 please click here to visit our website to claim rewards\", \n",
    "        \"Hey man when are you going to arrive\", \n",
    "        \"Call me when you are free...It's urgent\", \n",
    "        \"It was a good meal...Thankyou. I hope we can go out again sometimes\",\n",
    "       \"Your account is at risk!!!!...please contact admin for more information\", \n",
    "        \"Did you know that you can save a ton of money by downloading this application....click here to know more\",\n",
    "       \"Thanks man you'r a life saver ....Thank you so much\", \n",
    "        \"Are you sufferring from diebaties...Try this 5 ways to control your blood sugar level\",\n",
    "       \"Dude are you free ....Can I call you now\",\n",
    "       \"Your IRS tax refund is pending must accept within 24 hours\",\n",
    "       \"Your mobile recharge will end soon please recharge you mobile to continue services\",\n",
    "       \"Hey mom I will reach home by tommorow 10 AM\"]\n",
    "clean_data = []\n",
    "for k in test:\n",
    "    clean_data.append(clean(k))"
   ]
  },
  {
   "cell_type": "code",
   "execution_count": 145,
   "id": "7995943a",
   "metadata": {},
   "outputs": [],
   "source": [
    "cv_test1 = count_vectorizer.transform(clean_data)"
   ]
  },
  {
   "cell_type": "code",
   "execution_count": 146,
   "id": "4690180d",
   "metadata": {},
   "outputs": [
    {
     "data": {
      "text/plain": [
       "array([1, 0, 0, 0, 0, 1, 1, 1, 0, 1, 1, 1])"
      ]
     },
     "execution_count": 146,
     "metadata": {},
     "output_type": "execute_result"
    }
   ],
   "source": [
    "nb.predict(cv_test1) # 0 means ham review and 1 means spam review"
   ]
  },
  {
   "cell_type": "code",
   "execution_count": null,
   "id": "1b26a57c",
   "metadata": {},
   "outputs": [],
   "source": [
    "# \"Thanks man you'r a life saver ....Thank you so much\" should be 0 but it's giving 1\n",
    "# \" Your account is at risk!!!!...please contact admin for more information\" should be 1 but it's giving 0\n",
    "# \"Hey mom I will reach home by tommorow 10 AM\" should be 0 but it's giving 1"
   ]
  },
  {
   "cell_type": "markdown",
   "id": "88b63e11",
   "metadata": {},
   "source": [
    "## Example 3"
   ]
  },
  {
   "cell_type": "markdown",
   "id": "9b888986",
   "metadata": {},
   "source": [
    "## Now applying Naive Bayes algorithm on Movie reviews"
   ]
  },
  {
   "cell_type": "code",
   "execution_count": 158,
   "id": "c2469100",
   "metadata": {},
   "outputs": [],
   "source": [
    "#IMDB_Dataset.csv\n",
    "df3 = pd.read_csv('IMDB_Dataset.csv', sep=',') # define seprator as ,"
   ]
  },
  {
   "cell_type": "code",
   "execution_count": 159,
   "id": "98a5e893",
   "metadata": {},
   "outputs": [
    {
     "data": {
      "text/html": [
       "<div>\n",
       "<style scoped>\n",
       "    .dataframe tbody tr th:only-of-type {\n",
       "        vertical-align: middle;\n",
       "    }\n",
       "\n",
       "    .dataframe tbody tr th {\n",
       "        vertical-align: top;\n",
       "    }\n",
       "\n",
       "    .dataframe thead th {\n",
       "        text-align: right;\n",
       "    }\n",
       "</style>\n",
       "<table border=\"1\" class=\"dataframe\">\n",
       "  <thead>\n",
       "    <tr style=\"text-align: right;\">\n",
       "      <th></th>\n",
       "      <th>review</th>\n",
       "      <th>sentiment</th>\n",
       "    </tr>\n",
       "  </thead>\n",
       "  <tbody>\n",
       "    <tr>\n",
       "      <th>0</th>\n",
       "      <td>One of the other reviewers has mentioned that ...</td>\n",
       "      <td>positive</td>\n",
       "    </tr>\n",
       "    <tr>\n",
       "      <th>1</th>\n",
       "      <td>A wonderful little production. &lt;br /&gt;&lt;br /&gt;The...</td>\n",
       "      <td>positive</td>\n",
       "    </tr>\n",
       "    <tr>\n",
       "      <th>2</th>\n",
       "      <td>I thought this was a wonderful way to spend ti...</td>\n",
       "      <td>positive</td>\n",
       "    </tr>\n",
       "    <tr>\n",
       "      <th>3</th>\n",
       "      <td>Basically there's a family where a little boy ...</td>\n",
       "      <td>negative</td>\n",
       "    </tr>\n",
       "    <tr>\n",
       "      <th>4</th>\n",
       "      <td>Petter Mattei's \"Love in the Time of Money\" is...</td>\n",
       "      <td>positive</td>\n",
       "    </tr>\n",
       "    <tr>\n",
       "      <th>...</th>\n",
       "      <td>...</td>\n",
       "      <td>...</td>\n",
       "    </tr>\n",
       "    <tr>\n",
       "      <th>49995</th>\n",
       "      <td>I thought this movie did a down right good job...</td>\n",
       "      <td>positive</td>\n",
       "    </tr>\n",
       "    <tr>\n",
       "      <th>49996</th>\n",
       "      <td>Bad plot, bad dialogue, bad acting, idiotic di...</td>\n",
       "      <td>negative</td>\n",
       "    </tr>\n",
       "    <tr>\n",
       "      <th>49997</th>\n",
       "      <td>I am a Catholic taught in parochial elementary...</td>\n",
       "      <td>negative</td>\n",
       "    </tr>\n",
       "    <tr>\n",
       "      <th>49998</th>\n",
       "      <td>I'm going to have to disagree with the previou...</td>\n",
       "      <td>negative</td>\n",
       "    </tr>\n",
       "    <tr>\n",
       "      <th>49999</th>\n",
       "      <td>No one expects the Star Trek movies to be high...</td>\n",
       "      <td>negative</td>\n",
       "    </tr>\n",
       "  </tbody>\n",
       "</table>\n",
       "<p>50000 rows × 2 columns</p>\n",
       "</div>"
      ],
      "text/plain": [
       "                                                  review sentiment\n",
       "0      One of the other reviewers has mentioned that ...  positive\n",
       "1      A wonderful little production. <br /><br />The...  positive\n",
       "2      I thought this was a wonderful way to spend ti...  positive\n",
       "3      Basically there's a family where a little boy ...  negative\n",
       "4      Petter Mattei's \"Love in the Time of Money\" is...  positive\n",
       "...                                                  ...       ...\n",
       "49995  I thought this movie did a down right good job...  positive\n",
       "49996  Bad plot, bad dialogue, bad acting, idiotic di...  negative\n",
       "49997  I am a Catholic taught in parochial elementary...  negative\n",
       "49998  I'm going to have to disagree with the previou...  negative\n",
       "49999  No one expects the Star Trek movies to be high...  negative\n",
       "\n",
       "[50000 rows x 2 columns]"
      ]
     },
     "execution_count": 159,
     "metadata": {},
     "output_type": "execute_result"
    }
   ],
   "source": [
    "df3"
   ]
  },
  {
   "cell_type": "code",
   "execution_count": 160,
   "id": "1d04789c",
   "metadata": {},
   "outputs": [],
   "source": [
    "#Replacing positive and negative with 1's and 0's\n",
    "df3['sentiment'] = df3.sentiment.map({'positive':1,'negative':0})"
   ]
  },
  {
   "cell_type": "code",
   "execution_count": 161,
   "id": "967ae5ff",
   "metadata": {},
   "outputs": [
    {
     "data": {
      "text/html": [
       "<div>\n",
       "<style scoped>\n",
       "    .dataframe tbody tr th:only-of-type {\n",
       "        vertical-align: middle;\n",
       "    }\n",
       "\n",
       "    .dataframe tbody tr th {\n",
       "        vertical-align: top;\n",
       "    }\n",
       "\n",
       "    .dataframe thead th {\n",
       "        text-align: right;\n",
       "    }\n",
       "</style>\n",
       "<table border=\"1\" class=\"dataframe\">\n",
       "  <thead>\n",
       "    <tr style=\"text-align: right;\">\n",
       "      <th></th>\n",
       "      <th>review</th>\n",
       "      <th>sentiment</th>\n",
       "    </tr>\n",
       "  </thead>\n",
       "  <tbody>\n",
       "    <tr>\n",
       "      <th>0</th>\n",
       "      <td>One of the other reviewers has mentioned that ...</td>\n",
       "      <td>1</td>\n",
       "    </tr>\n",
       "    <tr>\n",
       "      <th>1</th>\n",
       "      <td>A wonderful little production. &lt;br /&gt;&lt;br /&gt;The...</td>\n",
       "      <td>1</td>\n",
       "    </tr>\n",
       "    <tr>\n",
       "      <th>2</th>\n",
       "      <td>I thought this was a wonderful way to spend ti...</td>\n",
       "      <td>1</td>\n",
       "    </tr>\n",
       "    <tr>\n",
       "      <th>3</th>\n",
       "      <td>Basically there's a family where a little boy ...</td>\n",
       "      <td>0</td>\n",
       "    </tr>\n",
       "    <tr>\n",
       "      <th>4</th>\n",
       "      <td>Petter Mattei's \"Love in the Time of Money\" is...</td>\n",
       "      <td>1</td>\n",
       "    </tr>\n",
       "    <tr>\n",
       "      <th>...</th>\n",
       "      <td>...</td>\n",
       "      <td>...</td>\n",
       "    </tr>\n",
       "    <tr>\n",
       "      <th>49995</th>\n",
       "      <td>I thought this movie did a down right good job...</td>\n",
       "      <td>1</td>\n",
       "    </tr>\n",
       "    <tr>\n",
       "      <th>49996</th>\n",
       "      <td>Bad plot, bad dialogue, bad acting, idiotic di...</td>\n",
       "      <td>0</td>\n",
       "    </tr>\n",
       "    <tr>\n",
       "      <th>49997</th>\n",
       "      <td>I am a Catholic taught in parochial elementary...</td>\n",
       "      <td>0</td>\n",
       "    </tr>\n",
       "    <tr>\n",
       "      <th>49998</th>\n",
       "      <td>I'm going to have to disagree with the previou...</td>\n",
       "      <td>0</td>\n",
       "    </tr>\n",
       "    <tr>\n",
       "      <th>49999</th>\n",
       "      <td>No one expects the Star Trek movies to be high...</td>\n",
       "      <td>0</td>\n",
       "    </tr>\n",
       "  </tbody>\n",
       "</table>\n",
       "<p>50000 rows × 2 columns</p>\n",
       "</div>"
      ],
      "text/plain": [
       "                                                  review  sentiment\n",
       "0      One of the other reviewers has mentioned that ...          1\n",
       "1      A wonderful little production. <br /><br />The...          1\n",
       "2      I thought this was a wonderful way to spend ti...          1\n",
       "3      Basically there's a family where a little boy ...          0\n",
       "4      Petter Mattei's \"Love in the Time of Money\" is...          1\n",
       "...                                                  ...        ...\n",
       "49995  I thought this movie did a down right good job...          1\n",
       "49996  Bad plot, bad dialogue, bad acting, idiotic di...          0\n",
       "49997  I am a Catholic taught in parochial elementary...          0\n",
       "49998  I'm going to have to disagree with the previou...          0\n",
       "49999  No one expects the Star Trek movies to be high...          0\n",
       "\n",
       "[50000 rows x 2 columns]"
      ]
     },
     "execution_count": 161,
     "metadata": {},
     "output_type": "execute_result"
    }
   ],
   "source": [
    "df3"
   ]
  },
  {
   "cell_type": "code",
   "execution_count": 162,
   "id": "b51d0d76",
   "metadata": {},
   "outputs": [],
   "source": [
    "def clean(x):\n",
    "    s = re.sub('<*?>',' ', x) #removes all html tags\n",
    "    \n",
    "    s = re.sub(\"wasn't\", 'was not',s) #removes wasn't to was not\n",
    "    s = re.sub(\"don't\", 'do not',s)\n",
    "    s = re.sub(\"din't\", 'did not',s)\n",
    "    s = re.sub(\"wouldn't\", 'would not',s)\n",
    "    s = re.sub(\"won't\", 'will not',s)\n",
    "    s = re.sub(\"isn't\", 'is not',s)\n",
    "    s = re.sub(\"needn't\", 'need not',s)\n",
    "    s = re.sub(\"hasn't\", 'has not',s)\n",
    "    \n",
    "    s = re.sub('[^A-Za-z]',' ',s) #removes everything else except for a to z and A to Z\n",
    "    s = re.sub('\\s+',' ',s) #removes more than one spaces\n",
    "    s = s.strip() #removes spaces from the beginning and ending of the sentences\n",
    "    return s.lower()"
   ]
  },
  {
   "cell_type": "code",
   "execution_count": 163,
   "id": "62ceec2d",
   "metadata": {},
   "outputs": [],
   "source": [
    "df3['review'] = df3.review.apply(clean)"
   ]
  },
  {
   "cell_type": "code",
   "execution_count": 164,
   "id": "9aec3dfd",
   "metadata": {},
   "outputs": [
    {
     "data": {
      "text/html": [
       "<div>\n",
       "<style scoped>\n",
       "    .dataframe tbody tr th:only-of-type {\n",
       "        vertical-align: middle;\n",
       "    }\n",
       "\n",
       "    .dataframe tbody tr th {\n",
       "        vertical-align: top;\n",
       "    }\n",
       "\n",
       "    .dataframe thead th {\n",
       "        text-align: right;\n",
       "    }\n",
       "</style>\n",
       "<table border=\"1\" class=\"dataframe\">\n",
       "  <thead>\n",
       "    <tr style=\"text-align: right;\">\n",
       "      <th></th>\n",
       "      <th>review</th>\n",
       "      <th>sentiment</th>\n",
       "    </tr>\n",
       "  </thead>\n",
       "  <tbody>\n",
       "    <tr>\n",
       "      <th>0</th>\n",
       "      <td>one of the other reviewers has mentioned that ...</td>\n",
       "      <td>1</td>\n",
       "    </tr>\n",
       "    <tr>\n",
       "      <th>1</th>\n",
       "      <td>a wonderful little production br br the filmin...</td>\n",
       "      <td>1</td>\n",
       "    </tr>\n",
       "    <tr>\n",
       "      <th>2</th>\n",
       "      <td>i thought this was a wonderful way to spend ti...</td>\n",
       "      <td>1</td>\n",
       "    </tr>\n",
       "    <tr>\n",
       "      <th>3</th>\n",
       "      <td>basically there s a family where a little boy ...</td>\n",
       "      <td>0</td>\n",
       "    </tr>\n",
       "    <tr>\n",
       "      <th>4</th>\n",
       "      <td>petter mattei s love in the time of money is a...</td>\n",
       "      <td>1</td>\n",
       "    </tr>\n",
       "    <tr>\n",
       "      <th>...</th>\n",
       "      <td>...</td>\n",
       "      <td>...</td>\n",
       "    </tr>\n",
       "    <tr>\n",
       "      <th>49995</th>\n",
       "      <td>i thought this movie did a down right good job...</td>\n",
       "      <td>1</td>\n",
       "    </tr>\n",
       "    <tr>\n",
       "      <th>49996</th>\n",
       "      <td>bad plot bad dialogue bad acting idiotic direc...</td>\n",
       "      <td>0</td>\n",
       "    </tr>\n",
       "    <tr>\n",
       "      <th>49997</th>\n",
       "      <td>i am a catholic taught in parochial elementary...</td>\n",
       "      <td>0</td>\n",
       "    </tr>\n",
       "    <tr>\n",
       "      <th>49998</th>\n",
       "      <td>i m going to have to disagree with the previou...</td>\n",
       "      <td>0</td>\n",
       "    </tr>\n",
       "    <tr>\n",
       "      <th>49999</th>\n",
       "      <td>no one expects the star trek movies to be high...</td>\n",
       "      <td>0</td>\n",
       "    </tr>\n",
       "  </tbody>\n",
       "</table>\n",
       "<p>50000 rows × 2 columns</p>\n",
       "</div>"
      ],
      "text/plain": [
       "                                                  review  sentiment\n",
       "0      one of the other reviewers has mentioned that ...          1\n",
       "1      a wonderful little production br br the filmin...          1\n",
       "2      i thought this was a wonderful way to spend ti...          1\n",
       "3      basically there s a family where a little boy ...          0\n",
       "4      petter mattei s love in the time of money is a...          1\n",
       "...                                                  ...        ...\n",
       "49995  i thought this movie did a down right good job...          1\n",
       "49996  bad plot bad dialogue bad acting idiotic direc...          0\n",
       "49997  i am a catholic taught in parochial elementary...          0\n",
       "49998  i m going to have to disagree with the previou...          0\n",
       "49999  no one expects the star trek movies to be high...          0\n",
       "\n",
       "[50000 rows x 2 columns]"
      ]
     },
     "execution_count": 164,
     "metadata": {},
     "output_type": "execute_result"
    }
   ],
   "source": [
    "df3"
   ]
  },
  {
   "cell_type": "code",
   "execution_count": 165,
   "id": "0da82eaa",
   "metadata": {},
   "outputs": [],
   "source": [
    "x = df3.review.values"
   ]
  },
  {
   "cell_type": "code",
   "execution_count": 166,
   "id": "90d3c100",
   "metadata": {},
   "outputs": [
    {
     "data": {
      "text/plain": [
       "(50000,)"
      ]
     },
     "execution_count": 166,
     "metadata": {},
     "output_type": "execute_result"
    }
   ],
   "source": [
    "x.shape"
   ]
  },
  {
   "cell_type": "code",
   "execution_count": 167,
   "id": "34165de6",
   "metadata": {},
   "outputs": [
    {
     "data": {
      "text/plain": [
       "1"
      ]
     },
     "execution_count": 167,
     "metadata": {},
     "output_type": "execute_result"
    }
   ],
   "source": [
    "x.ndim"
   ]
  },
  {
   "cell_type": "code",
   "execution_count": 168,
   "id": "5377303a",
   "metadata": {},
   "outputs": [],
   "source": [
    "y = df3.sentiment.values"
   ]
  },
  {
   "cell_type": "code",
   "execution_count": 169,
   "id": "8cb65d6f",
   "metadata": {},
   "outputs": [
    {
     "data": {
      "text/plain": [
       "(50000,)"
      ]
     },
     "execution_count": 169,
     "metadata": {},
     "output_type": "execute_result"
    }
   ],
   "source": [
    "y.shape"
   ]
  },
  {
   "cell_type": "code",
   "execution_count": 170,
   "id": "64c92255",
   "metadata": {},
   "outputs": [
    {
     "data": {
      "text/plain": [
       "1"
      ]
     },
     "execution_count": 170,
     "metadata": {},
     "output_type": "execute_result"
    }
   ],
   "source": [
    "y.ndim"
   ]
  },
  {
   "cell_type": "markdown",
   "id": "46de1691",
   "metadata": {},
   "source": [
    "## Split data"
   ]
  },
  {
   "cell_type": "code",
   "execution_count": 172,
   "id": "73fe3db7",
   "metadata": {},
   "outputs": [],
   "source": [
    "xtrain,xtest,ytrain,ytest = train_test_split(x,y,test_size = 0.20,random_state=12)"
   ]
  },
  {
   "cell_type": "markdown",
   "id": "d71445a8",
   "metadata": {},
   "source": [
    "## Now Apply CountVectorizer"
   ]
  },
  {
   "cell_type": "code",
   "execution_count": 173,
   "id": "c166df46",
   "metadata": {},
   "outputs": [],
   "source": [
    "words = stopwords.words('english')"
   ]
  },
  {
   "cell_type": "code",
   "execution_count": 174,
   "id": "dfaf989c",
   "metadata": {},
   "outputs": [
    {
     "name": "stdout",
     "output_type": "stream",
     "text": [
      "i,me,my,myself,we,our,ours,ourselves,you,you're,you've,you'll,you'd,your,yours,yourself,yourselves,he,him,his,himself,she,she's,her,hers,herself,it,it's,its,itself,they,them,their,theirs,themselves,what,which,who,whom,this,that,that'll,these,those,am,is,are,was,were,be,been,being,have,has,had,having,do,does,did,doing,a,an,the,and,but,if,or,because,as,until,while,of,at,by,for,with,about,against,between,into,through,during,before,after,above,below,to,from,up,down,in,out,on,off,over,under,again,further,then,once,here,there,when,where,why,how,all,any,both,each,few,more,most,other,some,such,no,nor,not,only,own,same,so,than,too,very,s,t,can,will,just,don,don't,should,should've,now,d,ll,m,o,re,ve,y,ain,aren,aren't,couldn,couldn't,didn,didn't,doesn,doesn't,hadn,hadn't,hasn,hasn't,haven,haven't,isn,isn't,ma,mightn,mightn't,mustn,mustn't,needn,needn't,shan,shan't,shouldn,shouldn't,wasn,wasn't,weren,weren't,won,won't,wouldn,wouldn't,"
     ]
    }
   ],
   "source": [
    "# getting stopwords from nltk \n",
    "for i in list(words):\n",
    "    print(i,end=',')"
   ]
  },
  {
   "cell_type": "code",
   "execution_count": 175,
   "id": "36bfc1e8",
   "metadata": {},
   "outputs": [
    {
     "name": "stdout",
     "output_type": "stream",
     "text": [
      "no is present\n",
      "not is present\n",
      "don't is present\n",
      "wouldn't is present\n",
      "won't is present\n",
      "wasn't is present\n",
      "isn't is present\n",
      "needn't is present\n",
      "hasn't is present\n"
     ]
    }
   ],
   "source": [
    "#checking if now, no, don't , do not , not are present or not\n",
    "if 'no' in words:\n",
    "    print(\"no is present\")\n",
    "if 'not' in words:\n",
    "    print(\"not is present\")\n",
    "if 'never' in words:\n",
    "    print(\"never is present\")\n",
    "if \"don't\" in words:\n",
    "    print(\"don't is present\")\n",
    "if 'do not' in words:\n",
    "    print(\"do not is present\")\n",
    "if \"din't\" in words:\n",
    "    print(\"din't is present\")\n",
    "if 'did not' in words:\n",
    "    print(\"did not is present\")\n",
    "if \"wouldn't\" in words:\n",
    "    print(\"wouldn't is present\")\n",
    "if 'would not' in words:\n",
    "    print(\"would not is present\")\n",
    "if 'will not' in words:\n",
    "    print(\"will not is present\")\n",
    "if \"won't\" in words:\n",
    "    print(\"won't is present\")\n",
    "if \"wasn't\" in words:\n",
    "    print(\"wasn't is present\")\n",
    "if \"isn't\" in words:\n",
    "    print(\"isn't is present\")\n",
    "if \"needn't\" in words:\n",
    "    print(\"needn't is present\")\n",
    "if \"hasn't\" in words:\n",
    "    print(\"hasn't is present\")"
   ]
  },
  {
   "cell_type": "markdown",
   "id": "9b43297c",
   "metadata": {},
   "source": [
    "## now we have to make sure that all the negative words are removed from 'words = stopwords.words('english')' before we feed it to 'count_vectorizer = CountVectorizer(stop_words=words)'"
   ]
  },
  {
   "cell_type": "code",
   "execution_count": 176,
   "id": "5771adf3",
   "metadata": {},
   "outputs": [],
   "source": [
    "#Removinf all the negative words from the \"words\" variable\n",
    "negative_words = ['no','not','never', \"don't\", \"do not\", \"din't\", \"did not\", \"wouldn't\", \"would not\"]\n",
    "if 'no' in words:\n",
    "    words.remove(\"no\")\n",
    "if 'not' in words:\n",
    "    words.remove(\"not\")\n",
    "if 'never' in words:\n",
    "    words.remove(\"never\")\n",
    "# if \"don't\" in words:\n",
    "#     words.remove(\"don't\")\n",
    "# if 'do not' in words:\n",
    "#     words.remove(\"do not\")\n",
    "# if \"din't\" in words:\n",
    "#     words.remove(\"din't\")\n",
    "# if 'did not' in words:\n",
    "#     words.remove(\"did not\")\n",
    "# if \"wouldn't\" in words:\n",
    "#     words.remove(\"wouldn't\")\n",
    "# if 'would not' in words:\n",
    "#     words.remove(\"would not\")\n",
    "# if 'will not' in words:\n",
    "#     words.remove(\"will not\")\n",
    "# if \"won't\" in words:\n",
    "#     words.remove(\"won't\")\n",
    "# if \"wasn't\" in words:\n",
    "#     words.remove(\"wasn't\")\n",
    "# if \"isn't\" in words:\n",
    "#     words.remove(\"isn't\")\n",
    "# if \"needn't\" in words:\n",
    "#     words.remove(\"needn't\")\n",
    "# if \"hasn't\" in words:\n",
    "#     words.remove(\"hasn't\")"
   ]
  },
  {
   "cell_type": "code",
   "execution_count": 177,
   "id": "175e7b91",
   "metadata": {},
   "outputs": [
    {
     "name": "stdout",
     "output_type": "stream",
     "text": [
      "don't is present\n",
      "wouldn't is present\n",
      "won't is present\n",
      "wasn't is present\n",
      "isn't is present\n",
      "needn't is present\n",
      "hasn't is present\n"
     ]
    }
   ],
   "source": [
    "#again rechecking if negative words are present or not \n",
    "negative_words = ['no','not','never', \"don't\", \"do not\", \"din't\", \"did not\", \"wouldn't\", \"would not\"]\n",
    "if 'no' in words:\n",
    "    print(\"no is present\")\n",
    "if 'not' in words:\n",
    "    print(\"not is present\")\n",
    "if 'never' in words:\n",
    "    print(\"never is present\")\n",
    "if \"don't\" in words:\n",
    "    print(\"don't is present\")\n",
    "if 'do not' in words:\n",
    "    print(\"do not is present\")\n",
    "if \"din't\" in words:\n",
    "    print(\"din't is present\")\n",
    "if 'did not' in words:\n",
    "    print(\"did not is present\")\n",
    "if \"wouldn't\" in words:\n",
    "    print(\"wouldn't is present\")\n",
    "if 'would not' in words:\n",
    "    print(\"would not is present\")\n",
    "if 'will not' in words:\n",
    "    print(\"will not is present\")\n",
    "if \"won't\" in words:\n",
    "    print(\"won't is present\")\n",
    "if \"wasn't\" in words:\n",
    "    print(\"wasn't is present\")\n",
    "if \"isn't\" in words:\n",
    "    print(\"isn't is present\")\n",
    "if \"needn't\" in words:\n",
    "    print(\"needn't is present\")\n",
    "if \"hasn't\" in words:\n",
    "    print(\"hasn't is present\")\n",
    "else:\n",
    "    print(\"no negative words are present\")"
   ]
  },
  {
   "cell_type": "code",
   "execution_count": 178,
   "id": "dc230b1a",
   "metadata": {},
   "outputs": [],
   "source": [
    "count_vectorizer = CountVectorizer(stop_words=words) #initialization"
   ]
  },
  {
   "cell_type": "code",
   "execution_count": 179,
   "id": "938cc556",
   "metadata": {},
   "outputs": [],
   "source": [
    "cv_train = count_vectorizer.fit_transform(xtrain) # transforming data from text to integers\n",
    "cv_test = count_vectorizer.transform(xtest)"
   ]
  },
  {
   "cell_type": "code",
   "execution_count": 180,
   "id": "08462211",
   "metadata": {},
   "outputs": [
    {
     "data": {
      "text/plain": [
       "(40000, 90496)"
      ]
     },
     "execution_count": 180,
     "metadata": {},
     "output_type": "execute_result"
    }
   ],
   "source": [
    "cv_train.shape"
   ]
  },
  {
   "cell_type": "code",
   "execution_count": 181,
   "id": "c75470f8",
   "metadata": {},
   "outputs": [
    {
     "data": {
      "text/plain": [
       "2"
      ]
     },
     "execution_count": 181,
     "metadata": {},
     "output_type": "execute_result"
    }
   ],
   "source": [
    "cv_train.ndim"
   ]
  },
  {
   "cell_type": "code",
   "execution_count": 182,
   "id": "8a753a4d",
   "metadata": {},
   "outputs": [
    {
     "data": {
      "text/plain": [
       "(10000, 90496)"
      ]
     },
     "execution_count": 182,
     "metadata": {},
     "output_type": "execute_result"
    }
   ],
   "source": [
    "cv_test.shape"
   ]
  },
  {
   "cell_type": "code",
   "execution_count": 183,
   "id": "c840a53b",
   "metadata": {},
   "outputs": [
    {
     "data": {
      "text/plain": [
       "2"
      ]
     },
     "execution_count": 183,
     "metadata": {},
     "output_type": "execute_result"
    }
   ],
   "source": [
    "cv_test.ndim"
   ]
  },
  {
   "cell_type": "markdown",
   "id": "31a265cd",
   "metadata": {},
   "source": [
    "## Now we can apply Naive Bayes Algotitem Machine Learning model"
   ]
  },
  {
   "cell_type": "code",
   "execution_count": 184,
   "id": "109da794",
   "metadata": {},
   "outputs": [],
   "source": [
    "from sklearn.naive_bayes import MultinomialNB"
   ]
  },
  {
   "cell_type": "code",
   "execution_count": 185,
   "id": "525ed000",
   "metadata": {},
   "outputs": [],
   "source": [
    "nb = MultinomialNB() #initialization"
   ]
  },
  {
   "cell_type": "code",
   "execution_count": 186,
   "id": "5f834257",
   "metadata": {},
   "outputs": [
    {
     "data": {
      "text/plain": [
       "MultinomialNB()"
      ]
     },
     "execution_count": 186,
     "metadata": {},
     "output_type": "execute_result"
    }
   ],
   "source": [
    "nb.fit(cv_train,ytrain)"
   ]
  },
  {
   "cell_type": "code",
   "execution_count": 187,
   "id": "37267841",
   "metadata": {},
   "outputs": [],
   "source": [
    "test_score = nb.score(cv_test,ytest)"
   ]
  },
  {
   "cell_type": "code",
   "execution_count": 188,
   "id": "ef6862ea",
   "metadata": {},
   "outputs": [
    {
     "name": "stdout",
     "output_type": "stream",
     "text": [
      "0.8552\n"
     ]
    }
   ],
   "source": [
    "print(test_score)"
   ]
  },
  {
   "cell_type": "code",
   "execution_count": 192,
   "id": "abe82c41",
   "metadata": {},
   "outputs": [],
   "source": [
    "test = [\"The first 2 episodes are good enough to hook you up\", \n",
    "        \"The movie was cringy\", \n",
    "        \"The series could have been good. It's disappointing\", \n",
    "        \"Why did I watch this...\",\n",
    "       \"The movie was excellent ....Amazing story Loved it\", \n",
    "        \"The movie was hilariously bad\",\n",
    "          ]\n",
    "clean_data = []\n",
    "for k in test:\n",
    "    clean_data.append(clean(k))"
   ]
  },
  {
   "cell_type": "code",
   "execution_count": 193,
   "id": "02e588dd",
   "metadata": {},
   "outputs": [],
   "source": [
    "test1 = count_vectorizer.transform(clean_data)"
   ]
  },
  {
   "cell_type": "code",
   "execution_count": 194,
   "id": "df154839",
   "metadata": {},
   "outputs": [
    {
     "data": {
      "text/plain": [
       "array([1, 1, 0, 0, 1, 0])"
      ]
     },
     "execution_count": 194,
     "metadata": {},
     "output_type": "execute_result"
    }
   ],
   "source": [
    "nb.predict(test1) # 0 means negative review and 1 means positive review"
   ]
  },
  {
   "cell_type": "code",
   "execution_count": null,
   "id": "329f58e0",
   "metadata": {},
   "outputs": [],
   "source": [
    "# \"The movie was cringy\" should have been 0 but its detecting 1"
   ]
  }
 ],
 "metadata": {
  "kernelspec": {
   "display_name": "Python [conda env:tensorflow] *",
   "language": "python",
   "name": "conda-env-tensorflow-py"
  },
  "language_info": {
   "codemirror_mode": {
    "name": "ipython",
    "version": 3
   },
   "file_extension": ".py",
   "mimetype": "text/x-python",
   "name": "python",
   "nbconvert_exporter": "python",
   "pygments_lexer": "ipython3",
   "version": "3.8.12"
  }
 },
 "nbformat": 4,
 "nbformat_minor": 5
}

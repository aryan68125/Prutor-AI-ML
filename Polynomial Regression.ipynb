{
 "cells": [
  {
   "cell_type": "markdown",
   "id": "6be6d2b0",
   "metadata": {},
   "source": [
    "# Polynomial Regression "
   ]
  },
  {
   "cell_type": "code",
   "execution_count": 45,
   "id": "e64ec6f9",
   "metadata": {},
   "outputs": [],
   "source": [
    "import pandas as pd\n",
    "import numpy as np\n",
    "import matplotlib.pyplot as plt"
   ]
  },
  {
   "cell_type": "code",
   "execution_count": 46,
   "id": "c7e30eea",
   "metadata": {},
   "outputs": [],
   "source": [
    "from sklearn.datasets import load_boston"
   ]
  },
  {
   "cell_type": "code",
   "execution_count": 47,
   "id": "e420424c",
   "metadata": {},
   "outputs": [],
   "source": [
    "boston = load_boston()"
   ]
  },
  {
   "cell_type": "markdown",
   "id": "b3d871d9",
   "metadata": {},
   "source": [
    "## splitting data"
   ]
  },
  {
   "cell_type": "code",
   "execution_count": 48,
   "id": "1f07038d",
   "metadata": {},
   "outputs": [],
   "source": [
    "#Normal csv file splitting data\n",
    "#x = df.iloc[starting row index:ending row index,starting column index:ending column index].values\n",
    "\n",
    "#Splitting data when using inbuilt dataset from sklearn\n",
    "features = boston.data\n",
    "target = boston.target"
   ]
  },
  {
   "cell_type": "code",
   "execution_count": 49,
   "id": "63ed1016",
   "metadata": {},
   "outputs": [
    {
     "data": {
      "text/plain": [
       "(506,)"
      ]
     },
     "execution_count": 49,
     "metadata": {},
     "output_type": "execute_result"
    }
   ],
   "source": [
    "y = target #output data\n",
    "y.shape"
   ]
  },
  {
   "cell_type": "code",
   "execution_count": 50,
   "id": "5bb026f6",
   "metadata": {},
   "outputs": [
    {
     "data": {
      "text/plain": [
       "(506, 13)"
      ]
     },
     "execution_count": 50,
     "metadata": {},
     "output_type": "execute_result"
    }
   ],
   "source": [
    "x = features #input data\n",
    "x.shape"
   ]
  },
  {
   "cell_type": "markdown",
   "id": "2187ec85",
   "metadata": {},
   "source": [
    "## Spliting data into training and testing data"
   ]
  },
  {
   "cell_type": "code",
   "execution_count": 51,
   "id": "697103a8",
   "metadata": {},
   "outputs": [],
   "source": [
    "from sklearn.model_selection import train_test_split"
   ]
  },
  {
   "cell_type": "code",
   "execution_count": 52,
   "id": "2b84c9d1",
   "metadata": {},
   "outputs": [],
   "source": [
    "#Spliting data into training and testing data\n",
    "#Spliting happens randomly so the accuracy changes everytime you run this line\n",
    "train_input,test_input,train_output,test_output = train_test_split(x,y,test_size=.20)"
   ]
  },
  {
   "cell_type": "code",
   "execution_count": 53,
   "id": "d846cd40",
   "metadata": {},
   "outputs": [
    {
     "data": {
      "text/plain": [
       "(404, 13)"
      ]
     },
     "execution_count": 53,
     "metadata": {},
     "output_type": "execute_result"
    }
   ],
   "source": [
    "train_input.shape"
   ]
  },
  {
   "cell_type": "code",
   "execution_count": 54,
   "id": "1bb424e5",
   "metadata": {},
   "outputs": [
    {
     "data": {
      "text/plain": [
       "(102, 13)"
      ]
     },
     "execution_count": 54,
     "metadata": {},
     "output_type": "execute_result"
    }
   ],
   "source": [
    "test_input.shape"
   ]
  },
  {
   "cell_type": "code",
   "execution_count": 55,
   "id": "517aa43f",
   "metadata": {},
   "outputs": [
    {
     "data": {
      "text/plain": [
       "(404,)"
      ]
     },
     "execution_count": 55,
     "metadata": {},
     "output_type": "execute_result"
    }
   ],
   "source": [
    "train_output.shape"
   ]
  },
  {
   "cell_type": "code",
   "execution_count": 56,
   "id": "e5ea8988",
   "metadata": {},
   "outputs": [
    {
     "data": {
      "text/plain": [
       "(102,)"
      ]
     },
     "execution_count": 56,
     "metadata": {},
     "output_type": "execute_result"
    }
   ],
   "source": [
    "test_output.shape"
   ]
  },
  {
   "cell_type": "markdown",
   "id": "c686ac21",
   "metadata": {},
   "source": [
    "# Choose ML algorithm"
   ]
  },
  {
   "cell_type": "code",
   "execution_count": 57,
   "id": "5d2c1905",
   "metadata": {},
   "outputs": [],
   "source": [
    "# Use Linear regression when all the values are continues not as a label\n",
    "# for example predicting salary, sales,student marks, stock market prediciton etc."
   ]
  },
  {
   "cell_type": "markdown",
   "id": "83a8b02d",
   "metadata": {},
   "source": [
    "### Here we will use Polynomial Regression"
   ]
  },
  {
   "cell_type": "markdown",
   "id": "694b0144",
   "metadata": {},
   "source": [
    "### Transforming data (Using Polynomial before applying regression)"
   ]
  },
  {
   "cell_type": "code",
   "execution_count": 58,
   "id": "ff34462f",
   "metadata": {},
   "outputs": [],
   "source": [
    "# SimpleRegression => Simple Linear regression and multi Linear regression\n",
    "# If r2_score is not close to 1 then Linear regression is not good for the the dataset\n",
    "# Here now we have to use different Regression Model (Polynomial Regression)"
   ]
  },
  {
   "cell_type": "code",
   "execution_count": 59,
   "id": "669ddad7",
   "metadata": {},
   "outputs": [],
   "source": [
    "# Polynomial Regression = Polynomial Features + Linear Regression \n",
    "#It's function is to transform data"
   ]
  },
  {
   "cell_type": "code",
   "execution_count": 77,
   "id": "82fcc093",
   "metadata": {},
   "outputs": [],
   "source": [
    "from sklearn.preprocessing import PolynomialFeatures"
   ]
  },
  {
   "cell_type": "code",
   "execution_count": 114,
   "id": "36d5c741",
   "metadata": {},
   "outputs": [],
   "source": [
    "poly = PolynomialFeatures(degree=2) \n",
    "poly_x_train = poly.fit_transform(train_input) # Tranforming x (input data) OR here in this case train_input"
   ]
  },
  {
   "cell_type": "code",
   "execution_count": 115,
   "id": "134f5023",
   "metadata": {},
   "outputs": [
    {
     "data": {
      "text/plain": [
       "(404, 105)"
      ]
     },
     "execution_count": 115,
     "metadata": {},
     "output_type": "execute_result"
    }
   ],
   "source": [
    "poly_x.shape"
   ]
  },
  {
   "cell_type": "markdown",
   "id": "78f01faa",
   "metadata": {},
   "source": [
    "### Now after transforming train_input data we can use Linear regression (Training Model)"
   ]
  },
  {
   "cell_type": "code",
   "execution_count": 116,
   "id": "c9b51bbc",
   "metadata": {},
   "outputs": [],
   "source": [
    "from sklearn.linear_model import LinearRegression"
   ]
  },
  {
   "cell_type": "code",
   "execution_count": 117,
   "id": "da3e1f51",
   "metadata": {},
   "outputs": [],
   "source": [
    "lr = LinearRegression() # Initializing Linear regression"
   ]
  },
  {
   "cell_type": "code",
   "execution_count": 118,
   "id": "04b6b529",
   "metadata": {},
   "outputs": [
    {
     "data": {
      "text/plain": [
       "LinearRegression()"
      ]
     },
     "execution_count": 118,
     "metadata": {},
     "output_type": "execute_result"
    }
   ],
   "source": [
    "lr.fit(poly_x_train,train_output) # training the Linear regression model"
   ]
  },
  {
   "cell_type": "code",
   "execution_count": 119,
   "id": "5746339d",
   "metadata": {},
   "outputs": [
    {
     "data": {
      "text/plain": [
       "array([23.67887402, 18.76110721, 11.93272734, 17.13183331, 25.461272  ,\n",
       "        8.69856119, 27.35800409,  9.03469467, 20.31103539, 20.35087991,\n",
       "       39.09256387, 17.26482749, 21.31421018, 20.44689274, 20.27241254,\n",
       "       24.60486102, 18.46822596, 22.1549294 , 10.40100288, 33.30559707,\n",
       "       10.94057393,  8.28831434, 22.56599998, 18.12885284, 20.89096689,\n",
       "       14.40824008, 28.75969768, 33.79391384, 21.69402313, 15.15175962,\n",
       "       26.43898845, 16.24346662, 22.84819317, 25.54485369, 24.3324666 ,\n",
       "       20.44191575, 11.86288714, 15.22284079, 33.5467844 , 43.97139597,\n",
       "       14.37788939, 10.351933  , 32.12719107, 21.26474404, 21.90476179,\n",
       "       25.91886473, 15.16051817, 17.43232441, 21.48888898, 21.43051577,\n",
       "       25.72304988, 18.69492102, 41.74388385, 17.34718704, 27.39409971,\n",
       "       24.63639498, 17.67958474, 18.57415557, 22.63187718, 17.06299448,\n",
       "       27.19008183, 22.00838542, 16.8624475 , 22.32977319, 32.26900959,\n",
       "       11.18658757, 19.61219025, 22.05246043, 11.74223423, 30.53410721,\n",
       "       13.24565029, 19.73464417, 32.66451597, 33.26255369, 19.71537304,\n",
       "       23.43594837, 19.998564  , 11.63797164, 15.11679387, 21.93936181,\n",
       "       32.05261755, 27.09426117, 13.65379071, 25.43949604, 31.04229164,\n",
       "       24.66171408, 14.50033641, 24.50907469, 44.27118516,  9.69664502,\n",
       "       10.30657268, 24.61195183, 21.13504839, 21.61375356, 49.5602448 ,\n",
       "       15.66520095, 18.80787659, 21.03474641, 26.24239683, 13.93861198,\n",
       "       21.86023164, 11.53891301, 14.47592497, 21.6897583 , 22.11220694,\n",
       "       18.14623427, 15.92732978, 22.84446669, 22.03325701, 24.86175776,\n",
       "       18.71260881, 33.27238226, 27.09147882, 13.81643176, 32.24417973,\n",
       "       17.53423357, 25.83886743, 26.64941692, 27.34772158, 44.53151369,\n",
       "       41.97169566, 18.38790345, 11.53098059, 25.66333508, 18.69046235,\n",
       "       19.32284617, 15.1383481 , 26.11757159, 15.06229162, 26.28158784,\n",
       "       33.65938497, 11.86199093, 14.88859177, 53.79547668, 17.26669526,\n",
       "       17.23484802, 19.86638927, 30.69812608, 23.13726997, 26.33277965,\n",
       "        8.42410421, 49.72726083, 32.61846781, 17.60751081, 32.47178316,\n",
       "       26.89039302, 50.64443421, 18.02034473, 43.13611603, 15.06363153,\n",
       "       26.43321991, 19.58493185, 20.12073708, 43.30514479, 18.44323134,\n",
       "       23.41277719, 14.24133849, 31.79311919, 20.56933594, 20.25961828,\n",
       "       23.31239104, 22.90213537, 22.52611685, 19.18549895, 14.5602212 ,\n",
       "       15.48998189,  1.0144937 , 20.43812323, 51.97581792, 13.9361012 ,\n",
       "       24.77081656, 19.66830039, 19.54068518, 24.71520925, 16.98333669,\n",
       "       31.39077449, 38.91378808, 19.2629962 , 24.76814246, 25.83580208,\n",
       "       18.37720752, 22.72845316, 32.84721017, 22.07042027, 24.67395854,\n",
       "       32.66819   , 22.76686716, 19.66548681, 25.23534131, 24.6395731 ,\n",
       "        9.49022651, 16.75183654, 20.05205202, 15.5870893 , 21.93767881,\n",
       "       16.93177176, 21.4969604 , 16.23239708, 11.33081532, 23.44797611,\n",
       "       21.16874146, 21.00540972, 12.13861823, 13.87189889, 28.33690429,\n",
       "       27.02263784, 34.89674711, 32.20910811, 22.45663142, 14.35387945,\n",
       "       28.90919733, 31.3241334 , 22.0342586 , 17.9587152 , 23.88475585,\n",
       "       30.38446212, 13.97791767, 12.77765584, 20.82938862, 19.63400364,\n",
       "       26.93102312, 33.32879066, 39.07746649, 23.5384326 , 11.20735693,\n",
       "       24.00158548, 19.04010892,  7.98336506, 12.26816726, 26.92988729,\n",
       "       22.28925729, 24.81555295, 13.60912251, 19.84748507, 22.43297386,\n",
       "       12.90969086, 35.6353755 , 17.33728385, 20.23668408, 17.81367278,\n",
       "       15.30496621, 21.00640726,  7.40470552, 18.64232349, 42.91456079,\n",
       "       19.98241925, 29.30681252, 26.33416772, 21.08748364, 20.56396866,\n",
       "       15.95683336, 41.24392748, 16.53052258, 25.10928297, 25.9889698 ,\n",
       "       18.44966984, 29.11930895, 21.14082313, 12.64174247, 24.19133401,\n",
       "       38.43725014, 15.5511508 , 34.20531154, 20.50278783, 18.41375566,\n",
       "       20.59341455, 39.83749127, 21.23048997, 26.20542359, 29.3298285 ,\n",
       "       25.21976662, 26.78563809, 14.87047338, 16.91027761, 18.92397952,\n",
       "       27.48364162, 24.36648035, 14.518502  , 29.92562532, 17.05567598,\n",
       "       27.18527603, 14.20062184, 26.15936422, 23.45290184, 35.23122025,\n",
       "       27.9195745 , 11.72284007, 17.43779564, 12.02801752, 11.06971812,\n",
       "       36.39888024, 22.84758592,  8.90947628, 18.99055624, 12.44193244,\n",
       "       14.97704601, 20.87175202,  7.11185145, 13.88179398, 23.78421307,\n",
       "       30.71513438, 18.45792294, 50.01880169, 15.30177402, 13.15333486,\n",
       "       37.34551954,  8.49103761, 18.98182917, 25.94267488, 16.44164658,\n",
       "       26.03910422, 26.72102857, 13.51301455, 33.26792741, 15.49388576,\n",
       "       20.04377127, 24.34001374, 36.87824965, 24.39963746, 38.82092905,\n",
       "       14.56034732, 11.98543668, 23.5696106 , 26.61925721, 27.53282714,\n",
       "       34.08851337, 54.90126038, 26.79703069, 33.19370556, 20.19499135,\n",
       "       15.38745236, 45.78041863, 14.91558385, 21.56598163, 17.33852625,\n",
       "       17.90335107, 20.92802453, 47.8907342 ,  4.41617393, 22.72965503,\n",
       "       18.52961946, 50.48917603, 13.78323483, 29.48058796, 11.18752503,\n",
       "       19.04246569, 29.58216786, 11.95698714, 22.07430863, 24.80791426,\n",
       "        9.47636843, 20.62900043, 10.18592954, 19.07916999, 32.23307014,\n",
       "       19.93954492, 31.68263888, 25.85109305, 28.2795186 , 21.08626747,\n",
       "       18.07149386, 23.8652215 , 24.6875937 , 15.08045101, 14.41335773,\n",
       "       24.09704733, 11.19864893, 22.64195085, 23.36303306, 11.07109809,\n",
       "       45.55271888, 12.92639232, 23.60980988, 15.51155376, 22.25200176,\n",
       "       29.94673681, 32.67701793, 17.27630377, 16.13458276, 20.54315376,\n",
       "       18.06388998, 17.80746961, 46.07335782,  7.05675054, 16.61382723,\n",
       "       47.4002912 , 14.93879223, 19.19363689, 33.05748701, 11.5767076 ,\n",
       "        9.73875666, 10.96409035, 16.5797441 , 24.80693245, 17.6028614 ,\n",
       "       22.40064049, 32.26770258,  8.49232936, 21.79074359, 24.82725906,\n",
       "       23.63323188,  9.84535265, 13.70769691, 22.80948544])"
      ]
     },
     "execution_count": 119,
     "metadata": {},
     "output_type": "execute_result"
    }
   ],
   "source": [
    "from sklearn.metrics import r2_score,mean_squared_error #testing model accuracy\n",
    "pred_train = lr.predict(poly_x_train) # Running Predictions on train dataset\n",
    "pred_train"
   ]
  },
  {
   "cell_type": "code",
   "execution_count": 120,
   "id": "785ff5df",
   "metadata": {},
   "outputs": [
    {
     "data": {
      "text/plain": [
       "0.8906381342372282"
      ]
     },
     "execution_count": 120,
     "metadata": {},
     "output_type": "execute_result"
    }
   ],
   "source": [
    "score_train = r2_score(train_output,pred_train) # scoring our Polynomial regression model\n",
    "score_train"
   ]
  },
  {
   "cell_type": "markdown",
   "id": "506cd0e6",
   "metadata": {},
   "source": [
    "## (Testing model)"
   ]
  },
  {
   "cell_type": "code",
   "execution_count": 121,
   "id": "a46790c2",
   "metadata": {},
   "outputs": [],
   "source": [
    "# Just like what we did with our training data we need to transform the test input \n",
    "poly_x_test = poly.transform(test_input)"
   ]
  },
  {
   "cell_type": "code",
   "execution_count": 122,
   "id": "16ab7c88",
   "metadata": {},
   "outputs": [
    {
     "data": {
      "text/plain": [
       "0.7378850964304269"
      ]
     },
     "execution_count": 122,
     "metadata": {},
     "output_type": "execute_result"
    }
   ],
   "source": [
    "pred_test = lr.predict(poly_x_test) #Running prediction on test dataset\n",
    "score_test = r2_score(test_output,pred_test)\n",
    "score_test"
   ]
  },
  {
   "cell_type": "code",
   "execution_count": 123,
   "id": "3932f140",
   "metadata": {},
   "outputs": [],
   "source": [
    "# Doubts\n",
    "# 1. Why is the score_train is higher than score_test\n",
    "# 2. How can I improve my score_test (I am using the default degree = 2 while using polynomial)"
   ]
  },
  {
   "cell_type": "code",
   "execution_count": null,
   "id": "ba3ca959",
   "metadata": {},
   "outputs": [],
   "source": []
  }
 ],
 "metadata": {
  "kernelspec": {
   "display_name": "Python [conda env:tensorflow] *",
   "language": "python",
   "name": "conda-env-tensorflow-py"
  },
  "language_info": {
   "codemirror_mode": {
    "name": "ipython",
    "version": 3
   },
   "file_extension": ".py",
   "mimetype": "text/x-python",
   "name": "python",
   "nbconvert_exporter": "python",
   "pygments_lexer": "ipython3",
   "version": "3.8.12"
  }
 },
 "nbformat": 4,
 "nbformat_minor": 5
}

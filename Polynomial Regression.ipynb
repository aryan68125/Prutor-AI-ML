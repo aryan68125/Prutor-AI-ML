{
 "cells": [
  {
   "cell_type": "markdown",
   "id": "e27099ee",
   "metadata": {},
   "source": [
    "# Polynomial Regression "
   ]
  },
  {
   "cell_type": "code",
   "execution_count": 19,
   "id": "5ddb0d93",
   "metadata": {},
   "outputs": [],
   "source": [
    "import pandas as pd\n",
    "import numpy as np\n",
    "import matplotlib.pyplot as plt"
   ]
  },
  {
   "cell_type": "code",
   "execution_count": 20,
   "id": "601712b2",
   "metadata": {},
   "outputs": [],
   "source": [
    "from sklearn.datasets import load_boston"
   ]
  },
  {
   "cell_type": "code",
   "execution_count": 46,
   "id": "85338280",
   "metadata": {},
   "outputs": [],
   "source": [
    "boston = load_boston()"
   ]
  },
  {
   "cell_type": "markdown",
   "id": "7eee8a4a",
   "metadata": {},
   "source": [
    "## splitting data"
   ]
  },
  {
   "cell_type": "code",
   "execution_count": 47,
   "id": "63e1e452",
   "metadata": {},
   "outputs": [],
   "source": [
    "#Normal csv file splitting data\n",
    "#x = df.iloc[starting row index:ending row index,starting column index:ending column index].values\n",
    "\n",
    "#Splitting data when using inbuilt dataset from sklearn\n",
    "features = boston.data\n",
    "target = boston.target"
   ]
  },
  {
   "cell_type": "code",
   "execution_count": 48,
   "id": "cd71911d",
   "metadata": {},
   "outputs": [
    {
     "data": {
      "text/plain": [
       "(506,)"
      ]
     },
     "execution_count": 48,
     "metadata": {},
     "output_type": "execute_result"
    }
   ],
   "source": [
    "y = target #output data\n",
    "y.shape"
   ]
  },
  {
   "cell_type": "code",
   "execution_count": 49,
   "id": "da2c598e",
   "metadata": {},
   "outputs": [
    {
     "data": {
      "text/plain": [
       "(506, 13)"
      ]
     },
     "execution_count": 49,
     "metadata": {},
     "output_type": "execute_result"
    }
   ],
   "source": [
    "x = features #input data\n",
    "x.shape"
   ]
  },
  {
   "cell_type": "markdown",
   "id": "e869ce17",
   "metadata": {},
   "source": [
    "## Spliting data into training and testing data"
   ]
  },
  {
   "cell_type": "code",
   "execution_count": 50,
   "id": "80c535ac",
   "metadata": {},
   "outputs": [],
   "source": [
    "from sklearn.model_selection import train_test_split"
   ]
  },
  {
   "cell_type": "code",
   "execution_count": 51,
   "id": "569a46ff",
   "metadata": {},
   "outputs": [],
   "source": [
    "#Spliting data into training and testing data\n",
    "#Spliting happens randomly so the accuracy changes everytime you run this line\n",
    "train_input,test_input,train_output,test_output = train_test_split(x,y,test_size=.20)"
   ]
  },
  {
   "cell_type": "code",
   "execution_count": 52,
   "id": "899c42eb",
   "metadata": {},
   "outputs": [
    {
     "data": {
      "text/plain": [
       "(404, 13)"
      ]
     },
     "execution_count": 52,
     "metadata": {},
     "output_type": "execute_result"
    }
   ],
   "source": [
    "train_input.shape"
   ]
  },
  {
   "cell_type": "code",
   "execution_count": 53,
   "id": "04a50c17",
   "metadata": {},
   "outputs": [
    {
     "data": {
      "text/plain": [
       "(102, 13)"
      ]
     },
     "execution_count": 53,
     "metadata": {},
     "output_type": "execute_result"
    }
   ],
   "source": [
    "test_input.shape"
   ]
  },
  {
   "cell_type": "code",
   "execution_count": 54,
   "id": "4270f359",
   "metadata": {},
   "outputs": [
    {
     "data": {
      "text/plain": [
       "(404,)"
      ]
     },
     "execution_count": 54,
     "metadata": {},
     "output_type": "execute_result"
    }
   ],
   "source": [
    "train_output.shape"
   ]
  },
  {
   "cell_type": "code",
   "execution_count": 55,
   "id": "57d15d05",
   "metadata": {},
   "outputs": [
    {
     "data": {
      "text/plain": [
       "(102,)"
      ]
     },
     "execution_count": 55,
     "metadata": {},
     "output_type": "execute_result"
    }
   ],
   "source": [
    "test_output.shape"
   ]
  },
  {
   "cell_type": "markdown",
   "id": "9975d2f2",
   "metadata": {},
   "source": [
    "# Choose ML algorithm"
   ]
  },
  {
   "cell_type": "code",
   "execution_count": 56,
   "id": "f0d83cb5",
   "metadata": {},
   "outputs": [],
   "source": [
    "# Use Linear regression when all the values are continues not as a label\n",
    "# for example predicting salary, sales,student marks, stock market prediciton etc."
   ]
  },
  {
   "cell_type": "markdown",
   "id": "848038f6",
   "metadata": {},
   "source": [
    "### Here we will use Polynomial Regression"
   ]
  },
  {
   "cell_type": "markdown",
   "id": "567514f4",
   "metadata": {},
   "source": [
    "### Transforming data (Using Polynomial before applying regression)"
   ]
  },
  {
   "cell_type": "code",
   "execution_count": 57,
   "id": "83967758",
   "metadata": {},
   "outputs": [],
   "source": [
    "# SimpleRegression => Simple Linear regression and multi Linear regression\n",
    "# If r2_score is not close to 1 then Linear regression is not good for the the dataset\n",
    "# Here now we have to use different Regression Model (Polynomial Regression)"
   ]
  },
  {
   "cell_type": "code",
   "execution_count": 58,
   "id": "2bba3881",
   "metadata": {},
   "outputs": [],
   "source": [
    "# Polynomial Regression = Polynomial Features + Linear Regression \n",
    "#It's function is to transform data"
   ]
  },
  {
   "cell_type": "code",
   "execution_count": 59,
   "id": "bb515692",
   "metadata": {},
   "outputs": [],
   "source": [
    "from sklearn.preprocessing import PolynomialFeatures"
   ]
  },
  {
   "cell_type": "code",
   "execution_count": 60,
   "id": "fdaf97e3",
   "metadata": {},
   "outputs": [],
   "source": [
    "poly = PolynomialFeatures(degree=2) \n",
    "poly_x_train = poly.fit_transform(train_input) # Tranforming x (input data) OR here in this case train_input"
   ]
  },
  {
   "cell_type": "code",
   "execution_count": 61,
   "id": "36b2ed9a",
   "metadata": {},
   "outputs": [
    {
     "ename": "NameError",
     "evalue": "name 'poly_x' is not defined",
     "output_type": "error",
     "traceback": [
      "\u001b[0;31m---------------------------------------------------------------------------\u001b[0m",
      "\u001b[0;31mNameError\u001b[0m                                 Traceback (most recent call last)",
      "\u001b[0;32m/tmp/ipykernel_8708/2893961007.py\u001b[0m in \u001b[0;36m<module>\u001b[0;34m\u001b[0m\n\u001b[0;32m----> 1\u001b[0;31m \u001b[0mpoly_x\u001b[0m\u001b[0;34m.\u001b[0m\u001b[0mshape\u001b[0m\u001b[0;34m\u001b[0m\u001b[0;34m\u001b[0m\u001b[0m\n\u001b[0m",
      "\u001b[0;31mNameError\u001b[0m: name 'poly_x' is not defined"
     ]
    }
   ],
   "source": [
    "poly_x.shape"
   ]
  },
  {
   "cell_type": "markdown",
   "id": "1009cfcb",
   "metadata": {},
   "source": [
    "### Now after transforming train_input data we can use Linear regression (Training Model)"
   ]
  },
  {
   "cell_type": "code",
   "execution_count": 62,
   "id": "17b55209",
   "metadata": {},
   "outputs": [],
   "source": [
    "from sklearn.linear_model import LinearRegression"
   ]
  },
  {
   "cell_type": "code",
   "execution_count": 63,
   "id": "e5a86b91",
   "metadata": {},
   "outputs": [],
   "source": [
    "lr = LinearRegression() # Initializing Linear regression"
   ]
  },
  {
   "cell_type": "code",
   "execution_count": 64,
   "id": "662c9a54",
   "metadata": {},
   "outputs": [
    {
     "data": {
      "text/plain": [
       "LinearRegression()"
      ]
     },
     "execution_count": 64,
     "metadata": {},
     "output_type": "execute_result"
    }
   ],
   "source": [
    "lr.fit(poly_x_train,train_output) # training the Linear regression model after polynomial transformation of data"
   ]
  },
  {
   "cell_type": "code",
   "execution_count": 65,
   "id": "41b5676b",
   "metadata": {},
   "outputs": [
    {
     "data": {
      "text/plain": [
       "array([21.07478905, 17.74334621, 22.39944649, 15.38422012, 19.41930723,\n",
       "       30.7045331 , 18.09601545, 31.80078745, 21.41993856, 31.70519352,\n",
       "       46.43050075, 46.44360542, 25.0648849 , 27.91509724, 20.94106054,\n",
       "       24.5342803 , 49.71924782, 19.88693023, 20.91808176, 26.78137755,\n",
       "       36.39626598, 12.64433169, 34.29053569, 22.53566742, 13.32833886,\n",
       "       18.70858884, 18.66699553, 37.43954825, 18.19873381, 18.52424145,\n",
       "       13.6552453 , 28.61743569, 30.40082049, 25.30676532,  8.94958591,\n",
       "       12.35798335, 17.32198215, 25.22123694, 30.66875434, 16.09969258,\n",
       "       14.81765413, 27.48261094, 31.14892006, 17.06038547, 18.38656974,\n",
       "       25.25455999, 24.55961823, 11.48654127, 32.03584599, 14.60023284,\n",
       "       24.78943682, 21.07302856, 26.50235677, 18.81902146, 29.11787558,\n",
       "       14.05969477, 34.81720781, 13.6966784 , 49.03512263,  9.68800211,\n",
       "       21.66463947, 15.62257242, 13.43766189, 20.67768979, 12.90292358,\n",
       "       31.71448874, 22.33394766, 14.55894852, 52.59150457, 34.62911439,\n",
       "       12.50611281, 20.01446867, 25.06443667, 26.17805123, 18.65513849,\n",
       "       19.4568491 , 19.06341243, 14.07479811, 14.96339965, 36.81103134,\n",
       "       47.50021744, 18.72962046, 13.78022552, 32.43504786, 48.75084376,\n",
       "       20.34447408, 18.57313395, 21.20228004,  9.97272182, 24.87260199,\n",
       "       18.65656471, 14.71553588, 11.703053  , 49.34479213,  7.67898297,\n",
       "       26.48338318, 15.25657129, 22.32941842, 20.55154991, 18.94947124,\n",
       "       25.63425612, 13.4632802 , 33.2161634 , 26.52162719,  8.39770794,\n",
       "       32.00564337, 13.67926073, 12.99090743, 16.55051208, 46.01429892,\n",
       "       19.38988471, 29.14390135, 17.18907356, 24.25456285, 14.70439315,\n",
       "       20.55287218, 15.5768292 , 25.72780013, 19.68464828, 22.10387421,\n",
       "       43.54939198, 33.53382325, 34.75880861, 21.63637233, 12.92127609,\n",
       "       31.89834738, 24.82369924, 13.79190564, 24.25984859, 19.935781  ,\n",
       "       17.519104  , 30.58706641, 26.05490327, 11.25332284, 45.70093846,\n",
       "       25.8118403 , 12.59315825, 16.60194731, 16.25949979, 38.72968149,\n",
       "       22.98329139, 23.65002227, 13.68288732, 17.69922113, 18.20464373,\n",
       "       21.71309781, 17.50176263, 21.91663766, 21.35488653,  6.6253829 ,\n",
       "       30.36698461, 22.54136944, 34.9621067 , 18.97740078, 32.52965903,\n",
       "       35.72241902, 13.15746689, 17.24454808, 35.00784135, 32.06651092,\n",
       "       23.48122334, 26.64584279, 14.94639087, 23.29599071, 24.37859941,\n",
       "       51.85690427,  7.33980751, 23.07841039, 14.5785253 , 16.84787774,\n",
       "       33.29604411, 11.29758024, 26.21597552, 41.78544903, 22.28812814,\n",
       "       15.27716398, 15.13993526, 23.88791227, 21.18415856, 23.40919805,\n",
       "       22.1169703 , 32.97685719, 21.09857011, 19.3508389 , 19.28719902,\n",
       "       19.36027694, 16.05764008, 32.81911588, 23.93355608, 11.20889378,\n",
       "       37.85930109, 19.16490078, 21.86640549, 23.51332045, 11.46304107,\n",
       "       24.70780516, -1.15516973, 20.19965672, 24.45064211, 42.01125002,\n",
       "       51.30800104, 32.27387905, 30.79922414, 46.68488908, 27.10452127,\n",
       "       14.79607892, 16.19585752, 13.20026612, 19.89280415, 21.25122428,\n",
       "        8.73691177, 12.87506509, 18.55077839, 14.16194987, 29.772825  ,\n",
       "       42.00709486, 22.66496634, 18.27550578, 32.94362164, 19.61084485,\n",
       "       23.47780919, 29.48639774, 14.89351296, 20.08190894, 10.35613513,\n",
       "       36.44025755, 28.89954972, 22.45443702, 27.79388547, 15.20686674,\n",
       "       28.08923221, 14.22215033,  8.01049423, 13.87357473, 15.63848829,\n",
       "       17.72019863, 31.16775298,  9.11774635, 22.65416145, 32.5827508 ,\n",
       "       21.25297689, 13.52307391, 16.75669885, 19.35364604, 19.36139941,\n",
       "       12.35858822, 26.1562047 , 10.26173854, 12.07197261, 22.54007387,\n",
       "       23.7933743 , 16.05120587, 22.81492901, 16.24779654, 40.13438916,\n",
       "       27.5584383 , 16.40331078, 17.4710052 , 20.45449018, 18.95419574,\n",
       "       21.23631263, 19.4566803 , 11.44799709, 15.25615358, 18.23956871,\n",
       "       45.36839294, 25.78104424, 27.24643254, 11.84684181, 13.8800087 ,\n",
       "       20.99948645, 22.37941813, 20.92568398, 30.80905271, 37.8248322 ,\n",
       "       10.20108557, 24.26045537, 20.84986401, 14.85655427, 45.09902644,\n",
       "       19.16265011, 15.80364347, 17.84407258, 18.40641165, 23.87509656,\n",
       "       21.89921784, 21.54993653, 26.0496974 , 22.00143766, 13.00163531,\n",
       "       28.43756819, 17.52927208, 13.73299527, 21.97398233, 19.37637138,\n",
       "       25.70292759, 21.25108886, 18.95376253, 31.61825657, 17.72374463,\n",
       "       22.00205898, 18.12771726, 16.49671721, 29.07980561, 23.53134012,\n",
       "       15.79820991, 16.26339054, 19.92426968, 46.81790328, 17.25495195,\n",
       "       13.45074749, 22.05621338, 34.9009707 , 25.80603147,  5.418437  ,\n",
       "       15.3568213 , 19.86698866, 19.46225047,  9.27450442, 23.09191966,\n",
       "       26.44392109, 16.63118577, 25.33171844, 25.04962611, 15.64760065,\n",
       "       19.63876462, 35.48949146, 18.42153883, 19.29575086, 48.70756221,\n",
       "       27.78358102, 24.15917969, 19.42424488, 22.6328752 , 22.72307944,\n",
       "       20.5160315 , 16.92095041, 27.26661825, 21.02843785, 33.97803664,\n",
       "       16.16737986, 18.82994437, 25.12692666, 19.45687079, 23.96867871,\n",
       "       24.46092558, 24.8062706 , 18.25525379, 27.24091434, 23.2184391 ,\n",
       "       27.84145331, 16.83971667, 14.18157482, 26.86136627, 39.10576534,\n",
       "       45.8053546 , 18.69459009, 17.81298709, 23.07553196, 23.15710092,\n",
       "       27.00663924, 29.03741598, 20.5260458 , 11.53282046, 15.84740186,\n",
       "       28.70894647, 11.26168966, 48.03034759, 27.97635007, 17.18172193,\n",
       "       21.64969969, 23.61826563, 16.70912671, 27.56938148, 29.70537329,\n",
       "       17.53931522, 20.62718654, 12.62489772, 21.05719829, 25.47117591,\n",
       "       21.68539834, 19.80160975, 15.37588048, 23.06975961, 18.84595847,\n",
       "       18.75111127, 20.28350735, 15.6829679 , 22.5042634 , 26.27819228,\n",
       "       16.75488877, 28.78517938, 22.1369338 , 16.32058716, 24.32022214,\n",
       "       21.24263644, 13.03288078, 21.90647507, 17.63718057, 31.4227016 ,\n",
       "        8.98222589, 24.78506899, 25.85658813, 34.37548828])"
      ]
     },
     "execution_count": 65,
     "metadata": {},
     "output_type": "execute_result"
    }
   ],
   "source": [
    "from sklearn.metrics import r2_score,mean_squared_error #testing model accuracy\n",
    "pred_train = lr.predict(poly_x_train) # Running Predictions on train dataset\n",
    "pred_train"
   ]
  },
  {
   "cell_type": "code",
   "execution_count": 66,
   "id": "1bfe9d7b",
   "metadata": {},
   "outputs": [
    {
     "data": {
      "text/plain": [
       "0.9074659993092982"
      ]
     },
     "execution_count": 66,
     "metadata": {},
     "output_type": "execute_result"
    }
   ],
   "source": [
    "score_train = r2_score(train_output,pred_train) # scoring our Polynomial regression model\n",
    "score_train"
   ]
  },
  {
   "cell_type": "markdown",
   "id": "96e3d200",
   "metadata": {},
   "source": [
    "## (Testing model)"
   ]
  },
  {
   "cell_type": "code",
   "execution_count": 67,
   "id": "2c1a678d",
   "metadata": {},
   "outputs": [],
   "source": [
    "# Just like what we did with our training data we need to transform the test input \n",
    "poly_x_test = poly.transform(test_input)"
   ]
  },
  {
   "cell_type": "code",
   "execution_count": 68,
   "id": "d5eea329",
   "metadata": {},
   "outputs": [
    {
     "data": {
      "text/plain": [
       "0.7113441675773511"
      ]
     },
     "execution_count": 68,
     "metadata": {},
     "output_type": "execute_result"
    }
   ],
   "source": [
    "pred_test = lr.predict(poly_x_test) #Running prediction on test dataset\n",
    "score_test = r2_score(test_output,pred_test)\n",
    "score_test"
   ]
  },
  {
   "cell_type": "code",
   "execution_count": 69,
   "id": "11d9953b",
   "metadata": {},
   "outputs": [],
   "source": [
    "# Doubts\n",
    "# 1. Why is the score_train is higher than score_test\n",
    "# 2. How can I improve my score_test (I am using the default degree = 2 while using polynomial)\n",
    "# 3. By increasing the degree the score_train goes negative"
   ]
  },
  {
   "cell_type": "markdown",
   "id": "f73d98d0",
   "metadata": {},
   "source": [
    "## Analysis"
   ]
  },
  {
   "cell_type": "code",
   "execution_count": null,
   "id": "39b1d430",
   "metadata": {},
   "outputs": [],
   "source": [
    "# If r2 score goes low in test data and train data then the model is underfitted\n",
    "# If r2 score goes negative in test data then the model is overfitted also actual values and predicted vales have a lot of difference"
   ]
  },
  {
   "cell_type": "code",
   "execution_count": null,
   "id": "2fb8b442",
   "metadata": {},
   "outputs": [],
   "source": [
    "# If features are more than 5 then use Polynomial regression\n",
    "# If features are very high then use tensorflow\n",
    "# If features are less than 5 then use Linear regression"
   ]
  },
  {
   "cell_type": "code",
   "execution_count": 70,
   "id": "fc23c292",
   "metadata": {},
   "outputs": [
    {
     "data": {
      "text/plain": [
       "7.859458774175747"
      ]
     },
     "execution_count": 70,
     "metadata": {},
     "output_type": "execute_result"
    }
   ],
   "source": [
    "# so here we can find the mean squared error of the model on train data\n",
    "mean_squared_error(train_output,pred_train)"
   ]
  },
  {
   "cell_type": "code",
   "execution_count": 71,
   "id": "18931d06",
   "metadata": {},
   "outputs": [
    {
     "data": {
      "text/plain": [
       "23.63885651588584"
      ]
     },
     "execution_count": 71,
     "metadata": {},
     "output_type": "execute_result"
    }
   ],
   "source": [
    "# so here we can find the mean squared error of the model on test data\n",
    "mean_squared_error(test_output,pred_test)"
   ]
  },
  {
   "cell_type": "markdown",
   "id": "6a925b83",
   "metadata": {},
   "source": [
    "## Using Feature Scaling to improve the performance of our Polynomial Regression model"
   ]
  },
  {
   "cell_type": "markdown",
   "id": "118ad278",
   "metadata": {},
   "source": [
    "## Trying StandardScalar"
   ]
  },
  {
   "cell_type": "code",
   "execution_count": 75,
   "id": "a78647f2",
   "metadata": {},
   "outputs": [],
   "source": [
    "### Option \n",
    "# implement Feature scaling to improve score_test\n",
    "# minmaxScalar is used in image scaling\n",
    "# StandarScaling is used for other types of data"
   ]
  },
  {
   "cell_type": "code",
   "execution_count": 84,
   "id": "0c29b5ed",
   "metadata": {},
   "outputs": [],
   "source": [
    "from sklearn.preprocessing import StandardScaler #improving performance using feature scaling"
   ]
  },
  {
   "cell_type": "code",
   "execution_count": 101,
   "id": "1c0b18f5",
   "metadata": {},
   "outputs": [],
   "source": [
    "# This Feature Scaling is only used to transform data and not for actualing model training\n",
    "# Feature scaling is a method used to normalize the range of independent variables or features of data.\n",
    "std = StandardScaler() #initializing"
   ]
  },
  {
   "cell_type": "markdown",
   "id": "288465b0",
   "metadata": {},
   "source": [
    "### Transforming data using Feature Scaling (StandardScaler)"
   ]
  },
  {
   "cell_type": "code",
   "execution_count": 105,
   "id": "3c38be91",
   "metadata": {},
   "outputs": [],
   "source": [
    "#This can improve our Polynomial Regression model\n",
    "std_train = std.fit_transform(train_input)\n",
    "std_test = std.transform(test_input)"
   ]
  },
  {
   "cell_type": "markdown",
   "id": "26a68b6a",
   "metadata": {},
   "source": [
    "### Transforming data using Polynomial Function class"
   ]
  },
  {
   "cell_type": "code",
   "execution_count": 106,
   "id": "ebbf8d1f",
   "metadata": {},
   "outputs": [],
   "source": [
    "poly2 = PolynomialFeatures()\n",
    "poly2_train = poly.fit_transform(std_train)\n",
    "poly2_test = poly.transform(std_test)"
   ]
  },
  {
   "cell_type": "markdown",
   "id": "4c4634b4",
   "metadata": {},
   "source": [
    "### Now we can apply Linear Regression"
   ]
  },
  {
   "cell_type": "code",
   "execution_count": 107,
   "id": "d84a52f1",
   "metadata": {},
   "outputs": [],
   "source": [
    "lr2 = LinearRegression()"
   ]
  },
  {
   "cell_type": "code",
   "execution_count": 108,
   "id": "857cbab3",
   "metadata": {},
   "outputs": [
    {
     "data": {
      "text/plain": [
       "LinearRegression()"
      ]
     },
     "execution_count": 108,
     "metadata": {},
     "output_type": "execute_result"
    }
   ],
   "source": [
    "lr2.fit(poly2_train,train_output)"
   ]
  },
  {
   "cell_type": "code",
   "execution_count": 109,
   "id": "6ca65af6",
   "metadata": {},
   "outputs": [
    {
     "data": {
      "text/plain": [
       "array([21.97906682, 18.22321645, 23.42584986, 13.41701063, 18.76177797,\n",
       "       31.82370238, 18.9961868 , 32.22289749, 20.44488679, 32.96345895,\n",
       "       45.24892974, 44.49382069, 24.22829617, 28.25630157, 21.31008354,\n",
       "       23.6494378 , 52.04113537, 18.68009715, 22.05888542, 26.30002634,\n",
       "       36.39612761, 17.36463301, 32.97284141, 24.0578862 , 12.05717358,\n",
       "       15.79499151, 19.73282873, 34.40831341, 17.34724996, 18.05985855,\n",
       "       12.25094486, 28.30214527, 29.32364077, 24.03581905,  9.06712678,\n",
       "        8.19796503, 17.25515613, 26.02814497, 31.3066702 , 17.93872867,\n",
       "       14.7864666 , 26.65711467, 27.03644458, 19.76244562, 17.97459125,\n",
       "       22.50615831, 23.07000689, 10.09743417, 32.89158547,  9.23608375,\n",
       "       23.11341509, 20.07168328, 27.34770637, 18.41913814, 29.73176034,\n",
       "       15.57966815, 35.03244998,  9.62398503, 49.14847163, 11.5681914 ,\n",
       "       21.44574498, 19.27333546, 13.67283824, 19.95455844, 11.23528921,\n",
       "       32.08428768, 21.10699747, 17.16038873, 54.32577227, 34.72699921,\n",
       "       10.44259569, 20.59480443, 25.1350072 , 24.17885812, 20.14593087,\n",
       "       21.15262225, 21.05845486, 17.45353152, 15.6277561 , 36.43975487,\n",
       "       48.64484941, 19.16133192, 14.39759538, 29.93230963, 48.20395361,\n",
       "       20.87943307, 19.31632175, 20.15168291,  8.53550065, 25.11629033,\n",
       "       18.51284308, 17.45259086, 13.12169224, 51.04837029,  8.87165184,\n",
       "       28.76983095, 14.82049265, 22.50892658, 21.91281487, 19.34961924,\n",
       "       25.51328215, 15.11089701, 32.27750615, 26.71683964,  6.86374062,\n",
       "       32.7933599 , 13.44593407, 11.81161144, 15.94421792, 47.63835163,\n",
       "       20.89134994, 26.12419242, 17.6747123 , 21.62818965, 13.69047346,\n",
       "       21.170729  , 15.8180686 , 22.74960571, 18.8584128 , 22.27923909,\n",
       "       44.11422492, 33.98738686, 34.41085572, 21.84395743, 12.65923945,\n",
       "       31.9708879 , 24.03933255, 13.91372158, 23.94487672, 21.5845712 ,\n",
       "       16.96153466, 32.18614798, 25.75764631, 12.06315459, 46.20552019,\n",
       "       25.81292731, 13.70912767, 16.50280839, 17.30945035, 40.48435544,\n",
       "       24.84170094, 25.8147356 , 13.47766005, 15.361031  , 18.22061036,\n",
       "       23.10203073, 19.74335847, 22.65342028, 20.09640695,  4.48145281,\n",
       "       32.87327681, 22.27220518, 34.81349009, 14.71051691, 33.24735866,\n",
       "       30.76180442, 12.0625365 , 15.57024965, 36.26067951, 30.33542123,\n",
       "       22.01094393, 27.19250161, 13.02536426, 25.0412281 , 22.2290684 ,\n",
       "       48.56261861, 13.72490538, 20.99791508, 13.11875801, 19.51165371,\n",
       "       34.82402737, 11.45317125, 25.92914829, 38.65414069, 20.94420448,\n",
       "       16.63177623, 13.16572952, 24.18769681, 20.37850484, 24.09343102,\n",
       "       23.11133664, 32.34111155, 20.08231825, 18.16690634, 19.53507808,\n",
       "       15.24232976, 16.15176875, 32.65281645, 23.96467486, 10.36048571,\n",
       "       38.04720503, 16.59544582, 23.28870279, 20.815249  , 13.80803591,\n",
       "       24.24408419,  2.52672102, 20.80600356, 24.1774087 , 42.56287056,\n",
       "       49.42202472, 31.17449376, 31.76281587, 46.24762142, 25.88524428,\n",
       "       15.79142848, 16.96523089, 11.49190507, 19.38887621, 20.49216335,\n",
       "       10.10985593, 12.58981251, 19.85204261, 15.04660802, 28.51022044,\n",
       "       43.95342674, 21.48178702, 18.00223765, 31.398317  , 19.75679125,\n",
       "       22.81399157, 26.17037286, 15.21592335, 21.5287757 , 16.75768383,\n",
       "       36.80535716, 27.0048505 , 23.53305539, 28.41861743, 15.14535969,\n",
       "       27.62770291, 13.75779871,  6.94095012, 12.45860568, 13.64539209,\n",
       "       20.24238189, 32.71646565, 11.53049983, 20.6000962 , 33.9071852 ,\n",
       "       21.40652299, 16.27571529, 17.6271006 , 21.27059536, 18.81948967,\n",
       "       12.22634355, 26.58055819,  9.99716642, 10.16032928, 20.49947163,\n",
       "       24.50503948, 17.61030941, 21.33102239, 18.54682031, 40.60634574,\n",
       "       26.01867307, 16.49173531, 16.85752101, 23.96358798, 19.59817334,\n",
       "       21.58498445, 21.33965716,  7.12442362, 19.2291036 , 21.38925549,\n",
       "       43.76095632, 23.42405575, 25.41778753, 11.22179555, 15.25834049,\n",
       "       21.46152403, 24.6267822 , 20.09673329, 31.59122713, 34.99351108,\n",
       "       10.72338382, 21.66968938, 22.27324739, 16.60867492, 47.02045961,\n",
       "       18.66674254, 13.95611818, 17.17593668, 18.52743299, 23.58778498,\n",
       "       19.08211488, 19.5889157 , 26.03058861, 18.59410257, 16.87021914,\n",
       "       28.59996914, 20.62988712, 16.20867963, 21.83128931, 17.92265162,\n",
       "       25.02176323, 20.78178735, 18.2413275 , 30.10781125, 19.07393454,\n",
       "       20.64208993, 17.86724963, 16.13437796, 28.66542455, 23.33851719,\n",
       "       15.2220953 , 15.2089228 , 21.13247174, 47.91144577, 19.29359016,\n",
       "       15.1920167 , 21.99714946, 33.68314196, 25.51020456,  6.46481354,\n",
       "       17.07753756, 19.69835685, 13.72365117,  5.99962689, 24.1922603 ,\n",
       "       28.87182179, 15.64235143, 26.55332925, 24.59207892, 15.3992361 ,\n",
       "       22.92703386, 34.71130019, 18.87211115, 18.18612778, 49.9735937 ,\n",
       "       26.9778453 , 26.26911414, 20.14211251, 21.59045685, 24.64789795,\n",
       "       20.20085595, 17.01302206, 28.18349027, 21.57761671, 32.72881289,\n",
       "       16.75403208, 18.5026284 , 24.64219081, 18.32351029, 24.13307803,\n",
       "       23.69096158, 23.2144086 , 19.62115935, 27.70521395, 23.26564701,\n",
       "       26.20255961, 16.61540771, 17.04184089, 25.59582564, 40.86523638,\n",
       "       45.80512491, 20.77563935, 19.26159599, 22.72721319, 25.78583125,\n",
       "       26.37238311, 28.73130975, 21.41517478,  9.7438263 , 15.6943402 ,\n",
       "       27.95983999, 13.79916631, 43.37663482, 27.91793084, 18.92787882,\n",
       "       23.81252635, 22.22218721, 18.25346814, 25.28279893, 30.92232113,\n",
       "       17.43490886, 22.19037079,  9.6983094 , 21.8418868 , 26.59300737,\n",
       "       24.40855942, 19.80313596, 14.99924487, 21.62040984, 17.5813527 ,\n",
       "       20.97086491, 19.8942464 , 17.88424211, 21.19948583, 26.60515016,\n",
       "       15.84758304, 30.1138256 , 22.7604938 , 16.67362693, 24.71615922,\n",
       "       22.03308691, 12.66696541, 21.82900668, 17.18101637, 30.39609613,\n",
       "       11.46605529, 26.48964563, 25.4743628 , 33.97824589])"
      ]
     },
     "execution_count": 109,
     "metadata": {},
     "output_type": "execute_result"
    }
   ],
   "source": [
    "pred2_train = lr2.predict(poly2_train) # Running Predictions on train dataset\n",
    "pred2_train"
   ]
  },
  {
   "cell_type": "code",
   "execution_count": 115,
   "id": "935efecd",
   "metadata": {},
   "outputs": [
    {
     "data": {
      "text/plain": [
       "array([12.05003104, 18.58262108, 24.53098294, 15.21959002, 19.74951108,\n",
       "       23.06676967, 20.32821   , 17.52325867, 21.73265815,  5.48388502,\n",
       "        9.70244668, 38.07458684, 52.24905115, 35.86533707, 22.83879839,\n",
       "       16.39265666, 38.4707319 , 23.73707742, 16.62368671, 32.28887903,\n",
       "       20.12944675, 35.80642178, 34.80992314, 25.27908475, 21.80854262,\n",
       "       24.8398611 , 17.83564289, 19.37487131, 15.12838568, 18.20239964,\n",
       "        8.19558984, 18.26054517, 26.13544587, 25.75884664, 25.62721241,\n",
       "       30.83415384, 19.78977743, 16.25095409,  8.7669474 ,  8.7176217 ,\n",
       "       11.88615757, 42.75664418, 32.19216283, 11.01617849, 28.02735502,\n",
       "        9.09166085, 37.92017805, 18.38648582, 13.05523938, 15.92799948,\n",
       "       26.96216122, 18.54873669, 40.75993291, 23.24311045, 23.12590533,\n",
       "       24.20943405, 32.30203621, 18.10889953, 21.59632372, 31.12001042,\n",
       "       14.60959687, 47.34533183, 24.01554754, 24.90200794, 19.81886678,\n",
       "       16.11888534, 44.03239212, 35.96632846, 21.18569741, 21.41629225,\n",
       "       12.54285618, 33.02103912, 15.92996299, 24.91020888, 32.31860762,\n",
       "       23.04200218, 20.96654984, 19.21085456,  9.6390882 , 23.87260346,\n",
       "        8.41759511, 23.7779964 , 29.38392781, 29.75066849, 15.56309411,\n",
       "       15.69333807, 13.28355515, 14.61331761, 15.84258225, 17.29651188,\n",
       "       16.91158825, 24.63535824, 19.86016577, 15.62220032, 16.69632039,\n",
       "       27.47603601, 11.15079379, 24.82508747, 14.20059942, 21.63425755,\n",
       "       16.39745752, 18.92437555])"
      ]
     },
     "execution_count": 115,
     "metadata": {},
     "output_type": "execute_result"
    }
   ],
   "source": [
    "predic2_test = lr2.predict(poly2_test)\n",
    "predic2_test"
   ]
  },
  {
   "cell_type": "code",
   "execution_count": 116,
   "id": "e4201e27",
   "metadata": {},
   "outputs": [
    {
     "data": {
      "text/plain": [
       "0.7926112315869682"
      ]
     },
     "execution_count": 116,
     "metadata": {},
     "output_type": "execute_result"
    }
   ],
   "source": [
    "# 0.7113441675773511 was our previous score test\n",
    "score2_test = r2_score(test_output,predic2_test) #here we can see an improvement in our score_test\n",
    "score2_test"
   ]
  },
  {
   "cell_type": "code",
   "execution_count": 118,
   "id": "2a2b1409",
   "metadata": {},
   "outputs": [
    {
     "data": {
      "text/plain": [
       "0.9407361986620222"
      ]
     },
     "execution_count": 118,
     "metadata": {},
     "output_type": "execute_result"
    }
   ],
   "source": [
    "score_train = r2_score(train_output,pred2_train)\n",
    "score_train"
   ]
  },
  {
   "cell_type": "markdown",
   "id": "7d52561e",
   "metadata": {},
   "source": [
    "## Trying MinMaxScalar"
   ]
  },
  {
   "cell_type": "code",
   "execution_count": 122,
   "id": "df524cba",
   "metadata": {},
   "outputs": [],
   "source": [
    "from sklearn.preprocessing import MinMaxScaler #improving performance using feature scaling"
   ]
  },
  {
   "cell_type": "code",
   "execution_count": 123,
   "id": "a68ae825",
   "metadata": {},
   "outputs": [],
   "source": [
    "minmax_scaler = MinMaxScaler() # initialization of minmaxScalar"
   ]
  },
  {
   "cell_type": "markdown",
   "id": "284c100d",
   "metadata": {},
   "source": [
    "### Transforming data using Feature Scaling (MinMaxScaler)"
   ]
  },
  {
   "cell_type": "code",
   "execution_count": 125,
   "id": "59009f30",
   "metadata": {},
   "outputs": [],
   "source": [
    "minmax_scaler_train = std.fit_transform(train_input)\n",
    "minmax_scaler_test = std.transform(test_input)"
   ]
  },
  {
   "cell_type": "markdown",
   "id": "e1c9529e",
   "metadata": {},
   "source": [
    "### Transforming data using Polynomial Function class"
   ]
  },
  {
   "cell_type": "code",
   "execution_count": 126,
   "id": "c319fa78",
   "metadata": {},
   "outputs": [],
   "source": [
    "poly3 = PolynomialFeatures()\n",
    "poly3_train = poly.fit_transform(minmax_scaler_train)\n",
    "poly3_test = poly.transform(minmax_scaler_test)"
   ]
  },
  {
   "cell_type": "markdown",
   "id": "57f546b5",
   "metadata": {},
   "source": [
    "### Now we can apply Linear Regression¶"
   ]
  },
  {
   "cell_type": "code",
   "execution_count": 127,
   "id": "f3bdf9e7",
   "metadata": {},
   "outputs": [],
   "source": [
    "lr3 = LinearRegression()"
   ]
  },
  {
   "cell_type": "code",
   "execution_count": 128,
   "id": "d0b2c9db",
   "metadata": {},
   "outputs": [
    {
     "data": {
      "text/plain": [
       "LinearRegression()"
      ]
     },
     "execution_count": 128,
     "metadata": {},
     "output_type": "execute_result"
    }
   ],
   "source": [
    "lr3.fit(poly3_train,train_output)"
   ]
  },
  {
   "cell_type": "code",
   "execution_count": 129,
   "id": "922f8ebe",
   "metadata": {},
   "outputs": [
    {
     "data": {
      "text/plain": [
       "array([21.97906682, 18.22321645, 23.42584986, 13.41701063, 18.76177797,\n",
       "       31.82370238, 18.9961868 , 32.22289749, 20.44488679, 32.96345895,\n",
       "       45.24892974, 44.49382069, 24.22829617, 28.25630157, 21.31008354,\n",
       "       23.6494378 , 52.04113537, 18.68009715, 22.05888542, 26.30002634,\n",
       "       36.39612761, 17.36463301, 32.97284141, 24.0578862 , 12.05717358,\n",
       "       15.79499151, 19.73282873, 34.40831341, 17.34724996, 18.05985855,\n",
       "       12.25094486, 28.30214527, 29.32364077, 24.03581905,  9.06712678,\n",
       "        8.19796503, 17.25515613, 26.02814497, 31.3066702 , 17.93872867,\n",
       "       14.7864666 , 26.65711467, 27.03644458, 19.76244562, 17.97459125,\n",
       "       22.50615831, 23.07000689, 10.09743417, 32.89158547,  9.23608375,\n",
       "       23.11341509, 20.07168328, 27.34770637, 18.41913814, 29.73176034,\n",
       "       15.57966815, 35.03244998,  9.62398503, 49.14847163, 11.5681914 ,\n",
       "       21.44574498, 19.27333546, 13.67283824, 19.95455844, 11.23528921,\n",
       "       32.08428768, 21.10699747, 17.16038873, 54.32577227, 34.72699921,\n",
       "       10.44259569, 20.59480443, 25.1350072 , 24.17885812, 20.14593087,\n",
       "       21.15262225, 21.05845486, 17.45353152, 15.6277561 , 36.43975487,\n",
       "       48.64484941, 19.16133192, 14.39759538, 29.93230963, 48.20395361,\n",
       "       20.87943307, 19.31632175, 20.15168291,  8.53550065, 25.11629033,\n",
       "       18.51284308, 17.45259086, 13.12169224, 51.04837029,  8.87165184,\n",
       "       28.76983095, 14.82049265, 22.50892658, 21.91281487, 19.34961924,\n",
       "       25.51328215, 15.11089701, 32.27750615, 26.71683964,  6.86374062,\n",
       "       32.7933599 , 13.44593407, 11.81161144, 15.94421792, 47.63835163,\n",
       "       20.89134994, 26.12419242, 17.6747123 , 21.62818965, 13.69047346,\n",
       "       21.170729  , 15.8180686 , 22.74960571, 18.8584128 , 22.27923909,\n",
       "       44.11422492, 33.98738686, 34.41085572, 21.84395743, 12.65923945,\n",
       "       31.9708879 , 24.03933255, 13.91372158, 23.94487672, 21.5845712 ,\n",
       "       16.96153466, 32.18614798, 25.75764631, 12.06315459, 46.20552019,\n",
       "       25.81292731, 13.70912767, 16.50280839, 17.30945035, 40.48435544,\n",
       "       24.84170094, 25.8147356 , 13.47766005, 15.361031  , 18.22061036,\n",
       "       23.10203073, 19.74335847, 22.65342028, 20.09640695,  4.48145281,\n",
       "       32.87327681, 22.27220518, 34.81349009, 14.71051691, 33.24735866,\n",
       "       30.76180442, 12.0625365 , 15.57024965, 36.26067951, 30.33542123,\n",
       "       22.01094393, 27.19250161, 13.02536426, 25.0412281 , 22.2290684 ,\n",
       "       48.56261861, 13.72490538, 20.99791508, 13.11875801, 19.51165371,\n",
       "       34.82402737, 11.45317125, 25.92914829, 38.65414069, 20.94420448,\n",
       "       16.63177623, 13.16572952, 24.18769681, 20.37850484, 24.09343102,\n",
       "       23.11133664, 32.34111155, 20.08231825, 18.16690634, 19.53507808,\n",
       "       15.24232976, 16.15176875, 32.65281645, 23.96467486, 10.36048571,\n",
       "       38.04720503, 16.59544582, 23.28870279, 20.815249  , 13.80803591,\n",
       "       24.24408419,  2.52672102, 20.80600356, 24.1774087 , 42.56287056,\n",
       "       49.42202472, 31.17449376, 31.76281587, 46.24762142, 25.88524428,\n",
       "       15.79142848, 16.96523089, 11.49190507, 19.38887621, 20.49216335,\n",
       "       10.10985593, 12.58981251, 19.85204261, 15.04660802, 28.51022044,\n",
       "       43.95342674, 21.48178702, 18.00223765, 31.398317  , 19.75679125,\n",
       "       22.81399157, 26.17037286, 15.21592335, 21.5287757 , 16.75768383,\n",
       "       36.80535716, 27.0048505 , 23.53305539, 28.41861743, 15.14535969,\n",
       "       27.62770291, 13.75779871,  6.94095012, 12.45860568, 13.64539209,\n",
       "       20.24238189, 32.71646565, 11.53049983, 20.6000962 , 33.9071852 ,\n",
       "       21.40652299, 16.27571529, 17.6271006 , 21.27059536, 18.81948967,\n",
       "       12.22634355, 26.58055819,  9.99716642, 10.16032928, 20.49947163,\n",
       "       24.50503948, 17.61030941, 21.33102239, 18.54682031, 40.60634574,\n",
       "       26.01867307, 16.49173531, 16.85752101, 23.96358798, 19.59817334,\n",
       "       21.58498445, 21.33965716,  7.12442362, 19.2291036 , 21.38925549,\n",
       "       43.76095632, 23.42405575, 25.41778753, 11.22179555, 15.25834049,\n",
       "       21.46152403, 24.6267822 , 20.09673329, 31.59122713, 34.99351108,\n",
       "       10.72338382, 21.66968938, 22.27324739, 16.60867492, 47.02045961,\n",
       "       18.66674254, 13.95611818, 17.17593668, 18.52743299, 23.58778498,\n",
       "       19.08211488, 19.5889157 , 26.03058861, 18.59410257, 16.87021914,\n",
       "       28.59996914, 20.62988712, 16.20867963, 21.83128931, 17.92265162,\n",
       "       25.02176323, 20.78178735, 18.2413275 , 30.10781125, 19.07393454,\n",
       "       20.64208993, 17.86724963, 16.13437796, 28.66542455, 23.33851719,\n",
       "       15.2220953 , 15.2089228 , 21.13247174, 47.91144577, 19.29359016,\n",
       "       15.1920167 , 21.99714946, 33.68314196, 25.51020456,  6.46481354,\n",
       "       17.07753756, 19.69835685, 13.72365117,  5.99962689, 24.1922603 ,\n",
       "       28.87182179, 15.64235143, 26.55332925, 24.59207892, 15.3992361 ,\n",
       "       22.92703386, 34.71130019, 18.87211115, 18.18612778, 49.9735937 ,\n",
       "       26.9778453 , 26.26911414, 20.14211251, 21.59045685, 24.64789795,\n",
       "       20.20085595, 17.01302206, 28.18349027, 21.57761671, 32.72881289,\n",
       "       16.75403208, 18.5026284 , 24.64219081, 18.32351029, 24.13307803,\n",
       "       23.69096158, 23.2144086 , 19.62115935, 27.70521395, 23.26564701,\n",
       "       26.20255961, 16.61540771, 17.04184089, 25.59582564, 40.86523638,\n",
       "       45.80512491, 20.77563935, 19.26159599, 22.72721319, 25.78583125,\n",
       "       26.37238311, 28.73130975, 21.41517478,  9.7438263 , 15.6943402 ,\n",
       "       27.95983999, 13.79916631, 43.37663482, 27.91793084, 18.92787882,\n",
       "       23.81252635, 22.22218721, 18.25346814, 25.28279893, 30.92232113,\n",
       "       17.43490886, 22.19037079,  9.6983094 , 21.8418868 , 26.59300737,\n",
       "       24.40855942, 19.80313596, 14.99924487, 21.62040984, 17.5813527 ,\n",
       "       20.97086491, 19.8942464 , 17.88424211, 21.19948583, 26.60515016,\n",
       "       15.84758304, 30.1138256 , 22.7604938 , 16.67362693, 24.71615922,\n",
       "       22.03308691, 12.66696541, 21.82900668, 17.18101637, 30.39609613,\n",
       "       11.46605529, 26.48964563, 25.4743628 , 33.97824589])"
      ]
     },
     "execution_count": 129,
     "metadata": {},
     "output_type": "execute_result"
    }
   ],
   "source": [
    "pred3_train = lr3.predict(poly3_train) # Running Predictions on train dataset\n",
    "pred3_train"
   ]
  },
  {
   "cell_type": "code",
   "execution_count": 130,
   "id": "ed4b9e30",
   "metadata": {},
   "outputs": [
    {
     "data": {
      "text/plain": [
       "array([12.05003104, 18.58262108, 24.53098294, 15.21959002, 19.74951108,\n",
       "       23.06676967, 20.32821   , 17.52325867, 21.73265815,  5.48388502,\n",
       "        9.70244668, 38.07458684, 52.24905115, 35.86533707, 22.83879839,\n",
       "       16.39265666, 38.4707319 , 23.73707742, 16.62368671, 32.28887903,\n",
       "       20.12944675, 35.80642178, 34.80992314, 25.27908475, 21.80854262,\n",
       "       24.8398611 , 17.83564289, 19.37487131, 15.12838568, 18.20239964,\n",
       "        8.19558984, 18.26054517, 26.13544587, 25.75884664, 25.62721241,\n",
       "       30.83415384, 19.78977743, 16.25095409,  8.7669474 ,  8.7176217 ,\n",
       "       11.88615757, 42.75664418, 32.19216283, 11.01617849, 28.02735502,\n",
       "        9.09166085, 37.92017805, 18.38648582, 13.05523938, 15.92799948,\n",
       "       26.96216122, 18.54873669, 40.75993291, 23.24311045, 23.12590533,\n",
       "       24.20943405, 32.30203621, 18.10889953, 21.59632372, 31.12001042,\n",
       "       14.60959687, 47.34533183, 24.01554754, 24.90200794, 19.81886678,\n",
       "       16.11888534, 44.03239212, 35.96632846, 21.18569741, 21.41629225,\n",
       "       12.54285618, 33.02103912, 15.92996299, 24.91020888, 32.31860762,\n",
       "       23.04200218, 20.96654984, 19.21085456,  9.6390882 , 23.87260346,\n",
       "        8.41759511, 23.7779964 , 29.38392781, 29.75066849, 15.56309411,\n",
       "       15.69333807, 13.28355515, 14.61331761, 15.84258225, 17.29651188,\n",
       "       16.91158825, 24.63535824, 19.86016577, 15.62220032, 16.69632039,\n",
       "       27.47603601, 11.15079379, 24.82508747, 14.20059942, 21.63425755,\n",
       "       16.39745752, 18.92437555])"
      ]
     },
     "execution_count": 130,
     "metadata": {},
     "output_type": "execute_result"
    }
   ],
   "source": [
    "predic3_test = lr3.predict(poly3_test)\n",
    "predic3_test"
   ]
  },
  {
   "cell_type": "code",
   "execution_count": 131,
   "id": "66ccbf6d",
   "metadata": {},
   "outputs": [
    {
     "data": {
      "text/plain": [
       "0.7926112315869682"
      ]
     },
     "execution_count": 131,
     "metadata": {},
     "output_type": "execute_result"
    }
   ],
   "source": [
    "# 0.7113441675773511 was our previous score test\n",
    "score3_test = r2_score(test_output,predic3_test) #here we can see an improvement in our score_test\n",
    "score3_test"
   ]
  },
  {
   "cell_type": "code",
   "execution_count": 132,
   "id": "2c828787",
   "metadata": {},
   "outputs": [
    {
     "data": {
      "text/plain": [
       "0.9407361986620222"
      ]
     },
     "execution_count": 132,
     "metadata": {},
     "output_type": "execute_result"
    }
   ],
   "source": [
    "score_train = r2_score(train_output,pred3_train)\n",
    "score_train"
   ]
  },
  {
   "cell_type": "markdown",
   "id": "ac30a012",
   "metadata": {},
   "source": [
    "## Conclusion"
   ]
  },
  {
   "cell_type": "markdown",
   "id": "ae4f8fec",
   "metadata": {},
   "source": [
    "### The improvement in this case after applying StandardScaler and Minmax Scaler is the same"
   ]
  },
  {
   "cell_type": "code",
   "execution_count": null,
   "id": "73f75372",
   "metadata": {},
   "outputs": [],
   "source": []
  }
 ],
 "metadata": {
  "kernelspec": {
   "display_name": "Python [conda env:tensorflow] *",
   "language": "python",
   "name": "conda-env-tensorflow-py"
  },
  "language_info": {
   "codemirror_mode": {
    "name": "ipython",
    "version": 3
   },
   "file_extension": ".py",
   "mimetype": "text/x-python",
   "name": "python",
   "nbconvert_exporter": "python",
   "pygments_lexer": "ipython3",
   "version": "3.8.12"
  }
 },
 "nbformat": 4,
 "nbformat_minor": 5
}

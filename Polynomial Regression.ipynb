{
 "cells": [
  {
   "cell_type": "markdown",
   "id": "23f3e521",
   "metadata": {},
   "source": [
    "# Polynomial Regression "
   ]
  },
  {
   "cell_type": "code",
   "execution_count": 5,
   "id": "1428e1c8",
   "metadata": {},
   "outputs": [],
   "source": [
    "import pandas as pd\n",
    "import numpy as np\n",
    "import matplotlib.pyplot as plt"
   ]
  },
  {
   "cell_type": "code",
   "execution_count": 6,
   "id": "b5570c15",
   "metadata": {},
   "outputs": [],
   "source": [
    "from sklearn.datasets import load_boston"
   ]
  },
  {
   "cell_type": "code",
   "execution_count": 7,
   "id": "2899ab89",
   "metadata": {},
   "outputs": [
    {
     "name": "stderr",
     "output_type": "stream",
     "text": [
      "/home/Machine_learning/miniconda3/envs/tensorflow/lib/python3.8/site-packages/sklearn/utils/deprecation.py:87: FutureWarning: Function load_boston is deprecated; `load_boston` is deprecated in 1.0 and will be removed in 1.2.\n",
      "\n",
      "    The Boston housing prices dataset has an ethical problem. You can refer to\n",
      "    the documentation of this function for further details.\n",
      "\n",
      "    The scikit-learn maintainers therefore strongly discourage the use of this\n",
      "    dataset unless the purpose of the code is to study and educate about\n",
      "    ethical issues in data science and machine learning.\n",
      "\n",
      "    In this special case, you can fetch the dataset from the original\n",
      "    source::\n",
      "\n",
      "        import pandas as pd\n",
      "        import numpy as np\n",
      "\n",
      "\n",
      "        data_url = \"http://lib.stat.cmu.edu/datasets/boston\"\n",
      "        raw_df = pd.read_csv(data_url, sep=\"\\s+\", skiprows=22, header=None)\n",
      "        data = np.hstack([raw_df.values[::2, :], raw_df.values[1::2, :2]])\n",
      "        target = raw_df.values[1::2, 2]\n",
      "\n",
      "    Alternative datasets include the California housing dataset (i.e.\n",
      "    :func:`~sklearn.datasets.fetch_california_housing`) and the Ames housing\n",
      "    dataset. You can load the datasets as follows::\n",
      "\n",
      "        from sklearn.datasets import fetch_california_housing\n",
      "        housing = fetch_california_housing()\n",
      "\n",
      "    for the California housing dataset and::\n",
      "\n",
      "        from sklearn.datasets import fetch_openml\n",
      "        housing = fetch_openml(name=\"house_prices\", as_frame=True)\n",
      "\n",
      "    for the Ames housing dataset.\n",
      "    \n",
      "  warnings.warn(msg, category=FutureWarning)\n"
     ]
    }
   ],
   "source": [
    "boston = load_boston()"
   ]
  },
  {
   "cell_type": "markdown",
   "id": "12bbb809",
   "metadata": {},
   "source": [
    "## splitting data"
   ]
  },
  {
   "cell_type": "code",
   "execution_count": 8,
   "id": "435b1f10",
   "metadata": {},
   "outputs": [],
   "source": [
    "#Normal csv file splitting data\n",
    "#x = df.iloc[starting row index:ending row index,starting column index:ending column index].values\n",
    "\n",
    "#Splitting data when using inbuilt dataset from sklearn\n",
    "features = boston.data\n",
    "target = boston.target"
   ]
  },
  {
   "cell_type": "code",
   "execution_count": 9,
   "id": "d913bc8c",
   "metadata": {},
   "outputs": [
    {
     "data": {
      "text/plain": [
       "(506,)"
      ]
     },
     "execution_count": 9,
     "metadata": {},
     "output_type": "execute_result"
    }
   ],
   "source": [
    "y = target #output data\n",
    "y.shape"
   ]
  },
  {
   "cell_type": "code",
   "execution_count": 10,
   "id": "68dbeefb",
   "metadata": {},
   "outputs": [
    {
     "data": {
      "text/plain": [
       "(506, 13)"
      ]
     },
     "execution_count": 10,
     "metadata": {},
     "output_type": "execute_result"
    }
   ],
   "source": [
    "x = features #input data\n",
    "x.shape"
   ]
  },
  {
   "cell_type": "markdown",
   "id": "a61efe6b",
   "metadata": {},
   "source": [
    "## Spliting data into training and testing data"
   ]
  },
  {
   "cell_type": "code",
   "execution_count": 11,
   "id": "bba8b7a0",
   "metadata": {},
   "outputs": [],
   "source": [
    "from sklearn.model_selection import train_test_split"
   ]
  },
  {
   "cell_type": "code",
   "execution_count": 12,
   "id": "e3f2717e",
   "metadata": {},
   "outputs": [],
   "source": [
    "#Spliting data into training and testing data\n",
    "#Spliting happens randomly so the accuracy changes everytime you run this line\n",
    "train_input,test_input,train_output,test_output = train_test_split(x,y,test_size=.20)"
   ]
  },
  {
   "cell_type": "code",
   "execution_count": 13,
   "id": "663d5db2",
   "metadata": {},
   "outputs": [
    {
     "data": {
      "text/plain": [
       "(404, 13)"
      ]
     },
     "execution_count": 13,
     "metadata": {},
     "output_type": "execute_result"
    }
   ],
   "source": [
    "train_input.shape"
   ]
  },
  {
   "cell_type": "code",
   "execution_count": 14,
   "id": "a7243976",
   "metadata": {},
   "outputs": [
    {
     "data": {
      "text/plain": [
       "(102, 13)"
      ]
     },
     "execution_count": 14,
     "metadata": {},
     "output_type": "execute_result"
    }
   ],
   "source": [
    "test_input.shape"
   ]
  },
  {
   "cell_type": "code",
   "execution_count": 15,
   "id": "da875a07",
   "metadata": {},
   "outputs": [
    {
     "data": {
      "text/plain": [
       "(404,)"
      ]
     },
     "execution_count": 15,
     "metadata": {},
     "output_type": "execute_result"
    }
   ],
   "source": [
    "train_output.shape"
   ]
  },
  {
   "cell_type": "code",
   "execution_count": 16,
   "id": "da92f303",
   "metadata": {},
   "outputs": [
    {
     "data": {
      "text/plain": [
       "(102,)"
      ]
     },
     "execution_count": 16,
     "metadata": {},
     "output_type": "execute_result"
    }
   ],
   "source": [
    "test_output.shape"
   ]
  },
  {
   "cell_type": "markdown",
   "id": "6f7be577",
   "metadata": {},
   "source": [
    "# Choose ML algorithm"
   ]
  },
  {
   "cell_type": "code",
   "execution_count": 17,
   "id": "8978dffc",
   "metadata": {},
   "outputs": [],
   "source": [
    "# Use Linear regression when all the values are continues not as a label\n",
    "# for example predicting salary, sales,student marks, stock market prediciton etc."
   ]
  },
  {
   "cell_type": "markdown",
   "id": "7ac94667",
   "metadata": {},
   "source": [
    "### Here we will use Polynomial Regression"
   ]
  },
  {
   "cell_type": "markdown",
   "id": "926c119c",
   "metadata": {},
   "source": [
    "### Transforming data (Using Polynomial before applying regression)"
   ]
  },
  {
   "cell_type": "code",
   "execution_count": 18,
   "id": "5fb89b92",
   "metadata": {},
   "outputs": [],
   "source": [
    "# SimpleRegression => Simple Linear regression and multi Linear regression\n",
    "# If r2_score is not close to 1 then Linear regression is not good for the the dataset\n",
    "# Here now we have to use different Regression Model (Polynomial Regression)"
   ]
  },
  {
   "cell_type": "code",
   "execution_count": 19,
   "id": "9a606ff2",
   "metadata": {},
   "outputs": [],
   "source": [
    "# Polynomial Regression = Polynomial Features + Linear Regression \n",
    "#It's function is to transform data"
   ]
  },
  {
   "cell_type": "code",
   "execution_count": 20,
   "id": "c63633a1",
   "metadata": {},
   "outputs": [],
   "source": [
    "from sklearn.preprocessing import PolynomialFeatures"
   ]
  },
  {
   "cell_type": "code",
   "execution_count": 21,
   "id": "c8e3106c",
   "metadata": {},
   "outputs": [],
   "source": [
    "poly = PolynomialFeatures(degree=2) \n",
    "poly_x_train = poly.fit_transform(train_input) # Tranforming x (input data) OR here in this case train_input"
   ]
  },
  {
   "cell_type": "code",
   "execution_count": 22,
   "id": "f091a147",
   "metadata": {},
   "outputs": [
    {
     "data": {
      "text/plain": [
       "(404, 105)"
      ]
     },
     "execution_count": 22,
     "metadata": {},
     "output_type": "execute_result"
    }
   ],
   "source": [
    "poly_x_train.shape"
   ]
  },
  {
   "cell_type": "markdown",
   "id": "ab1fc404",
   "metadata": {},
   "source": [
    "### Now after transforming train_input data we can use Linear regression (Training Model)"
   ]
  },
  {
   "cell_type": "code",
   "execution_count": 23,
   "id": "711ab082",
   "metadata": {},
   "outputs": [],
   "source": [
    "from sklearn.linear_model import LinearRegression"
   ]
  },
  {
   "cell_type": "code",
   "execution_count": 24,
   "id": "c956dd52",
   "metadata": {},
   "outputs": [],
   "source": [
    "lr = LinearRegression() # Initializing Linear regression"
   ]
  },
  {
   "cell_type": "code",
   "execution_count": 25,
   "id": "aa2534fa",
   "metadata": {},
   "outputs": [
    {
     "data": {
      "text/plain": [
       "LinearRegression()"
      ]
     },
     "execution_count": 25,
     "metadata": {},
     "output_type": "execute_result"
    }
   ],
   "source": [
    "lr.fit(poly_x_train,train_output) # training the Linear regression model after polynomial transformation of data"
   ]
  },
  {
   "cell_type": "code",
   "execution_count": 26,
   "id": "c386a6e5",
   "metadata": {},
   "outputs": [
    {
     "data": {
      "text/plain": [
       "array([20.6930415 , 23.6581257 , 21.06322443, 22.32209045, 48.54161787,\n",
       "       12.21099192, 36.45241225, 21.1039474 , 30.74155462, 16.08465916,\n",
       "       20.60205317, 21.52912486, 22.32050937, 15.73946315, 12.73871499,\n",
       "       44.64164591, 18.44041938, 12.23791862, 25.30872148, 16.23223454,\n",
       "       13.2331475 , 12.87222344, 26.22274822, 35.86635786, 15.1322574 ,\n",
       "       22.32731271, 20.62273693, 17.3646481 , 11.76976115, 23.69609922,\n",
       "       24.60297728, 49.02461439, 27.72601062, 31.65680027, 16.87957692,\n",
       "       40.03245473, 20.97564119, 34.50768816, 28.72660124, 14.67006934,\n",
       "       33.45040643, 15.00686419, 18.25875926, 21.63218021, 31.41995686,\n",
       "       15.15639961, 26.29266602, 23.24514222, 19.08529377, 34.99443167,\n",
       "       16.42653817, 35.36771852, 29.31458229, 25.61130196, 31.66979361,\n",
       "       52.20419037, 17.52417904, 17.57542837, 44.24207479, 26.96084428,\n",
       "       19.80561978, 16.25611031, 42.26486677, 34.46499455, 43.76984358,\n",
       "       20.41403371, 21.76890701, 24.2191385 , 26.31307018, 18.94649476,\n",
       "       18.18798971, 13.19427323, 23.13116008, 26.26101869,  8.45417869,\n",
       "       25.71138817, 16.25506043, 16.52934307, 22.34547979, 23.92529488,\n",
       "       38.41847533, 18.05457205, 22.79182982, 45.81413746, 41.74980336,\n",
       "       14.56826633, 13.02996492, 24.74774539, 20.36807042, 19.19915122,\n",
       "       18.12345505, 16.31633419, 12.74517345, 14.39684272, 20.32046521,\n",
       "       32.23862058,  9.21871734, 27.87981439, 14.18394309, 21.30823523,\n",
       "       21.89319462, 19.69396758, 32.55381942, 18.4381966 , 18.06840402,\n",
       "       10.53147072, 12.616175  , 15.67222387, 16.8728416 , 26.94353694,\n",
       "       21.38190794, 10.99964172, 18.17213279, 22.75770134, 11.19700676,\n",
       "       15.41716862, 22.33109522, 23.16571289, 19.55244321, 21.58567399,\n",
       "       22.49935615, 47.72534668, 44.70237535, 23.9302175 , 14.28485024,\n",
       "       13.7677685 , 22.39491886, 21.5982188 , 24.10670751, 29.96642756,\n",
       "       22.3123852 , 10.25293481, 33.92017013, 20.62523222, 19.83863413,\n",
       "       13.37134469, 22.1312418 , 41.84558529, 13.83379334, 15.49398875,\n",
       "       10.36481965, 21.15255153, 32.16906613, 20.47189277, 22.44145876,\n",
       "       19.59974915, 16.39541471, 16.54743773, 18.87954909, 29.80103368,\n",
       "       13.56530178,  1.33529097,  7.00296158, 20.01874036, 20.46341085,\n",
       "       10.7559647 , 29.90620583, 32.98573536, 27.83180517, 21.95695269,\n",
       "       36.17380828, 25.00936866, 10.59604251, 21.72978228, 18.58569956,\n",
       "       11.44955468, 20.57372522, 17.32453996, 48.09626913, 22.61287642,\n",
       "       11.66435641, 10.1035744 , 24.61439508, 30.41465634,  9.93356049,\n",
       "       18.20716423, 29.56538039, 35.10669041, 28.19228339,  7.50214815,\n",
       "       34.58953094, 35.48255008, 18.53914815, 21.01663321,  8.42981207,\n",
       "       25.09892243, 19.580863  , 22.8143177 , 21.0484311 , 18.54162037,\n",
       "       18.74257421, 25.07309008, 48.58571911, 12.23139697, 21.06186491,\n",
       "       13.85040855, 19.6470927 , 28.39823228, 47.10353392, 21.24485415,\n",
       "       34.93554592, 42.34049231, 31.03794795, 18.12870032, 16.21206528,\n",
       "       22.73606718, 21.00449747, 51.44924748, 15.78970903, 26.97496849,\n",
       "       22.45608169, 14.84536123, 16.6250248 , 20.36492723, 14.32915753,\n",
       "       18.93967241, 35.37166762, 48.35267949, 19.75592852, 18.19023085,\n",
       "       23.83926427, 14.1085158 , 17.3959949 , 18.6267767 , 12.20494479,\n",
       "       32.18022406, 20.05389899, 17.55106252, 13.21365875, 21.6117869 ,\n",
       "       19.73812538, 25.65481806, 40.21955079, 26.86450601, 31.24598926,\n",
       "       11.90516645, 23.68541259, 16.10452902,  8.65906578, 14.55956012,\n",
       "       18.2828216 , 17.57578909, 19.86601585, 24.17476857, 18.29154688,\n",
       "       20.74984175, 19.10445476, 17.92250091, 16.76354396, 20.73613989,\n",
       "       13.08830804, 22.95268315, 18.0725497 , 10.77927059, 29.00002813,\n",
       "       31.88472146, 15.39040518, 14.70030624, 16.01227671, 46.03331625,\n",
       "       30.67176497, 26.2651574 , 14.33217531, 21.71059906, 31.45246267,\n",
       "        8.43645376, 19.96381122, 18.88984132, 24.44266844, 21.59575403,\n",
       "       18.85013843, 24.08770239, 22.32517862, 22.69103628, 11.39896977,\n",
       "       33.6629703 , 33.32679665, 23.8083986 , 21.54054576, 27.91938454,\n",
       "       13.10574412, 20.50955743, 15.01770312, 22.25835329, 22.898085  ,\n",
       "        7.63541144, 19.62540162, 18.73804182, 28.01856428, 21.47993308,\n",
       "       26.0119338 , 26.24461728,  5.96140826, 21.75431132, 28.40252823,\n",
       "       15.69498163, 14.45492131, 25.68306971, 25.25396705,  8.27625299,\n",
       "       18.24719286, 25.36167759, 16.80207407, 24.34303993, 19.93776649,\n",
       "       32.8905679 , 25.46804535, 32.59090173, 20.36554873, 51.6461069 ,\n",
       "       17.55359966, 23.30840987, 22.38168478, 17.89235532, 13.52549464,\n",
       "        8.7743628 , 13.94277865, 28.08951271, 34.35557574, 13.83151537,\n",
       "       23.58393031, 21.74902868, 52.94927406, 16.75641346, 31.40126735,\n",
       "       25.11675614, 14.6239785 , 44.17351222, 15.18623096, 21.18727446,\n",
       "       34.17372614, 20.04557866, 28.361476  , 22.97149152, 24.14887077,\n",
       "       27.49798715, 23.4348464 , 21.72176546, 18.95468253, 17.08784562,\n",
       "       23.90323699, 48.90094066,  9.33312154, 36.22980839, 16.66293651,\n",
       "       20.18459988, 34.40134609, 22.21439528, 26.45600694, 12.34842002,\n",
       "       12.39502519, 17.33947045, 22.93391764, 14.35227704, 27.58918816,\n",
       "       13.93763983, 32.30002981, 46.4001956 , 19.40725297, 24.99051708,\n",
       "       25.03486151, 18.0817945 , 16.94714653, 14.21718478, 45.63019925,\n",
       "       24.35127461, 14.26075983, 33.42881584, 12.97387105, 15.50217932,\n",
       "       16.04172784, 24.79818523, 24.13500547, 45.3684997 , 20.87639147,\n",
       "       12.99955088, 16.95619649, 14.33504337, 22.19456679, 23.1300329 ,\n",
       "       17.0086022 , 21.97020453, 23.59040046, 14.89074814, 21.22118276,\n",
       "       21.47612262, 23.13712829, 16.15769964, 25.93815106, 26.06403643,\n",
       "       23.06170243, 21.97478426, 15.65261865, 22.76961136, 19.22944432,\n",
       "       26.7518999 , 19.32517099, 21.28415519, 21.06708348,  9.27478778,\n",
       "       32.29388553, 30.1766361 , 16.87871635, 18.7563355 ])"
      ]
     },
     "execution_count": 26,
     "metadata": {},
     "output_type": "execute_result"
    }
   ],
   "source": [
    "from sklearn.metrics import r2_score,mean_squared_error #testing model accuracy\n",
    "pred_train = lr.predict(poly_x_train) # Running Predictions on train dataset\n",
    "pred_train"
   ]
  },
  {
   "cell_type": "code",
   "execution_count": 27,
   "id": "037463d2",
   "metadata": {},
   "outputs": [
    {
     "data": {
      "text/plain": [
       "0.9442339776049897"
      ]
     },
     "execution_count": 27,
     "metadata": {},
     "output_type": "execute_result"
    }
   ],
   "source": [
    "score_train = r2_score(train_output,pred_train) # scoring our Polynomial regression model\n",
    "score_train"
   ]
  },
  {
   "cell_type": "markdown",
   "id": "77f5d284",
   "metadata": {},
   "source": [
    "## (Testing model)"
   ]
  },
  {
   "cell_type": "code",
   "execution_count": 28,
   "id": "a300d72a",
   "metadata": {},
   "outputs": [],
   "source": [
    "# Just like what we did with our training data we need to transform the test input \n",
    "poly_x_test = poly.transform(test_input)"
   ]
  },
  {
   "cell_type": "code",
   "execution_count": 29,
   "id": "5e3759a5",
   "metadata": {},
   "outputs": [
    {
     "data": {
      "text/plain": [
       "0.7541666347924117"
      ]
     },
     "execution_count": 29,
     "metadata": {},
     "output_type": "execute_result"
    }
   ],
   "source": [
    "pred_test = lr.predict(poly_x_test) #Running prediction on test dataset\n",
    "score_test = r2_score(test_output,pred_test)\n",
    "score_test"
   ]
  },
  {
   "cell_type": "code",
   "execution_count": 30,
   "id": "296833ec",
   "metadata": {},
   "outputs": [],
   "source": [
    "# Doubts\n",
    "# 1. Why is the score_train is higher than score_test\n",
    "# 2. How can I improve my score_test (I am using the default degree = 2 while using polynomial)\n",
    "# 3. By increasing the degree the score_train goes negative"
   ]
  },
  {
   "cell_type": "markdown",
   "id": "6649f533",
   "metadata": {},
   "source": [
    "## Analysis"
   ]
  },
  {
   "cell_type": "code",
   "execution_count": 31,
   "id": "03343407",
   "metadata": {},
   "outputs": [],
   "source": [
    "# If r2 score goes low in test data and train data then the model is underfitted\n",
    "# If r2 score goes negative in test data then the model is overfitted also actual values and predicted vales have a lot of difference"
   ]
  },
  {
   "cell_type": "code",
   "execution_count": 32,
   "id": "4b93af8b",
   "metadata": {},
   "outputs": [],
   "source": [
    "# If features are more than 5 then use Polynomial regression\n",
    "# If features are very high then use tensorflow\n",
    "# If features are less than 5 then use Linear regression"
   ]
  },
  {
   "cell_type": "code",
   "execution_count": 33,
   "id": "41898535",
   "metadata": {},
   "outputs": [
    {
     "data": {
      "text/plain": [
       "4.9089827293506705"
      ]
     },
     "execution_count": 33,
     "metadata": {},
     "output_type": "execute_result"
    }
   ],
   "source": [
    "# so here we can find the mean squared error of the model on train data\n",
    "mean_squared_error(train_output,pred_train)"
   ]
  },
  {
   "cell_type": "code",
   "execution_count": 34,
   "id": "cd306794",
   "metadata": {},
   "outputs": [
    {
     "data": {
      "text/plain": [
       "17.200976867402517"
      ]
     },
     "execution_count": 34,
     "metadata": {},
     "output_type": "execute_result"
    }
   ],
   "source": [
    "# so here we can find the mean squared error of the model on test data\n",
    "mean_squared_error(test_output,pred_test)"
   ]
  },
  {
   "cell_type": "markdown",
   "id": "39b4b832",
   "metadata": {},
   "source": [
    "## Using Feature Scaling to improve the performance of our Polynomial Regression model"
   ]
  },
  {
   "cell_type": "markdown",
   "id": "ee60cf12",
   "metadata": {},
   "source": [
    "## Trying StandardScalar"
   ]
  },
  {
   "cell_type": "code",
   "execution_count": 35,
   "id": "9ab7a1de",
   "metadata": {},
   "outputs": [],
   "source": [
    "### Option \n",
    "# implement Feature scaling to improve score_test\n",
    "# minmaxScalar is used in image scaling\n",
    "# StandarScaling is used for other types of data"
   ]
  },
  {
   "cell_type": "code",
   "execution_count": 36,
   "id": "2369b485",
   "metadata": {},
   "outputs": [],
   "source": [
    "from sklearn.preprocessing import StandardScaler #improving performance using feature scaling"
   ]
  },
  {
   "cell_type": "code",
   "execution_count": 37,
   "id": "fc4ce25d",
   "metadata": {},
   "outputs": [],
   "source": [
    "# This Feature Scaling is only used to transform data and not for actualing model training\n",
    "# Feature scaling is a method used to normalize the range of independent variables or features of data.\n",
    "std = StandardScaler() #initializing"
   ]
  },
  {
   "cell_type": "markdown",
   "id": "60065312",
   "metadata": {},
   "source": [
    "### Transforming data using Feature Scaling (StandardScaler)"
   ]
  },
  {
   "cell_type": "code",
   "execution_count": 38,
   "id": "06307058",
   "metadata": {},
   "outputs": [],
   "source": [
    "#This can improve our Polynomial Regression model\n",
    "std_train = std.fit_transform(train_input)\n",
    "std_test = std.transform(test_input)"
   ]
  },
  {
   "cell_type": "markdown",
   "id": "8ba390cb",
   "metadata": {},
   "source": [
    "### Transforming data using Polynomial Function class"
   ]
  },
  {
   "cell_type": "code",
   "execution_count": 39,
   "id": "4ae8eb4e",
   "metadata": {},
   "outputs": [],
   "source": [
    "poly2 = PolynomialFeatures()\n",
    "poly2_train = poly.fit_transform(std_train)\n",
    "poly2_test = poly.transform(std_test)"
   ]
  },
  {
   "cell_type": "markdown",
   "id": "06d87874",
   "metadata": {},
   "source": [
    "### Now we can apply Linear Regression"
   ]
  },
  {
   "cell_type": "code",
   "execution_count": 40,
   "id": "e69897c0",
   "metadata": {},
   "outputs": [],
   "source": [
    "lr2 = LinearRegression()"
   ]
  },
  {
   "cell_type": "code",
   "execution_count": 41,
   "id": "ed601771",
   "metadata": {},
   "outputs": [
    {
     "data": {
      "text/plain": [
       "LinearRegression()"
      ]
     },
     "execution_count": 41,
     "metadata": {},
     "output_type": "execute_result"
    }
   ],
   "source": [
    "lr2.fit(poly2_train,train_output)"
   ]
  },
  {
   "cell_type": "code",
   "execution_count": 42,
   "id": "86ade967",
   "metadata": {},
   "outputs": [
    {
     "data": {
      "text/plain": [
       "array([20.91992188, 23.72729492, 21.13208008, 22.34448242, 49.03491211,\n",
       "       12.22631836, 36.67944336, 20.96948242, 30.9621582 , 16.28222656,\n",
       "       20.75317383, 21.88867188, 22.66040039, 15.55444336, 12.67382812,\n",
       "       44.84399414, 19.60595703, 12.36791992, 25.06347656, 16.48657227,\n",
       "       13.47216797, 12.90307617, 26.41552734, 35.83203125, 15.23388672,\n",
       "       21.70263672, 20.21826172, 17.40185547, 11.92456055, 23.89550781,\n",
       "       24.80126953, 49.86376953, 27.69482422, 31.3828125 , 17.00097656,\n",
       "       39.890625  , 20.59423828, 33.76586914, 28.78515625, 15.64526367,\n",
       "       33.88793945, 14.73657227, 18.31396484, 21.70556641, 31.85083008,\n",
       "       15.13330078, 26.19580078, 23.27001953, 19.06005859, 35.59521484,\n",
       "       16.92285156, 35.37670898, 29.71850586, 25.35668945, 31.61035156,\n",
       "       49.97314453, 17.68286133, 17.38208008, 44.0690918 , 26.88842773,\n",
       "       20.04833984, 16.02099609, 42.72021484, 34.1706543 , 43.08642578,\n",
       "       20.65087891, 21.89013672, 23.76904297, 26.31518555, 20.01611328,\n",
       "       18.13989258, 13.37866211, 22.9987793 , 26.23168945,  8.44311523,\n",
       "       26.00439453, 16.10668945, 16.52001953, 22.06347656, 24.11450195,\n",
       "       38.59008789, 17.47241211, 23.05273438, 45.1730957 , 41.60083008,\n",
       "       14.70874023, 12.90380859, 25.01513672, 19.74438477, 18.92773438,\n",
       "       17.67773438, 17.18115234, 12.99584961, 14.59960938, 20.53735352,\n",
       "       31.89599609,  9.42138672, 27.73486328, 14.13378906, 21.1328125 ,\n",
       "       21.49414062, 19.94262695, 32.65722656, 18.98828125, 18.09521484,\n",
       "       10.41088867, 12.56933594, 15.81713867, 16.1472168 , 27.54321289,\n",
       "       20.98413086, 11.15722656, 17.98681641, 22.88037109, 11.1472168 ,\n",
       "       15.65869141, 22.48144531, 22.7487793 , 19.21289062, 21.46166992,\n",
       "       22.55810547, 47.29736328, 44.72705078, 23.73339844, 14.35620117,\n",
       "       13.34082031, 22.2512207 , 21.45043945, 23.85302734, 29.76757812,\n",
       "       22.46362305, 10.30175781, 32.46142578, 20.01782227, 19.88354492,\n",
       "       13.43969727, 22.4309082 , 42.91967773, 13.86132812, 15.21411133,\n",
       "       10.52685547, 21.08569336, 32.38793945, 20.28588867, 22.14453125,\n",
       "       19.61083984, 16.28149414, 16.49804688, 18.91186523, 29.91503906,\n",
       "       13.23828125,  1.39331055,  7.45898438, 20.0793457 , 20.03320312,\n",
       "       10.37329102, 29.71533203, 32.71826172, 28.18579102, 21.76196289,\n",
       "       36.04394531, 24.81005859, 10.23486328, 21.75927734, 18.61035156,\n",
       "       11.60571289, 20.65820312, 17.48095703, 48.74975586, 22.26147461,\n",
       "       11.84741211, 10.25634766, 24.86816406, 30.52978516, 10.23510742,\n",
       "       18.40234375, 29.83007812, 35.07568359, 28.47338867,  6.98754883,\n",
       "       34.80004883, 35.83886719, 19.31298828, 21.05639648,  8.00512695,\n",
       "       25.23071289, 19.53271484, 23.00390625, 21.38549805, 18.60546875,\n",
       "       18.81176758, 25.83251953, 48.46899414, 12.91455078, 20.91845703,\n",
       "       14.11523438, 19.41113281, 28.72314453, 46.49267578, 20.81689453,\n",
       "       33.77001953, 42.84179688, 30.61010742, 17.90551758, 16.37109375,\n",
       "       22.52099609, 21.13305664, 51.57275391, 16.0690918 , 26.98486328,\n",
       "       22.15185547, 14.98974609, 18.59008789, 20.49414062, 14.63623047,\n",
       "       18.72265625, 35.43432617, 48.13330078, 19.40991211, 18.30786133,\n",
       "       23.72802734, 14.21069336, 17.4206543 , 18.28955078, 12.44775391,\n",
       "       32.51757812, 19.75756836, 17.36669922, 13.30761719, 21.07299805,\n",
       "       20.04345703, 25.59887695, 40.05712891, 26.81030273, 31.50878906,\n",
       "       12.08447266, 23.68725586, 16.65283203,  8.6328125 , 14.60449219,\n",
       "       18.21704102, 18.04589844, 20.26342773, 24.06518555, 17.64453125,\n",
       "       21.10668945, 19.79736328, 17.56738281, 16.49438477, 20.83081055,\n",
       "       13.22753906, 23.4453125 , 18.15771484, 10.91162109, 29.16821289,\n",
       "       31.93383789, 16.21142578, 15.02441406, 16.32055664, 47.08251953,\n",
       "       30.26196289, 26.16308594, 14.15380859, 21.3269043 , 31.97509766,\n",
       "        8.13330078, 20.26245117, 18.984375  , 24.37158203, 21.56860352,\n",
       "       18.61010742, 23.91748047, 22.40600586, 22.83642578, 11.1237793 ,\n",
       "       34.11376953, 32.81811523, 23.75366211, 21.45239258, 27.46142578,\n",
       "       13.29882812, 19.81640625, 15.07080078, 22.28222656, 22.72265625,\n",
       "        7.71875   , 19.30175781, 18.72753906, 26.98217773, 21.6003418 ,\n",
       "       25.85400391, 26.27416992,  5.34692383, 21.78295898, 28.92211914,\n",
       "       15.81201172, 14.87939453, 25.43530273, 25.296875  ,  8.38500977,\n",
       "       18.33081055, 25.81616211, 17.24853516, 24.35400391, 19.95239258,\n",
       "       32.90039062, 25.2590332 , 32.21508789, 20.22070312, 52.19384766,\n",
       "       17.78417969, 22.61547852, 22.42236328, 17.61083984, 14.17895508,\n",
       "        8.91259766, 14.31616211, 27.90063477, 34.87207031, 13.75024414,\n",
       "       23.69750977, 21.57128906, 52.70141602, 16.9387207 , 31.77490234,\n",
       "       25.0559082 , 14.65454102, 44.36206055, 15.42944336, 20.91503906,\n",
       "       33.59643555, 19.77099609, 28.82714844, 22.09301758, 23.99316406,\n",
       "       27.05029297, 23.42773438, 21.33398438, 18.73413086, 17.48144531,\n",
       "       23.71923828, 49.02539062,  9.26733398, 35.75      , 16.18725586,\n",
       "       20.37475586, 34.65454102, 22.27001953, 26.26757812, 12.60107422,\n",
       "       12.66113281, 17.28955078, 22.78076172, 15.32373047, 27.82470703,\n",
       "       14.1496582 , 31.08203125, 46.46386719, 19.10253906, 24.87353516,\n",
       "       25.76611328, 18.01733398, 16.95751953, 14.45483398, 45.57763672,\n",
       "       24.40454102, 14.33642578, 33.828125  , 12.78173828, 15.38330078,\n",
       "       16.18505859, 24.27246094, 24.04394531, 45.15332031, 20.78027344,\n",
       "       13.21337891, 17.08764648, 14.34326172, 22.0222168 , 23.35595703,\n",
       "       15.74707031, 22.1340332 , 23.60791016, 15.10327148, 21.09082031,\n",
       "       21.53735352, 23.58203125, 16.08129883, 25.92651367, 26.16479492,\n",
       "       22.64111328, 22.17407227, 15.6940918 , 22.59838867, 19.39550781,\n",
       "       26.78662109, 18.94702148, 20.9453125 , 21.140625  ,  9.44726562,\n",
       "       32.08447266, 29.93115234, 17.04052734, 19.42749023])"
      ]
     },
     "execution_count": 42,
     "metadata": {},
     "output_type": "execute_result"
    }
   ],
   "source": [
    "pred2_train = lr2.predict(poly2_train) # Running Predictions on train dataset\n",
    "pred2_train"
   ]
  },
  {
   "cell_type": "code",
   "execution_count": 43,
   "id": "2ecafc88",
   "metadata": {},
   "outputs": [
    {
     "data": {
      "text/plain": [
       "array([26.18359375, 19.70996094, 21.80639648, 26.95166016, 23.79394531,\n",
       "       31.8972168 , 24.85229492, 19.93334961, 24.71582031, 15.81958008,\n",
       "       18.03710938, 11.59521484, 28.71582031, 23.73486328, 18.23706055,\n",
       "        3.0546875 , 18.54663086, 31.16503906, 17.86328125,  8.42480469,\n",
       "       19.74121094, 20.27636719, 26.73120117, 23.58300781,  8.62524414,\n",
       "       15.25927734, 18.51171875, 15.38623047, 11.85913086, 17.07006836,\n",
       "       24.90234375, 12.22265625, 29.24536133, 30.87451172,  8.00439453,\n",
       "       19.07299805, 22.28613281, 27.60205078, 30.84619141, 16.58618164,\n",
       "       13.86376953, 17.28295898, 14.26025391, 17.78564453, 25.86401367,\n",
       "       27.71533203, 29.11865234, 25.38330078, 25.57763672, 32.30517578,\n",
       "       21.6003418 , 17.38745117, 28.23120117, 30.25048828, 32.41162109,\n",
       "       19.88427734, 22.91064453, 24.79516602, 18.24291992, 17.50830078,\n",
       "       28.53442383, 21.27319336, 17.39501953, 19.49438477, 20.11450195,\n",
       "       20.18725586, 26.04003906, 27.33544922, 16.46362305, 22.87744141,\n",
       "       21.9699707 , 16.83935547, 23.91967773, 54.48046875, 23.63720703,\n",
       "        7.29345703, 39.4621582 , 24.50146484, 33.41577148, 21.59375   ,\n",
       "       19.75463867, 20.609375  , 33.84960938, 15.9777832 , 19.29785156,\n",
       "       19.12353516, 21.36352539, 23.74365234, 20.98339844, 29.09790039,\n",
       "       18.85009766,  7.44750977, 25.34033203, 22.86010742, 19.78344727,\n",
       "       22.78710938, 29.06835938, 14.49951172, 34.03491211, 20.73291016,\n",
       "       16.36401367, 18.05444336])"
      ]
     },
     "execution_count": 43,
     "metadata": {},
     "output_type": "execute_result"
    }
   ],
   "source": [
    "predic2_test = lr2.predict(poly2_test)\n",
    "predic2_test"
   ]
  },
  {
   "cell_type": "code",
   "execution_count": 44,
   "id": "2103e190",
   "metadata": {},
   "outputs": [
    {
     "data": {
      "text/plain": [
       "0.753818509604233"
      ]
     },
     "execution_count": 44,
     "metadata": {},
     "output_type": "execute_result"
    }
   ],
   "source": [
    "# 0.7113441675773511 was our previous score test\n",
    "score2_test = r2_score(test_output,predic2_test) #here we can see an improvement in our score_test\n",
    "score2_test"
   ]
  },
  {
   "cell_type": "code",
   "execution_count": 45,
   "id": "e5f1083a",
   "metadata": {},
   "outputs": [
    {
     "data": {
      "text/plain": [
       "0.9457836683730921"
      ]
     },
     "execution_count": 45,
     "metadata": {},
     "output_type": "execute_result"
    }
   ],
   "source": [
    "score_train = r2_score(train_output,pred2_train)\n",
    "score_train"
   ]
  },
  {
   "cell_type": "markdown",
   "id": "a072417b",
   "metadata": {},
   "source": [
    "## Trying MinMaxScalar"
   ]
  },
  {
   "cell_type": "code",
   "execution_count": 46,
   "id": "ce92808f",
   "metadata": {},
   "outputs": [],
   "source": [
    "from sklearn.preprocessing import MinMaxScaler #improving performance using feature scaling"
   ]
  },
  {
   "cell_type": "code",
   "execution_count": 47,
   "id": "4fe8e9ce",
   "metadata": {},
   "outputs": [],
   "source": [
    "minmax_scaler = MinMaxScaler() # initialization of minmaxScalar"
   ]
  },
  {
   "cell_type": "markdown",
   "id": "97570378",
   "metadata": {},
   "source": [
    "### Transforming data using Feature Scaling (MinMaxScaler)"
   ]
  },
  {
   "cell_type": "code",
   "execution_count": 48,
   "id": "1b9cbfcd",
   "metadata": {},
   "outputs": [],
   "source": [
    "minmax_scaler_train = minmax_scaler.fit_transform(train_input)\n",
    "minmax_scaler_test = minmax_scaler.transform(test_input)"
   ]
  },
  {
   "cell_type": "markdown",
   "id": "321e131e",
   "metadata": {},
   "source": [
    "### Transforming data using Polynomial Function class"
   ]
  },
  {
   "cell_type": "code",
   "execution_count": 49,
   "id": "d6dd069e",
   "metadata": {},
   "outputs": [],
   "source": [
    "poly3 = PolynomialFeatures()\n",
    "poly3_train = poly.fit_transform(minmax_scaler_train)\n",
    "poly3_test = poly.transform(minmax_scaler_test)"
   ]
  },
  {
   "cell_type": "markdown",
   "id": "8e725952",
   "metadata": {},
   "source": [
    "### Now we can apply Linear Regression¶"
   ]
  },
  {
   "cell_type": "code",
   "execution_count": 50,
   "id": "6d6aaab5",
   "metadata": {},
   "outputs": [],
   "source": [
    "lr3 = LinearRegression()"
   ]
  },
  {
   "cell_type": "code",
   "execution_count": 51,
   "id": "6897d8a6",
   "metadata": {},
   "outputs": [
    {
     "data": {
      "text/plain": [
       "LinearRegression()"
      ]
     },
     "execution_count": 51,
     "metadata": {},
     "output_type": "execute_result"
    }
   ],
   "source": [
    "lr3.fit(poly3_train,train_output)"
   ]
  },
  {
   "cell_type": "code",
   "execution_count": 52,
   "id": "4b6fabf8",
   "metadata": {},
   "outputs": [
    {
     "data": {
      "text/plain": [
       "array([20.91785468, 23.64719438, 21.06627923, 22.27901071, 49.06895994,\n",
       "       12.2488822 , 36.75690794, 21.05093911, 31.04506502, 16.30763677,\n",
       "       20.71877858, 21.84936325, 22.55728653, 15.53891461, 12.65591945,\n",
       "       44.81125682, 19.53541357, 12.38396929, 25.05907976, 16.52587189,\n",
       "       13.39174075, 12.92099605, 26.39956128, 35.7587966 , 15.25299193,\n",
       "       21.65732273, 20.17125944, 17.34635733, 11.94390355, 23.8400201 ,\n",
       "       24.71508952, 49.81649068, 27.65275502, 31.41162046, 16.98211277,\n",
       "       39.81047307, 20.40300425, 33.79256567, 28.7969134 , 15.5783048 ,\n",
       "       33.91426435, 14.74641548, 18.29607786, 21.71470958, 31.82367395,\n",
       "       15.13103543, 26.19647815, 23.20292748, 19.07964701, 35.60503659,\n",
       "       16.88150725, 35.44131428, 29.66014144, 25.260668  , 31.52910394,\n",
       "       49.88240036, 17.72723761, 17.35750626, 44.06675163, 26.88280598,\n",
       "       19.98382167, 16.03183715, 42.76145416, 34.17838023, 43.11662851,\n",
       "       20.62450309, 21.9100008 , 23.82381873, 26.32040325, 19.99302495,\n",
       "       18.10632344, 13.302338  , 22.97224011, 26.21355242,  8.39688316,\n",
       "       25.99591941, 16.11304406, 16.53812831, 22.09152132, 24.06472216,\n",
       "       38.64406789, 17.44447508, 22.95930531, 45.20988938, 41.63799377,\n",
       "       14.67472864, 12.85014244, 25.01157253, 19.62339751, 18.93249337,\n",
       "       17.72032591, 17.1254697 , 12.98861357, 14.61220332, 20.54506256,\n",
       "       32.01133174,  9.43021366, 27.74030841, 14.17313359, 21.15453323,\n",
       "       21.48778522, 19.89388188, 32.66996154, 18.8473368 , 17.98005   ,\n",
       "       10.40477832, 12.53831125, 15.79772863, 16.11405503, 27.51348725,\n",
       "       20.98063521, 11.15852183, 17.98476627, 22.86761469, 11.1265748 ,\n",
       "       15.58081308, 22.34666315, 22.82944456, 19.22840383, 21.44548624,\n",
       "       22.48184832, 47.36441701, 44.75512343, 23.67737729, 14.35337559,\n",
       "       13.28069327, 22.24496824, 21.42543641, 23.8814706 , 29.79989688,\n",
       "       22.40079046, 10.28233005, 32.40082537, 20.04770176, 19.92241671,\n",
       "       13.46062087, 22.45345099, 42.84784397, 13.8374549 , 15.2437085 ,\n",
       "       10.56962825, 21.05078827, 32.40760003, 20.27738432, 21.95017726,\n",
       "       19.56892428, 16.27464941, 16.50828964, 18.85534312, 30.0146605 ,\n",
       "       13.20822515,  1.42807411,  7.40416366, 20.13190099, 20.02259963,\n",
       "       10.31893667, 29.71066741, 32.63317503, 28.11424248, 21.7778021 ,\n",
       "       36.09613181, 24.78264352, 10.27464555, 21.7759497 , 18.57056468,\n",
       "       11.55850598, 20.69558707, 17.50513848, 48.64644549, 22.2727063 ,\n",
       "       11.83937102, 10.28289295, 24.85283378, 30.47782304, 10.23041679,\n",
       "       18.36856372, 29.82255724, 35.07577378, 28.50466337,  7.10913494,\n",
       "       34.8308299 , 35.8370081 , 19.23715502, 21.13975123,  7.94537382,\n",
       "       25.27245965, 19.51735319, 23.05229721, 21.30264922, 18.70798069,\n",
       "       18.76738396, 25.8343426 , 48.50699879, 12.93350191, 20.94758329,\n",
       "       14.10207079, 19.39202183, 28.74029863, 46.52655639, 20.83562375,\n",
       "       33.7602745 , 42.75504456, 30.61951794, 17.9046241 , 16.37848695,\n",
       "       22.48428861, 21.08603872, 51.50725121, 16.02966178, 26.89978901,\n",
       "       22.10490653, 15.0360463 , 18.44692739, 20.48029579, 14.5294449 ,\n",
       "       18.73283675, 35.53668872, 48.21926093, 19.46564121, 18.27232061,\n",
       "       23.66418524, 14.25281666, 17.46867764, 18.28416443, 12.45056747,\n",
       "       32.45775006, 19.6694524 , 17.33747205, 13.29627876, 21.06279032,\n",
       "       20.01555582, 25.55534975, 40.134311  , 26.8461709 , 31.39674045,\n",
       "       12.10474038, 23.58203463, 16.64396742,  8.62284074, 14.6061677 ,\n",
       "       18.23857239, 18.01085626, 20.22513995, 24.03422802, 17.76759122,\n",
       "       21.07975805, 19.74800142, 17.58714696, 16.44792371, 20.80517717,\n",
       "       13.25267084, 23.47614078, 18.18681241, 10.84605435, 29.13364086,\n",
       "       31.9594137 , 16.17111332, 15.04342778, 16.3192197 , 47.07798241,\n",
       "       30.22171565, 26.10575161, 14.10297669, 21.3783826 , 31.95133342,\n",
       "        8.12914416, 20.18962753, 18.96731427, 24.33434671, 21.53169049,\n",
       "       18.61085821, 24.02264638, 22.38953457, 22.79037012, 11.16077038,\n",
       "       34.14672518, 32.90940245, 23.78224068, 21.41222972, 27.45289969,\n",
       "       13.21677125, 19.88257873, 15.02919375, 22.23487835, 22.74530397,\n",
       "        7.72792225, 19.3179291 , 18.61689726, 26.9221146 , 21.56102254,\n",
       "       25.85349139, 26.26810841,  5.4017921 , 21.80625051, 28.88791418,\n",
       "       15.81907198, 14.80859037, 25.45037455, 25.27956043,  8.41375979,\n",
       "       18.34541067, 25.74777317, 17.27162981, 24.30813138, 19.94404784,\n",
       "       32.94523701, 25.22566222, 32.3218458 , 20.23271459, 52.11062116,\n",
       "       17.79277766, 22.58944575, 22.33810488, 17.67196522, 14.15407325,\n",
       "        8.90228813, 14.31976812, 27.95604845, 34.83178349, 13.75564515,\n",
       "       23.73231588, 21.57340066, 52.71238948, 16.93919146, 31.75238621,\n",
       "       25.02288836, 14.69188209, 44.3783922 , 15.42994573, 20.90164309,\n",
       "       33.68376141, 19.87166941, 28.84614015, 22.06084621, 23.98257912,\n",
       "       27.08792139, 23.41897025, 21.38858563, 18.66442775, 17.42269042,\n",
       "       23.55719429, 49.13859731,  9.28241021, 35.8089646 , 16.22483215,\n",
       "       20.35506866, 34.68638742, 22.16193326, 26.28276967, 12.50750815,\n",
       "       12.66164847, 17.27967242, 22.72548933, 15.34070579, 27.9691085 ,\n",
       "       14.14288874, 31.04059099, 46.39193313, 19.11270265, 24.86363006,\n",
       "       25.75345435, 17.99809641, 16.96711293, 14.45779893, 45.60275484,\n",
       "       24.39099345, 14.34198238, 33.81944991, 12.83507255, 15.31448147,\n",
       "       16.18221168, 24.29942708, 24.03869794, 45.15157693, 20.66378899,\n",
       "       13.23175104, 17.11717442, 14.27711316, 22.00104145, 23.37314597,\n",
       "       15.77402563, 22.09964531, 23.58244671, 15.10901252, 21.0976764 ,\n",
       "       21.49967409, 23.55417437, 16.10123244, 25.93325253, 26.11665836,\n",
       "       22.62830195, 22.1775344 , 15.71905149, 22.70003151, 19.33913969,\n",
       "       26.76728494, 18.94510795, 20.95402819, 21.14613665,  9.44583347,\n",
       "       32.10605808, 29.97765285, 17.0932307 , 19.35766591])"
      ]
     },
     "execution_count": 52,
     "metadata": {},
     "output_type": "execute_result"
    }
   ],
   "source": [
    "pred3_train = lr3.predict(poly3_train) # Running Predictions on train dataset\n",
    "pred3_train"
   ]
  },
  {
   "cell_type": "code",
   "execution_count": 53,
   "id": "726e1f82",
   "metadata": {},
   "outputs": [
    {
     "data": {
      "text/plain": [
       "array([26.17374769, 19.72762456, 21.78295473, 26.92225724, 23.74754038,\n",
       "       31.85512054, 24.85311963, 19.91731026, 24.68621965, 15.83646514,\n",
       "       18.06964884, 11.58365066, 28.70357444, 23.65599127, 18.27345352,\n",
       "        2.97824489, 18.48343818, 31.19801269, 17.93474187,  8.3686581 ,\n",
       "       19.78817878, 20.18912846, 26.75627855, 23.51987838,  8.64784006,\n",
       "       15.25874744, 18.49984381, 15.49247876, 11.83372446, 17.03954964,\n",
       "       24.93887091, 12.23111479, 29.09810223, 30.92508145,  7.95939395,\n",
       "       19.00400103, 22.20815693, 27.6804525 , 30.85195964, 16.60698724,\n",
       "       13.84976479, 17.27395516, 14.27911434, 17.80091579, 25.86626956,\n",
       "       27.48707315, 29.16069353, 25.24980752, 25.58799603, 32.26266744,\n",
       "       21.54735987, 17.4519266 , 28.17089299, 30.26715989, 32.38999448,\n",
       "       19.87420466, 22.90864902, 24.75638119, 18.25230595, 17.47668929,\n",
       "       28.50037988, 21.30310747, 17.42562531, 19.4870397 , 20.08008127,\n",
       "       20.22637485, 26.04554496, 27.37373823, 16.47093065, 22.8179048 ,\n",
       "       22.03289054, 16.82268777, 23.90329646, 54.59732701, 23.70850289,\n",
       "        7.19849758, 39.43272436, 24.47461294, 33.4002806 , 21.61885088,\n",
       "       19.82202311, 20.5987925 , 33.75062534, 15.92473759, 19.32731209,\n",
       "       19.09306928, 21.32781543, 23.75083076, 20.94780222, 29.2038625 ,\n",
       "       18.77550001,  7.47418829, 25.43216164, 22.88966017, 19.78228057,\n",
       "       22.70348092, 28.96430895, 14.50183704, 33.98369848, 20.76642635,\n",
       "       16.35590225, 17.94665178])"
      ]
     },
     "execution_count": 53,
     "metadata": {},
     "output_type": "execute_result"
    }
   ],
   "source": [
    "predic3_test = lr3.predict(poly3_test)\n",
    "predic3_test"
   ]
  },
  {
   "cell_type": "code",
   "execution_count": 54,
   "id": "3de1dada",
   "metadata": {},
   "outputs": [
    {
     "data": {
      "text/plain": [
       "0.7551938387815483"
      ]
     },
     "execution_count": 54,
     "metadata": {},
     "output_type": "execute_result"
    }
   ],
   "source": [
    "# 0.7113441675773511 was our previous score test\n",
    "score3_test = r2_score(test_output,predic3_test) #here we can see an improvement in our score_test\n",
    "score3_test"
   ]
  },
  {
   "cell_type": "code",
   "execution_count": 55,
   "id": "74236d96",
   "metadata": {},
   "outputs": [
    {
     "data": {
      "text/plain": [
       "0.9458112923253474"
      ]
     },
     "execution_count": 55,
     "metadata": {},
     "output_type": "execute_result"
    }
   ],
   "source": [
    "score_train = r2_score(train_output,pred3_train)\n",
    "score_train"
   ]
  },
  {
   "cell_type": "markdown",
   "id": "881b3114",
   "metadata": {},
   "source": [
    "## Conclusion"
   ]
  },
  {
   "cell_type": "markdown",
   "id": "0f008beb",
   "metadata": {},
   "source": [
    "### The improvement in this case after applying StandardScaler and Minmax Scaler is the same"
   ]
  },
  {
   "cell_type": "code",
   "execution_count": 57,
   "id": "fd7ba136",
   "metadata": {},
   "outputs": [],
   "source": [
    "# What is the difference between StandardScalar and MinMaxScalar"
   ]
  },
  {
   "cell_type": "code",
   "execution_count": 58,
   "id": "789ac9a3",
   "metadata": {},
   "outputs": [],
   "source": [
    "# Minmax scalar shifts all values in between 0 and 1 (used in image form of data)\n",
    "# Satndard scalar mean =0 and variance = 1 (used in other types of data other than image)"
   ]
  },
  {
   "cell_type": "code",
   "execution_count": null,
   "id": "15688e8b",
   "metadata": {},
   "outputs": [],
   "source": []
  }
 ],
 "metadata": {
  "kernelspec": {
   "display_name": "Python [conda env:tensorflow] *",
   "language": "python",
   "name": "conda-env-tensorflow-py"
  },
  "language_info": {
   "codemirror_mode": {
    "name": "ipython",
    "version": 3
   },
   "file_extension": ".py",
   "mimetype": "text/x-python",
   "name": "python",
   "nbconvert_exporter": "python",
   "pygments_lexer": "ipython3",
   "version": "3.8.12"
  }
 },
 "nbformat": 4,
 "nbformat_minor": 5
}

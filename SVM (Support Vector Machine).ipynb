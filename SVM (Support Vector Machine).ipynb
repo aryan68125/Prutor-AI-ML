{
 "cells": [
  {
   "cell_type": "markdown",
   "id": "a9a048ca",
   "metadata": {},
   "source": [
    "# Support Vector Machine"
   ]
  },
  {
   "cell_type": "markdown",
   "id": "e7f8942c",
   "metadata": {},
   "source": [
    "## SVM can be used as a Logistic regression model for linear datasets and also for non-linear datasets"
   ]
  },
  {
   "cell_type": "markdown",
   "id": "b5d34557",
   "metadata": {},
   "source": [
    "## SVM for Linear dataset"
   ]
  },
  {
   "cell_type": "code",
   "execution_count": 1,
   "id": "e55ac7f4",
   "metadata": {},
   "outputs": [],
   "source": [
    "import numpy as np\n",
    "import pandas as pd\n",
    "import matplotlib.pyplot as plt"
   ]
  },
  {
   "cell_type": "code",
   "execution_count": 2,
   "id": "11c523e4",
   "metadata": {},
   "outputs": [
    {
     "data": {
      "text/html": [
       "<div>\n",
       "<style scoped>\n",
       "    .dataframe tbody tr th:only-of-type {\n",
       "        vertical-align: middle;\n",
       "    }\n",
       "\n",
       "    .dataframe tbody tr th {\n",
       "        vertical-align: top;\n",
       "    }\n",
       "\n",
       "    .dataframe thead th {\n",
       "        text-align: right;\n",
       "    }\n",
       "</style>\n",
       "<table border=\"1\" class=\"dataframe\">\n",
       "  <thead>\n",
       "    <tr style=\"text-align: right;\">\n",
       "      <th></th>\n",
       "      <th>R&amp;D Spend</th>\n",
       "      <th>Administration</th>\n",
       "      <th>Marketing Spend</th>\n",
       "      <th>State</th>\n",
       "      <th>Profit</th>\n",
       "    </tr>\n",
       "  </thead>\n",
       "  <tbody>\n",
       "    <tr>\n",
       "      <th>0</th>\n",
       "      <td>165349.20</td>\n",
       "      <td>136897.80</td>\n",
       "      <td>471784.10</td>\n",
       "      <td>New York</td>\n",
       "      <td>192261.83</td>\n",
       "    </tr>\n",
       "    <tr>\n",
       "      <th>1</th>\n",
       "      <td>162597.70</td>\n",
       "      <td>151377.59</td>\n",
       "      <td>443898.53</td>\n",
       "      <td>California</td>\n",
       "      <td>191792.06</td>\n",
       "    </tr>\n",
       "    <tr>\n",
       "      <th>2</th>\n",
       "      <td>153441.51</td>\n",
       "      <td>101145.55</td>\n",
       "      <td>407934.54</td>\n",
       "      <td>Florida</td>\n",
       "      <td>191050.39</td>\n",
       "    </tr>\n",
       "    <tr>\n",
       "      <th>3</th>\n",
       "      <td>144372.41</td>\n",
       "      <td>118671.85</td>\n",
       "      <td>383199.62</td>\n",
       "      <td>New York</td>\n",
       "      <td>182901.99</td>\n",
       "    </tr>\n",
       "    <tr>\n",
       "      <th>4</th>\n",
       "      <td>142107.34</td>\n",
       "      <td>91391.77</td>\n",
       "      <td>366168.42</td>\n",
       "      <td>Florida</td>\n",
       "      <td>166187.94</td>\n",
       "    </tr>\n",
       "  </tbody>\n",
       "</table>\n",
       "</div>"
      ],
      "text/plain": [
       "   R&D Spend  Administration  Marketing Spend       State     Profit\n",
       "0  165349.20       136897.80        471784.10    New York  192261.83\n",
       "1  162597.70       151377.59        443898.53  California  191792.06\n",
       "2  153441.51       101145.55        407934.54     Florida  191050.39\n",
       "3  144372.41       118671.85        383199.62    New York  182901.99\n",
       "4  142107.34        91391.77        366168.42     Florida  166187.94"
      ]
     },
     "execution_count": 2,
     "metadata": {},
     "output_type": "execute_result"
    }
   ],
   "source": [
    "data = pd.read_csv('50_Startups.csv')\n",
    "data.head()"
   ]
  },
  {
   "cell_type": "code",
   "execution_count": 3,
   "id": "79c5119f",
   "metadata": {},
   "outputs": [
    {
     "data": {
      "text/plain": [
       "(50, 5)"
      ]
     },
     "execution_count": 3,
     "metadata": {},
     "output_type": "execute_result"
    }
   ],
   "source": [
    "data.shape"
   ]
  },
  {
   "cell_type": "code",
   "execution_count": 4,
   "id": "fdff2d13",
   "metadata": {},
   "outputs": [
    {
     "data": {
      "text/plain": [
       "R&D Spend          float64\n",
       "Administration     float64\n",
       "Marketing Spend    float64\n",
       "State               object\n",
       "Profit             float64\n",
       "dtype: object"
      ]
     },
     "execution_count": 4,
     "metadata": {},
     "output_type": "execute_result"
    }
   ],
   "source": [
    "data.dtypes"
   ]
  },
  {
   "cell_type": "code",
   "execution_count": 5,
   "id": "e602aeb2",
   "metadata": {},
   "outputs": [
    {
     "data": {
      "text/plain": [
       "New York      17\n",
       "California    17\n",
       "Florida       16\n",
       "Name: State, dtype: int64"
      ]
     },
     "execution_count": 5,
     "metadata": {},
     "output_type": "execute_result"
    }
   ],
   "source": [
    "data.State.value_counts()   #nominal feature"
   ]
  },
  {
   "cell_type": "code",
   "execution_count": 6,
   "id": "c532b417",
   "metadata": {},
   "outputs": [
    {
     "data": {
      "text/plain": [
       "R&D Spend          0\n",
       "Administration     0\n",
       "Marketing Spend    0\n",
       "State              0\n",
       "Profit             0\n",
       "dtype: int64"
      ]
     },
     "execution_count": 6,
     "metadata": {},
     "output_type": "execute_result"
    }
   ],
   "source": [
    "data.isnull().sum() #checking if there is any null values OR missing values in the dataframe"
   ]
  },
  {
   "cell_type": "code",
   "execution_count": 7,
   "id": "7d50f5bf",
   "metadata": {},
   "outputs": [],
   "source": [
    "#nominal feature :implement one hot encoding to convert categorical data into numeric\n",
    "#                 There is no mathematical order or relationships between values in the categories\n",
    "#ordinal feature: implement label encoding to convert this ordinal feature into numeric\n",
    "#                 There is some mathematical order or relationships between categories"
   ]
  },
  {
   "cell_type": "code",
   "execution_count": 8,
   "id": "8b39fa55",
   "metadata": {},
   "outputs": [
    {
     "data": {
      "text/html": [
       "<div>\n",
       "<style scoped>\n",
       "    .dataframe tbody tr th:only-of-type {\n",
       "        vertical-align: middle;\n",
       "    }\n",
       "\n",
       "    .dataframe tbody tr th {\n",
       "        vertical-align: top;\n",
       "    }\n",
       "\n",
       "    .dataframe thead th {\n",
       "        text-align: right;\n",
       "    }\n",
       "</style>\n",
       "<table border=\"1\" class=\"dataframe\">\n",
       "  <thead>\n",
       "    <tr style=\"text-align: right;\">\n",
       "      <th></th>\n",
       "      <th>R&amp;D Spend</th>\n",
       "      <th>Administration</th>\n",
       "      <th>Marketing Spend</th>\n",
       "      <th>State</th>\n",
       "      <th>Profit</th>\n",
       "    </tr>\n",
       "  </thead>\n",
       "  <tbody>\n",
       "    <tr>\n",
       "      <th>0</th>\n",
       "      <td>165349.20</td>\n",
       "      <td>136897.80</td>\n",
       "      <td>471784.10</td>\n",
       "      <td>New York</td>\n",
       "      <td>192261.83</td>\n",
       "    </tr>\n",
       "    <tr>\n",
       "      <th>1</th>\n",
       "      <td>162597.70</td>\n",
       "      <td>151377.59</td>\n",
       "      <td>443898.53</td>\n",
       "      <td>California</td>\n",
       "      <td>191792.06</td>\n",
       "    </tr>\n",
       "    <tr>\n",
       "      <th>2</th>\n",
       "      <td>153441.51</td>\n",
       "      <td>101145.55</td>\n",
       "      <td>407934.54</td>\n",
       "      <td>Florida</td>\n",
       "      <td>191050.39</td>\n",
       "    </tr>\n",
       "    <tr>\n",
       "      <th>3</th>\n",
       "      <td>144372.41</td>\n",
       "      <td>118671.85</td>\n",
       "      <td>383199.62</td>\n",
       "      <td>New York</td>\n",
       "      <td>182901.99</td>\n",
       "    </tr>\n",
       "    <tr>\n",
       "      <th>4</th>\n",
       "      <td>142107.34</td>\n",
       "      <td>91391.77</td>\n",
       "      <td>366168.42</td>\n",
       "      <td>Florida</td>\n",
       "      <td>166187.94</td>\n",
       "    </tr>\n",
       "    <tr>\n",
       "      <th>5</th>\n",
       "      <td>131876.90</td>\n",
       "      <td>99814.71</td>\n",
       "      <td>362861.36</td>\n",
       "      <td>New York</td>\n",
       "      <td>156991.12</td>\n",
       "    </tr>\n",
       "    <tr>\n",
       "      <th>6</th>\n",
       "      <td>134615.46</td>\n",
       "      <td>147198.87</td>\n",
       "      <td>127716.82</td>\n",
       "      <td>California</td>\n",
       "      <td>156122.51</td>\n",
       "    </tr>\n",
       "    <tr>\n",
       "      <th>7</th>\n",
       "      <td>130298.13</td>\n",
       "      <td>145530.06</td>\n",
       "      <td>323876.68</td>\n",
       "      <td>Florida</td>\n",
       "      <td>155752.60</td>\n",
       "    </tr>\n",
       "    <tr>\n",
       "      <th>8</th>\n",
       "      <td>120542.52</td>\n",
       "      <td>148718.95</td>\n",
       "      <td>311613.29</td>\n",
       "      <td>New York</td>\n",
       "      <td>152211.77</td>\n",
       "    </tr>\n",
       "    <tr>\n",
       "      <th>9</th>\n",
       "      <td>123334.88</td>\n",
       "      <td>108679.17</td>\n",
       "      <td>304981.62</td>\n",
       "      <td>California</td>\n",
       "      <td>149759.96</td>\n",
       "    </tr>\n",
       "    <tr>\n",
       "      <th>10</th>\n",
       "      <td>101913.08</td>\n",
       "      <td>110594.11</td>\n",
       "      <td>229160.95</td>\n",
       "      <td>Florida</td>\n",
       "      <td>146121.95</td>\n",
       "    </tr>\n",
       "    <tr>\n",
       "      <th>11</th>\n",
       "      <td>100671.96</td>\n",
       "      <td>91790.61</td>\n",
       "      <td>249744.55</td>\n",
       "      <td>California</td>\n",
       "      <td>144259.40</td>\n",
       "    </tr>\n",
       "    <tr>\n",
       "      <th>12</th>\n",
       "      <td>93863.75</td>\n",
       "      <td>127320.38</td>\n",
       "      <td>249839.44</td>\n",
       "      <td>Florida</td>\n",
       "      <td>141585.52</td>\n",
       "    </tr>\n",
       "    <tr>\n",
       "      <th>13</th>\n",
       "      <td>91992.39</td>\n",
       "      <td>135495.07</td>\n",
       "      <td>252664.93</td>\n",
       "      <td>California</td>\n",
       "      <td>134307.35</td>\n",
       "    </tr>\n",
       "    <tr>\n",
       "      <th>14</th>\n",
       "      <td>119943.24</td>\n",
       "      <td>156547.42</td>\n",
       "      <td>256512.92</td>\n",
       "      <td>Florida</td>\n",
       "      <td>132602.65</td>\n",
       "    </tr>\n",
       "    <tr>\n",
       "      <th>15</th>\n",
       "      <td>114523.61</td>\n",
       "      <td>122616.84</td>\n",
       "      <td>261776.23</td>\n",
       "      <td>New York</td>\n",
       "      <td>129917.04</td>\n",
       "    </tr>\n",
       "    <tr>\n",
       "      <th>16</th>\n",
       "      <td>78013.11</td>\n",
       "      <td>121597.55</td>\n",
       "      <td>264346.06</td>\n",
       "      <td>California</td>\n",
       "      <td>126992.93</td>\n",
       "    </tr>\n",
       "    <tr>\n",
       "      <th>17</th>\n",
       "      <td>94657.16</td>\n",
       "      <td>145077.58</td>\n",
       "      <td>282574.31</td>\n",
       "      <td>New York</td>\n",
       "      <td>125370.37</td>\n",
       "    </tr>\n",
       "    <tr>\n",
       "      <th>18</th>\n",
       "      <td>91749.16</td>\n",
       "      <td>114175.79</td>\n",
       "      <td>294919.57</td>\n",
       "      <td>Florida</td>\n",
       "      <td>124266.90</td>\n",
       "    </tr>\n",
       "    <tr>\n",
       "      <th>19</th>\n",
       "      <td>86419.70</td>\n",
       "      <td>153514.11</td>\n",
       "      <td>0.00</td>\n",
       "      <td>New York</td>\n",
       "      <td>122776.86</td>\n",
       "    </tr>\n",
       "    <tr>\n",
       "      <th>20</th>\n",
       "      <td>76253.86</td>\n",
       "      <td>113867.30</td>\n",
       "      <td>298664.47</td>\n",
       "      <td>California</td>\n",
       "      <td>118474.03</td>\n",
       "    </tr>\n",
       "    <tr>\n",
       "      <th>21</th>\n",
       "      <td>78389.47</td>\n",
       "      <td>153773.43</td>\n",
       "      <td>299737.29</td>\n",
       "      <td>New York</td>\n",
       "      <td>111313.02</td>\n",
       "    </tr>\n",
       "    <tr>\n",
       "      <th>22</th>\n",
       "      <td>73994.56</td>\n",
       "      <td>122782.75</td>\n",
       "      <td>303319.26</td>\n",
       "      <td>Florida</td>\n",
       "      <td>110352.25</td>\n",
       "    </tr>\n",
       "    <tr>\n",
       "      <th>23</th>\n",
       "      <td>67532.53</td>\n",
       "      <td>105751.03</td>\n",
       "      <td>304768.73</td>\n",
       "      <td>Florida</td>\n",
       "      <td>108733.99</td>\n",
       "    </tr>\n",
       "    <tr>\n",
       "      <th>24</th>\n",
       "      <td>77044.01</td>\n",
       "      <td>99281.34</td>\n",
       "      <td>140574.81</td>\n",
       "      <td>New York</td>\n",
       "      <td>108552.04</td>\n",
       "    </tr>\n",
       "    <tr>\n",
       "      <th>25</th>\n",
       "      <td>64664.71</td>\n",
       "      <td>139553.16</td>\n",
       "      <td>137962.62</td>\n",
       "      <td>California</td>\n",
       "      <td>107404.34</td>\n",
       "    </tr>\n",
       "    <tr>\n",
       "      <th>26</th>\n",
       "      <td>75328.87</td>\n",
       "      <td>144135.98</td>\n",
       "      <td>134050.07</td>\n",
       "      <td>Florida</td>\n",
       "      <td>105733.54</td>\n",
       "    </tr>\n",
       "    <tr>\n",
       "      <th>27</th>\n",
       "      <td>72107.60</td>\n",
       "      <td>127864.55</td>\n",
       "      <td>353183.81</td>\n",
       "      <td>New York</td>\n",
       "      <td>105008.31</td>\n",
       "    </tr>\n",
       "    <tr>\n",
       "      <th>28</th>\n",
       "      <td>66051.52</td>\n",
       "      <td>182645.56</td>\n",
       "      <td>118148.20</td>\n",
       "      <td>Florida</td>\n",
       "      <td>103282.38</td>\n",
       "    </tr>\n",
       "    <tr>\n",
       "      <th>29</th>\n",
       "      <td>65605.48</td>\n",
       "      <td>153032.06</td>\n",
       "      <td>107138.38</td>\n",
       "      <td>New York</td>\n",
       "      <td>101004.64</td>\n",
       "    </tr>\n",
       "    <tr>\n",
       "      <th>30</th>\n",
       "      <td>61994.48</td>\n",
       "      <td>115641.28</td>\n",
       "      <td>91131.24</td>\n",
       "      <td>Florida</td>\n",
       "      <td>99937.59</td>\n",
       "    </tr>\n",
       "    <tr>\n",
       "      <th>31</th>\n",
       "      <td>61136.38</td>\n",
       "      <td>152701.92</td>\n",
       "      <td>88218.23</td>\n",
       "      <td>New York</td>\n",
       "      <td>97483.56</td>\n",
       "    </tr>\n",
       "    <tr>\n",
       "      <th>32</th>\n",
       "      <td>63408.86</td>\n",
       "      <td>129219.61</td>\n",
       "      <td>46085.25</td>\n",
       "      <td>California</td>\n",
       "      <td>97427.84</td>\n",
       "    </tr>\n",
       "    <tr>\n",
       "      <th>33</th>\n",
       "      <td>55493.95</td>\n",
       "      <td>103057.49</td>\n",
       "      <td>214634.81</td>\n",
       "      <td>Florida</td>\n",
       "      <td>96778.92</td>\n",
       "    </tr>\n",
       "    <tr>\n",
       "      <th>34</th>\n",
       "      <td>46426.07</td>\n",
       "      <td>157693.92</td>\n",
       "      <td>210797.67</td>\n",
       "      <td>California</td>\n",
       "      <td>96712.80</td>\n",
       "    </tr>\n",
       "    <tr>\n",
       "      <th>35</th>\n",
       "      <td>46014.02</td>\n",
       "      <td>85047.44</td>\n",
       "      <td>205517.64</td>\n",
       "      <td>New York</td>\n",
       "      <td>96479.51</td>\n",
       "    </tr>\n",
       "    <tr>\n",
       "      <th>36</th>\n",
       "      <td>28663.76</td>\n",
       "      <td>127056.21</td>\n",
       "      <td>201126.82</td>\n",
       "      <td>Florida</td>\n",
       "      <td>90708.19</td>\n",
       "    </tr>\n",
       "    <tr>\n",
       "      <th>37</th>\n",
       "      <td>44069.95</td>\n",
       "      <td>51283.14</td>\n",
       "      <td>197029.42</td>\n",
       "      <td>California</td>\n",
       "      <td>89949.14</td>\n",
       "    </tr>\n",
       "    <tr>\n",
       "      <th>38</th>\n",
       "      <td>20229.59</td>\n",
       "      <td>65947.93</td>\n",
       "      <td>185265.10</td>\n",
       "      <td>New York</td>\n",
       "      <td>81229.06</td>\n",
       "    </tr>\n",
       "    <tr>\n",
       "      <th>39</th>\n",
       "      <td>38558.51</td>\n",
       "      <td>82982.09</td>\n",
       "      <td>174999.30</td>\n",
       "      <td>California</td>\n",
       "      <td>81005.76</td>\n",
       "    </tr>\n",
       "    <tr>\n",
       "      <th>40</th>\n",
       "      <td>28754.33</td>\n",
       "      <td>118546.05</td>\n",
       "      <td>172795.67</td>\n",
       "      <td>California</td>\n",
       "      <td>78239.91</td>\n",
       "    </tr>\n",
       "    <tr>\n",
       "      <th>41</th>\n",
       "      <td>27892.92</td>\n",
       "      <td>84710.77</td>\n",
       "      <td>164470.71</td>\n",
       "      <td>Florida</td>\n",
       "      <td>77798.83</td>\n",
       "    </tr>\n",
       "    <tr>\n",
       "      <th>42</th>\n",
       "      <td>23640.93</td>\n",
       "      <td>96189.63</td>\n",
       "      <td>148001.11</td>\n",
       "      <td>California</td>\n",
       "      <td>71498.49</td>\n",
       "    </tr>\n",
       "    <tr>\n",
       "      <th>43</th>\n",
       "      <td>15505.73</td>\n",
       "      <td>127382.30</td>\n",
       "      <td>35534.17</td>\n",
       "      <td>New York</td>\n",
       "      <td>69758.98</td>\n",
       "    </tr>\n",
       "    <tr>\n",
       "      <th>44</th>\n",
       "      <td>22177.74</td>\n",
       "      <td>154806.14</td>\n",
       "      <td>28334.72</td>\n",
       "      <td>California</td>\n",
       "      <td>65200.33</td>\n",
       "    </tr>\n",
       "    <tr>\n",
       "      <th>45</th>\n",
       "      <td>1000.23</td>\n",
       "      <td>124153.04</td>\n",
       "      <td>1903.93</td>\n",
       "      <td>New York</td>\n",
       "      <td>64926.08</td>\n",
       "    </tr>\n",
       "    <tr>\n",
       "      <th>46</th>\n",
       "      <td>1315.46</td>\n",
       "      <td>115816.21</td>\n",
       "      <td>297114.46</td>\n",
       "      <td>Florida</td>\n",
       "      <td>49490.75</td>\n",
       "    </tr>\n",
       "    <tr>\n",
       "      <th>47</th>\n",
       "      <td>0.00</td>\n",
       "      <td>135426.92</td>\n",
       "      <td>0.00</td>\n",
       "      <td>California</td>\n",
       "      <td>42559.73</td>\n",
       "    </tr>\n",
       "    <tr>\n",
       "      <th>48</th>\n",
       "      <td>542.05</td>\n",
       "      <td>51743.15</td>\n",
       "      <td>0.00</td>\n",
       "      <td>New York</td>\n",
       "      <td>35673.41</td>\n",
       "    </tr>\n",
       "    <tr>\n",
       "      <th>49</th>\n",
       "      <td>0.00</td>\n",
       "      <td>116983.80</td>\n",
       "      <td>45173.06</td>\n",
       "      <td>California</td>\n",
       "      <td>14681.40</td>\n",
       "    </tr>\n",
       "  </tbody>\n",
       "</table>\n",
       "</div>"
      ],
      "text/plain": [
       "    R&D Spend  Administration  Marketing Spend       State     Profit\n",
       "0   165349.20       136897.80        471784.10    New York  192261.83\n",
       "1   162597.70       151377.59        443898.53  California  191792.06\n",
       "2   153441.51       101145.55        407934.54     Florida  191050.39\n",
       "3   144372.41       118671.85        383199.62    New York  182901.99\n",
       "4   142107.34        91391.77        366168.42     Florida  166187.94\n",
       "5   131876.90        99814.71        362861.36    New York  156991.12\n",
       "6   134615.46       147198.87        127716.82  California  156122.51\n",
       "7   130298.13       145530.06        323876.68     Florida  155752.60\n",
       "8   120542.52       148718.95        311613.29    New York  152211.77\n",
       "9   123334.88       108679.17        304981.62  California  149759.96\n",
       "10  101913.08       110594.11        229160.95     Florida  146121.95\n",
       "11  100671.96        91790.61        249744.55  California  144259.40\n",
       "12   93863.75       127320.38        249839.44     Florida  141585.52\n",
       "13   91992.39       135495.07        252664.93  California  134307.35\n",
       "14  119943.24       156547.42        256512.92     Florida  132602.65\n",
       "15  114523.61       122616.84        261776.23    New York  129917.04\n",
       "16   78013.11       121597.55        264346.06  California  126992.93\n",
       "17   94657.16       145077.58        282574.31    New York  125370.37\n",
       "18   91749.16       114175.79        294919.57     Florida  124266.90\n",
       "19   86419.70       153514.11             0.00    New York  122776.86\n",
       "20   76253.86       113867.30        298664.47  California  118474.03\n",
       "21   78389.47       153773.43        299737.29    New York  111313.02\n",
       "22   73994.56       122782.75        303319.26     Florida  110352.25\n",
       "23   67532.53       105751.03        304768.73     Florida  108733.99\n",
       "24   77044.01        99281.34        140574.81    New York  108552.04\n",
       "25   64664.71       139553.16        137962.62  California  107404.34\n",
       "26   75328.87       144135.98        134050.07     Florida  105733.54\n",
       "27   72107.60       127864.55        353183.81    New York  105008.31\n",
       "28   66051.52       182645.56        118148.20     Florida  103282.38\n",
       "29   65605.48       153032.06        107138.38    New York  101004.64\n",
       "30   61994.48       115641.28         91131.24     Florida   99937.59\n",
       "31   61136.38       152701.92         88218.23    New York   97483.56\n",
       "32   63408.86       129219.61         46085.25  California   97427.84\n",
       "33   55493.95       103057.49        214634.81     Florida   96778.92\n",
       "34   46426.07       157693.92        210797.67  California   96712.80\n",
       "35   46014.02        85047.44        205517.64    New York   96479.51\n",
       "36   28663.76       127056.21        201126.82     Florida   90708.19\n",
       "37   44069.95        51283.14        197029.42  California   89949.14\n",
       "38   20229.59        65947.93        185265.10    New York   81229.06\n",
       "39   38558.51        82982.09        174999.30  California   81005.76\n",
       "40   28754.33       118546.05        172795.67  California   78239.91\n",
       "41   27892.92        84710.77        164470.71     Florida   77798.83\n",
       "42   23640.93        96189.63        148001.11  California   71498.49\n",
       "43   15505.73       127382.30         35534.17    New York   69758.98\n",
       "44   22177.74       154806.14         28334.72  California   65200.33\n",
       "45    1000.23       124153.04          1903.93    New York   64926.08\n",
       "46    1315.46       115816.21        297114.46     Florida   49490.75\n",
       "47       0.00       135426.92             0.00  California   42559.73\n",
       "48     542.05        51743.15             0.00    New York   35673.41\n",
       "49       0.00       116983.80         45173.06  California   14681.40"
      ]
     },
     "execution_count": 8,
     "metadata": {},
     "output_type": "execute_result"
    }
   ],
   "source": [
    "#here state is the categorical column in the data dataframe\n",
    "#so here we need to use One-hot-encoding on nominal categorical column in the dataFrame\n",
    "data"
   ]
  },
  {
   "cell_type": "markdown",
   "id": "30aca33b",
   "metadata": {},
   "source": [
    "### converting each values in the dataframe from float to integer values"
   ]
  },
  {
   "cell_type": "code",
   "execution_count": 9,
   "id": "069e0e7f",
   "metadata": {},
   "outputs": [],
   "source": [
    "data['R&D Spend'] = data['R&D Spend'].apply(int)\n",
    "data['Administration'] = data['Administration'].apply(int)\n",
    "data['Marketing Spend'] = data['Marketing Spend'].apply(int)\n",
    "data['Profit'] = data['Profit'].apply(int)"
   ]
  },
  {
   "cell_type": "code",
   "execution_count": 10,
   "id": "d52d95cd",
   "metadata": {},
   "outputs": [
    {
     "data": {
      "text/html": [
       "<div>\n",
       "<style scoped>\n",
       "    .dataframe tbody tr th:only-of-type {\n",
       "        vertical-align: middle;\n",
       "    }\n",
       "\n",
       "    .dataframe tbody tr th {\n",
       "        vertical-align: top;\n",
       "    }\n",
       "\n",
       "    .dataframe thead th {\n",
       "        text-align: right;\n",
       "    }\n",
       "</style>\n",
       "<table border=\"1\" class=\"dataframe\">\n",
       "  <thead>\n",
       "    <tr style=\"text-align: right;\">\n",
       "      <th></th>\n",
       "      <th>R&amp;D Spend</th>\n",
       "      <th>Administration</th>\n",
       "      <th>Marketing Spend</th>\n",
       "      <th>State</th>\n",
       "      <th>Profit</th>\n",
       "    </tr>\n",
       "  </thead>\n",
       "  <tbody>\n",
       "    <tr>\n",
       "      <th>0</th>\n",
       "      <td>165349</td>\n",
       "      <td>136897</td>\n",
       "      <td>471784</td>\n",
       "      <td>New York</td>\n",
       "      <td>192261</td>\n",
       "    </tr>\n",
       "    <tr>\n",
       "      <th>1</th>\n",
       "      <td>162597</td>\n",
       "      <td>151377</td>\n",
       "      <td>443898</td>\n",
       "      <td>California</td>\n",
       "      <td>191792</td>\n",
       "    </tr>\n",
       "    <tr>\n",
       "      <th>2</th>\n",
       "      <td>153441</td>\n",
       "      <td>101145</td>\n",
       "      <td>407934</td>\n",
       "      <td>Florida</td>\n",
       "      <td>191050</td>\n",
       "    </tr>\n",
       "    <tr>\n",
       "      <th>3</th>\n",
       "      <td>144372</td>\n",
       "      <td>118671</td>\n",
       "      <td>383199</td>\n",
       "      <td>New York</td>\n",
       "      <td>182901</td>\n",
       "    </tr>\n",
       "    <tr>\n",
       "      <th>4</th>\n",
       "      <td>142107</td>\n",
       "      <td>91391</td>\n",
       "      <td>366168</td>\n",
       "      <td>Florida</td>\n",
       "      <td>166187</td>\n",
       "    </tr>\n",
       "    <tr>\n",
       "      <th>5</th>\n",
       "      <td>131876</td>\n",
       "      <td>99814</td>\n",
       "      <td>362861</td>\n",
       "      <td>New York</td>\n",
       "      <td>156991</td>\n",
       "    </tr>\n",
       "    <tr>\n",
       "      <th>6</th>\n",
       "      <td>134615</td>\n",
       "      <td>147198</td>\n",
       "      <td>127716</td>\n",
       "      <td>California</td>\n",
       "      <td>156122</td>\n",
       "    </tr>\n",
       "    <tr>\n",
       "      <th>7</th>\n",
       "      <td>130298</td>\n",
       "      <td>145530</td>\n",
       "      <td>323876</td>\n",
       "      <td>Florida</td>\n",
       "      <td>155752</td>\n",
       "    </tr>\n",
       "    <tr>\n",
       "      <th>8</th>\n",
       "      <td>120542</td>\n",
       "      <td>148718</td>\n",
       "      <td>311613</td>\n",
       "      <td>New York</td>\n",
       "      <td>152211</td>\n",
       "    </tr>\n",
       "    <tr>\n",
       "      <th>9</th>\n",
       "      <td>123334</td>\n",
       "      <td>108679</td>\n",
       "      <td>304981</td>\n",
       "      <td>California</td>\n",
       "      <td>149759</td>\n",
       "    </tr>\n",
       "    <tr>\n",
       "      <th>10</th>\n",
       "      <td>101913</td>\n",
       "      <td>110594</td>\n",
       "      <td>229160</td>\n",
       "      <td>Florida</td>\n",
       "      <td>146121</td>\n",
       "    </tr>\n",
       "    <tr>\n",
       "      <th>11</th>\n",
       "      <td>100671</td>\n",
       "      <td>91790</td>\n",
       "      <td>249744</td>\n",
       "      <td>California</td>\n",
       "      <td>144259</td>\n",
       "    </tr>\n",
       "    <tr>\n",
       "      <th>12</th>\n",
       "      <td>93863</td>\n",
       "      <td>127320</td>\n",
       "      <td>249839</td>\n",
       "      <td>Florida</td>\n",
       "      <td>141585</td>\n",
       "    </tr>\n",
       "    <tr>\n",
       "      <th>13</th>\n",
       "      <td>91992</td>\n",
       "      <td>135495</td>\n",
       "      <td>252664</td>\n",
       "      <td>California</td>\n",
       "      <td>134307</td>\n",
       "    </tr>\n",
       "    <tr>\n",
       "      <th>14</th>\n",
       "      <td>119943</td>\n",
       "      <td>156547</td>\n",
       "      <td>256512</td>\n",
       "      <td>Florida</td>\n",
       "      <td>132602</td>\n",
       "    </tr>\n",
       "    <tr>\n",
       "      <th>15</th>\n",
       "      <td>114523</td>\n",
       "      <td>122616</td>\n",
       "      <td>261776</td>\n",
       "      <td>New York</td>\n",
       "      <td>129917</td>\n",
       "    </tr>\n",
       "    <tr>\n",
       "      <th>16</th>\n",
       "      <td>78013</td>\n",
       "      <td>121597</td>\n",
       "      <td>264346</td>\n",
       "      <td>California</td>\n",
       "      <td>126992</td>\n",
       "    </tr>\n",
       "    <tr>\n",
       "      <th>17</th>\n",
       "      <td>94657</td>\n",
       "      <td>145077</td>\n",
       "      <td>282574</td>\n",
       "      <td>New York</td>\n",
       "      <td>125370</td>\n",
       "    </tr>\n",
       "    <tr>\n",
       "      <th>18</th>\n",
       "      <td>91749</td>\n",
       "      <td>114175</td>\n",
       "      <td>294919</td>\n",
       "      <td>Florida</td>\n",
       "      <td>124266</td>\n",
       "    </tr>\n",
       "    <tr>\n",
       "      <th>19</th>\n",
       "      <td>86419</td>\n",
       "      <td>153514</td>\n",
       "      <td>0</td>\n",
       "      <td>New York</td>\n",
       "      <td>122776</td>\n",
       "    </tr>\n",
       "    <tr>\n",
       "      <th>20</th>\n",
       "      <td>76253</td>\n",
       "      <td>113867</td>\n",
       "      <td>298664</td>\n",
       "      <td>California</td>\n",
       "      <td>118474</td>\n",
       "    </tr>\n",
       "    <tr>\n",
       "      <th>21</th>\n",
       "      <td>78389</td>\n",
       "      <td>153773</td>\n",
       "      <td>299737</td>\n",
       "      <td>New York</td>\n",
       "      <td>111313</td>\n",
       "    </tr>\n",
       "    <tr>\n",
       "      <th>22</th>\n",
       "      <td>73994</td>\n",
       "      <td>122782</td>\n",
       "      <td>303319</td>\n",
       "      <td>Florida</td>\n",
       "      <td>110352</td>\n",
       "    </tr>\n",
       "    <tr>\n",
       "      <th>23</th>\n",
       "      <td>67532</td>\n",
       "      <td>105751</td>\n",
       "      <td>304768</td>\n",
       "      <td>Florida</td>\n",
       "      <td>108733</td>\n",
       "    </tr>\n",
       "    <tr>\n",
       "      <th>24</th>\n",
       "      <td>77044</td>\n",
       "      <td>99281</td>\n",
       "      <td>140574</td>\n",
       "      <td>New York</td>\n",
       "      <td>108552</td>\n",
       "    </tr>\n",
       "    <tr>\n",
       "      <th>25</th>\n",
       "      <td>64664</td>\n",
       "      <td>139553</td>\n",
       "      <td>137962</td>\n",
       "      <td>California</td>\n",
       "      <td>107404</td>\n",
       "    </tr>\n",
       "    <tr>\n",
       "      <th>26</th>\n",
       "      <td>75328</td>\n",
       "      <td>144135</td>\n",
       "      <td>134050</td>\n",
       "      <td>Florida</td>\n",
       "      <td>105733</td>\n",
       "    </tr>\n",
       "    <tr>\n",
       "      <th>27</th>\n",
       "      <td>72107</td>\n",
       "      <td>127864</td>\n",
       "      <td>353183</td>\n",
       "      <td>New York</td>\n",
       "      <td>105008</td>\n",
       "    </tr>\n",
       "    <tr>\n",
       "      <th>28</th>\n",
       "      <td>66051</td>\n",
       "      <td>182645</td>\n",
       "      <td>118148</td>\n",
       "      <td>Florida</td>\n",
       "      <td>103282</td>\n",
       "    </tr>\n",
       "    <tr>\n",
       "      <th>29</th>\n",
       "      <td>65605</td>\n",
       "      <td>153032</td>\n",
       "      <td>107138</td>\n",
       "      <td>New York</td>\n",
       "      <td>101004</td>\n",
       "    </tr>\n",
       "    <tr>\n",
       "      <th>30</th>\n",
       "      <td>61994</td>\n",
       "      <td>115641</td>\n",
       "      <td>91131</td>\n",
       "      <td>Florida</td>\n",
       "      <td>99937</td>\n",
       "    </tr>\n",
       "    <tr>\n",
       "      <th>31</th>\n",
       "      <td>61136</td>\n",
       "      <td>152701</td>\n",
       "      <td>88218</td>\n",
       "      <td>New York</td>\n",
       "      <td>97483</td>\n",
       "    </tr>\n",
       "    <tr>\n",
       "      <th>32</th>\n",
       "      <td>63408</td>\n",
       "      <td>129219</td>\n",
       "      <td>46085</td>\n",
       "      <td>California</td>\n",
       "      <td>97427</td>\n",
       "    </tr>\n",
       "    <tr>\n",
       "      <th>33</th>\n",
       "      <td>55493</td>\n",
       "      <td>103057</td>\n",
       "      <td>214634</td>\n",
       "      <td>Florida</td>\n",
       "      <td>96778</td>\n",
       "    </tr>\n",
       "    <tr>\n",
       "      <th>34</th>\n",
       "      <td>46426</td>\n",
       "      <td>157693</td>\n",
       "      <td>210797</td>\n",
       "      <td>California</td>\n",
       "      <td>96712</td>\n",
       "    </tr>\n",
       "    <tr>\n",
       "      <th>35</th>\n",
       "      <td>46014</td>\n",
       "      <td>85047</td>\n",
       "      <td>205517</td>\n",
       "      <td>New York</td>\n",
       "      <td>96479</td>\n",
       "    </tr>\n",
       "    <tr>\n",
       "      <th>36</th>\n",
       "      <td>28663</td>\n",
       "      <td>127056</td>\n",
       "      <td>201126</td>\n",
       "      <td>Florida</td>\n",
       "      <td>90708</td>\n",
       "    </tr>\n",
       "    <tr>\n",
       "      <th>37</th>\n",
       "      <td>44069</td>\n",
       "      <td>51283</td>\n",
       "      <td>197029</td>\n",
       "      <td>California</td>\n",
       "      <td>89949</td>\n",
       "    </tr>\n",
       "    <tr>\n",
       "      <th>38</th>\n",
       "      <td>20229</td>\n",
       "      <td>65947</td>\n",
       "      <td>185265</td>\n",
       "      <td>New York</td>\n",
       "      <td>81229</td>\n",
       "    </tr>\n",
       "    <tr>\n",
       "      <th>39</th>\n",
       "      <td>38558</td>\n",
       "      <td>82982</td>\n",
       "      <td>174999</td>\n",
       "      <td>California</td>\n",
       "      <td>81005</td>\n",
       "    </tr>\n",
       "    <tr>\n",
       "      <th>40</th>\n",
       "      <td>28754</td>\n",
       "      <td>118546</td>\n",
       "      <td>172795</td>\n",
       "      <td>California</td>\n",
       "      <td>78239</td>\n",
       "    </tr>\n",
       "    <tr>\n",
       "      <th>41</th>\n",
       "      <td>27892</td>\n",
       "      <td>84710</td>\n",
       "      <td>164470</td>\n",
       "      <td>Florida</td>\n",
       "      <td>77798</td>\n",
       "    </tr>\n",
       "    <tr>\n",
       "      <th>42</th>\n",
       "      <td>23640</td>\n",
       "      <td>96189</td>\n",
       "      <td>148001</td>\n",
       "      <td>California</td>\n",
       "      <td>71498</td>\n",
       "    </tr>\n",
       "    <tr>\n",
       "      <th>43</th>\n",
       "      <td>15505</td>\n",
       "      <td>127382</td>\n",
       "      <td>35534</td>\n",
       "      <td>New York</td>\n",
       "      <td>69758</td>\n",
       "    </tr>\n",
       "    <tr>\n",
       "      <th>44</th>\n",
       "      <td>22177</td>\n",
       "      <td>154806</td>\n",
       "      <td>28334</td>\n",
       "      <td>California</td>\n",
       "      <td>65200</td>\n",
       "    </tr>\n",
       "    <tr>\n",
       "      <th>45</th>\n",
       "      <td>1000</td>\n",
       "      <td>124153</td>\n",
       "      <td>1903</td>\n",
       "      <td>New York</td>\n",
       "      <td>64926</td>\n",
       "    </tr>\n",
       "    <tr>\n",
       "      <th>46</th>\n",
       "      <td>1315</td>\n",
       "      <td>115816</td>\n",
       "      <td>297114</td>\n",
       "      <td>Florida</td>\n",
       "      <td>49490</td>\n",
       "    </tr>\n",
       "    <tr>\n",
       "      <th>47</th>\n",
       "      <td>0</td>\n",
       "      <td>135426</td>\n",
       "      <td>0</td>\n",
       "      <td>California</td>\n",
       "      <td>42559</td>\n",
       "    </tr>\n",
       "    <tr>\n",
       "      <th>48</th>\n",
       "      <td>542</td>\n",
       "      <td>51743</td>\n",
       "      <td>0</td>\n",
       "      <td>New York</td>\n",
       "      <td>35673</td>\n",
       "    </tr>\n",
       "    <tr>\n",
       "      <th>49</th>\n",
       "      <td>0</td>\n",
       "      <td>116983</td>\n",
       "      <td>45173</td>\n",
       "      <td>California</td>\n",
       "      <td>14681</td>\n",
       "    </tr>\n",
       "  </tbody>\n",
       "</table>\n",
       "</div>"
      ],
      "text/plain": [
       "    R&D Spend  Administration  Marketing Spend       State  Profit\n",
       "0      165349          136897           471784    New York  192261\n",
       "1      162597          151377           443898  California  191792\n",
       "2      153441          101145           407934     Florida  191050\n",
       "3      144372          118671           383199    New York  182901\n",
       "4      142107           91391           366168     Florida  166187\n",
       "5      131876           99814           362861    New York  156991\n",
       "6      134615          147198           127716  California  156122\n",
       "7      130298          145530           323876     Florida  155752\n",
       "8      120542          148718           311613    New York  152211\n",
       "9      123334          108679           304981  California  149759\n",
       "10     101913          110594           229160     Florida  146121\n",
       "11     100671           91790           249744  California  144259\n",
       "12      93863          127320           249839     Florida  141585\n",
       "13      91992          135495           252664  California  134307\n",
       "14     119943          156547           256512     Florida  132602\n",
       "15     114523          122616           261776    New York  129917\n",
       "16      78013          121597           264346  California  126992\n",
       "17      94657          145077           282574    New York  125370\n",
       "18      91749          114175           294919     Florida  124266\n",
       "19      86419          153514                0    New York  122776\n",
       "20      76253          113867           298664  California  118474\n",
       "21      78389          153773           299737    New York  111313\n",
       "22      73994          122782           303319     Florida  110352\n",
       "23      67532          105751           304768     Florida  108733\n",
       "24      77044           99281           140574    New York  108552\n",
       "25      64664          139553           137962  California  107404\n",
       "26      75328          144135           134050     Florida  105733\n",
       "27      72107          127864           353183    New York  105008\n",
       "28      66051          182645           118148     Florida  103282\n",
       "29      65605          153032           107138    New York  101004\n",
       "30      61994          115641            91131     Florida   99937\n",
       "31      61136          152701            88218    New York   97483\n",
       "32      63408          129219            46085  California   97427\n",
       "33      55493          103057           214634     Florida   96778\n",
       "34      46426          157693           210797  California   96712\n",
       "35      46014           85047           205517    New York   96479\n",
       "36      28663          127056           201126     Florida   90708\n",
       "37      44069           51283           197029  California   89949\n",
       "38      20229           65947           185265    New York   81229\n",
       "39      38558           82982           174999  California   81005\n",
       "40      28754          118546           172795  California   78239\n",
       "41      27892           84710           164470     Florida   77798\n",
       "42      23640           96189           148001  California   71498\n",
       "43      15505          127382            35534    New York   69758\n",
       "44      22177          154806            28334  California   65200\n",
       "45       1000          124153             1903    New York   64926\n",
       "46       1315          115816           297114     Florida   49490\n",
       "47          0          135426                0  California   42559\n",
       "48        542           51743                0    New York   35673\n",
       "49          0          116983            45173  California   14681"
      ]
     },
     "execution_count": 10,
     "metadata": {},
     "output_type": "execute_result"
    }
   ],
   "source": [
    "data"
   ]
  },
  {
   "cell_type": "markdown",
   "id": "dca0061f",
   "metadata": {},
   "source": [
    "### One-hot-encoding:nominal categorical column"
   ]
  },
  {
   "cell_type": "markdown",
   "id": "7408a7f1",
   "metadata": {},
   "source": [
    "#### Here we are converting categorical column \"column name = state\" into integer column and condensing them up"
   ]
  },
  {
   "cell_type": "code",
   "execution_count": 11,
   "id": "abd9ba5d",
   "metadata": {},
   "outputs": [],
   "source": [
    "d=pd.get_dummies(data['State'])  #function to create dummy variables"
   ]
  },
  {
   "cell_type": "code",
   "execution_count": 12,
   "id": "055f068f",
   "metadata": {},
   "outputs": [
    {
     "data": {
      "text/html": [
       "<div>\n",
       "<style scoped>\n",
       "    .dataframe tbody tr th:only-of-type {\n",
       "        vertical-align: middle;\n",
       "    }\n",
       "\n",
       "    .dataframe tbody tr th {\n",
       "        vertical-align: top;\n",
       "    }\n",
       "\n",
       "    .dataframe thead th {\n",
       "        text-align: right;\n",
       "    }\n",
       "</style>\n",
       "<table border=\"1\" class=\"dataframe\">\n",
       "  <thead>\n",
       "    <tr style=\"text-align: right;\">\n",
       "      <th></th>\n",
       "      <th>California</th>\n",
       "      <th>Florida</th>\n",
       "      <th>New York</th>\n",
       "    </tr>\n",
       "  </thead>\n",
       "  <tbody>\n",
       "    <tr>\n",
       "      <th>0</th>\n",
       "      <td>0</td>\n",
       "      <td>0</td>\n",
       "      <td>1</td>\n",
       "    </tr>\n",
       "    <tr>\n",
       "      <th>1</th>\n",
       "      <td>1</td>\n",
       "      <td>0</td>\n",
       "      <td>0</td>\n",
       "    </tr>\n",
       "    <tr>\n",
       "      <th>2</th>\n",
       "      <td>0</td>\n",
       "      <td>1</td>\n",
       "      <td>0</td>\n",
       "    </tr>\n",
       "    <tr>\n",
       "      <th>3</th>\n",
       "      <td>0</td>\n",
       "      <td>0</td>\n",
       "      <td>1</td>\n",
       "    </tr>\n",
       "    <tr>\n",
       "      <th>4</th>\n",
       "      <td>0</td>\n",
       "      <td>1</td>\n",
       "      <td>0</td>\n",
       "    </tr>\n",
       "    <tr>\n",
       "      <th>5</th>\n",
       "      <td>0</td>\n",
       "      <td>0</td>\n",
       "      <td>1</td>\n",
       "    </tr>\n",
       "    <tr>\n",
       "      <th>6</th>\n",
       "      <td>1</td>\n",
       "      <td>0</td>\n",
       "      <td>0</td>\n",
       "    </tr>\n",
       "    <tr>\n",
       "      <th>7</th>\n",
       "      <td>0</td>\n",
       "      <td>1</td>\n",
       "      <td>0</td>\n",
       "    </tr>\n",
       "    <tr>\n",
       "      <th>8</th>\n",
       "      <td>0</td>\n",
       "      <td>0</td>\n",
       "      <td>1</td>\n",
       "    </tr>\n",
       "    <tr>\n",
       "      <th>9</th>\n",
       "      <td>1</td>\n",
       "      <td>0</td>\n",
       "      <td>0</td>\n",
       "    </tr>\n",
       "    <tr>\n",
       "      <th>10</th>\n",
       "      <td>0</td>\n",
       "      <td>1</td>\n",
       "      <td>0</td>\n",
       "    </tr>\n",
       "    <tr>\n",
       "      <th>11</th>\n",
       "      <td>1</td>\n",
       "      <td>0</td>\n",
       "      <td>0</td>\n",
       "    </tr>\n",
       "    <tr>\n",
       "      <th>12</th>\n",
       "      <td>0</td>\n",
       "      <td>1</td>\n",
       "      <td>0</td>\n",
       "    </tr>\n",
       "    <tr>\n",
       "      <th>13</th>\n",
       "      <td>1</td>\n",
       "      <td>0</td>\n",
       "      <td>0</td>\n",
       "    </tr>\n",
       "    <tr>\n",
       "      <th>14</th>\n",
       "      <td>0</td>\n",
       "      <td>1</td>\n",
       "      <td>0</td>\n",
       "    </tr>\n",
       "    <tr>\n",
       "      <th>15</th>\n",
       "      <td>0</td>\n",
       "      <td>0</td>\n",
       "      <td>1</td>\n",
       "    </tr>\n",
       "    <tr>\n",
       "      <th>16</th>\n",
       "      <td>1</td>\n",
       "      <td>0</td>\n",
       "      <td>0</td>\n",
       "    </tr>\n",
       "    <tr>\n",
       "      <th>17</th>\n",
       "      <td>0</td>\n",
       "      <td>0</td>\n",
       "      <td>1</td>\n",
       "    </tr>\n",
       "    <tr>\n",
       "      <th>18</th>\n",
       "      <td>0</td>\n",
       "      <td>1</td>\n",
       "      <td>0</td>\n",
       "    </tr>\n",
       "    <tr>\n",
       "      <th>19</th>\n",
       "      <td>0</td>\n",
       "      <td>0</td>\n",
       "      <td>1</td>\n",
       "    </tr>\n",
       "    <tr>\n",
       "      <th>20</th>\n",
       "      <td>1</td>\n",
       "      <td>0</td>\n",
       "      <td>0</td>\n",
       "    </tr>\n",
       "    <tr>\n",
       "      <th>21</th>\n",
       "      <td>0</td>\n",
       "      <td>0</td>\n",
       "      <td>1</td>\n",
       "    </tr>\n",
       "    <tr>\n",
       "      <th>22</th>\n",
       "      <td>0</td>\n",
       "      <td>1</td>\n",
       "      <td>0</td>\n",
       "    </tr>\n",
       "    <tr>\n",
       "      <th>23</th>\n",
       "      <td>0</td>\n",
       "      <td>1</td>\n",
       "      <td>0</td>\n",
       "    </tr>\n",
       "    <tr>\n",
       "      <th>24</th>\n",
       "      <td>0</td>\n",
       "      <td>0</td>\n",
       "      <td>1</td>\n",
       "    </tr>\n",
       "    <tr>\n",
       "      <th>25</th>\n",
       "      <td>1</td>\n",
       "      <td>0</td>\n",
       "      <td>0</td>\n",
       "    </tr>\n",
       "    <tr>\n",
       "      <th>26</th>\n",
       "      <td>0</td>\n",
       "      <td>1</td>\n",
       "      <td>0</td>\n",
       "    </tr>\n",
       "    <tr>\n",
       "      <th>27</th>\n",
       "      <td>0</td>\n",
       "      <td>0</td>\n",
       "      <td>1</td>\n",
       "    </tr>\n",
       "    <tr>\n",
       "      <th>28</th>\n",
       "      <td>0</td>\n",
       "      <td>1</td>\n",
       "      <td>0</td>\n",
       "    </tr>\n",
       "    <tr>\n",
       "      <th>29</th>\n",
       "      <td>0</td>\n",
       "      <td>0</td>\n",
       "      <td>1</td>\n",
       "    </tr>\n",
       "    <tr>\n",
       "      <th>30</th>\n",
       "      <td>0</td>\n",
       "      <td>1</td>\n",
       "      <td>0</td>\n",
       "    </tr>\n",
       "    <tr>\n",
       "      <th>31</th>\n",
       "      <td>0</td>\n",
       "      <td>0</td>\n",
       "      <td>1</td>\n",
       "    </tr>\n",
       "    <tr>\n",
       "      <th>32</th>\n",
       "      <td>1</td>\n",
       "      <td>0</td>\n",
       "      <td>0</td>\n",
       "    </tr>\n",
       "    <tr>\n",
       "      <th>33</th>\n",
       "      <td>0</td>\n",
       "      <td>1</td>\n",
       "      <td>0</td>\n",
       "    </tr>\n",
       "    <tr>\n",
       "      <th>34</th>\n",
       "      <td>1</td>\n",
       "      <td>0</td>\n",
       "      <td>0</td>\n",
       "    </tr>\n",
       "    <tr>\n",
       "      <th>35</th>\n",
       "      <td>0</td>\n",
       "      <td>0</td>\n",
       "      <td>1</td>\n",
       "    </tr>\n",
       "    <tr>\n",
       "      <th>36</th>\n",
       "      <td>0</td>\n",
       "      <td>1</td>\n",
       "      <td>0</td>\n",
       "    </tr>\n",
       "    <tr>\n",
       "      <th>37</th>\n",
       "      <td>1</td>\n",
       "      <td>0</td>\n",
       "      <td>0</td>\n",
       "    </tr>\n",
       "    <tr>\n",
       "      <th>38</th>\n",
       "      <td>0</td>\n",
       "      <td>0</td>\n",
       "      <td>1</td>\n",
       "    </tr>\n",
       "    <tr>\n",
       "      <th>39</th>\n",
       "      <td>1</td>\n",
       "      <td>0</td>\n",
       "      <td>0</td>\n",
       "    </tr>\n",
       "    <tr>\n",
       "      <th>40</th>\n",
       "      <td>1</td>\n",
       "      <td>0</td>\n",
       "      <td>0</td>\n",
       "    </tr>\n",
       "    <tr>\n",
       "      <th>41</th>\n",
       "      <td>0</td>\n",
       "      <td>1</td>\n",
       "      <td>0</td>\n",
       "    </tr>\n",
       "    <tr>\n",
       "      <th>42</th>\n",
       "      <td>1</td>\n",
       "      <td>0</td>\n",
       "      <td>0</td>\n",
       "    </tr>\n",
       "    <tr>\n",
       "      <th>43</th>\n",
       "      <td>0</td>\n",
       "      <td>0</td>\n",
       "      <td>1</td>\n",
       "    </tr>\n",
       "    <tr>\n",
       "      <th>44</th>\n",
       "      <td>1</td>\n",
       "      <td>0</td>\n",
       "      <td>0</td>\n",
       "    </tr>\n",
       "    <tr>\n",
       "      <th>45</th>\n",
       "      <td>0</td>\n",
       "      <td>0</td>\n",
       "      <td>1</td>\n",
       "    </tr>\n",
       "    <tr>\n",
       "      <th>46</th>\n",
       "      <td>0</td>\n",
       "      <td>1</td>\n",
       "      <td>0</td>\n",
       "    </tr>\n",
       "    <tr>\n",
       "      <th>47</th>\n",
       "      <td>1</td>\n",
       "      <td>0</td>\n",
       "      <td>0</td>\n",
       "    </tr>\n",
       "    <tr>\n",
       "      <th>48</th>\n",
       "      <td>0</td>\n",
       "      <td>0</td>\n",
       "      <td>1</td>\n",
       "    </tr>\n",
       "    <tr>\n",
       "      <th>49</th>\n",
       "      <td>1</td>\n",
       "      <td>0</td>\n",
       "      <td>0</td>\n",
       "    </tr>\n",
       "  </tbody>\n",
       "</table>\n",
       "</div>"
      ],
      "text/plain": [
       "    California  Florida  New York\n",
       "0            0        0         1\n",
       "1            1        0         0\n",
       "2            0        1         0\n",
       "3            0        0         1\n",
       "4            0        1         0\n",
       "5            0        0         1\n",
       "6            1        0         0\n",
       "7            0        1         0\n",
       "8            0        0         1\n",
       "9            1        0         0\n",
       "10           0        1         0\n",
       "11           1        0         0\n",
       "12           0        1         0\n",
       "13           1        0         0\n",
       "14           0        1         0\n",
       "15           0        0         1\n",
       "16           1        0         0\n",
       "17           0        0         1\n",
       "18           0        1         0\n",
       "19           0        0         1\n",
       "20           1        0         0\n",
       "21           0        0         1\n",
       "22           0        1         0\n",
       "23           0        1         0\n",
       "24           0        0         1\n",
       "25           1        0         0\n",
       "26           0        1         0\n",
       "27           0        0         1\n",
       "28           0        1         0\n",
       "29           0        0         1\n",
       "30           0        1         0\n",
       "31           0        0         1\n",
       "32           1        0         0\n",
       "33           0        1         0\n",
       "34           1        0         0\n",
       "35           0        0         1\n",
       "36           0        1         0\n",
       "37           1        0         0\n",
       "38           0        0         1\n",
       "39           1        0         0\n",
       "40           1        0         0\n",
       "41           0        1         0\n",
       "42           1        0         0\n",
       "43           0        0         1\n",
       "44           1        0         0\n",
       "45           0        0         1\n",
       "46           0        1         0\n",
       "47           1        0         0\n",
       "48           0        0         1\n",
       "49           1        0         0"
      ]
     },
     "execution_count": 12,
     "metadata": {},
     "output_type": "execute_result"
    }
   ],
   "source": [
    "d"
   ]
  },
  {
   "cell_type": "code",
   "execution_count": 13,
   "id": "cc61aa7c",
   "metadata": {},
   "outputs": [
    {
     "data": {
      "text/html": [
       "<div>\n",
       "<style scoped>\n",
       "    .dataframe tbody tr th:only-of-type {\n",
       "        vertical-align: middle;\n",
       "    }\n",
       "\n",
       "    .dataframe tbody tr th {\n",
       "        vertical-align: top;\n",
       "    }\n",
       "\n",
       "    .dataframe thead th {\n",
       "        text-align: right;\n",
       "    }\n",
       "</style>\n",
       "<table border=\"1\" class=\"dataframe\">\n",
       "  <thead>\n",
       "    <tr style=\"text-align: right;\">\n",
       "      <th></th>\n",
       "      <th>R&amp;D Spend</th>\n",
       "      <th>Administration</th>\n",
       "      <th>Marketing Spend</th>\n",
       "    </tr>\n",
       "  </thead>\n",
       "  <tbody>\n",
       "    <tr>\n",
       "      <th>0</th>\n",
       "      <td>165349</td>\n",
       "      <td>136897</td>\n",
       "      <td>471784</td>\n",
       "    </tr>\n",
       "    <tr>\n",
       "      <th>1</th>\n",
       "      <td>162597</td>\n",
       "      <td>151377</td>\n",
       "      <td>443898</td>\n",
       "    </tr>\n",
       "    <tr>\n",
       "      <th>2</th>\n",
       "      <td>153441</td>\n",
       "      <td>101145</td>\n",
       "      <td>407934</td>\n",
       "    </tr>\n",
       "    <tr>\n",
       "      <th>3</th>\n",
       "      <td>144372</td>\n",
       "      <td>118671</td>\n",
       "      <td>383199</td>\n",
       "    </tr>\n",
       "    <tr>\n",
       "      <th>4</th>\n",
       "      <td>142107</td>\n",
       "      <td>91391</td>\n",
       "      <td>366168</td>\n",
       "    </tr>\n",
       "    <tr>\n",
       "      <th>5</th>\n",
       "      <td>131876</td>\n",
       "      <td>99814</td>\n",
       "      <td>362861</td>\n",
       "    </tr>\n",
       "    <tr>\n",
       "      <th>6</th>\n",
       "      <td>134615</td>\n",
       "      <td>147198</td>\n",
       "      <td>127716</td>\n",
       "    </tr>\n",
       "    <tr>\n",
       "      <th>7</th>\n",
       "      <td>130298</td>\n",
       "      <td>145530</td>\n",
       "      <td>323876</td>\n",
       "    </tr>\n",
       "    <tr>\n",
       "      <th>8</th>\n",
       "      <td>120542</td>\n",
       "      <td>148718</td>\n",
       "      <td>311613</td>\n",
       "    </tr>\n",
       "    <tr>\n",
       "      <th>9</th>\n",
       "      <td>123334</td>\n",
       "      <td>108679</td>\n",
       "      <td>304981</td>\n",
       "    </tr>\n",
       "    <tr>\n",
       "      <th>10</th>\n",
       "      <td>101913</td>\n",
       "      <td>110594</td>\n",
       "      <td>229160</td>\n",
       "    </tr>\n",
       "    <tr>\n",
       "      <th>11</th>\n",
       "      <td>100671</td>\n",
       "      <td>91790</td>\n",
       "      <td>249744</td>\n",
       "    </tr>\n",
       "    <tr>\n",
       "      <th>12</th>\n",
       "      <td>93863</td>\n",
       "      <td>127320</td>\n",
       "      <td>249839</td>\n",
       "    </tr>\n",
       "    <tr>\n",
       "      <th>13</th>\n",
       "      <td>91992</td>\n",
       "      <td>135495</td>\n",
       "      <td>252664</td>\n",
       "    </tr>\n",
       "    <tr>\n",
       "      <th>14</th>\n",
       "      <td>119943</td>\n",
       "      <td>156547</td>\n",
       "      <td>256512</td>\n",
       "    </tr>\n",
       "    <tr>\n",
       "      <th>15</th>\n",
       "      <td>114523</td>\n",
       "      <td>122616</td>\n",
       "      <td>261776</td>\n",
       "    </tr>\n",
       "    <tr>\n",
       "      <th>16</th>\n",
       "      <td>78013</td>\n",
       "      <td>121597</td>\n",
       "      <td>264346</td>\n",
       "    </tr>\n",
       "    <tr>\n",
       "      <th>17</th>\n",
       "      <td>94657</td>\n",
       "      <td>145077</td>\n",
       "      <td>282574</td>\n",
       "    </tr>\n",
       "    <tr>\n",
       "      <th>18</th>\n",
       "      <td>91749</td>\n",
       "      <td>114175</td>\n",
       "      <td>294919</td>\n",
       "    </tr>\n",
       "    <tr>\n",
       "      <th>19</th>\n",
       "      <td>86419</td>\n",
       "      <td>153514</td>\n",
       "      <td>0</td>\n",
       "    </tr>\n",
       "    <tr>\n",
       "      <th>20</th>\n",
       "      <td>76253</td>\n",
       "      <td>113867</td>\n",
       "      <td>298664</td>\n",
       "    </tr>\n",
       "    <tr>\n",
       "      <th>21</th>\n",
       "      <td>78389</td>\n",
       "      <td>153773</td>\n",
       "      <td>299737</td>\n",
       "    </tr>\n",
       "    <tr>\n",
       "      <th>22</th>\n",
       "      <td>73994</td>\n",
       "      <td>122782</td>\n",
       "      <td>303319</td>\n",
       "    </tr>\n",
       "    <tr>\n",
       "      <th>23</th>\n",
       "      <td>67532</td>\n",
       "      <td>105751</td>\n",
       "      <td>304768</td>\n",
       "    </tr>\n",
       "    <tr>\n",
       "      <th>24</th>\n",
       "      <td>77044</td>\n",
       "      <td>99281</td>\n",
       "      <td>140574</td>\n",
       "    </tr>\n",
       "    <tr>\n",
       "      <th>25</th>\n",
       "      <td>64664</td>\n",
       "      <td>139553</td>\n",
       "      <td>137962</td>\n",
       "    </tr>\n",
       "    <tr>\n",
       "      <th>26</th>\n",
       "      <td>75328</td>\n",
       "      <td>144135</td>\n",
       "      <td>134050</td>\n",
       "    </tr>\n",
       "    <tr>\n",
       "      <th>27</th>\n",
       "      <td>72107</td>\n",
       "      <td>127864</td>\n",
       "      <td>353183</td>\n",
       "    </tr>\n",
       "    <tr>\n",
       "      <th>28</th>\n",
       "      <td>66051</td>\n",
       "      <td>182645</td>\n",
       "      <td>118148</td>\n",
       "    </tr>\n",
       "    <tr>\n",
       "      <th>29</th>\n",
       "      <td>65605</td>\n",
       "      <td>153032</td>\n",
       "      <td>107138</td>\n",
       "    </tr>\n",
       "    <tr>\n",
       "      <th>30</th>\n",
       "      <td>61994</td>\n",
       "      <td>115641</td>\n",
       "      <td>91131</td>\n",
       "    </tr>\n",
       "    <tr>\n",
       "      <th>31</th>\n",
       "      <td>61136</td>\n",
       "      <td>152701</td>\n",
       "      <td>88218</td>\n",
       "    </tr>\n",
       "    <tr>\n",
       "      <th>32</th>\n",
       "      <td>63408</td>\n",
       "      <td>129219</td>\n",
       "      <td>46085</td>\n",
       "    </tr>\n",
       "    <tr>\n",
       "      <th>33</th>\n",
       "      <td>55493</td>\n",
       "      <td>103057</td>\n",
       "      <td>214634</td>\n",
       "    </tr>\n",
       "    <tr>\n",
       "      <th>34</th>\n",
       "      <td>46426</td>\n",
       "      <td>157693</td>\n",
       "      <td>210797</td>\n",
       "    </tr>\n",
       "    <tr>\n",
       "      <th>35</th>\n",
       "      <td>46014</td>\n",
       "      <td>85047</td>\n",
       "      <td>205517</td>\n",
       "    </tr>\n",
       "    <tr>\n",
       "      <th>36</th>\n",
       "      <td>28663</td>\n",
       "      <td>127056</td>\n",
       "      <td>201126</td>\n",
       "    </tr>\n",
       "    <tr>\n",
       "      <th>37</th>\n",
       "      <td>44069</td>\n",
       "      <td>51283</td>\n",
       "      <td>197029</td>\n",
       "    </tr>\n",
       "    <tr>\n",
       "      <th>38</th>\n",
       "      <td>20229</td>\n",
       "      <td>65947</td>\n",
       "      <td>185265</td>\n",
       "    </tr>\n",
       "    <tr>\n",
       "      <th>39</th>\n",
       "      <td>38558</td>\n",
       "      <td>82982</td>\n",
       "      <td>174999</td>\n",
       "    </tr>\n",
       "    <tr>\n",
       "      <th>40</th>\n",
       "      <td>28754</td>\n",
       "      <td>118546</td>\n",
       "      <td>172795</td>\n",
       "    </tr>\n",
       "    <tr>\n",
       "      <th>41</th>\n",
       "      <td>27892</td>\n",
       "      <td>84710</td>\n",
       "      <td>164470</td>\n",
       "    </tr>\n",
       "    <tr>\n",
       "      <th>42</th>\n",
       "      <td>23640</td>\n",
       "      <td>96189</td>\n",
       "      <td>148001</td>\n",
       "    </tr>\n",
       "    <tr>\n",
       "      <th>43</th>\n",
       "      <td>15505</td>\n",
       "      <td>127382</td>\n",
       "      <td>35534</td>\n",
       "    </tr>\n",
       "    <tr>\n",
       "      <th>44</th>\n",
       "      <td>22177</td>\n",
       "      <td>154806</td>\n",
       "      <td>28334</td>\n",
       "    </tr>\n",
       "    <tr>\n",
       "      <th>45</th>\n",
       "      <td>1000</td>\n",
       "      <td>124153</td>\n",
       "      <td>1903</td>\n",
       "    </tr>\n",
       "    <tr>\n",
       "      <th>46</th>\n",
       "      <td>1315</td>\n",
       "      <td>115816</td>\n",
       "      <td>297114</td>\n",
       "    </tr>\n",
       "    <tr>\n",
       "      <th>47</th>\n",
       "      <td>0</td>\n",
       "      <td>135426</td>\n",
       "      <td>0</td>\n",
       "    </tr>\n",
       "    <tr>\n",
       "      <th>48</th>\n",
       "      <td>542</td>\n",
       "      <td>51743</td>\n",
       "      <td>0</td>\n",
       "    </tr>\n",
       "    <tr>\n",
       "      <th>49</th>\n",
       "      <td>0</td>\n",
       "      <td>116983</td>\n",
       "      <td>45173</td>\n",
       "    </tr>\n",
       "  </tbody>\n",
       "</table>\n",
       "</div>"
      ],
      "text/plain": [
       "    R&D Spend  Administration  Marketing Spend\n",
       "0      165349          136897           471784\n",
       "1      162597          151377           443898\n",
       "2      153441          101145           407934\n",
       "3      144372          118671           383199\n",
       "4      142107           91391           366168\n",
       "5      131876           99814           362861\n",
       "6      134615          147198           127716\n",
       "7      130298          145530           323876\n",
       "8      120542          148718           311613\n",
       "9      123334          108679           304981\n",
       "10     101913          110594           229160\n",
       "11     100671           91790           249744\n",
       "12      93863          127320           249839\n",
       "13      91992          135495           252664\n",
       "14     119943          156547           256512\n",
       "15     114523          122616           261776\n",
       "16      78013          121597           264346\n",
       "17      94657          145077           282574\n",
       "18      91749          114175           294919\n",
       "19      86419          153514                0\n",
       "20      76253          113867           298664\n",
       "21      78389          153773           299737\n",
       "22      73994          122782           303319\n",
       "23      67532          105751           304768\n",
       "24      77044           99281           140574\n",
       "25      64664          139553           137962\n",
       "26      75328          144135           134050\n",
       "27      72107          127864           353183\n",
       "28      66051          182645           118148\n",
       "29      65605          153032           107138\n",
       "30      61994          115641            91131\n",
       "31      61136          152701            88218\n",
       "32      63408          129219            46085\n",
       "33      55493          103057           214634\n",
       "34      46426          157693           210797\n",
       "35      46014           85047           205517\n",
       "36      28663          127056           201126\n",
       "37      44069           51283           197029\n",
       "38      20229           65947           185265\n",
       "39      38558           82982           174999\n",
       "40      28754          118546           172795\n",
       "41      27892           84710           164470\n",
       "42      23640           96189           148001\n",
       "43      15505          127382            35534\n",
       "44      22177          154806            28334\n",
       "45       1000          124153             1903\n",
       "46       1315          115816           297114\n",
       "47          0          135426                0\n",
       "48        542           51743                0\n",
       "49          0          116983            45173"
      ]
     },
     "execution_count": 13,
     "metadata": {},
     "output_type": "execute_result"
    }
   ],
   "source": [
    "### display all numeric cols\n",
    "#data.iloc[:,:-1].select_dtypes(exclude=['object']) \n",
    "# exclude=['object'] integer type columns only will be selected from data (dataFrame)\n",
    "# here -1 means all the columns will be selected except last column\n",
    "f=data.iloc[:,:-1].select_dtypes(exclude=['object']) \n",
    "f"
   ]
  },
  {
   "cell_type": "markdown",
   "id": "30a7ea28",
   "metadata": {},
   "source": [
    "### How to concatinate two dataFrames"
   ]
  },
  {
   "cell_type": "markdown",
   "id": "947c7630",
   "metadata": {},
   "source": [
    "#### Here we are concatenating f and d dataFrames into one DataFrame"
   ]
  },
  {
   "cell_type": "code",
   "execution_count": 14,
   "id": "3bc6d057",
   "metadata": {},
   "outputs": [
    {
     "data": {
      "text/html": [
       "<div>\n",
       "<style scoped>\n",
       "    .dataframe tbody tr th:only-of-type {\n",
       "        vertical-align: middle;\n",
       "    }\n",
       "\n",
       "    .dataframe tbody tr th {\n",
       "        vertical-align: top;\n",
       "    }\n",
       "\n",
       "    .dataframe thead th {\n",
       "        text-align: right;\n",
       "    }\n",
       "</style>\n",
       "<table border=\"1\" class=\"dataframe\">\n",
       "  <thead>\n",
       "    <tr style=\"text-align: right;\">\n",
       "      <th></th>\n",
       "      <th>R&amp;D Spend</th>\n",
       "      <th>Administration</th>\n",
       "      <th>Marketing Spend</th>\n",
       "      <th>California</th>\n",
       "      <th>Florida</th>\n",
       "      <th>New York</th>\n",
       "    </tr>\n",
       "  </thead>\n",
       "  <tbody>\n",
       "    <tr>\n",
       "      <th>0</th>\n",
       "      <td>165349</td>\n",
       "      <td>136897</td>\n",
       "      <td>471784</td>\n",
       "      <td>0</td>\n",
       "      <td>0</td>\n",
       "      <td>1</td>\n",
       "    </tr>\n",
       "    <tr>\n",
       "      <th>1</th>\n",
       "      <td>162597</td>\n",
       "      <td>151377</td>\n",
       "      <td>443898</td>\n",
       "      <td>1</td>\n",
       "      <td>0</td>\n",
       "      <td>0</td>\n",
       "    </tr>\n",
       "    <tr>\n",
       "      <th>2</th>\n",
       "      <td>153441</td>\n",
       "      <td>101145</td>\n",
       "      <td>407934</td>\n",
       "      <td>0</td>\n",
       "      <td>1</td>\n",
       "      <td>0</td>\n",
       "    </tr>\n",
       "    <tr>\n",
       "      <th>3</th>\n",
       "      <td>144372</td>\n",
       "      <td>118671</td>\n",
       "      <td>383199</td>\n",
       "      <td>0</td>\n",
       "      <td>0</td>\n",
       "      <td>1</td>\n",
       "    </tr>\n",
       "    <tr>\n",
       "      <th>4</th>\n",
       "      <td>142107</td>\n",
       "      <td>91391</td>\n",
       "      <td>366168</td>\n",
       "      <td>0</td>\n",
       "      <td>1</td>\n",
       "      <td>0</td>\n",
       "    </tr>\n",
       "    <tr>\n",
       "      <th>5</th>\n",
       "      <td>131876</td>\n",
       "      <td>99814</td>\n",
       "      <td>362861</td>\n",
       "      <td>0</td>\n",
       "      <td>0</td>\n",
       "      <td>1</td>\n",
       "    </tr>\n",
       "    <tr>\n",
       "      <th>6</th>\n",
       "      <td>134615</td>\n",
       "      <td>147198</td>\n",
       "      <td>127716</td>\n",
       "      <td>1</td>\n",
       "      <td>0</td>\n",
       "      <td>0</td>\n",
       "    </tr>\n",
       "    <tr>\n",
       "      <th>7</th>\n",
       "      <td>130298</td>\n",
       "      <td>145530</td>\n",
       "      <td>323876</td>\n",
       "      <td>0</td>\n",
       "      <td>1</td>\n",
       "      <td>0</td>\n",
       "    </tr>\n",
       "    <tr>\n",
       "      <th>8</th>\n",
       "      <td>120542</td>\n",
       "      <td>148718</td>\n",
       "      <td>311613</td>\n",
       "      <td>0</td>\n",
       "      <td>0</td>\n",
       "      <td>1</td>\n",
       "    </tr>\n",
       "    <tr>\n",
       "      <th>9</th>\n",
       "      <td>123334</td>\n",
       "      <td>108679</td>\n",
       "      <td>304981</td>\n",
       "      <td>1</td>\n",
       "      <td>0</td>\n",
       "      <td>0</td>\n",
       "    </tr>\n",
       "    <tr>\n",
       "      <th>10</th>\n",
       "      <td>101913</td>\n",
       "      <td>110594</td>\n",
       "      <td>229160</td>\n",
       "      <td>0</td>\n",
       "      <td>1</td>\n",
       "      <td>0</td>\n",
       "    </tr>\n",
       "    <tr>\n",
       "      <th>11</th>\n",
       "      <td>100671</td>\n",
       "      <td>91790</td>\n",
       "      <td>249744</td>\n",
       "      <td>1</td>\n",
       "      <td>0</td>\n",
       "      <td>0</td>\n",
       "    </tr>\n",
       "    <tr>\n",
       "      <th>12</th>\n",
       "      <td>93863</td>\n",
       "      <td>127320</td>\n",
       "      <td>249839</td>\n",
       "      <td>0</td>\n",
       "      <td>1</td>\n",
       "      <td>0</td>\n",
       "    </tr>\n",
       "    <tr>\n",
       "      <th>13</th>\n",
       "      <td>91992</td>\n",
       "      <td>135495</td>\n",
       "      <td>252664</td>\n",
       "      <td>1</td>\n",
       "      <td>0</td>\n",
       "      <td>0</td>\n",
       "    </tr>\n",
       "    <tr>\n",
       "      <th>14</th>\n",
       "      <td>119943</td>\n",
       "      <td>156547</td>\n",
       "      <td>256512</td>\n",
       "      <td>0</td>\n",
       "      <td>1</td>\n",
       "      <td>0</td>\n",
       "    </tr>\n",
       "    <tr>\n",
       "      <th>15</th>\n",
       "      <td>114523</td>\n",
       "      <td>122616</td>\n",
       "      <td>261776</td>\n",
       "      <td>0</td>\n",
       "      <td>0</td>\n",
       "      <td>1</td>\n",
       "    </tr>\n",
       "    <tr>\n",
       "      <th>16</th>\n",
       "      <td>78013</td>\n",
       "      <td>121597</td>\n",
       "      <td>264346</td>\n",
       "      <td>1</td>\n",
       "      <td>0</td>\n",
       "      <td>0</td>\n",
       "    </tr>\n",
       "    <tr>\n",
       "      <th>17</th>\n",
       "      <td>94657</td>\n",
       "      <td>145077</td>\n",
       "      <td>282574</td>\n",
       "      <td>0</td>\n",
       "      <td>0</td>\n",
       "      <td>1</td>\n",
       "    </tr>\n",
       "    <tr>\n",
       "      <th>18</th>\n",
       "      <td>91749</td>\n",
       "      <td>114175</td>\n",
       "      <td>294919</td>\n",
       "      <td>0</td>\n",
       "      <td>1</td>\n",
       "      <td>0</td>\n",
       "    </tr>\n",
       "    <tr>\n",
       "      <th>19</th>\n",
       "      <td>86419</td>\n",
       "      <td>153514</td>\n",
       "      <td>0</td>\n",
       "      <td>0</td>\n",
       "      <td>0</td>\n",
       "      <td>1</td>\n",
       "    </tr>\n",
       "    <tr>\n",
       "      <th>20</th>\n",
       "      <td>76253</td>\n",
       "      <td>113867</td>\n",
       "      <td>298664</td>\n",
       "      <td>1</td>\n",
       "      <td>0</td>\n",
       "      <td>0</td>\n",
       "    </tr>\n",
       "    <tr>\n",
       "      <th>21</th>\n",
       "      <td>78389</td>\n",
       "      <td>153773</td>\n",
       "      <td>299737</td>\n",
       "      <td>0</td>\n",
       "      <td>0</td>\n",
       "      <td>1</td>\n",
       "    </tr>\n",
       "    <tr>\n",
       "      <th>22</th>\n",
       "      <td>73994</td>\n",
       "      <td>122782</td>\n",
       "      <td>303319</td>\n",
       "      <td>0</td>\n",
       "      <td>1</td>\n",
       "      <td>0</td>\n",
       "    </tr>\n",
       "    <tr>\n",
       "      <th>23</th>\n",
       "      <td>67532</td>\n",
       "      <td>105751</td>\n",
       "      <td>304768</td>\n",
       "      <td>0</td>\n",
       "      <td>1</td>\n",
       "      <td>0</td>\n",
       "    </tr>\n",
       "    <tr>\n",
       "      <th>24</th>\n",
       "      <td>77044</td>\n",
       "      <td>99281</td>\n",
       "      <td>140574</td>\n",
       "      <td>0</td>\n",
       "      <td>0</td>\n",
       "      <td>1</td>\n",
       "    </tr>\n",
       "    <tr>\n",
       "      <th>25</th>\n",
       "      <td>64664</td>\n",
       "      <td>139553</td>\n",
       "      <td>137962</td>\n",
       "      <td>1</td>\n",
       "      <td>0</td>\n",
       "      <td>0</td>\n",
       "    </tr>\n",
       "    <tr>\n",
       "      <th>26</th>\n",
       "      <td>75328</td>\n",
       "      <td>144135</td>\n",
       "      <td>134050</td>\n",
       "      <td>0</td>\n",
       "      <td>1</td>\n",
       "      <td>0</td>\n",
       "    </tr>\n",
       "    <tr>\n",
       "      <th>27</th>\n",
       "      <td>72107</td>\n",
       "      <td>127864</td>\n",
       "      <td>353183</td>\n",
       "      <td>0</td>\n",
       "      <td>0</td>\n",
       "      <td>1</td>\n",
       "    </tr>\n",
       "    <tr>\n",
       "      <th>28</th>\n",
       "      <td>66051</td>\n",
       "      <td>182645</td>\n",
       "      <td>118148</td>\n",
       "      <td>0</td>\n",
       "      <td>1</td>\n",
       "      <td>0</td>\n",
       "    </tr>\n",
       "    <tr>\n",
       "      <th>29</th>\n",
       "      <td>65605</td>\n",
       "      <td>153032</td>\n",
       "      <td>107138</td>\n",
       "      <td>0</td>\n",
       "      <td>0</td>\n",
       "      <td>1</td>\n",
       "    </tr>\n",
       "    <tr>\n",
       "      <th>30</th>\n",
       "      <td>61994</td>\n",
       "      <td>115641</td>\n",
       "      <td>91131</td>\n",
       "      <td>0</td>\n",
       "      <td>1</td>\n",
       "      <td>0</td>\n",
       "    </tr>\n",
       "    <tr>\n",
       "      <th>31</th>\n",
       "      <td>61136</td>\n",
       "      <td>152701</td>\n",
       "      <td>88218</td>\n",
       "      <td>0</td>\n",
       "      <td>0</td>\n",
       "      <td>1</td>\n",
       "    </tr>\n",
       "    <tr>\n",
       "      <th>32</th>\n",
       "      <td>63408</td>\n",
       "      <td>129219</td>\n",
       "      <td>46085</td>\n",
       "      <td>1</td>\n",
       "      <td>0</td>\n",
       "      <td>0</td>\n",
       "    </tr>\n",
       "    <tr>\n",
       "      <th>33</th>\n",
       "      <td>55493</td>\n",
       "      <td>103057</td>\n",
       "      <td>214634</td>\n",
       "      <td>0</td>\n",
       "      <td>1</td>\n",
       "      <td>0</td>\n",
       "    </tr>\n",
       "    <tr>\n",
       "      <th>34</th>\n",
       "      <td>46426</td>\n",
       "      <td>157693</td>\n",
       "      <td>210797</td>\n",
       "      <td>1</td>\n",
       "      <td>0</td>\n",
       "      <td>0</td>\n",
       "    </tr>\n",
       "    <tr>\n",
       "      <th>35</th>\n",
       "      <td>46014</td>\n",
       "      <td>85047</td>\n",
       "      <td>205517</td>\n",
       "      <td>0</td>\n",
       "      <td>0</td>\n",
       "      <td>1</td>\n",
       "    </tr>\n",
       "    <tr>\n",
       "      <th>36</th>\n",
       "      <td>28663</td>\n",
       "      <td>127056</td>\n",
       "      <td>201126</td>\n",
       "      <td>0</td>\n",
       "      <td>1</td>\n",
       "      <td>0</td>\n",
       "    </tr>\n",
       "    <tr>\n",
       "      <th>37</th>\n",
       "      <td>44069</td>\n",
       "      <td>51283</td>\n",
       "      <td>197029</td>\n",
       "      <td>1</td>\n",
       "      <td>0</td>\n",
       "      <td>0</td>\n",
       "    </tr>\n",
       "    <tr>\n",
       "      <th>38</th>\n",
       "      <td>20229</td>\n",
       "      <td>65947</td>\n",
       "      <td>185265</td>\n",
       "      <td>0</td>\n",
       "      <td>0</td>\n",
       "      <td>1</td>\n",
       "    </tr>\n",
       "    <tr>\n",
       "      <th>39</th>\n",
       "      <td>38558</td>\n",
       "      <td>82982</td>\n",
       "      <td>174999</td>\n",
       "      <td>1</td>\n",
       "      <td>0</td>\n",
       "      <td>0</td>\n",
       "    </tr>\n",
       "    <tr>\n",
       "      <th>40</th>\n",
       "      <td>28754</td>\n",
       "      <td>118546</td>\n",
       "      <td>172795</td>\n",
       "      <td>1</td>\n",
       "      <td>0</td>\n",
       "      <td>0</td>\n",
       "    </tr>\n",
       "    <tr>\n",
       "      <th>41</th>\n",
       "      <td>27892</td>\n",
       "      <td>84710</td>\n",
       "      <td>164470</td>\n",
       "      <td>0</td>\n",
       "      <td>1</td>\n",
       "      <td>0</td>\n",
       "    </tr>\n",
       "    <tr>\n",
       "      <th>42</th>\n",
       "      <td>23640</td>\n",
       "      <td>96189</td>\n",
       "      <td>148001</td>\n",
       "      <td>1</td>\n",
       "      <td>0</td>\n",
       "      <td>0</td>\n",
       "    </tr>\n",
       "    <tr>\n",
       "      <th>43</th>\n",
       "      <td>15505</td>\n",
       "      <td>127382</td>\n",
       "      <td>35534</td>\n",
       "      <td>0</td>\n",
       "      <td>0</td>\n",
       "      <td>1</td>\n",
       "    </tr>\n",
       "    <tr>\n",
       "      <th>44</th>\n",
       "      <td>22177</td>\n",
       "      <td>154806</td>\n",
       "      <td>28334</td>\n",
       "      <td>1</td>\n",
       "      <td>0</td>\n",
       "      <td>0</td>\n",
       "    </tr>\n",
       "    <tr>\n",
       "      <th>45</th>\n",
       "      <td>1000</td>\n",
       "      <td>124153</td>\n",
       "      <td>1903</td>\n",
       "      <td>0</td>\n",
       "      <td>0</td>\n",
       "      <td>1</td>\n",
       "    </tr>\n",
       "    <tr>\n",
       "      <th>46</th>\n",
       "      <td>1315</td>\n",
       "      <td>115816</td>\n",
       "      <td>297114</td>\n",
       "      <td>0</td>\n",
       "      <td>1</td>\n",
       "      <td>0</td>\n",
       "    </tr>\n",
       "    <tr>\n",
       "      <th>47</th>\n",
       "      <td>0</td>\n",
       "      <td>135426</td>\n",
       "      <td>0</td>\n",
       "      <td>1</td>\n",
       "      <td>0</td>\n",
       "      <td>0</td>\n",
       "    </tr>\n",
       "    <tr>\n",
       "      <th>48</th>\n",
       "      <td>542</td>\n",
       "      <td>51743</td>\n",
       "      <td>0</td>\n",
       "      <td>0</td>\n",
       "      <td>0</td>\n",
       "      <td>1</td>\n",
       "    </tr>\n",
       "    <tr>\n",
       "      <th>49</th>\n",
       "      <td>0</td>\n",
       "      <td>116983</td>\n",
       "      <td>45173</td>\n",
       "      <td>1</td>\n",
       "      <td>0</td>\n",
       "      <td>0</td>\n",
       "    </tr>\n",
       "  </tbody>\n",
       "</table>\n",
       "</div>"
      ],
      "text/plain": [
       "    R&D Spend  Administration  Marketing Spend  California  Florida  New York\n",
       "0      165349          136897           471784           0        0         1\n",
       "1      162597          151377           443898           1        0         0\n",
       "2      153441          101145           407934           0        1         0\n",
       "3      144372          118671           383199           0        0         1\n",
       "4      142107           91391           366168           0        1         0\n",
       "5      131876           99814           362861           0        0         1\n",
       "6      134615          147198           127716           1        0         0\n",
       "7      130298          145530           323876           0        1         0\n",
       "8      120542          148718           311613           0        0         1\n",
       "9      123334          108679           304981           1        0         0\n",
       "10     101913          110594           229160           0        1         0\n",
       "11     100671           91790           249744           1        0         0\n",
       "12      93863          127320           249839           0        1         0\n",
       "13      91992          135495           252664           1        0         0\n",
       "14     119943          156547           256512           0        1         0\n",
       "15     114523          122616           261776           0        0         1\n",
       "16      78013          121597           264346           1        0         0\n",
       "17      94657          145077           282574           0        0         1\n",
       "18      91749          114175           294919           0        1         0\n",
       "19      86419          153514                0           0        0         1\n",
       "20      76253          113867           298664           1        0         0\n",
       "21      78389          153773           299737           0        0         1\n",
       "22      73994          122782           303319           0        1         0\n",
       "23      67532          105751           304768           0        1         0\n",
       "24      77044           99281           140574           0        0         1\n",
       "25      64664          139553           137962           1        0         0\n",
       "26      75328          144135           134050           0        1         0\n",
       "27      72107          127864           353183           0        0         1\n",
       "28      66051          182645           118148           0        1         0\n",
       "29      65605          153032           107138           0        0         1\n",
       "30      61994          115641            91131           0        1         0\n",
       "31      61136          152701            88218           0        0         1\n",
       "32      63408          129219            46085           1        0         0\n",
       "33      55493          103057           214634           0        1         0\n",
       "34      46426          157693           210797           1        0         0\n",
       "35      46014           85047           205517           0        0         1\n",
       "36      28663          127056           201126           0        1         0\n",
       "37      44069           51283           197029           1        0         0\n",
       "38      20229           65947           185265           0        0         1\n",
       "39      38558           82982           174999           1        0         0\n",
       "40      28754          118546           172795           1        0         0\n",
       "41      27892           84710           164470           0        1         0\n",
       "42      23640           96189           148001           1        0         0\n",
       "43      15505          127382            35534           0        0         1\n",
       "44      22177          154806            28334           1        0         0\n",
       "45       1000          124153             1903           0        0         1\n",
       "46       1315          115816           297114           0        1         0\n",
       "47          0          135426                0           1        0         0\n",
       "48        542           51743                0           0        0         1\n",
       "49          0          116983            45173           1        0         0"
      ]
     },
     "execution_count": 14,
     "metadata": {},
     "output_type": "execute_result"
    }
   ],
   "source": [
    "x=pd.concat((f,d),axis=1)\n",
    "x"
   ]
  },
  {
   "cell_type": "code",
   "execution_count": 15,
   "id": "37e651ea",
   "metadata": {},
   "outputs": [],
   "source": [
    "y=data['Profit'].values"
   ]
  },
  {
   "cell_type": "markdown",
   "id": "8dacc3b5",
   "metadata": {},
   "source": [
    "### splitting dataset into train and test data"
   ]
  },
  {
   "cell_type": "code",
   "execution_count": 16,
   "id": "82680b6d",
   "metadata": {},
   "outputs": [],
   "source": [
    "from sklearn.model_selection import train_test_split\n",
    "from sklearn.metrics import r2_score"
   ]
  },
  {
   "cell_type": "code",
   "execution_count": 17,
   "id": "9060b46d",
   "metadata": {},
   "outputs": [],
   "source": [
    "# x_train = input_train\n",
    "# x_test = input_test\n",
    "# y_train = output_train\n",
    "# y_test = output_test\n",
    "x_train,x_test,y_train,y_test = train_test_split(x.values,y,test_size=15,\n",
    "                                                 random_state=10)"
   ]
  },
  {
   "cell_type": "code",
   "execution_count": 18,
   "id": "4f6d5b1c",
   "metadata": {},
   "outputs": [
    {
     "data": {
      "text/plain": [
       "(15, 6)"
      ]
     },
     "execution_count": 18,
     "metadata": {},
     "output_type": "execute_result"
    }
   ],
   "source": [
    "x_test.shape"
   ]
  },
  {
   "cell_type": "markdown",
   "id": "2d4fd7d6",
   "metadata": {},
   "source": [
    "### Import SVM and use SVM For Linear dataset"
   ]
  },
  {
   "cell_type": "code",
   "execution_count": 19,
   "id": "0d45cf58",
   "metadata": {},
   "outputs": [],
   "source": [
    "from sklearn.svm import SVC"
   ]
  },
  {
   "cell_type": "markdown",
   "id": "a8b31643",
   "metadata": {},
   "source": [
    "### Applying HyperParameter tuning on SVC Machine Learning model -> You can apply this HyperParameter method on any Machine Learning model"
   ]
  },
  {
   "cell_type": "code",
   "execution_count": 20,
   "id": "904a90d2",
   "metadata": {},
   "outputs": [],
   "source": [
    "from sklearn.model_selection import GridSearchCV"
   ]
  },
  {
   "cell_type": "code",
   "execution_count": 21,
   "id": "51c15b0b",
   "metadata": {},
   "outputs": [],
   "source": [
    "#Hyper perameter tuning \n",
    "p = [{'kernel':['linear'],'C':[.01,1,10]},{'kernel':['rbf'],'gamma':[.001,.01,.1,10]}]"
   ]
  },
  {
   "cell_type": "code",
   "execution_count": 22,
   "id": "daf002ff",
   "metadata": {},
   "outputs": [],
   "source": [
    "svm = GridSearchCV(SVC(), param_grid = p, scoring = 'accuracy')"
   ]
  },
  {
   "cell_type": "code",
   "execution_count": 23,
   "id": "bc6fed35",
   "metadata": {},
   "outputs": [],
   "source": [
    "#svm.fit(x_train,y_train)"
   ]
  },
  {
   "cell_type": "code",
   "execution_count": 24,
   "id": "188a857a",
   "metadata": {},
   "outputs": [],
   "source": [
    "# How to apply SVM on Linear data model with decimal values in it\n",
    "# Cannot solve n_split=5 error here even though I converted all the decimal values into integer ones in the DataFrame"
   ]
  },
  {
   "cell_type": "markdown",
   "id": "b3e96f24",
   "metadata": {},
   "source": [
    "## Example 2"
   ]
  },
  {
   "cell_type": "markdown",
   "id": "3e10002f",
   "metadata": {},
   "source": [
    "## SVM Model on Linear seperable dataset"
   ]
  },
  {
   "cell_type": "code",
   "execution_count": 25,
   "id": "c4f01343",
   "metadata": {},
   "outputs": [],
   "source": [
    "from sklearn.datasets import make_blobs\n",
    "import matplotlib.pyplot as plt\n",
    "import numpy as np"
   ]
  },
  {
   "cell_type": "code",
   "execution_count": 26,
   "id": "a57cfecd",
   "metadata": {},
   "outputs": [],
   "source": [
    "x,y = make_blobs(n_samples=500,n_features=2,centers=2,cluster_std=2.5,random_state=1)"
   ]
  },
  {
   "cell_type": "code",
   "execution_count": 27,
   "id": "1e6187ca",
   "metadata": {},
   "outputs": [
    {
     "data": {
      "text/plain": [
       "(500, 2)"
      ]
     },
     "execution_count": 27,
     "metadata": {},
     "output_type": "execute_result"
    }
   ],
   "source": [
    "x.shape"
   ]
  },
  {
   "cell_type": "code",
   "execution_count": 28,
   "id": "645ae7d0",
   "metadata": {},
   "outputs": [
    {
     "data": {
      "image/png": "[encoded data removed]",
      "text/plain": [
       "<Figure size 432x288 with 1 Axes>"
      ]
     },
     "metadata": {
      "needs_background": "light"
     },
     "output_type": "display_data"
    }
   ],
   "source": [
    "plt.scatter(x[y==0,0],x[y==0,1],c='red',label='0',edgecolors='k')\n",
    "plt.scatter(x[y==1,0],x[y==1,1],c='blue',label='1',edgecolors='k')\n",
    "plt.legend()\n",
    "plt.show()"
   ]
  },
  {
   "cell_type": "markdown",
   "id": "39f70967",
   "metadata": {},
   "source": [
    "### Applying SVM model"
   ]
  },
  {
   "cell_type": "code",
   "execution_count": 29,
   "id": "2e7c4584",
   "metadata": {},
   "outputs": [],
   "source": [
    "from sklearn.svm import SVC"
   ]
  },
  {
   "cell_type": "code",
   "execution_count": 30,
   "id": "de94c9e2",
   "metadata": {},
   "outputs": [],
   "source": [
    "#gamma=.01,10\n",
    "clf = SVC(kernel='rbf',gamma=10)  #model assumes that data is non-linear separable\n",
    "#clf = SVC(kernel='linear')   #model assumes that data is linear separable"
   ]
  },
  {
   "cell_type": "code",
   "execution_count": 31,
   "id": "5309c6a8",
   "metadata": {},
   "outputs": [
    {
     "data": {
      "text/plain": [
       "1.0"
      ]
     },
     "execution_count": 31,
     "metadata": {},
     "output_type": "execute_result"
    }
   ],
   "source": [
    "clf.fit(x,y)\n",
    "score = clf.score(x,y)\n",
    "score"
   ]
  },
  {
   "cell_type": "code",
   "execution_count": 32,
   "id": "939d6864",
   "metadata": {},
   "outputs": [
    {
     "data": {
      "text/plain": [
       "(array([], dtype=int64),)"
      ]
     },
     "execution_count": 32,
     "metadata": {},
     "output_type": "execute_result"
    }
   ],
   "source": [
    "pred = clf.predict(x)\n",
    "np.where(pred!=y)"
   ]
  },
  {
   "cell_type": "markdown",
   "id": "4938a3eb",
   "metadata": {},
   "source": [
    "### Testing SVM model"
   ]
  },
  {
   "cell_type": "code",
   "execution_count": 33,
   "id": "4ddba8ae",
   "metadata": {},
   "outputs": [],
   "source": [
    "test = [-6,0.5]"
   ]
  },
  {
   "cell_type": "code",
   "execution_count": 34,
   "id": "b5ab0e12",
   "metadata": {},
   "outputs": [
    {
     "data": {
      "image/png": "[encoded data removed]",
      "text/plain": [
       "<Figure size 864x576 with 1 Axes>"
      ]
     },
     "metadata": {
      "needs_background": "light"
     },
     "output_type": "display_data"
    }
   ],
   "source": [
    "plt.figure(figsize=(12,8))\n",
    "plt.scatter(test[0],test[1],c='green',label='test_sample',s=80)\n",
    "\n",
    "plt.scatter(x[y==0,0],x[y==0,1],c='red',label='0',edgecolors='k',s=80)\n",
    "plt.scatter(x[y==1,0],x[y==1,1],c='blue',label='1',edgecolors='k',s=80)\n",
    "plt.legend()\n",
    "plt.show()"
   ]
  },
  {
   "cell_type": "code",
   "execution_count": 35,
   "id": "01f2fee5",
   "metadata": {},
   "outputs": [
    {
     "data": {
      "text/plain": [
       "array([0])"
      ]
     },
     "execution_count": 35,
     "metadata": {},
     "output_type": "execute_result"
    }
   ],
   "source": [
    "clf.predict([test])"
   ]
  },
  {
   "cell_type": "markdown",
   "id": "3077165a",
   "metadata": {},
   "source": [
    "## SVM model on Non-linear seperable dataset"
   ]
  },
  {
   "cell_type": "code",
   "execution_count": 36,
   "id": "8c651ad8",
   "metadata": {},
   "outputs": [],
   "source": [
    "from sklearn.datasets import make_circles\n",
    "#to avoid future warning\n",
    "import warnings\n",
    "warnings.simplefilter(action='ignore', category=FutureWarning)"
   ]
  },
  {
   "cell_type": "code",
   "execution_count": 37,
   "id": "0e47d681",
   "metadata": {},
   "outputs": [],
   "source": [
    "x1,y1 = make_circles(n_samples=100,random_state=10,noise=.05)"
   ]
  },
  {
   "cell_type": "code",
   "execution_count": 38,
   "id": "29c05b9f",
   "metadata": {},
   "outputs": [
    {
     "data": {
      "image/png": "[encoded data removed]",
      "text/plain": [
       "<Figure size 432x288 with 1 Axes>"
      ]
     },
     "metadata": {
      "needs_background": "light"
     },
     "output_type": "display_data"
    }
   ],
   "source": [
    "plt.scatter(x1[y1==0,0],x1[y1==0,1],c='red',label='0')\n",
    "plt.scatter(x1[y1==1,0],x1[y1==1,1],c='blue',label='1')\n",
    "plt.legend()\n",
    "plt.show()"
   ]
  },
  {
   "cell_type": "code",
   "execution_count": 39,
   "id": "3d1111cf",
   "metadata": {},
   "outputs": [],
   "source": [
    "# RBF is used to work with non linear dataset\n",
    "\n",
    "# Gamma is used when we use the RBF kernel. if we use linear kernel then we do not need gamma only we need C hypermeter.\n",
    "\n",
    "# Gamma is a hyperparameter which we have to set before training model. Gamma decides the the region of a class\n",
    "\n",
    "# if gamma is low then decision region of a class will be large\n",
    "\n",
    "# if gamma is high then decision region of a class will be small"
   ]
  },
  {
   "cell_type": "code",
   "execution_count": 40,
   "id": "c8d5cc38",
   "metadata": {},
   "outputs": [],
   "source": [
    "clf=SVC(kernel='rbf',gamma=10)"
   ]
  },
  {
   "cell_type": "code",
   "execution_count": 41,
   "id": "c5c7812d",
   "metadata": {},
   "outputs": [
    {
     "data": {
      "text/plain": [
       "SVC(gamma=10)"
      ]
     },
     "execution_count": 41,
     "metadata": {},
     "output_type": "execute_result"
    }
   ],
   "source": [
    "clf.fit(x1,y1)"
   ]
  },
  {
   "cell_type": "code",
   "execution_count": 42,
   "id": "b98ca732",
   "metadata": {},
   "outputs": [
    {
     "data": {
      "text/plain": [
       "0.97"
      ]
     },
     "execution_count": 42,
     "metadata": {},
     "output_type": "execute_result"
    }
   ],
   "source": [
    "clf.score(x1,y1)"
   ]
  },
  {
   "cell_type": "markdown",
   "id": "abcc6320",
   "metadata": {},
   "source": [
    "## When we have large amount of samples and features then how to select kernel value?"
   ]
  },
  {
   "cell_type": "markdown",
   "id": "5efc2fc0",
   "metadata": {},
   "source": [
    "## SVM with Hyper parameter tuning"
   ]
  },
  {
   "cell_type": "code",
   "execution_count": 43,
   "id": "1658945f",
   "metadata": {},
   "outputs": [],
   "source": [
    "from sklearn.datasets import load_digits"
   ]
  },
  {
   "cell_type": "code",
   "execution_count": 44,
   "id": "ab69f4d1",
   "metadata": {},
   "outputs": [],
   "source": [
    "d = load_digits()"
   ]
  },
  {
   "cell_type": "code",
   "execution_count": 45,
   "id": "6ba99478",
   "metadata": {},
   "outputs": [],
   "source": [
    "X = d.data\n",
    "y = d.target"
   ]
  },
  {
   "cell_type": "markdown",
   "id": "363d5f5b",
   "metadata": {},
   "source": [
    "## splitting data"
   ]
  },
  {
   "cell_type": "code",
   "execution_count": 46,
   "id": "1614e144",
   "metadata": {},
   "outputs": [],
   "source": [
    "from sklearn.model_selection import train_test_split"
   ]
  },
  {
   "cell_type": "code",
   "execution_count": 47,
   "id": "9bdf32ba",
   "metadata": {},
   "outputs": [],
   "source": [
    "xtrain,xtest,ytrain,ytest = train_test_split(X,y,test_size=.2,random_state=12)"
   ]
  },
  {
   "cell_type": "code",
   "execution_count": 48,
   "id": "ab55d0a5",
   "metadata": {},
   "outputs": [],
   "source": [
    "clf = SVC(kernel='rbf',gamma=10)"
   ]
  },
  {
   "cell_type": "code",
   "execution_count": 49,
   "id": "42de9c7d",
   "metadata": {},
   "outputs": [
    {
     "data": {
      "text/plain": [
       "SVC(gamma=10)"
      ]
     },
     "execution_count": 49,
     "metadata": {},
     "output_type": "execute_result"
    }
   ],
   "source": [
    "clf.fit(xtrain,ytrain)"
   ]
  },
  {
   "cell_type": "code",
   "execution_count": 50,
   "id": "ff3fd089",
   "metadata": {},
   "outputs": [
    {
     "data": {
      "text/plain": [
       "1.0"
      ]
     },
     "execution_count": 50,
     "metadata": {},
     "output_type": "execute_result"
    }
   ],
   "source": [
    "clf.score(xtrain,ytrain)"
   ]
  },
  {
   "cell_type": "code",
   "execution_count": 51,
   "id": "2b65c059",
   "metadata": {},
   "outputs": [
    {
     "data": {
      "text/plain": [
       "0.08055555555555556"
      ]
     },
     "execution_count": 51,
     "metadata": {},
     "output_type": "execute_result"
    }
   ],
   "source": [
    "clf.score(xtest,ytest)"
   ]
  },
  {
   "cell_type": "markdown",
   "id": "f1904250",
   "metadata": {},
   "source": [
    "### large value of gamma leads to overfitting in the above example"
   ]
  },
  {
   "cell_type": "markdown",
   "id": "15900ab1",
   "metadata": {},
   "source": [
    "## SVM with hyper parameter tuning example"
   ]
  },
  {
   "cell_type": "code",
   "execution_count": 52,
   "id": "8d9dd4ff",
   "metadata": {},
   "outputs": [],
   "source": [
    "from sklearn.model_selection import GridSearchCV"
   ]
  },
  {
   "cell_type": "code",
   "execution_count": 53,
   "id": "0b3cc9f7",
   "metadata": {},
   "outputs": [],
   "source": [
    "p = [{'kernel':['linear'],'C':[.01,1,10]},{'kernel':['rbf'],'gamma':[.001,.01,.1,10]}]"
   ]
  },
  {
   "cell_type": "code",
   "execution_count": 54,
   "id": "9b4b64bc",
   "metadata": {},
   "outputs": [],
   "source": [
    "clf = GridSearchCV(SVC(),param_grid=p,cv=5,scoring='accuracy')"
   ]
  },
  {
   "cell_type": "code",
   "execution_count": 55,
   "id": "df4e6d0d",
   "metadata": {},
   "outputs": [
    {
     "data": {
      "text/plain": [
       "GridSearchCV(cv=5, estimator=SVC(),\n",
       "             param_grid=[{'C': [0.01, 1, 10], 'kernel': ['linear']},\n",
       "                         {'gamma': [0.001, 0.01, 0.1, 10], 'kernel': ['rbf']}],\n",
       "             scoring='accuracy')"
      ]
     },
     "execution_count": 55,
     "metadata": {},
     "output_type": "execute_result"
    }
   ],
   "source": [
    "clf.fit(xtrain,ytrain)"
   ]
  },
  {
   "cell_type": "code",
   "execution_count": 56,
   "id": "e66e913c",
   "metadata": {},
   "outputs": [
    {
     "data": {
      "text/plain": [
       "0.9916448896631824"
      ]
     },
     "execution_count": 56,
     "metadata": {},
     "output_type": "execute_result"
    }
   ],
   "source": [
    "clf.best_score_ #getting the best model with the highest score"
   ]
  },
  {
   "cell_type": "code",
   "execution_count": 57,
   "id": "39ba2819",
   "metadata": {},
   "outputs": [
    {
     "data": {
      "text/plain": [
       "{'gamma': 0.001, 'kernel': 'rbf'}"
      ]
     },
     "execution_count": 57,
     "metadata": {},
     "output_type": "execute_result"
    }
   ],
   "source": [
    "clf.best_params_ # getting the best model with the best hyper parameters with the highest score"
   ]
  },
  {
   "cell_type": "code",
   "execution_count": 58,
   "id": "2aa0c6fc",
   "metadata": {},
   "outputs": [],
   "source": [
    "clf1 = clf.best_estimator_ # saving the model with the best hyper parameter in the clf variable"
   ]
  },
  {
   "cell_type": "code",
   "execution_count": 59,
   "id": "ba075284",
   "metadata": {},
   "outputs": [],
   "source": [
    "pred = clf1.predict(xtest)"
   ]
  },
  {
   "cell_type": "code",
   "execution_count": 60,
   "id": "b3312a10",
   "metadata": {},
   "outputs": [
    {
     "data": {
      "text/plain": [
       "array([2, 8, 7, 0, 2, 1, 8, 8, 9, 1, 5, 9, 2, 2, 1, 2, 0, 7, 7, 2, 4, 4,\n",
       "       4, 7, 2, 7, 3, 6, 7, 4, 2, 3, 1, 5, 7, 0, 9, 2, 7, 2, 9, 8, 6, 5,\n",
       "       1, 3, 1, 7, 1, 3, 3, 2, 3, 7, 7, 7, 2, 9, 4, 7, 4, 6, 9, 3, 0, 6,\n",
       "       8, 3, 6, 0, 9, 7, 2, 0, 1, 2, 3, 3, 0, 9, 8, 1, 5, 8, 9, 4, 5, 6,\n",
       "       0, 0, 3, 1, 3, 2, 4, 4, 7, 5, 6, 4, 8, 6, 4, 5, 1, 1, 4, 6, 9, 7,\n",
       "       1, 5, 0, 2, 3, 5, 2, 8, 1, 7, 5, 9, 9, 7, 6, 4, 7, 3, 2, 2, 3, 0,\n",
       "       0, 4, 0, 0, 5, 8, 5, 6, 4, 8, 6, 0, 7, 7, 4, 9, 4, 2, 3, 6, 7, 5,\n",
       "       9, 3, 6, 9, 6, 3, 4, 9, 6, 6, 0, 3, 6, 7, 9, 8, 8, 1, 5, 0, 4, 9,\n",
       "       3, 4, 0, 5, 3, 0, 5, 3, 8, 4, 3, 3, 5, 4, 1, 4, 4, 3, 7, 8, 8, 1,\n",
       "       7, 8, 5, 0, 5, 3, 7, 0, 4, 1, 3, 1, 9, 5, 9, 4, 1, 3, 0, 9, 2, 0,\n",
       "       3, 8, 8, 0, 6, 3, 1, 9, 3, 8, 7, 7, 1, 3, 3, 7, 0, 6, 5, 6, 1, 9,\n",
       "       9, 8, 4, 5, 2, 3, 0, 9, 0, 3, 2, 7, 7, 8, 0, 4, 6, 5, 6, 5, 0, 4,\n",
       "       2, 4, 6, 0, 3, 0, 6, 3, 8, 3, 7, 2, 6, 1, 4, 1, 7, 6, 4, 2, 7, 3,\n",
       "       8, 6, 9, 7, 1, 5, 8, 0, 9, 7, 7, 1, 3, 3, 2, 8, 4, 2, 5, 4, 2, 0,\n",
       "       9, 0, 1, 1, 8, 4, 2, 9, 9, 7, 5, 1, 2, 9, 2, 2, 9, 4, 0, 9, 2, 1,\n",
       "       6, 2, 1, 7, 9, 8, 5, 4, 7, 8, 8, 3, 9, 5, 2, 5, 7, 0, 5, 3, 2, 5,\n",
       "       9, 4, 8, 8, 7, 4, 2, 0])"
      ]
     },
     "execution_count": 60,
     "metadata": {},
     "output_type": "execute_result"
    }
   ],
   "source": [
    "pred"
   ]
  },
  {
   "cell_type": "code",
   "execution_count": 61,
   "id": "418a4123",
   "metadata": {},
   "outputs": [],
   "source": [
    "from sklearn.metrics import accuracy_score"
   ]
  },
  {
   "cell_type": "code",
   "execution_count": 62,
   "id": "1df1348f",
   "metadata": {},
   "outputs": [
    {
     "data": {
      "text/plain": [
       "0.9944444444444445"
      ]
     },
     "execution_count": 62,
     "metadata": {},
     "output_type": "execute_result"
    }
   ],
   "source": [
    "accuracy_score(ytest,pred)"
   ]
  },
  {
   "cell_type": "code",
   "execution_count": 63,
   "id": "13c2dc70",
   "metadata": {},
   "outputs": [
    {
     "data": {
      "text/plain": [
       "(array([161, 212]),)"
      ]
     },
     "execution_count": 63,
     "metadata": {},
     "output_type": "execute_result"
    }
   ],
   "source": [
    "np.where(pred!=ytest) #getting all the missclassified numbers "
   ]
  },
  {
   "cell_type": "markdown",
   "id": "6dc15f2a",
   "metadata": {},
   "source": [
    "## Using SVM for classification "
   ]
  },
  {
   "cell_type": "markdown",
   "id": "296d1fe8",
   "metadata": {},
   "source": [
    "### Here we are going to use SVM to classify numbers in the data set in form of 28x28 images"
   ]
  },
  {
   "cell_type": "code",
   "execution_count": 64,
   "id": "29685d09",
   "metadata": {},
   "outputs": [],
   "source": [
    "from sklearn.datasets import fetch_openml\n",
    "import numpy as np"
   ]
  },
  {
   "cell_type": "markdown",
   "id": "70d49b89",
   "metadata": {},
   "source": [
    "## downloading mnsit dataset from open_ml website"
   ]
  },
  {
   "cell_type": "code",
   "execution_count": 65,
   "id": "41c24da7",
   "metadata": {},
   "outputs": [],
   "source": [
    "mnist = fetch_openml('mnist_784') # it is a dataset that contains images of numbers from 0 to 9"
   ]
  },
  {
   "cell_type": "markdown",
   "id": "b6757233",
   "metadata": {},
   "source": [
    "## x and y comes in the form of dataframe hence use .values to convert them into arrays"
   ]
  },
  {
   "cell_type": "code",
   "execution_count": 66,
   "id": "4f53d78c",
   "metadata": {},
   "outputs": [],
   "source": [
    "x = mnist.data.values"
   ]
  },
  {
   "cell_type": "code",
   "execution_count": 67,
   "id": "ac32b19b",
   "metadata": {},
   "outputs": [],
   "source": [
    "y = mnist.target.values"
   ]
  },
  {
   "cell_type": "code",
   "execution_count": 68,
   "id": "a6589785",
   "metadata": {},
   "outputs": [
    {
     "data": {
      "text/plain": [
       "(70000, 784)"
      ]
     },
     "execution_count": 68,
     "metadata": {},
     "output_type": "execute_result"
    }
   ],
   "source": [
    "x.shape"
   ]
  },
  {
   "cell_type": "code",
   "execution_count": 69,
   "id": "48a480f2",
   "metadata": {},
   "outputs": [
    {
     "data": {
      "text/plain": [
       "2"
      ]
     },
     "execution_count": 69,
     "metadata": {},
     "output_type": "execute_result"
    }
   ],
   "source": [
    "x.ndim"
   ]
  },
  {
   "cell_type": "code",
   "execution_count": 70,
   "id": "c48b5b18",
   "metadata": {},
   "outputs": [
    {
     "data": {
      "text/plain": [
       "(70000,)"
      ]
     },
     "execution_count": 70,
     "metadata": {},
     "output_type": "execute_result"
    }
   ],
   "source": [
    "y.shape"
   ]
  },
  {
   "cell_type": "code",
   "execution_count": 71,
   "id": "bb27ed12",
   "metadata": {},
   "outputs": [
    {
     "data": {
      "text/plain": [
       "1"
      ]
     },
     "execution_count": 71,
     "metadata": {},
     "output_type": "execute_result"
    }
   ],
   "source": [
    "y.ndim"
   ]
  },
  {
   "cell_type": "code",
   "execution_count": 72,
   "id": "015773b8",
   "metadata": {},
   "outputs": [
    {
     "data": {
      "text/plain": [
       "array([[0., 0., 0., ..., 0., 0., 0.],\n",
       "       [0., 0., 0., ..., 0., 0., 0.],\n",
       "       [0., 0., 0., ..., 0., 0., 0.],\n",
       "       ...,\n",
       "       [0., 0., 0., ..., 0., 0., 0.],\n",
       "       [0., 0., 0., ..., 0., 0., 0.],\n",
       "       [0., 0., 0., ..., 0., 0., 0.]])"
      ]
     },
     "execution_count": 72,
     "metadata": {},
     "output_type": "execute_result"
    }
   ],
   "source": [
    "x"
   ]
  },
  {
   "cell_type": "code",
   "execution_count": 73,
   "id": "4a8097c6",
   "metadata": {},
   "outputs": [
    {
     "data": {
      "image/png": "[encoded data removed]",
      "text/plain": [
       "<Figure size 432x288 with 1 Axes>"
      ]
     },
     "metadata": {
      "needs_background": "light"
     },
     "output_type": "display_data"
    }
   ],
   "source": [
    "plt.imshow(x[2].reshape(28,28),cmap='gray')\n",
    "plt.show()"
   ]
  },
  {
   "cell_type": "code",
   "execution_count": 74,
   "id": "da4cba70",
   "metadata": {},
   "outputs": [
    {
     "data": {
      "text/plain": [
       "(array(['0', '1', '2', '3', '4', '5', '6', '7', '8', '9'], dtype=object),\n",
       " array([6903, 7877, 6990, 7141, 6824, 6313, 6876, 7293, 6825, 6958]))"
      ]
     },
     "execution_count": 74,
     "metadata": {},
     "output_type": "execute_result"
    }
   ],
   "source": [
    "np.unique(y,return_counts=True)"
   ]
  },
  {
   "cell_type": "markdown",
   "id": "e41d32ae",
   "metadata": {},
   "source": [
    "## use minmax scalar here for feature scaling"
   ]
  },
  {
   "cell_type": "code",
   "execution_count": 75,
   "id": "28abfdb2",
   "metadata": {},
   "outputs": [],
   "source": [
    "from sklearn.preprocessing import MinMaxScaler "
   ]
  },
  {
   "cell_type": "code",
   "execution_count": 76,
   "id": "0480b8cc",
   "metadata": {},
   "outputs": [],
   "source": [
    "minmax_scaler = MinMaxScaler() # initialization of minmaxScalar"
   ]
  },
  {
   "cell_type": "markdown",
   "id": "0010af14",
   "metadata": {},
   "source": [
    "## Splitting data"
   ]
  },
  {
   "cell_type": "code",
   "execution_count": 77,
   "id": "df88b200",
   "metadata": {},
   "outputs": [],
   "source": [
    "from sklearn.model_selection import train_test_split"
   ]
  },
  {
   "cell_type": "code",
   "execution_count": 78,
   "id": "43efe0bb",
   "metadata": {},
   "outputs": [],
   "source": [
    "xtrain,xtest,ytrain,ytest = train_test_split(x,y,test_size=.2,random_state=12)"
   ]
  },
  {
   "cell_type": "markdown",
   "id": "2978d47f",
   "metadata": {},
   "source": [
    "## Transforming data using Feature Scaling (MinMaxScaler) OR Normalizing data using MinMax Scalar. It is very important to normalize data in the dataframe before feeding it to SVM"
   ]
  },
  {
   "cell_type": "code",
   "execution_count": 79,
   "id": "5f38547c",
   "metadata": {},
   "outputs": [],
   "source": [
    "minmax_scaler_train = minmax_scaler.fit_transform(xtrain)\n",
    "minmax_scaler_test = minmax_scaler.transform(xtest)"
   ]
  },
  {
   "cell_type": "markdown",
   "id": "6d44995c",
   "metadata": {},
   "source": [
    "## Now applying SVM"
   ]
  },
  {
   "cell_type": "code",
   "execution_count": 80,
   "id": "6f4b3123",
   "metadata": {},
   "outputs": [],
   "source": [
    "from sklearn.svm import SVC"
   ]
  },
  {
   "cell_type": "code",
   "execution_count": 81,
   "id": "8aa0bbe0",
   "metadata": {},
   "outputs": [],
   "source": [
    "#gamma=.01,10\n",
    "clf = SVC(kernel='rbf',gamma=0.001)  #model assumes that data is non-linear separable\n",
    "#clf = SVC(kernel='linear')   #model assumes that data is linear separable"
   ]
  },
  {
   "cell_type": "code",
   "execution_count": 82,
   "id": "c4a451e2",
   "metadata": {},
   "outputs": [
    {
     "data": {
      "text/plain": [
       "SVC(gamma=0.001)"
      ]
     },
     "execution_count": 82,
     "metadata": {},
     "output_type": "execute_result"
    }
   ],
   "source": [
    "clf.fit(minmax_scaler_train,ytrain) # training SVC model"
   ]
  },
  {
   "cell_type": "code",
   "execution_count": 83,
   "id": "2acd17e9",
   "metadata": {},
   "outputs": [
    {
     "data": {
      "text/plain": [
       "0.9367142857142857"
      ]
     },
     "execution_count": 83,
     "metadata": {},
     "output_type": "execute_result"
    }
   ],
   "source": [
    "score = clf.score(minmax_scaler_test,ytest)\n",
    "score"
   ]
  },
  {
   "cell_type": "code",
   "execution_count": 84,
   "id": "b1db9131",
   "metadata": {},
   "outputs": [
    {
     "data": {
      "text/plain": [
       "array(['3', '7', '1', ..., '5', '7', '4'], dtype=object)"
      ]
     },
     "execution_count": 84,
     "metadata": {},
     "output_type": "execute_result"
    }
   ],
   "source": [
    "pred = clf.predict(minmax_scaler_test)\n",
    "pred"
   ]
  },
  {
   "cell_type": "code",
   "execution_count": 85,
   "id": "409fe188",
   "metadata": {},
   "outputs": [
    {
     "data": {
      "text/plain": [
       "(array([    5,     8,     9,    15,    39,    44,    49,    54,    56,\n",
       "           90,   117,   125,   130,   137,   150,   187,   190,   212,\n",
       "          213,   225,   281,   334,   336,   345,   355,   362,   367,\n",
       "          416,   417,   428,   465,   468,   471,   472,   489,   499,\n",
       "          523,   537,   557,   601,   614,   630,   633,   648,   688,\n",
       "          718,   719,   725,   752,   764,   768,   782,   793,   802,\n",
       "          842,   853,   874,   917,   958,   995,  1011,  1015,  1022,\n",
       "         1086,  1120,  1126,  1130,  1134,  1141,  1158,  1186,  1219,\n",
       "         1237,  1251,  1253,  1259,  1283,  1288,  1296,  1338,  1340,\n",
       "         1360,  1408,  1417,  1427,  1443,  1461,  1488,  1507,  1509,\n",
       "         1520,  1545,  1584,  1599,  1608,  1610,  1645,  1678,  1682,\n",
       "         1690,  1711,  1714,  1743,  1769,  1772,  1793,  1796,  1798,\n",
       "         1802,  1848,  1857,  1881,  1891,  1899,  1901,  1902,  1904,\n",
       "         1932,  1991,  2025,  2040,  2047,  2093,  2100,  2115,  2130,\n",
       "         2132,  2161,  2206,  2213,  2223,  2224,  2232,  2234,  2235,\n",
       "         2239,  2258,  2273,  2288,  2293,  2341,  2360,  2366,  2375,\n",
       "         2377,  2382,  2384,  2385,  2394,  2402,  2408,  2426,  2439,\n",
       "         2455,  2461,  2479,  2480,  2484,  2507,  2527,  2528,  2539,\n",
       "         2570,  2595,  2605,  2616,  2624,  2630,  2632,  2646,  2655,\n",
       "         2661,  2680,  2686,  2688,  2690,  2720,  2725,  2730,  2733,\n",
       "         2754,  2794,  2810,  2815,  2818,  2829,  2832,  2843,  2851,\n",
       "         2880,  2888,  2900,  2926,  2930,  2957,  2962,  2994,  2998,\n",
       "         3022,  3023,  3050,  3052,  3054,  3072,  3080,  3083,  3085,\n",
       "         3088,  3139,  3141,  3159,  3188,  3205,  3234,  3245,  3254,\n",
       "         3305,  3316,  3322,  3358,  3368,  3373,  3374,  3412,  3420,\n",
       "         3442,  3452,  3485,  3487,  3496,  3522,  3536,  3554,  3570,\n",
       "         3585,  3592,  3593,  3616,  3617,  3659,  3663,  3667,  3679,\n",
       "         3698,  3709,  3712,  3715,  3739,  3752,  3795,  3796,  3803,\n",
       "         3809,  3820,  3840,  3844,  3849,  3854,  3860,  3862,  3878,\n",
       "         3882,  3891,  3920,  3923,  3926,  3933,  3936,  3940,  3945,\n",
       "         3946,  3955,  3961,  3969,  3975,  3994,  3999,  4011,  4030,\n",
       "         4042,  4059,  4068,  4077,  4083,  4097,  4103,  4117,  4118,\n",
       "         4141,  4151,  4166,  4169,  4173,  4203,  4268,  4328,  4359,\n",
       "         4373,  4402,  4408,  4416,  4417,  4419,  4424,  4432,  4452,\n",
       "         4462,  4481,  4482,  4494,  4508,  4515,  4519,  4522,  4541,\n",
       "         4547,  4588,  4601,  4611,  4618,  4632,  4634,  4637,  4644,\n",
       "         4646,  4648,  4700,  4723,  4772,  4776,  4807,  4844,  4861,\n",
       "         4871,  4893,  4895,  4963,  4965,  4981,  4988,  5008,  5011,\n",
       "         5023,  5033,  5053,  5064,  5074,  5079,  5081,  5098,  5108,\n",
       "         5118,  5175,  5212,  5213,  5230,  5239,  5257,  5269,  5285,\n",
       "         5287,  5296,  5297,  5310,  5323,  5326,  5329,  5335,  5346,\n",
       "         5353,  5375,  5397,  5414,  5479,  5490,  5499,  5511,  5514,\n",
       "         5522,  5530,  5542,  5552,  5589,  5600,  5608,  5610,  5614,\n",
       "         5631,  5686,  5690,  5701,  5712,  5776,  5781,  5785,  5795,\n",
       "         5834,  5855,  5856,  5874,  5895,  5904,  5915,  5946,  5956,\n",
       "         5968,  5986,  5994,  6004,  6006,  6038,  6058,  6059,  6071,\n",
       "         6079,  6091,  6105,  6115,  6133,  6182,  6205,  6211,  6216,\n",
       "         6260,  6271,  6300,  6309,  6311,  6314,  6343,  6344,  6356,\n",
       "         6367,  6369,  6385,  6395,  6436,  6441,  6455,  6492,  6528,\n",
       "         6533,  6555,  6560,  6569,  6583,  6631,  6633,  6666,  6696,\n",
       "         6697,  6707,  6709,  6738,  6755,  6764,  6792,  6803,  6805,\n",
       "         6826,  6870,  6877,  6882,  6890,  6944,  6945,  7029,  7043,\n",
       "         7066,  7073,  7077,  7104,  7109,  7128,  7135,  7172,  7181,\n",
       "         7189,  7199,  7212,  7221,  7223,  7225,  7246,  7247,  7260,\n",
       "         7295,  7312,  7354,  7382,  7393,  7401,  7423,  7438,  7443,\n",
       "         7473,  7481,  7495,  7517,  7602,  7606,  7626,  7646,  7661,\n",
       "         7667,  7713,  7718,  7736,  7748,  7751,  7761,  7773,  7786,\n",
       "         7821,  7847,  7851,  7852,  7855,  7861,  7863,  7924,  7945,\n",
       "         7950,  7974,  7996,  8003,  8018,  8028,  8029,  8037,  8067,\n",
       "         8070,  8104,  8121,  8122,  8142,  8178,  8179,  8204,  8216,\n",
       "         8282,  8288,  8299,  8309,  8327,  8328,  8332,  8374,  8390,\n",
       "         8399,  8413,  8415,  8430,  8452,  8453,  8468,  8469,  8477,\n",
       "         8482,  8505,  8511,  8520,  8536,  8540,  8574,  8600,  8617,\n",
       "         8624,  8636,  8641,  8655,  8657,  8709,  8713,  8753,  8776,\n",
       "         8780,  8786,  8795,  8826,  8852,  8898,  8903,  8915,  8945,\n",
       "         8965,  8997,  9002,  9005,  9026,  9049,  9052,  9059,  9064,\n",
       "         9092,  9096,  9097,  9115,  9164,  9183,  9187,  9211,  9218,\n",
       "         9276,  9279,  9302,  9330,  9349,  9355,  9357,  9369,  9384,\n",
       "         9410,  9430,  9461,  9477,  9480,  9483,  9490,  9502,  9533,\n",
       "         9556,  9557,  9558,  9559,  9565,  9622,  9661,  9664,  9669,\n",
       "         9676,  9692,  9705,  9750,  9752,  9761,  9768,  9775,  9797,\n",
       "         9803,  9809,  9813,  9818,  9827,  9869,  9878,  9894,  9923,\n",
       "         9932,  9940,  9954,  9959, 10002, 10014, 10041, 10102, 10118,\n",
       "        10122, 10142, 10162, 10192, 10193, 10198, 10208, 10209, 10212,\n",
       "        10253, 10314, 10335, 10410, 10418, 10457, 10489, 10537, 10540,\n",
       "        10550, 10558, 10577, 10588, 10590, 10597, 10599, 10619, 10626,\n",
       "        10628, 10644, 10657, 10676, 10678, 10689, 10717, 10735, 10737,\n",
       "        10755, 10760, 10762, 10766, 10783, 10809, 10833, 10852, 10865,\n",
       "        10870, 10874, 10896, 10898, 10903, 10963, 10970, 10987, 10992,\n",
       "        10998, 11014, 11061, 11070, 11076, 11084, 11100, 11152, 11172,\n",
       "        11173, 11251, 11264, 11301, 11304, 11378, 11382, 11420, 11422,\n",
       "        11433, 11439, 11443, 11447, 11451, 11463, 11489, 11502, 11604,\n",
       "        11618, 11619, 11642, 11650, 11669, 11670, 11694, 11708, 11762,\n",
       "        11775, 11779, 11781, 11791, 11810, 11822, 11825, 11877, 11881,\n",
       "        11891, 11895, 11935, 11960, 11987, 12000, 12008, 12015, 12020,\n",
       "        12031, 12042, 12049, 12056, 12091, 12112, 12130, 12152, 12156,\n",
       "        12168, 12175, 12179, 12189, 12225, 12226, 12235, 12257, 12269,\n",
       "        12311, 12318, 12339, 12369, 12395, 12428, 12468, 12474, 12494,\n",
       "        12519, 12541, 12544, 12554, 12555, 12574, 12583, 12623, 12643,\n",
       "        12644, 12646, 12654, 12656, 12734, 12749, 12750, 12760, 12770,\n",
       "        12790, 12791, 12815, 12821, 12847, 12851, 12876, 12922, 12989,\n",
       "        12993, 13034, 13046, 13051, 13054, 13062, 13104, 13128, 13136,\n",
       "        13150, 13237, 13239, 13240, 13265, 13267, 13321, 13323, 13335,\n",
       "        13343, 13415, 13420, 13443, 13468, 13470, 13486, 13508, 13525,\n",
       "        13526, 13541, 13566, 13606, 13607, 13615, 13629, 13634, 13665,\n",
       "        13672, 13704, 13710, 13711, 13715, 13734, 13741, 13752, 13766,\n",
       "        13777, 13787, 13788, 13822, 13834, 13847, 13864, 13869, 13902,\n",
       "        13911, 13921, 13922, 13926, 13941, 13957, 13969, 13974, 13978,\n",
       "        13980, 13983, 13991, 13999]),)"
      ]
     },
     "execution_count": 85,
     "metadata": {},
     "output_type": "execute_result"
    }
   ],
   "source": [
    "np.where(pred!=ytest) #getting all the missclassified numbers "
   ]
  },
  {
   "cell_type": "markdown",
   "id": "60875c95",
   "metadata": {},
   "source": [
    "## save the model to disk"
   ]
  },
  {
   "cell_type": "code",
   "execution_count": 86,
   "id": "8e5ebcfc",
   "metadata": {},
   "outputs": [],
   "source": [
    "#pickle.dump(model_name, open(filename, 'wb')) ->wb = write binary"
   ]
  },
  {
   "cell_type": "code",
   "execution_count": 87,
   "id": "985d7dff",
   "metadata": {},
   "outputs": [],
   "source": [
    "import pickle"
   ]
  },
  {
   "cell_type": "code",
   "execution_count": 89,
   "id": "28de9663",
   "metadata": {},
   "outputs": [],
   "source": [
    "filename = 'digit_recognizer_svm.sav'\n",
    "pickle.dump(clf, open(filename, 'wb'))"
   ]
  },
  {
   "cell_type": "markdown",
   "id": "8d4953ec",
   "metadata": {},
   "source": [
    "## Read the saved model from the disk"
   ]
  },
  {
   "cell_type": "code",
   "execution_count": 90,
   "id": "41181bf3",
   "metadata": {},
   "outputs": [],
   "source": [
    "# load the model from disk\n",
    "filename = 'digit_recognizer_svm.sav'\n",
    "loaded_model = pickle.load(open(filename, 'rb')) # -> rb = read binary\n",
    "result = loaded_model.score(minmax_scaler_test,ytest)"
   ]
  },
  {
   "cell_type": "code",
   "execution_count": 91,
   "id": "f5f6fb55",
   "metadata": {},
   "outputs": [
    {
     "data": {
      "text/plain": [
       "0.9367142857142857"
      ]
     },
     "execution_count": 91,
     "metadata": {},
     "output_type": "execute_result"
    }
   ],
   "source": [
    "result"
   ]
  },
  {
   "cell_type": "code",
   "execution_count": 92,
   "id": "78ed1528",
   "metadata": {},
   "outputs": [
    {
     "data": {
      "text/plain": [
       "array(['3', '7', '1', ..., '5', '7', '4'], dtype=object)"
      ]
     },
     "execution_count": 92,
     "metadata": {},
     "output_type": "execute_result"
    }
   ],
   "source": [
    "loaded_model.predict(minmax_scaler_test)"
   ]
  },
  {
   "cell_type": "code",
   "execution_count": 93,
   "id": "3bc21a5c",
   "metadata": {},
   "outputs": [
    {
     "data": {
      "text/plain": [
       "['3', '7', '1', '9', '1', ..., '6', '1', '5', '7', '2']\n",
       "Length: 14000\n",
       "Categories (10, object): ['0', '1', '2', '3', ..., '6', '7', '8', '9']"
      ]
     },
     "execution_count": 93,
     "metadata": {},
     "output_type": "execute_result"
    }
   ],
   "source": [
    "ytest"
   ]
  },
  {
   "cell_type": "markdown",
   "id": "b83768ec",
   "metadata": {},
   "source": [
    "## Importing image in this jupyter notebook using OpenCv"
   ]
  },
  {
   "cell_type": "code",
   "execution_count": 94,
   "id": "9e4e9d91",
   "metadata": {},
   "outputs": [],
   "source": [
    "import cv2\n",
    "import matplotlib.pyplot as plt\n",
    "import numpy as np"
   ]
  },
  {
   "cell_type": "markdown",
   "id": "86cb4242",
   "metadata": {},
   "source": [
    "## When you use opencv to import an image the image is plready in numpy nD array format and is ready to be used"
   ]
  },
  {
   "cell_type": "code",
   "execution_count": 95,
   "id": "68b8f632",
   "metadata": {},
   "outputs": [],
   "source": [
    "# importing image\n",
    "image = cv2.imread('/home/Machine_learning/github/Machine_Learning/Prutor_ML_ClassWork/six.png')"
   ]
  },
  {
   "cell_type": "code",
   "execution_count": 96,
   "id": "7f694e7a",
   "metadata": {},
   "outputs": [
    {
     "data": {
      "text/plain": [
       "3"
      ]
     },
     "execution_count": 96,
     "metadata": {},
     "output_type": "execute_result"
    }
   ],
   "source": [
    "image.ndim #here image imported via opencv is in 3D numpy array  "
   ]
  },
  {
   "cell_type": "code",
   "execution_count": 97,
   "id": "2b4bf3f8",
   "metadata": {},
   "outputs": [
    {
     "data": {
      "text/plain": [
       "<matplotlib.image.AxesImage at 0x7fb13afe7100>"
      ]
     },
     "execution_count": 97,
     "metadata": {},
     "output_type": "execute_result"
    },
    {
     "data": {
      "image/png": "[encoded data removed]",
      "text/plain": [
       "<Figure size 432x288 with 1 Axes>"
      ]
     },
     "metadata": {
      "needs_background": "light"
     },
     "output_type": "display_data"
    }
   ],
   "source": [
    "plt.imshow(image)"
   ]
  },
  {
   "cell_type": "markdown",
   "id": "ddca37f9",
   "metadata": {},
   "source": [
    "## Because we trained our model using numbers of color white with a black background we need to invert the color of our image"
   ]
  },
  {
   "cell_type": "code",
   "execution_count": 98,
   "id": "9f3af663",
   "metadata": {},
   "outputs": [],
   "source": [
    "image1 = np.invert(image) #inverting color using numpy"
   ]
  },
  {
   "cell_type": "code",
   "execution_count": 99,
   "id": "458f3276",
   "metadata": {},
   "outputs": [
    {
     "data": {
      "text/plain": [
       "<matplotlib.image.AxesImage at 0x7fb13afad790>"
      ]
     },
     "execution_count": 99,
     "metadata": {},
     "output_type": "execute_result"
    },
    {
     "data": {
      "image/png": "[encoded data removed]",
      "text/plain": [
       "<Figure size 432x288 with 1 Axes>"
      ]
     },
     "metadata": {
      "needs_background": "light"
     },
     "output_type": "display_data"
    }
   ],
   "source": [
    "plt.imshow(image1)"
   ]
  },
  {
   "cell_type": "markdown",
   "id": "99a25e18",
   "metadata": {},
   "source": [
    "## converting image into a gray scale image"
   ]
  },
  {
   "cell_type": "code",
   "execution_count": 100,
   "id": "5b6da737",
   "metadata": {},
   "outputs": [],
   "source": [
    "gray = cv2.cvtColor(image, cv2.COLOR_BGR2GRAY)"
   ]
  },
  {
   "cell_type": "code",
   "execution_count": 101,
   "id": "eee383f2",
   "metadata": {},
   "outputs": [
    {
     "data": {
      "text/plain": [
       "2"
      ]
     },
     "execution_count": 101,
     "metadata": {},
     "output_type": "execute_result"
    }
   ],
   "source": [
    "gray.ndim #it will convert 3D array of image into 2D array of image "
   ]
  },
  {
   "cell_type": "markdown",
   "id": "83a81fac",
   "metadata": {},
   "source": [
    "## We trained our model using 28 x 28 size images so we need to resize our imported image in 28 x 28 size"
   ]
  },
  {
   "cell_type": "code",
   "execution_count": 102,
   "id": "a09ae55f",
   "metadata": {},
   "outputs": [],
   "source": [
    "resized_img = cv2.resize(gray,(28,28)) #resize image into 28 x 28"
   ]
  },
  {
   "cell_type": "code",
   "execution_count": 103,
   "id": "29a1585a",
   "metadata": {},
   "outputs": [
    {
     "data": {
      "text/plain": [
       "(28, 28)"
      ]
     },
     "execution_count": 103,
     "metadata": {},
     "output_type": "execute_result"
    }
   ],
   "source": [
    "resized_img.shape"
   ]
  },
  {
   "cell_type": "markdown",
   "id": "90430943",
   "metadata": {},
   "source": [
    "## Feature scaling using Minmax Scalar"
   ]
  },
  {
   "cell_type": "markdown",
   "id": "4ef6f0e2",
   "metadata": {},
   "source": [
    "### our pickeled model only accepts 784 features so we need to reshape our image_array into (1,784) shape"
   ]
  },
  {
   "cell_type": "code",
   "execution_count": 104,
   "id": "0a5f4fed",
   "metadata": {},
   "outputs": [],
   "source": [
    "reshaped_image = resized_img.reshape(1,784) "
   ]
  },
  {
   "cell_type": "code",
   "execution_count": 105,
   "id": "c6fb7c91",
   "metadata": {},
   "outputs": [],
   "source": [
    "minmax_scaler_image = minmax_scaler.transform(reshaped_image) #feature scaling using minmaxscalar"
   ]
  },
  {
   "cell_type": "code",
   "execution_count": 106,
   "id": "81df3cbe",
   "metadata": {},
   "outputs": [],
   "source": [
    "# load the model from disk\n",
    "filename = 'digit_recognizer_svm.sav'\n",
    "loaded_model = pickle.load(open(filename, 'rb')) # -> rb = read binary"
   ]
  },
  {
   "cell_type": "code",
   "execution_count": 107,
   "id": "098e3172",
   "metadata": {},
   "outputs": [
    {
     "data": {
      "text/plain": [
       "array(['2'], dtype=object)"
      ]
     },
     "execution_count": 107,
     "metadata": {},
     "output_type": "execute_result"
    }
   ],
   "source": [
    "loaded_model.predict(minmax_scaler_image)"
   ]
  },
  {
   "cell_type": "markdown",
   "id": "a372eae2",
   "metadata": {},
   "source": [
    "## This model also did not recognized the number in this image correctly"
   ]
  },
  {
   "cell_type": "code",
   "execution_count": null,
   "id": "735b82fd",
   "metadata": {},
   "outputs": [],
   "source": []
  }
 ],
 "metadata": {
  "kernelspec": {
   "display_name": "Python [conda env:tensorflow] *",
   "language": "python",
   "name": "conda-env-tensorflow-py"
  },
  "language_info": {
   "codemirror_mode": {
    "name": "ipython",
    "version": 3
   },
   "file_extension": ".py",
   "mimetype": "text/x-python",
   "name": "python",
   "nbconvert_exporter": "python",
   "pygments_lexer": "ipython3",
   "version": "3.8.12"
  }
 },
 "nbformat": 4,
 "nbformat_minor": 5
}

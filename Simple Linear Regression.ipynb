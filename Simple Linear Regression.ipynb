{
 "cells": [
  {
   "cell_type": "markdown",
   "id": "7192fb30",
   "metadata": {},
   "source": [
    "# Simple Linear Regression"
   ]
  },
  {
   "cell_type": "code",
   "execution_count": 1,
   "id": "86b9a294",
   "metadata": {},
   "outputs": [],
   "source": [
    "import pandas as pd\n",
    "import numpy as np\n",
    "import matplotlib.pyplot as plt"
   ]
  },
  {
   "cell_type": "markdown",
   "id": "7edfabc4",
   "metadata": {},
   "source": [
    "# scikit-learn is a machine learning library"
   ]
  },
  {
   "cell_type": "code",
   "execution_count": 2,
   "id": "3ffd0a59",
   "metadata": {},
   "outputs": [],
   "source": [
    "import sklearn #importing scikit-learn"
   ]
  },
  {
   "cell_type": "markdown",
   "id": "5328a773",
   "metadata": {},
   "source": [
    "## Steps of machine learning"
   ]
  },
  {
   "cell_type": "code",
   "execution_count": 3,
   "id": "f5553aa0",
   "metadata": {},
   "outputs": [],
   "source": [
    "# collect and prepare data\n",
    "# choose alogrithm\n",
    "# train algo using training data\n",
    "# evaluate madel performance"
   ]
  },
  {
   "cell_type": "code",
   "execution_count": 4,
   "id": "062f7417",
   "metadata": {},
   "outputs": [],
   "source": [
    "df = pd.read_csv('Salary_Data.csv') #importing data and make a dataframe"
   ]
  },
  {
   "cell_type": "code",
   "execution_count": 5,
   "id": "d4cbffe2",
   "metadata": {},
   "outputs": [
    {
     "data": {
      "text/html": [
       "<div>\n",
       "<style scoped>\n",
       "    .dataframe tbody tr th:only-of-type {\n",
       "        vertical-align: middle;\n",
       "    }\n",
       "\n",
       "    .dataframe tbody tr th {\n",
       "        vertical-align: top;\n",
       "    }\n",
       "\n",
       "    .dataframe thead th {\n",
       "        text-align: right;\n",
       "    }\n",
       "</style>\n",
       "<table border=\"1\" class=\"dataframe\">\n",
       "  <thead>\n",
       "    <tr style=\"text-align: right;\">\n",
       "      <th></th>\n",
       "      <th>YearsExperience</th>\n",
       "      <th>Salary</th>\n",
       "    </tr>\n",
       "  </thead>\n",
       "  <tbody>\n",
       "    <tr>\n",
       "      <th>0</th>\n",
       "      <td>1.1</td>\n",
       "      <td>39343.0</td>\n",
       "    </tr>\n",
       "    <tr>\n",
       "      <th>1</th>\n",
       "      <td>1.3</td>\n",
       "      <td>46205.0</td>\n",
       "    </tr>\n",
       "    <tr>\n",
       "      <th>2</th>\n",
       "      <td>1.5</td>\n",
       "      <td>37731.0</td>\n",
       "    </tr>\n",
       "    <tr>\n",
       "      <th>3</th>\n",
       "      <td>2.0</td>\n",
       "      <td>43525.0</td>\n",
       "    </tr>\n",
       "    <tr>\n",
       "      <th>4</th>\n",
       "      <td>2.2</td>\n",
       "      <td>39891.0</td>\n",
       "    </tr>\n",
       "    <tr>\n",
       "      <th>5</th>\n",
       "      <td>2.9</td>\n",
       "      <td>56642.0</td>\n",
       "    </tr>\n",
       "    <tr>\n",
       "      <th>6</th>\n",
       "      <td>3.0</td>\n",
       "      <td>60150.0</td>\n",
       "    </tr>\n",
       "    <tr>\n",
       "      <th>7</th>\n",
       "      <td>3.2</td>\n",
       "      <td>54445.0</td>\n",
       "    </tr>\n",
       "    <tr>\n",
       "      <th>8</th>\n",
       "      <td>3.2</td>\n",
       "      <td>64445.0</td>\n",
       "    </tr>\n",
       "    <tr>\n",
       "      <th>9</th>\n",
       "      <td>3.7</td>\n",
       "      <td>57189.0</td>\n",
       "    </tr>\n",
       "    <tr>\n",
       "      <th>10</th>\n",
       "      <td>3.9</td>\n",
       "      <td>63218.0</td>\n",
       "    </tr>\n",
       "    <tr>\n",
       "      <th>11</th>\n",
       "      <td>4.0</td>\n",
       "      <td>55794.0</td>\n",
       "    </tr>\n",
       "    <tr>\n",
       "      <th>12</th>\n",
       "      <td>4.0</td>\n",
       "      <td>56957.0</td>\n",
       "    </tr>\n",
       "    <tr>\n",
       "      <th>13</th>\n",
       "      <td>4.1</td>\n",
       "      <td>57081.0</td>\n",
       "    </tr>\n",
       "    <tr>\n",
       "      <th>14</th>\n",
       "      <td>4.5</td>\n",
       "      <td>61111.0</td>\n",
       "    </tr>\n",
       "    <tr>\n",
       "      <th>15</th>\n",
       "      <td>4.9</td>\n",
       "      <td>67938.0</td>\n",
       "    </tr>\n",
       "    <tr>\n",
       "      <th>16</th>\n",
       "      <td>5.1</td>\n",
       "      <td>66029.0</td>\n",
       "    </tr>\n",
       "    <tr>\n",
       "      <th>17</th>\n",
       "      <td>5.3</td>\n",
       "      <td>83088.0</td>\n",
       "    </tr>\n",
       "    <tr>\n",
       "      <th>18</th>\n",
       "      <td>5.9</td>\n",
       "      <td>81363.0</td>\n",
       "    </tr>\n",
       "    <tr>\n",
       "      <th>19</th>\n",
       "      <td>6.0</td>\n",
       "      <td>93940.0</td>\n",
       "    </tr>\n",
       "    <tr>\n",
       "      <th>20</th>\n",
       "      <td>6.8</td>\n",
       "      <td>91738.0</td>\n",
       "    </tr>\n",
       "    <tr>\n",
       "      <th>21</th>\n",
       "      <td>7.1</td>\n",
       "      <td>98273.0</td>\n",
       "    </tr>\n",
       "    <tr>\n",
       "      <th>22</th>\n",
       "      <td>7.9</td>\n",
       "      <td>101302.0</td>\n",
       "    </tr>\n",
       "    <tr>\n",
       "      <th>23</th>\n",
       "      <td>8.2</td>\n",
       "      <td>113812.0</td>\n",
       "    </tr>\n",
       "    <tr>\n",
       "      <th>24</th>\n",
       "      <td>8.7</td>\n",
       "      <td>109431.0</td>\n",
       "    </tr>\n",
       "    <tr>\n",
       "      <th>25</th>\n",
       "      <td>9.0</td>\n",
       "      <td>105582.0</td>\n",
       "    </tr>\n",
       "    <tr>\n",
       "      <th>26</th>\n",
       "      <td>9.5</td>\n",
       "      <td>116969.0</td>\n",
       "    </tr>\n",
       "    <tr>\n",
       "      <th>27</th>\n",
       "      <td>9.6</td>\n",
       "      <td>112635.0</td>\n",
       "    </tr>\n",
       "    <tr>\n",
       "      <th>28</th>\n",
       "      <td>10.3</td>\n",
       "      <td>122391.0</td>\n",
       "    </tr>\n",
       "    <tr>\n",
       "      <th>29</th>\n",
       "      <td>10.5</td>\n",
       "      <td>121872.0</td>\n",
       "    </tr>\n",
       "  </tbody>\n",
       "</table>\n",
       "</div>"
      ],
      "text/plain": [
       "    YearsExperience    Salary\n",
       "0               1.1   39343.0\n",
       "1               1.3   46205.0\n",
       "2               1.5   37731.0\n",
       "3               2.0   43525.0\n",
       "4               2.2   39891.0\n",
       "5               2.9   56642.0\n",
       "6               3.0   60150.0\n",
       "7               3.2   54445.0\n",
       "8               3.2   64445.0\n",
       "9               3.7   57189.0\n",
       "10              3.9   63218.0\n",
       "11              4.0   55794.0\n",
       "12              4.0   56957.0\n",
       "13              4.1   57081.0\n",
       "14              4.5   61111.0\n",
       "15              4.9   67938.0\n",
       "16              5.1   66029.0\n",
       "17              5.3   83088.0\n",
       "18              5.9   81363.0\n",
       "19              6.0   93940.0\n",
       "20              6.8   91738.0\n",
       "21              7.1   98273.0\n",
       "22              7.9  101302.0\n",
       "23              8.2  113812.0\n",
       "24              8.7  109431.0\n",
       "25              9.0  105582.0\n",
       "26              9.5  116969.0\n",
       "27              9.6  112635.0\n",
       "28             10.3  122391.0\n",
       "29             10.5  121872.0"
      ]
     },
     "execution_count": 5,
     "metadata": {},
     "output_type": "execute_result"
    }
   ],
   "source": [
    "df"
   ]
  },
  {
   "cell_type": "code",
   "execution_count": 6,
   "id": "662c58ec",
   "metadata": {},
   "outputs": [],
   "source": [
    "# checking missing data in the dataframe"
   ]
  },
  {
   "cell_type": "code",
   "execution_count": 7,
   "id": "5346d94d",
   "metadata": {},
   "outputs": [
    {
     "data": {
      "text/plain": [
       "YearsExperience    0\n",
       "Salary             0\n",
       "dtype: int64"
      ]
     },
     "execution_count": 7,
     "metadata": {},
     "output_type": "execute_result"
    }
   ],
   "source": [
    "df.isnull().sum()"
   ]
  },
  {
   "cell_type": "code",
   "execution_count": 8,
   "id": "63ec136d",
   "metadata": {},
   "outputs": [],
   "source": [
    "#Split data into training and test data"
   ]
  },
  {
   "cell_type": "code",
   "execution_count": 9,
   "id": "f8005843",
   "metadata": {},
   "outputs": [],
   "source": [
    "#train data : 80 or 70%\n",
    "#test data : 20 or 30%"
   ]
  },
  {
   "cell_type": "code",
   "execution_count": 10,
   "id": "1a59ff4c",
   "metadata": {},
   "outputs": [],
   "source": [
    "# x = df.iloc[starting row index:ending row index,starting column index:ending column index].values\n",
    "'''\n",
    "x = df.iloc[:,:-1].values will give you all the columns except the last column from the data frame\n",
    "x = df.iloc[:,:1].values will give you only the first column ignoring all the columns in the data frame\n",
    "'''\n",
    "x = df.iloc[:,:-1].values # 2 dimensional we've used iloc here beacause we want iloc to be 2D\n",
    "#x = input data should be 2D\n",
    "y = df.Salary.values\n",
    "#y = output data should be 1D"
   ]
  },
  {
   "cell_type": "code",
   "execution_count": 11,
   "id": "11db49df",
   "metadata": {},
   "outputs": [
    {
     "data": {
      "text/plain": [
       "array([ 39343.,  46205.,  37731.,  43525.,  39891.,  56642.,  60150.,\n",
       "        54445.,  64445.,  57189.,  63218.,  55794.,  56957.,  57081.,\n",
       "        61111.,  67938.,  66029.,  83088.,  81363.,  93940.,  91738.,\n",
       "        98273., 101302., 113812., 109431., 105582., 116969., 112635.,\n",
       "       122391., 121872.])"
      ]
     },
     "execution_count": 11,
     "metadata": {},
     "output_type": "execute_result"
    }
   ],
   "source": [
    "y #output data Salary"
   ]
  },
  {
   "cell_type": "code",
   "execution_count": 12,
   "id": "87f3d02a",
   "metadata": {},
   "outputs": [
    {
     "data": {
      "text/plain": [
       "(30,)"
      ]
     },
     "execution_count": 12,
     "metadata": {},
     "output_type": "execute_result"
    }
   ],
   "source": [
    "y.shape"
   ]
  },
  {
   "cell_type": "code",
   "execution_count": 13,
   "id": "89bd3e3b",
   "metadata": {},
   "outputs": [
    {
     "data": {
      "text/plain": [
       "array([[ 1.1],\n",
       "       [ 1.3],\n",
       "       [ 1.5],\n",
       "       [ 2. ],\n",
       "       [ 2.2],\n",
       "       [ 2.9],\n",
       "       [ 3. ],\n",
       "       [ 3.2],\n",
       "       [ 3.2],\n",
       "       [ 3.7],\n",
       "       [ 3.9],\n",
       "       [ 4. ],\n",
       "       [ 4. ],\n",
       "       [ 4.1],\n",
       "       [ 4.5],\n",
       "       [ 4.9],\n",
       "       [ 5.1],\n",
       "       [ 5.3],\n",
       "       [ 5.9],\n",
       "       [ 6. ],\n",
       "       [ 6.8],\n",
       "       [ 7.1],\n",
       "       [ 7.9],\n",
       "       [ 8.2],\n",
       "       [ 8.7],\n",
       "       [ 9. ],\n",
       "       [ 9.5],\n",
       "       [ 9.6],\n",
       "       [10.3],\n",
       "       [10.5]])"
      ]
     },
     "execution_count": 13,
     "metadata": {},
     "output_type": "execute_result"
    }
   ],
   "source": [
    "x #input data Years of experience"
   ]
  },
  {
   "cell_type": "code",
   "execution_count": 14,
   "id": "37a0bb37",
   "metadata": {},
   "outputs": [
    {
     "data": {
      "text/plain": [
       "(30, 1)"
      ]
     },
     "execution_count": 14,
     "metadata": {},
     "output_type": "execute_result"
    }
   ],
   "source": [
    "x.shape"
   ]
  },
  {
   "cell_type": "markdown",
   "id": "320b8738",
   "metadata": {},
   "source": [
    "# Splitting data into training and test data"
   ]
  },
  {
   "cell_type": "code",
   "execution_count": 15,
   "id": "9ecc8838",
   "metadata": {},
   "outputs": [],
   "source": [
    "from sklearn.model_selection import train_test_split"
   ]
  },
  {
   "cell_type": "code",
   "execution_count": 16,
   "id": "bd35dbb9",
   "metadata": {},
   "outputs": [],
   "source": [
    "#Spliting data into training and testing data\n",
    "#Spliting happens randomly so the accuracy changes everytime you run this line\n",
    "train_input,test_input,train_output,test_output = train_test_split(x,y,test_size=.20)"
   ]
  },
  {
   "cell_type": "code",
   "execution_count": 17,
   "id": "67b1d3f7",
   "metadata": {},
   "outputs": [
    {
     "data": {
      "text/plain": [
       "(24, 1)"
      ]
     },
     "execution_count": 17,
     "metadata": {},
     "output_type": "execute_result"
    }
   ],
   "source": [
    "train_input.shape"
   ]
  },
  {
   "cell_type": "code",
   "execution_count": 18,
   "id": "06239883",
   "metadata": {},
   "outputs": [
    {
     "data": {
      "text/plain": [
       "(6, 1)"
      ]
     },
     "execution_count": 18,
     "metadata": {},
     "output_type": "execute_result"
    }
   ],
   "source": [
    "test_input.shape"
   ]
  },
  {
   "cell_type": "code",
   "execution_count": 19,
   "id": "963de4e7",
   "metadata": {},
   "outputs": [
    {
     "data": {
      "text/plain": [
       "(24,)"
      ]
     },
     "execution_count": 19,
     "metadata": {},
     "output_type": "execute_result"
    }
   ],
   "source": [
    "train_output.shape"
   ]
  },
  {
   "cell_type": "code",
   "execution_count": 20,
   "id": "88ecbd40",
   "metadata": {},
   "outputs": [
    {
     "data": {
      "text/plain": [
       "(6,)"
      ]
     },
     "execution_count": 20,
     "metadata": {},
     "output_type": "execute_result"
    }
   ],
   "source": [
    "test_output.shape"
   ]
  },
  {
   "cell_type": "markdown",
   "id": "e94a5211",
   "metadata": {},
   "source": [
    "# Choose ML algorithm"
   ]
  },
  {
   "cell_type": "code",
   "execution_count": 21,
   "id": "d491de45",
   "metadata": {},
   "outputs": [],
   "source": [
    "# Use Linear regression when all the values are continues not as a label\n",
    "# for example predicting salary, sales,student marks, stock market prediciton etc."
   ]
  },
  {
   "cell_type": "code",
   "execution_count": 22,
   "id": "cddc9111",
   "metadata": {},
   "outputs": [],
   "source": [
    "from sklearn.linear_model import LinearRegression"
   ]
  },
  {
   "cell_type": "code",
   "execution_count": 23,
   "id": "ba19671f",
   "metadata": {},
   "outputs": [],
   "source": [
    "lr = LinearRegression()"
   ]
  },
  {
   "cell_type": "code",
   "execution_count": 24,
   "id": "2560b093",
   "metadata": {},
   "outputs": [],
   "source": [
    "# train set:training a model (60%)\n",
    "# valid set:evaluation       (20%)\n",
    "# test set: once we get our final model (20%)"
   ]
  },
  {
   "cell_type": "code",
   "execution_count": 25,
   "id": "25a5a42e",
   "metadata": {},
   "outputs": [
    {
     "data": {
      "text/plain": [
       "LinearRegression()"
      ]
     },
     "execution_count": 25,
     "metadata": {},
     "output_type": "execute_result"
    }
   ],
   "source": [
    "lr.fit(train_input,train_output)\n",
    "# lr.fit(train_input data,train_output data)\n",
    "# y=mx+b fit will find m and b values incase of regression"
   ]
  },
  {
   "cell_type": "code",
   "execution_count": 26,
   "id": "1f020e27",
   "metadata": {},
   "outputs": [
    {
     "data": {
      "text/plain": [
       "9437.295717371964"
      ]
     },
     "execution_count": 26,
     "metadata": {},
     "output_type": "execute_result"
    }
   ],
   "source": [
    "m = lr.coef_[0] # y = mx+b finding m coefficient may be one or more hence it returns values in array\n",
    "m"
   ]
  },
  {
   "cell_type": "code",
   "execution_count": 27,
   "id": "c9e0d04e",
   "metadata": {},
   "outputs": [
    {
     "data": {
      "text/plain": [
       "25567.63928072182"
      ]
     },
     "execution_count": 27,
     "metadata": {},
     "output_type": "execute_result"
    }
   ],
   "source": [
    "b = lr.intercept_ # y = mx+b finding b always returns only one value\n",
    "b"
   ]
  },
  {
   "cell_type": "markdown",
   "id": "63a2d7fb",
   "metadata": {},
   "source": [
    "# Evaluate model performance"
   ]
  },
  {
   "cell_type": "code",
   "execution_count": 28,
   "id": "23391afb",
   "metadata": {},
   "outputs": [],
   "source": [
    "test = 7.2"
   ]
  },
  {
   "cell_type": "code",
   "execution_count": 29,
   "id": "b3e3db12",
   "metadata": {},
   "outputs": [
    {
     "data": {
      "text/plain": [
       "array([93516.1684458])"
      ]
     },
     "execution_count": 29,
     "metadata": {},
     "output_type": "execute_result"
    }
   ],
   "source": [
    "lr.predict([[test]])# it finds m and b in formula y=mx+b "
   ]
  },
  {
   "cell_type": "code",
   "execution_count": 30,
   "id": "319dce72",
   "metadata": {},
   "outputs": [
    {
     "data": {
      "text/plain": [
       "array([[3.2],\n",
       "       [3.9],\n",
       "       [5.1],\n",
       "       [8.7],\n",
       "       [1.1],\n",
       "       [6. ]])"
      ]
     },
     "execution_count": 30,
     "metadata": {},
     "output_type": "execute_result"
    }
   ],
   "source": [
    "test_input"
   ]
  },
  {
   "cell_type": "code",
   "execution_count": 31,
   "id": "51aa2d27",
   "metadata": {},
   "outputs": [],
   "source": [
    "pred = lr.predict(test_input) #testing Linear regression model"
   ]
  },
  {
   "cell_type": "code",
   "execution_count": 32,
   "id": "2788b4b8",
   "metadata": {},
   "outputs": [
    {
     "data": {
      "text/plain": [
       "array([ 55766.98557631,  62373.09257847,  73697.84743932, 107672.11202186,\n",
       "        35948.66456983,  82191.41358495])"
      ]
     },
     "execution_count": 32,
     "metadata": {},
     "output_type": "execute_result"
    }
   ],
   "source": [
    "pred"
   ]
  },
  {
   "cell_type": "code",
   "execution_count": 33,
   "id": "16724f06",
   "metadata": {},
   "outputs": [
    {
     "data": {
      "text/plain": [
       "array([ 54445.,  63218.,  66029., 109431.,  39343.,  93940.])"
      ]
     },
     "execution_count": 33,
     "metadata": {},
     "output_type": "execute_result"
    }
   ],
   "source": [
    "test_output"
   ]
  },
  {
   "cell_type": "code",
   "execution_count": 34,
   "id": "760aaa36",
   "metadata": {},
   "outputs": [],
   "source": [
    "from sklearn.metrics import r2_score,mean_squared_error"
   ]
  },
  {
   "cell_type": "code",
   "execution_count": 35,
   "id": "40110354",
   "metadata": {},
   "outputs": [
    {
     "data": {
      "text/plain": [
       "0.9364223738472344"
      ]
     },
     "execution_count": 35,
     "metadata": {},
     "output_type": "execute_result"
    }
   ],
   "source": [
    "r2_score(test_output,pred)  #test accuracy score of the model its only used in case of regression"
   ]
  },
  {
   "cell_type": "code",
   "execution_count": 36,
   "id": "66c9531a",
   "metadata": {},
   "outputs": [
    {
     "data": {
      "text/plain": [
       "35652869.691073775"
      ]
     },
     "execution_count": 36,
     "metadata": {},
     "output_type": "execute_result"
    }
   ],
   "source": [
    "mean_squared_error(test_output,pred) # "
   ]
  },
  {
   "cell_type": "markdown",
   "id": "1148c778",
   "metadata": {},
   "source": [
    "# Pratice regression on generated data"
   ]
  },
  {
   "cell_type": "code",
   "execution_count": 37,
   "id": "aea3017f",
   "metadata": {},
   "outputs": [],
   "source": [
    "from sklearn.datasets import make_regression"
   ]
  },
  {
   "cell_type": "code",
   "execution_count": 38,
   "id": "5c684145",
   "metadata": {},
   "outputs": [
    {
     "data": {
      "image/png": "[encoded data removed]",
      "text/plain": [
       "<Figure size 432x288 with 1 Axes>"
      ]
     },
     "metadata": {
      "needs_background": "light"
     },
     "output_type": "display_data"
    }
   ],
   "source": [
    "x1,y1 = make_regression(n_samples=500,n_features=1,noise=12,random_state=2)\n",
    "#arguments:\n",
    "#n_samples = no of samples\n",
    "#n_features no of features\n",
    "#noise to add noise in data (complexity of data)\n",
    "# random_state ; pass any integer no to get same random values\n",
    "plt.scatter(x1,y1)\n",
    "plt.show()"
   ]
  },
  {
   "cell_type": "code",
   "execution_count": 39,
   "id": "597cc6dd",
   "metadata": {},
   "outputs": [
    {
     "data": {
      "text/plain": [
       "(500, 1)"
      ]
     },
     "execution_count": 39,
     "metadata": {},
     "output_type": "execute_result"
    }
   ],
   "source": [
    "x1.shape #x1 is 2D which is going to be our input data"
   ]
  },
  {
   "cell_type": "code",
   "execution_count": 40,
   "id": "b8b924d5",
   "metadata": {},
   "outputs": [
    {
     "data": {
      "text/plain": [
       "(500,)"
      ]
     },
     "execution_count": 40,
     "metadata": {},
     "output_type": "execute_result"
    }
   ],
   "source": [
    "y1.shape #y1 is 1D which is going to be our output data"
   ]
  },
  {
   "cell_type": "code",
   "execution_count": 41,
   "id": "72e3075a",
   "metadata": {},
   "outputs": [],
   "source": [
    "from sklearn.model_selection import train_test_split\n",
    "#Spliting data into training and testing data\n",
    "#Spliting happens randomly so the accuracy changes everytime you run this line\n",
    "train_input,test_input,train_output,test_output = train_test_split(x1,y1,test_size=.20)"
   ]
  },
  {
   "cell_type": "code",
   "execution_count": 42,
   "id": "af200bbc",
   "metadata": {},
   "outputs": [
    {
     "data": {
      "text/plain": [
       "(400, 1)"
      ]
     },
     "execution_count": 42,
     "metadata": {},
     "output_type": "execute_result"
    }
   ],
   "source": [
    "train_input.shape"
   ]
  },
  {
   "cell_type": "code",
   "execution_count": 43,
   "id": "4d0a2355",
   "metadata": {},
   "outputs": [
    {
     "data": {
      "text/plain": [
       "(100, 1)"
      ]
     },
     "execution_count": 43,
     "metadata": {},
     "output_type": "execute_result"
    }
   ],
   "source": [
    "test_input.shape"
   ]
  },
  {
   "cell_type": "code",
   "execution_count": 44,
   "id": "efc8acb2",
   "metadata": {},
   "outputs": [
    {
     "data": {
      "text/plain": [
       "(400,)"
      ]
     },
     "execution_count": 44,
     "metadata": {},
     "output_type": "execute_result"
    }
   ],
   "source": [
    "train_output.shape"
   ]
  },
  {
   "cell_type": "code",
   "execution_count": 45,
   "id": "a7463c4c",
   "metadata": {},
   "outputs": [
    {
     "data": {
      "text/plain": [
       "(100,)"
      ]
     },
     "execution_count": 45,
     "metadata": {},
     "output_type": "execute_result"
    }
   ],
   "source": [
    "test_output.shape"
   ]
  },
  {
   "cell_type": "code",
   "execution_count": 46,
   "id": "d9651d9d",
   "metadata": {},
   "outputs": [],
   "source": [
    "# Use Linear regression when all the values are continues not as a label\n",
    "# for example predicting salary, sales,student marks, stock market prediciton etc."
   ]
  },
  {
   "cell_type": "code",
   "execution_count": 47,
   "id": "6bf7e8f8",
   "metadata": {},
   "outputs": [],
   "source": [
    "from sklearn.linear_model import LinearRegression"
   ]
  },
  {
   "cell_type": "code",
   "execution_count": 48,
   "id": "9105509d",
   "metadata": {},
   "outputs": [],
   "source": [
    "lr = LinearRegression() #initializing Regression class and creating an object of it"
   ]
  },
  {
   "cell_type": "code",
   "execution_count": 49,
   "id": "a5144577",
   "metadata": {},
   "outputs": [],
   "source": [
    "# train set:training a model (60%)\n",
    "# valid set:evaluation       (20%)\n",
    "# test set: once we get our final model (20%)"
   ]
  },
  {
   "cell_type": "markdown",
   "id": "dd834a76",
   "metadata": {},
   "source": [
    "## Training Linear regression model"
   ]
  },
  {
   "cell_type": "code",
   "execution_count": 50,
   "id": "5be98ab4",
   "metadata": {},
   "outputs": [
    {
     "data": {
      "text/plain": [
       "LinearRegression()"
      ]
     },
     "execution_count": 50,
     "metadata": {},
     "output_type": "execute_result"
    }
   ],
   "source": [
    "lr.fit(train_input,train_output)\n",
    "# lr.fit(train_input data,train_output data)\n",
    "# y=mx+b fit will find m and b values incase of regression \n",
    "# fit method call means training model"
   ]
  },
  {
   "cell_type": "code",
   "execution_count": 51,
   "id": "0f083b8f",
   "metadata": {},
   "outputs": [
    {
     "data": {
      "text/plain": [
       "20.618447821258602"
      ]
     },
     "execution_count": 51,
     "metadata": {},
     "output_type": "execute_result"
    }
   ],
   "source": [
    "m = lr.coef_[0] # y = mx+b finding m coefficient may be one or more hence it returns values in array\n",
    "m"
   ]
  },
  {
   "cell_type": "code",
   "execution_count": 52,
   "id": "2baceafe",
   "metadata": {},
   "outputs": [
    {
     "data": {
      "text/plain": [
       "-1.1917406740743022"
      ]
     },
     "execution_count": 52,
     "metadata": {},
     "output_type": "execute_result"
    }
   ],
   "source": [
    "b = lr.intercept_ # y = mx+b finding b always returns only one value\n",
    "b"
   ]
  },
  {
   "cell_type": "code",
   "execution_count": 53,
   "id": "21f3a2ef",
   "metadata": {},
   "outputs": [],
   "source": [
    "test = 0.52"
   ]
  },
  {
   "cell_type": "code",
   "execution_count": 54,
   "id": "1136869d",
   "metadata": {},
   "outputs": [
    {
     "data": {
      "text/plain": [
       "array([9.52985219])"
      ]
     },
     "execution_count": 54,
     "metadata": {},
     "output_type": "execute_result"
    }
   ],
   "source": [
    "lr.predict([[test]]) # it finds m and b in formula y=mx+b and solves it"
   ]
  },
  {
   "cell_type": "code",
   "execution_count": 55,
   "id": "57310606",
   "metadata": {},
   "outputs": [
    {
     "data": {
      "text/plain": [
       "array([[-0.67736049],\n",
       "       [-0.44817482],\n",
       "       [-0.16396283],\n",
       "       [ 0.42560621],\n",
       "       [-0.37566942],\n",
       "       [ 3.2797454 ],\n",
       "       [-0.63467931],\n",
       "       [ 1.24821292],\n",
       "       [-0.51688389],\n",
       "       [-1.15100294],\n",
       "       [-1.28089518],\n",
       "       [ 0.18652152],\n",
       "       [ 0.79918   ],\n",
       "       [ 0.75650214],\n",
       "       [-0.44750088],\n",
       "       [ 0.18040981],\n",
       "       [-0.63765501],\n",
       "       [ 0.04797059],\n",
       "       [ 1.54627765],\n",
       "       [ 1.2484503 ],\n",
       "       [ 0.52429643],\n",
       "       [ 0.05725095],\n",
       "       [ 2.28253964],\n",
       "       [-0.82913529],\n",
       "       [-0.15842922],\n",
       "       [ 0.63062197],\n",
       "       [ 1.01985473],\n",
       "       [ 1.14950057],\n",
       "       [-1.45535944],\n",
       "       [-2.08265194],\n",
       "       [-0.56449343],\n",
       "       [-1.12590378],\n",
       "       [-0.01766068],\n",
       "       [-0.07087636],\n",
       "       [-0.40389227],\n",
       "       [ 0.50288142],\n",
       "       [ 1.53176032],\n",
       "       [-0.18337674],\n",
       "       [ 0.30752553],\n",
       "       [ 0.41759273],\n",
       "       [-0.45422785],\n",
       "       [-0.61209475],\n",
       "       [ 0.33048806],\n",
       "       [ 1.79259285],\n",
       "       [ 0.48849667],\n",
       "       [-1.02141473],\n",
       "       [-0.33484413],\n",
       "       [-1.1598069 ],\n",
       "       [ 0.77101174],\n",
       "       [ 0.51437072],\n",
       "       [ 0.51325144],\n",
       "       [-0.49299491],\n",
       "       [-1.24572655],\n",
       "       [ 0.54235257],\n",
       "       [ 1.0281849 ],\n",
       "       [-2.02336394],\n",
       "       [ 0.29952681],\n",
       "       [-1.02351498],\n",
       "       [ 1.11788673],\n",
       "       [ 0.1941687 ],\n",
       "       [ 2.14467809],\n",
       "       [ 0.61134078],\n",
       "       [-0.18904405],\n",
       "       [ 0.1127265 ],\n",
       "       [ 0.42475367],\n",
       "       [-1.90382114],\n",
       "       [ 0.15908849],\n",
       "       [ 0.06046245],\n",
       "       [-1.41881055],\n",
       "       [-0.65771845],\n",
       "       [-0.79487244],\n",
       "       [-0.4493286 ],\n",
       "       [-0.26905696],\n",
       "       [ 4.10869262],\n",
       "       [-1.38451867],\n",
       "       [-0.06163508],\n",
       "       [-0.2424406 ],\n",
       "       [-1.40084545],\n",
       "       [ 0.44068987],\n",
       "       [-0.98656966],\n",
       "       [-0.72187973],\n",
       "       [ 0.34321273],\n",
       "       [-2.50545813],\n",
       "       [ 2.23136679],\n",
       "       [-0.57138161],\n",
       "       [-0.5961597 ],\n",
       "       [ 1.33556617],\n",
       "       [ 0.38186623],\n",
       "       [ 0.71268327],\n",
       "       [-1.33858888],\n",
       "       [-2.43476758],\n",
       "       [-1.98584577],\n",
       "       [-1.91352322],\n",
       "       [ 1.1735315 ],\n",
       "       [-1.07502856],\n",
       "       [-1.11526396],\n",
       "       [ 0.82470301],\n",
       "       [ 0.73527958],\n",
       "       [ 0.5862041 ],\n",
       "       [-0.14959135]])"
      ]
     },
     "execution_count": 55,
     "metadata": {},
     "output_type": "execute_result"
    }
   ],
   "source": [
    "test_input"
   ]
  },
  {
   "cell_type": "code",
   "execution_count": 56,
   "id": "454d7618",
   "metadata": {},
   "outputs": [
    {
     "data": {
      "text/plain": [
       "array([-1.51578626e+01, -1.04324099e+01, -4.57239978e+00,  7.58359878e+00,\n",
       "       -8.93746107e+00,  6.64315187e+01, -1.42778428e+01,  2.45444723e+01,\n",
       "       -1.18490843e+01, -2.49236348e+01, -2.76018111e+01,  2.65404355e+00,\n",
       "        1.52861104e+01,  1.44061593e+01, -1.04185141e+01,  2.52802952e+00,\n",
       "       -1.43391973e+01, -2.02661529e-01,  3.06901043e+01,  2.45493667e+01,\n",
       "        9.61843791e+00, -1.13150205e-02,  4.58706838e+01, -1.82872234e+01,\n",
       "       -4.45830537e+00,  1.18107055e+01,  1.98360808e+01,  2.25091768e+01,\n",
       "       -3.11989935e+01, -4.41327909e+01, -1.28307190e+01, -2.44061290e+01,\n",
       "       -1.55587648e+00, -2.65310112e+00, -9.51937235e+00,  9.17689359e+00,\n",
       "        3.03907795e+01, -4.97268432e+00,  5.14895835e+00,  7.41837325e+00,\n",
       "       -1.05572140e+01, -1.38121843e+01,  5.62241023e+00,  3.57687415e+01,\n",
       "        8.88030234e+00, -2.22517270e+01, -8.09570680e+00, -2.51051586e+01,\n",
       "        1.47053246e+01,  9.41378512e+00,  9.39070745e+00, -1.13565305e+01,\n",
       "       -2.68766886e+01,  9.99072754e+00,  2.00078360e+01, -4.29103645e+01,\n",
       "        4.98403729e+00, -2.22950310e+01,  2.18573486e+01,  2.81171645e+00,\n",
       "        4.30281926e+01,  1.14131573e+01, -5.08953559e+00,  1.13250488e+00,\n",
       "        7.56602075e+00, -4.04455776e+01,  2.08841699e+00,  5.49011758e-02,\n",
       "       -3.04454120e+01, -1.47528742e+01, -1.75807767e+01, -1.04561990e+01,\n",
       "       -6.73927757e+00,  8.35231238e+01, -2.97383666e+01, -2.46256045e+00,\n",
       "       -6.19048954e+00, -3.00749996e+01,  7.89460047e+00, -2.15332758e+01,\n",
       "       -1.60757801e+01,  5.88477314e+00, -5.28503984e+01,  4.48155790e+01,\n",
       "       -1.29727425e+01, -1.34836283e+01,  2.63455607e+01,  6.68174835e+00,\n",
       "        1.35026822e+01, -2.87913656e+01, -5.13928689e+01, -4.21367981e+01,\n",
       "       -4.06456193e+01,  2.30046573e+01, -2.33571610e+01, -2.41867525e+01,\n",
       "        1.58123552e+01,  1.39685829e+01,  1.08948779e+01, -4.27608217e+00])"
      ]
     },
     "execution_count": 56,
     "metadata": {},
     "output_type": "execute_result"
    }
   ],
   "source": [
    "pred = lr.predict(test_input) #testing Linear regression model actual predictions\n",
    "pred"
   ]
  },
  {
   "cell_type": "code",
   "execution_count": 57,
   "id": "378f6176",
   "metadata": {},
   "outputs": [
    {
     "data": {
      "text/plain": [
       "(100,)"
      ]
     },
     "execution_count": 57,
     "metadata": {},
     "output_type": "execute_result"
    }
   ],
   "source": [
    "pred.shape"
   ]
  },
  {
   "cell_type": "markdown",
   "id": "d07ef096",
   "metadata": {},
   "source": [
    "## How to draw a best fit line"
   ]
  },
  {
   "cell_type": "code",
   "execution_count": 71,
   "id": "23a25b5c",
   "metadata": {},
   "outputs": [
    {
     "data": {
      "image/png": "[encoded data removed]",
      "text/plain": [
       "<Figure size 432x288 with 1 Axes>"
      ]
     },
     "metadata": {
      "needs_background": "light"
     },
     "output_type": "display_data"
    }
   ],
   "source": [
    "plt.scatter(test_input,test_output,label='test data') # x_test = test_input and y_test = test_output\n",
    "plt.plot(test_input,pred,color='red',marker='*') ##doubt what is pred and marker role in this plot function\n",
    "#  The line is coming from test_input and pred  (Prediction hai is line me)\n",
    "#  Blue points are plotted using test_input and test_output\n",
    "plt.legend()\n",
    "plt.show()"
   ]
  },
  {
   "cell_type": "markdown",
   "id": "6de96d3c",
   "metadata": {},
   "source": [
    "### In the above graph all the blue points represents the test data (test_input,test_output)\n",
    "### Here pred is responsible to plot the best fit line with respect to the test input"
   ]
  },
  {
   "cell_type": "code",
   "execution_count": 66,
   "id": "99501489",
   "metadata": {},
   "outputs": [],
   "source": [
    "from sklearn.metrics import r2_score,mean_squared_error #testing model accuracy"
   ]
  },
  {
   "cell_type": "code",
   "execution_count": 67,
   "id": "91246fe5",
   "metadata": {},
   "outputs": [
    {
     "data": {
      "text/plain": [
       "0.8118883408651347"
      ]
     },
     "execution_count": 67,
     "metadata": {},
     "output_type": "execute_result"
    }
   ],
   "source": [
    "r2_score(test_output,pred)  #test accuracy score of the model its only used in case of regression\n",
    "# r2_score is actually r squared value"
   ]
  },
  {
   "cell_type": "markdown",
   "id": "88a999de",
   "metadata": {},
   "source": [
    "# When will Linear Regression be used"
   ]
  },
  {
   "cell_type": "code",
   "execution_count": 68,
   "id": "acd24cae",
   "metadata": {},
   "outputs": [],
   "source": [
    "# Tock price predictions\n",
    "# student marks prediction etc\n",
    "# We will implement regression when there are no column which contains categories but only contains numbers\n",
    "# in regression we have to find best fit line by finding linear relation \n",
    "# equation used to find best fit line y=mx+b"
   ]
  },
  {
   "cell_type": "code",
   "execution_count": 69,
   "id": "507bf7e5",
   "metadata": {},
   "outputs": [],
   "source": [
    "# If the value of sse(sum of squared error) is close to zero then Linear regression model have high accuracy\n",
    "# Mean of Squared error MSE it have the same function as SSE\n",
    "\n",
    "# $$ Mostly used is R squared value if R squared value is closer to 1 then Regression model performance is good \n",
    "# (if R^2 value is closer to 1 then actual value and predicted vale have smaller gap between them)\n",
    "# If R squared value is closer to 0 then performance of regression model is not good \n",
    "# (if R^2 value is closer to 0 then actual value and predicted vale have Larger gap between them)$$\n",
    "# Syntax to use R squared in Ml is r2_score(test_output,pred)"
   ]
  },
  {
   "cell_type": "code",
   "execution_count": 70,
   "id": "939a4c28",
   "metadata": {},
   "outputs": [
    {
     "data": {
      "text/plain": [
       "' \\n1. when we have only 1 feature and we have to find output data in Linear regression\\n   then we will use y=mx+b\\n2. when we have multiple features and we have to find output data in Linear regression\\n   then the number of coefficient will increase y=( m1x1 +m2x2 ....)+b\\n'"
      ]
     },
     "execution_count": 70,
     "metadata": {},
     "output_type": "execute_result"
    }
   ],
   "source": [
    "''' \n",
    "1. when we have only 1 feature and we have to find output data in Linear regression\n",
    "   then we will use y=mx+b\n",
    "2. when we have multiple features and we have to find output data in Linear regression\n",
    "   then the number of coefficient will increase y=( m1x1 +m2x2 ....)+b\n",
    "'''"
   ]
  },
  {
   "cell_type": "code",
   "execution_count": null,
   "id": "9ca09374",
   "metadata": {},
   "outputs": [],
   "source": []
  },
  {
   "cell_type": "code",
   "execution_count": null,
   "id": "c50df51f",
   "metadata": {},
   "outputs": [],
   "source": []
  }
 ],
 "metadata": {
  "kernelspec": {
   "display_name": "Python [conda env:tensorflow] *",
   "language": "python",
   "name": "conda-env-tensorflow-py"
  },
  "language_info": {
   "codemirror_mode": {
    "name": "ipython",
    "version": 3
   },
   "file_extension": ".py",
   "mimetype": "text/x-python",
   "name": "python",
   "nbconvert_exporter": "python",
   "pygments_lexer": "ipython3",
   "version": "3.8.12"
  }
 },
 "nbformat": 4,
 "nbformat_minor": 5
}

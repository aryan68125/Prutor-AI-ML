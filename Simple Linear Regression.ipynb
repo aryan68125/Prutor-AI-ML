{
 "cells": [
  {
   "cell_type": "markdown",
   "id": "fe689dbb",
   "metadata": {},
   "source": [
    "# Simple Linear Regression"
   ]
  },
  {
   "cell_type": "code",
   "execution_count": 120,
   "id": "32041111",
   "metadata": {},
   "outputs": [],
   "source": [
    "import pandas as pd\n",
    "import numpy as np\n",
    "import matplotlib.pyplot as plt"
   ]
  },
  {
   "cell_type": "markdown",
   "id": "3d06bcf8",
   "metadata": {},
   "source": [
    "# scikit-learn is a machine learning library"
   ]
  },
  {
   "cell_type": "code",
   "execution_count": 121,
   "id": "67dc31db",
   "metadata": {},
   "outputs": [],
   "source": [
    "import sklearn #importing scikit-learn"
   ]
  },
  {
   "cell_type": "markdown",
   "id": "98db32a7",
   "metadata": {},
   "source": [
    "## Steps of machine learning"
   ]
  },
  {
   "cell_type": "code",
   "execution_count": 122,
   "id": "ae38c1a4",
   "metadata": {},
   "outputs": [],
   "source": [
    "# collect and prepare data\n",
    "# choose alogrithm\n",
    "# train algo using training data\n",
    "# evaluate madel performance"
   ]
  },
  {
   "cell_type": "code",
   "execution_count": 123,
   "id": "920e32b2",
   "metadata": {},
   "outputs": [],
   "source": [
    "df = pd.read_csv('Salary_Data.csv') #importing data and make a dataframe"
   ]
  },
  {
   "cell_type": "code",
   "execution_count": 124,
   "id": "31395978",
   "metadata": {},
   "outputs": [
    {
     "data": {
      "text/html": [
       "<div>\n",
       "<style scoped>\n",
       "    .dataframe tbody tr th:only-of-type {\n",
       "        vertical-align: middle;\n",
       "    }\n",
       "\n",
       "    .dataframe tbody tr th {\n",
       "        vertical-align: top;\n",
       "    }\n",
       "\n",
       "    .dataframe thead th {\n",
       "        text-align: right;\n",
       "    }\n",
       "</style>\n",
       "<table border=\"1\" class=\"dataframe\">\n",
       "  <thead>\n",
       "    <tr style=\"text-align: right;\">\n",
       "      <th></th>\n",
       "      <th>YearsExperience</th>\n",
       "      <th>Salary</th>\n",
       "    </tr>\n",
       "  </thead>\n",
       "  <tbody>\n",
       "    <tr>\n",
       "      <th>0</th>\n",
       "      <td>1.1</td>\n",
       "      <td>39343.0</td>\n",
       "    </tr>\n",
       "    <tr>\n",
       "      <th>1</th>\n",
       "      <td>1.3</td>\n",
       "      <td>46205.0</td>\n",
       "    </tr>\n",
       "    <tr>\n",
       "      <th>2</th>\n",
       "      <td>1.5</td>\n",
       "      <td>37731.0</td>\n",
       "    </tr>\n",
       "    <tr>\n",
       "      <th>3</th>\n",
       "      <td>2.0</td>\n",
       "      <td>43525.0</td>\n",
       "    </tr>\n",
       "    <tr>\n",
       "      <th>4</th>\n",
       "      <td>2.2</td>\n",
       "      <td>39891.0</td>\n",
       "    </tr>\n",
       "    <tr>\n",
       "      <th>5</th>\n",
       "      <td>2.9</td>\n",
       "      <td>56642.0</td>\n",
       "    </tr>\n",
       "    <tr>\n",
       "      <th>6</th>\n",
       "      <td>3.0</td>\n",
       "      <td>60150.0</td>\n",
       "    </tr>\n",
       "    <tr>\n",
       "      <th>7</th>\n",
       "      <td>3.2</td>\n",
       "      <td>54445.0</td>\n",
       "    </tr>\n",
       "    <tr>\n",
       "      <th>8</th>\n",
       "      <td>3.2</td>\n",
       "      <td>64445.0</td>\n",
       "    </tr>\n",
       "    <tr>\n",
       "      <th>9</th>\n",
       "      <td>3.7</td>\n",
       "      <td>57189.0</td>\n",
       "    </tr>\n",
       "    <tr>\n",
       "      <th>10</th>\n",
       "      <td>3.9</td>\n",
       "      <td>63218.0</td>\n",
       "    </tr>\n",
       "    <tr>\n",
       "      <th>11</th>\n",
       "      <td>4.0</td>\n",
       "      <td>55794.0</td>\n",
       "    </tr>\n",
       "    <tr>\n",
       "      <th>12</th>\n",
       "      <td>4.0</td>\n",
       "      <td>56957.0</td>\n",
       "    </tr>\n",
       "    <tr>\n",
       "      <th>13</th>\n",
       "      <td>4.1</td>\n",
       "      <td>57081.0</td>\n",
       "    </tr>\n",
       "    <tr>\n",
       "      <th>14</th>\n",
       "      <td>4.5</td>\n",
       "      <td>61111.0</td>\n",
       "    </tr>\n",
       "    <tr>\n",
       "      <th>15</th>\n",
       "      <td>4.9</td>\n",
       "      <td>67938.0</td>\n",
       "    </tr>\n",
       "    <tr>\n",
       "      <th>16</th>\n",
       "      <td>5.1</td>\n",
       "      <td>66029.0</td>\n",
       "    </tr>\n",
       "    <tr>\n",
       "      <th>17</th>\n",
       "      <td>5.3</td>\n",
       "      <td>83088.0</td>\n",
       "    </tr>\n",
       "    <tr>\n",
       "      <th>18</th>\n",
       "      <td>5.9</td>\n",
       "      <td>81363.0</td>\n",
       "    </tr>\n",
       "    <tr>\n",
       "      <th>19</th>\n",
       "      <td>6.0</td>\n",
       "      <td>93940.0</td>\n",
       "    </tr>\n",
       "    <tr>\n",
       "      <th>20</th>\n",
       "      <td>6.8</td>\n",
       "      <td>91738.0</td>\n",
       "    </tr>\n",
       "    <tr>\n",
       "      <th>21</th>\n",
       "      <td>7.1</td>\n",
       "      <td>98273.0</td>\n",
       "    </tr>\n",
       "    <tr>\n",
       "      <th>22</th>\n",
       "      <td>7.9</td>\n",
       "      <td>101302.0</td>\n",
       "    </tr>\n",
       "    <tr>\n",
       "      <th>23</th>\n",
       "      <td>8.2</td>\n",
       "      <td>113812.0</td>\n",
       "    </tr>\n",
       "    <tr>\n",
       "      <th>24</th>\n",
       "      <td>8.7</td>\n",
       "      <td>109431.0</td>\n",
       "    </tr>\n",
       "    <tr>\n",
       "      <th>25</th>\n",
       "      <td>9.0</td>\n",
       "      <td>105582.0</td>\n",
       "    </tr>\n",
       "    <tr>\n",
       "      <th>26</th>\n",
       "      <td>9.5</td>\n",
       "      <td>116969.0</td>\n",
       "    </tr>\n",
       "    <tr>\n",
       "      <th>27</th>\n",
       "      <td>9.6</td>\n",
       "      <td>112635.0</td>\n",
       "    </tr>\n",
       "    <tr>\n",
       "      <th>28</th>\n",
       "      <td>10.3</td>\n",
       "      <td>122391.0</td>\n",
       "    </tr>\n",
       "    <tr>\n",
       "      <th>29</th>\n",
       "      <td>10.5</td>\n",
       "      <td>121872.0</td>\n",
       "    </tr>\n",
       "  </tbody>\n",
       "</table>\n",
       "</div>"
      ],
      "text/plain": [
       "    YearsExperience    Salary\n",
       "0               1.1   39343.0\n",
       "1               1.3   46205.0\n",
       "2               1.5   37731.0\n",
       "3               2.0   43525.0\n",
       "4               2.2   39891.0\n",
       "5               2.9   56642.0\n",
       "6               3.0   60150.0\n",
       "7               3.2   54445.0\n",
       "8               3.2   64445.0\n",
       "9               3.7   57189.0\n",
       "10              3.9   63218.0\n",
       "11              4.0   55794.0\n",
       "12              4.0   56957.0\n",
       "13              4.1   57081.0\n",
       "14              4.5   61111.0\n",
       "15              4.9   67938.0\n",
       "16              5.1   66029.0\n",
       "17              5.3   83088.0\n",
       "18              5.9   81363.0\n",
       "19              6.0   93940.0\n",
       "20              6.8   91738.0\n",
       "21              7.1   98273.0\n",
       "22              7.9  101302.0\n",
       "23              8.2  113812.0\n",
       "24              8.7  109431.0\n",
       "25              9.0  105582.0\n",
       "26              9.5  116969.0\n",
       "27              9.6  112635.0\n",
       "28             10.3  122391.0\n",
       "29             10.5  121872.0"
      ]
     },
     "execution_count": 124,
     "metadata": {},
     "output_type": "execute_result"
    }
   ],
   "source": [
    "df"
   ]
  },
  {
   "cell_type": "code",
   "execution_count": 125,
   "id": "6a8ba3ca",
   "metadata": {},
   "outputs": [],
   "source": [
    "# checking missing data in the dataframe"
   ]
  },
  {
   "cell_type": "code",
   "execution_count": 126,
   "id": "1e27ea1f",
   "metadata": {},
   "outputs": [
    {
     "data": {
      "text/plain": [
       "YearsExperience    0\n",
       "Salary             0\n",
       "dtype: int64"
      ]
     },
     "execution_count": 126,
     "metadata": {},
     "output_type": "execute_result"
    }
   ],
   "source": [
    "df.isnull().sum()"
   ]
  },
  {
   "cell_type": "code",
   "execution_count": 127,
   "id": "b583315f",
   "metadata": {},
   "outputs": [],
   "source": [
    "#Split data into training and test data"
   ]
  },
  {
   "cell_type": "code",
   "execution_count": 128,
   "id": "f4b91977",
   "metadata": {},
   "outputs": [],
   "source": [
    "#train data : 80 or 70%\n",
    "#test data : 20 or 30%"
   ]
  },
  {
   "cell_type": "code",
   "execution_count": 129,
   "id": "a3551c96",
   "metadata": {},
   "outputs": [],
   "source": [
    "x = df.iloc[:,:-1].values # 2 dimensional we've used iloc here beacause we want iloc to be 2D\n",
    "#x = input data should be 2D\n",
    "y = df.Salary.values\n",
    "#y = output data should be 1D"
   ]
  },
  {
   "cell_type": "code",
   "execution_count": 130,
   "id": "1ed51614",
   "metadata": {},
   "outputs": [
    {
     "data": {
      "text/plain": [
       "array([ 39343.,  46205.,  37731.,  43525.,  39891.,  56642.,  60150.,\n",
       "        54445.,  64445.,  57189.,  63218.,  55794.,  56957.,  57081.,\n",
       "        61111.,  67938.,  66029.,  83088.,  81363.,  93940.,  91738.,\n",
       "        98273., 101302., 113812., 109431., 105582., 116969., 112635.,\n",
       "       122391., 121872.])"
      ]
     },
     "execution_count": 130,
     "metadata": {},
     "output_type": "execute_result"
    }
   ],
   "source": [
    "y #output data"
   ]
  },
  {
   "cell_type": "code",
   "execution_count": 131,
   "id": "5734f0d6",
   "metadata": {},
   "outputs": [
    {
     "data": {
      "text/plain": [
       "array([[ 1.1],\n",
       "       [ 1.3],\n",
       "       [ 1.5],\n",
       "       [ 2. ],\n",
       "       [ 2.2],\n",
       "       [ 2.9],\n",
       "       [ 3. ],\n",
       "       [ 3.2],\n",
       "       [ 3.2],\n",
       "       [ 3.7],\n",
       "       [ 3.9],\n",
       "       [ 4. ],\n",
       "       [ 4. ],\n",
       "       [ 4.1],\n",
       "       [ 4.5],\n",
       "       [ 4.9],\n",
       "       [ 5.1],\n",
       "       [ 5.3],\n",
       "       [ 5.9],\n",
       "       [ 6. ],\n",
       "       [ 6.8],\n",
       "       [ 7.1],\n",
       "       [ 7.9],\n",
       "       [ 8.2],\n",
       "       [ 8.7],\n",
       "       [ 9. ],\n",
       "       [ 9.5],\n",
       "       [ 9.6],\n",
       "       [10.3],\n",
       "       [10.5]])"
      ]
     },
     "execution_count": 131,
     "metadata": {},
     "output_type": "execute_result"
    }
   ],
   "source": [
    "x #input data"
   ]
  },
  {
   "cell_type": "markdown",
   "id": "88cc7718",
   "metadata": {},
   "source": [
    "# Splitting data into training and test data"
   ]
  },
  {
   "cell_type": "code",
   "execution_count": 132,
   "id": "c90e8538",
   "metadata": {},
   "outputs": [],
   "source": [
    "from sklearn.model_selection import train_test_split"
   ]
  },
  {
   "cell_type": "code",
   "execution_count": 133,
   "id": "275004d3",
   "metadata": {},
   "outputs": [],
   "source": [
    "#Spliting data into training and testing data\n",
    "#Spliting happens randomly so the accuracy changes everytime you run this line\n",
    "train_input,test_input,train_output,test_output = train_test_split(X,y,test_size=.20)"
   ]
  },
  {
   "cell_type": "code",
   "execution_count": 134,
   "id": "3378f76c",
   "metadata": {},
   "outputs": [
    {
     "data": {
      "text/plain": [
       "(24, 1)"
      ]
     },
     "execution_count": 134,
     "metadata": {},
     "output_type": "execute_result"
    }
   ],
   "source": [
    "train_input.shape"
   ]
  },
  {
   "cell_type": "code",
   "execution_count": 135,
   "id": "a6ce3497",
   "metadata": {},
   "outputs": [
    {
     "data": {
      "text/plain": [
       "(6, 1)"
      ]
     },
     "execution_count": 135,
     "metadata": {},
     "output_type": "execute_result"
    }
   ],
   "source": [
    "test_input.shape"
   ]
  },
  {
   "cell_type": "code",
   "execution_count": 136,
   "id": "007cc1e3",
   "metadata": {},
   "outputs": [
    {
     "data": {
      "text/plain": [
       "(24,)"
      ]
     },
     "execution_count": 136,
     "metadata": {},
     "output_type": "execute_result"
    }
   ],
   "source": [
    "train_output.shape"
   ]
  },
  {
   "cell_type": "code",
   "execution_count": 137,
   "id": "802de39e",
   "metadata": {},
   "outputs": [
    {
     "data": {
      "text/plain": [
       "(6,)"
      ]
     },
     "execution_count": 137,
     "metadata": {},
     "output_type": "execute_result"
    }
   ],
   "source": [
    "test_output.shape"
   ]
  },
  {
   "cell_type": "markdown",
   "id": "462107a7",
   "metadata": {},
   "source": [
    "# Choose ML algorithm"
   ]
  },
  {
   "cell_type": "code",
   "execution_count": 138,
   "id": "2e123e3c",
   "metadata": {},
   "outputs": [],
   "source": [
    "# Use Linear regression when all the values are continues not as a label\n",
    "# for example predicting salary, sales,student marks, stock market prediciton etc."
   ]
  },
  {
   "cell_type": "code",
   "execution_count": 139,
   "id": "649323ac",
   "metadata": {},
   "outputs": [],
   "source": [
    "from sklearn.linear_model import LinearRegression"
   ]
  },
  {
   "cell_type": "code",
   "execution_count": 140,
   "id": "d5c90a78",
   "metadata": {},
   "outputs": [],
   "source": [
    "lr = LinearRegression()"
   ]
  },
  {
   "cell_type": "code",
   "execution_count": 141,
   "id": "72862495",
   "metadata": {},
   "outputs": [],
   "source": [
    "# train set:training a model (60%)\n",
    "# valid set:evaluation       (20%)\n",
    "# test set: once we get our final model (20%)"
   ]
  },
  {
   "cell_type": "code",
   "execution_count": 142,
   "id": "ddce7047",
   "metadata": {},
   "outputs": [
    {
     "data": {
      "text/plain": [
       "LinearRegression()"
      ]
     },
     "execution_count": 142,
     "metadata": {},
     "output_type": "execute_result"
    }
   ],
   "source": [
    "lr.fit(train_input,train_output)\n",
    "# lr.fit(train_input data,train_output data)\n",
    "# y=mx+b fit will find m and b values incase of regression"
   ]
  },
  {
   "cell_type": "code",
   "execution_count": 143,
   "id": "6954aa14",
   "metadata": {},
   "outputs": [
    {
     "data": {
      "text/plain": [
       "9506.536128249472"
      ]
     },
     "execution_count": 143,
     "metadata": {},
     "output_type": "execute_result"
    }
   ],
   "source": [
    "m = lr.coef_[0] # y = mx+b finding m coefficient may be one or more hence it returns values in array\n",
    "m"
   ]
  },
  {
   "cell_type": "code",
   "execution_count": 144,
   "id": "b2b581e7",
   "metadata": {},
   "outputs": [
    {
     "data": {
      "text/plain": [
       "25316.83066577177"
      ]
     },
     "execution_count": 144,
     "metadata": {},
     "output_type": "execute_result"
    }
   ],
   "source": [
    "b = lr.intercept_ # y = mx+b finding b always returns only one value\n",
    "b"
   ]
  },
  {
   "cell_type": "markdown",
   "id": "ef9f0d8c",
   "metadata": {},
   "source": [
    "# Evaluate model performance"
   ]
  },
  {
   "cell_type": "code",
   "execution_count": 154,
   "id": "d4cb7c3c",
   "metadata": {},
   "outputs": [],
   "source": [
    "test = 7.2"
   ]
  },
  {
   "cell_type": "code",
   "execution_count": 155,
   "id": "d8799a72",
   "metadata": {},
   "outputs": [
    {
     "data": {
      "text/plain": [
       "array([93763.89078917])"
      ]
     },
     "execution_count": 155,
     "metadata": {},
     "output_type": "execute_result"
    }
   ],
   "source": [
    "lr.predict([[test]])"
   ]
  },
  {
   "cell_type": "code",
   "execution_count": 156,
   "id": "aa9683af",
   "metadata": {},
   "outputs": [
    {
     "data": {
      "text/plain": [
       "array([[3.2],\n",
       "       [1.5],\n",
       "       [4.9],\n",
       "       [5.1],\n",
       "       [6. ],\n",
       "       [1.3]])"
      ]
     },
     "execution_count": 156,
     "metadata": {},
     "output_type": "execute_result"
    }
   ],
   "source": [
    "test_input"
   ]
  },
  {
   "cell_type": "code",
   "execution_count": 157,
   "id": "6c6fdf0f",
   "metadata": {},
   "outputs": [],
   "source": [
    "pred = lr.predict(test_input) #testing Linear regression model"
   ]
  },
  {
   "cell_type": "code",
   "execution_count": 158,
   "id": "ad852975",
   "metadata": {},
   "outputs": [
    {
     "data": {
      "text/plain": [
       "array([55737.74627617, 39576.63485815, 71898.85769419, 73800.16491984,\n",
       "       82356.04743527, 37675.3276325 ])"
      ]
     },
     "execution_count": 158,
     "metadata": {},
     "output_type": "execute_result"
    }
   ],
   "source": [
    "pred"
   ]
  },
  {
   "cell_type": "code",
   "execution_count": 159,
   "id": "9c0b8500",
   "metadata": {},
   "outputs": [
    {
     "data": {
      "text/plain": [
       "array([54445., 37731., 67938., 66029., 93940., 46205.])"
      ]
     },
     "execution_count": 159,
     "metadata": {},
     "output_type": "execute_result"
    }
   ],
   "source": [
    "test_output"
   ]
  },
  {
   "cell_type": "code",
   "execution_count": 160,
   "id": "ec043e8d",
   "metadata": {},
   "outputs": [],
   "source": [
    "from sklearn.metrics import r2_score,mean_squared_error"
   ]
  },
  {
   "cell_type": "code",
   "execution_count": 161,
   "id": "d4da42ea",
   "metadata": {},
   "outputs": [
    {
     "data": {
      "text/plain": [
       "0.8531421760090614"
      ]
     },
     "execution_count": 161,
     "metadata": {},
     "output_type": "execute_result"
    }
   ],
   "source": [
    "r2_score(test_output,pred)  #test accuracy score of the model its only used in case of regression"
   ]
  },
  {
   "cell_type": "code",
   "execution_count": 162,
   "id": "3e46d005",
   "metadata": {},
   "outputs": [
    {
     "data": {
      "text/plain": [
       "48016704.428022385"
      ]
     },
     "execution_count": 162,
     "metadata": {},
     "output_type": "execute_result"
    }
   ],
   "source": [
    "mean_squared_error(test_output,pred) # "
   ]
  },
  {
   "cell_type": "markdown",
   "id": "caeb42f1",
   "metadata": {},
   "source": [
    "# Pratice regression on generated data"
   ]
  },
  {
   "cell_type": "code",
   "execution_count": 166,
   "id": "8b87aefa",
   "metadata": {},
   "outputs": [],
   "source": [
    "from sklearn.datasets import make_regression"
   ]
  },
  {
   "cell_type": "code",
   "execution_count": 172,
   "id": "0c3869f9",
   "metadata": {},
   "outputs": [
    {
     "data": {
      "image/png": "[encoded data removed]",
      "text/plain": [
       "<Figure size 432x288 with 1 Axes>"
      ]
     },
     "metadata": {
      "needs_background": "light"
     },
     "output_type": "display_data"
    }
   ],
   "source": [
    "x1,y1 = make_regression(n_samples=500,n_features=1,noise=12,random_state=2)\n",
    "#arguments:\n",
    "#n_samples = no of samples\n",
    "#n_features no of features\n",
    "#noise to add noise in data (complexity of data)\n",
    "# random_state ; pass any integer no to get same random values\n",
    "plt.scatter(x1,y1)\n",
    "plt.show()"
   ]
  },
  {
   "cell_type": "code",
   "execution_count": 173,
   "id": "8c1168bf",
   "metadata": {},
   "outputs": [
    {
     "data": {
      "text/plain": [
       "(500, 1)"
      ]
     },
     "execution_count": 173,
     "metadata": {},
     "output_type": "execute_result"
    }
   ],
   "source": [
    "x1.shape #x1 is 2D which is going to be our input data"
   ]
  },
  {
   "cell_type": "code",
   "execution_count": 174,
   "id": "e350d228",
   "metadata": {},
   "outputs": [
    {
     "data": {
      "text/plain": [
       "(500,)"
      ]
     },
     "execution_count": 174,
     "metadata": {},
     "output_type": "execute_result"
    }
   ],
   "source": [
    "y1.shape #y1 is 1D which is going to be our output data"
   ]
  },
  {
   "cell_type": "code",
   "execution_count": 175,
   "id": "1b7f5096",
   "metadata": {},
   "outputs": [],
   "source": [
    "from sklearn.model_selection import train_test_split\n",
    "#Spliting data into training and testing data\n",
    "#Spliting happens randomly so the accuracy changes everytime you run this line\n",
    "train_input,test_input,train_output,test_output = train_test_split(x1,y1,test_size=.20)"
   ]
  },
  {
   "cell_type": "code",
   "execution_count": 176,
   "id": "22c882d5",
   "metadata": {},
   "outputs": [
    {
     "data": {
      "text/plain": [
       "(400, 1)"
      ]
     },
     "execution_count": 176,
     "metadata": {},
     "output_type": "execute_result"
    }
   ],
   "source": [
    "train_input.shape"
   ]
  },
  {
   "cell_type": "code",
   "execution_count": 177,
   "id": "5b26967e",
   "metadata": {},
   "outputs": [
    {
     "data": {
      "text/plain": [
       "(100, 1)"
      ]
     },
     "execution_count": 177,
     "metadata": {},
     "output_type": "execute_result"
    }
   ],
   "source": [
    "test_input.shape"
   ]
  },
  {
   "cell_type": "code",
   "execution_count": 178,
   "id": "03b073d9",
   "metadata": {},
   "outputs": [
    {
     "data": {
      "text/plain": [
       "(400,)"
      ]
     },
     "execution_count": 178,
     "metadata": {},
     "output_type": "execute_result"
    }
   ],
   "source": [
    "train_output.shape"
   ]
  },
  {
   "cell_type": "code",
   "execution_count": 179,
   "id": "adbebfc4",
   "metadata": {},
   "outputs": [
    {
     "data": {
      "text/plain": [
       "(100,)"
      ]
     },
     "execution_count": 179,
     "metadata": {},
     "output_type": "execute_result"
    }
   ],
   "source": [
    "test_output.shape"
   ]
  },
  {
   "cell_type": "code",
   "execution_count": 180,
   "id": "b5e4dcd4",
   "metadata": {},
   "outputs": [],
   "source": [
    "# Use Linear regression when all the values are continues not as a label\n",
    "# for example predicting salary, sales,student marks, stock market prediciton etc."
   ]
  },
  {
   "cell_type": "code",
   "execution_count": 181,
   "id": "d7a20f30",
   "metadata": {},
   "outputs": [],
   "source": [
    "from sklearn.linear_model import LinearRegression"
   ]
  },
  {
   "cell_type": "code",
   "execution_count": 182,
   "id": "a815086d",
   "metadata": {},
   "outputs": [],
   "source": [
    "lr = LinearRegression()"
   ]
  },
  {
   "cell_type": "code",
   "execution_count": 183,
   "id": "f0778d1c",
   "metadata": {},
   "outputs": [],
   "source": [
    "# train set:training a model (60%)\n",
    "# valid set:evaluation       (20%)\n",
    "# test set: once we get our final model (20%)"
   ]
  },
  {
   "cell_type": "code",
   "execution_count": 184,
   "id": "323bba69",
   "metadata": {},
   "outputs": [
    {
     "data": {
      "text/plain": [
       "LinearRegression()"
      ]
     },
     "execution_count": 184,
     "metadata": {},
     "output_type": "execute_result"
    }
   ],
   "source": [
    "lr.fit(train_input,train_output)\n",
    "# lr.fit(train_input data,train_output data)\n",
    "# y=mx+b fit will find m and b values incase of regression"
   ]
  },
  {
   "cell_type": "code",
   "execution_count": 185,
   "id": "3957d38d",
   "metadata": {},
   "outputs": [
    {
     "data": {
      "text/plain": [
       "21.074715604733626"
      ]
     },
     "execution_count": 185,
     "metadata": {},
     "output_type": "execute_result"
    }
   ],
   "source": [
    "m = lr.coef_[0] # y = mx+b finding m coefficient may be one or more hence it returns values in array\n",
    "m"
   ]
  },
  {
   "cell_type": "code",
   "execution_count": 186,
   "id": "00d0d6fb",
   "metadata": {},
   "outputs": [
    {
     "data": {
      "text/plain": [
       "-0.8673332843010431"
      ]
     },
     "execution_count": 186,
     "metadata": {},
     "output_type": "execute_result"
    }
   ],
   "source": [
    "b = lr.intercept_ # y = mx+b finding b always returns only one value\n",
    "b"
   ]
  },
  {
   "cell_type": "code",
   "execution_count": 191,
   "id": "0ab9b53f",
   "metadata": {},
   "outputs": [],
   "source": [
    "test = 0.52"
   ]
  },
  {
   "cell_type": "code",
   "execution_count": 192,
   "id": "f7cc7767",
   "metadata": {},
   "outputs": [
    {
     "data": {
      "text/plain": [
       "array([10.09151883])"
      ]
     },
     "execution_count": 192,
     "metadata": {},
     "output_type": "execute_result"
    }
   ],
   "source": [
    "lr.predict([[test]])"
   ]
  },
  {
   "cell_type": "code",
   "execution_count": 193,
   "id": "fc71b8c5",
   "metadata": {},
   "outputs": [
    {
     "data": {
      "text/plain": [
       "array([[ 0.52110943],\n",
       "       [ 0.55145404],\n",
       "       [ 0.77408203],\n",
       "       [-1.54667461],\n",
       "       [ 0.71352445],\n",
       "       [ 0.76506948],\n",
       "       [-0.06693104],\n",
       "       [-2.22734129],\n",
       "       [ 0.35913333],\n",
       "       [-0.13929188],\n",
       "       [-0.71925384],\n",
       "       [-1.1827572 ],\n",
       "       [-0.07663956],\n",
       "       [-1.15669917],\n",
       "       [ 0.82978905],\n",
       "       [ 1.09801004],\n",
       "       [ 1.4511699 ],\n",
       "       [-2.43476758],\n",
       "       [-0.20870363],\n",
       "       [-0.55294944],\n",
       "       [ 0.82945843],\n",
       "       [-0.21713527],\n",
       "       [ 0.04153939],\n",
       "       [ 0.14834924],\n",
       "       [ 0.43349633],\n",
       "       [-0.33067584],\n",
       "       [ 0.4323957 ],\n",
       "       [-1.48246548],\n",
       "       [-1.98584577],\n",
       "       [-2.50545813],\n",
       "       [-0.0191305 ],\n",
       "       [ 0.06612642],\n",
       "       [ 0.37879447],\n",
       "       [-1.43714343],\n",
       "       [ 1.11788673],\n",
       "       [-1.76491773],\n",
       "       [-1.7379595 ],\n",
       "       [-1.3500021 ],\n",
       "       [ 2.58529487],\n",
       "       [ 0.36343397],\n",
       "       [ 1.38378103],\n",
       "       [-1.17315562],\n",
       "       [ 1.64027081],\n",
       "       [-0.489157  ],\n",
       "       [-1.06492788],\n",
       "       [ 0.2872082 ],\n",
       "       [ 1.42496703],\n",
       "       [-1.31756727],\n",
       "       [-0.63467931],\n",
       "       [ 1.18952814],\n",
       "       [ 1.14485538],\n",
       "       [ 0.73488467],\n",
       "       [ 0.78075436],\n",
       "       [ 0.37044454],\n",
       "       [ 1.21788563],\n",
       "       [ 1.00036589],\n",
       "       [-0.30408644],\n",
       "       [ 0.56627544],\n",
       "       [-0.54388338],\n",
       "       [ 2.10222927],\n",
       "       [ 0.51325144],\n",
       "       [ 0.33048806],\n",
       "       [-0.35947446],\n",
       "       [-1.0196491 ],\n",
       "       [-0.38151648],\n",
       "       [ 1.58448706],\n",
       "       [ 1.83094666],\n",
       "       [ 0.50185721],\n",
       "       [-1.85861239],\n",
       "       [-1.07079633],\n",
       "       [-0.07087636],\n",
       "       [-0.15972413],\n",
       "       [-1.42121723],\n",
       "       [-0.87810789],\n",
       "       [-0.32358007],\n",
       "       [-0.18946926],\n",
       "       [ 1.46767801],\n",
       "       [-1.13431848],\n",
       "       [-0.8442137 ],\n",
       "       [ 0.13761799],\n",
       "       [-1.06136574],\n",
       "       [-1.05491567],\n",
       "       [-0.33882197],\n",
       "       [ 1.15553059],\n",
       "       [-0.95289715],\n",
       "       [-0.59097228],\n",
       "       [-0.25177412],\n",
       "       [ 0.66533428],\n",
       "       [-0.00760114],\n",
       "       [-1.06706712],\n",
       "       [-0.22824756],\n",
       "       [ 0.5928068 ],\n",
       "       [-0.44817482],\n",
       "       [ 0.1127265 ],\n",
       "       [ 2.67033724],\n",
       "       [ 0.96078194],\n",
       "       [ 0.5526637 ],\n",
       "       [-0.84174737],\n",
       "       [ 2.55043824],\n",
       "       [-1.52939136]])"
      ]
     },
     "execution_count": 193,
     "metadata": {},
     "output_type": "execute_result"
    }
   ],
   "source": [
    "test_input"
   ]
  },
  {
   "cell_type": "code",
   "execution_count": 194,
   "id": "13efec2e",
   "metadata": {},
   "outputs": [
    {
     "data": {
      "text/plain": [
       "array([ 1.01148998e+01,  1.07544039e+01,  1.54462254e+01, -3.34630608e+01,\n",
       "        1.41699915e+01,  1.52562884e+01, -2.27788600e+00, -4.78079176e+01,\n",
       "        6.70129955e+00, -3.80287010e+00, -1.60254034e+01, -2.57936050e+01,\n",
       "       -2.48249030e+00, -2.52444393e+01,  1.66202349e+01,  2.22729160e+01,\n",
       "        2.97156596e+01, -5.21793675e+01, -5.26570291e+00, -1.25205855e+01,\n",
       "        1.66132672e+01, -5.44339732e+00,  8.09760953e-03,  2.25908483e+00,\n",
       "        8.26847859e+00, -7.83623264e+00,  8.24528314e+00, -3.21098716e+01,\n",
       "       -4.27184682e+01, -5.36691509e+01, -1.27050306e+00,  5.26262144e-01,\n",
       "        7.11565235e+00, -3.11547224e+01,  2.26918117e+01, -3.80624725e+01,\n",
       "       -3.74943356e+01, -2.93182437e+01,  5.36170208e+01,  6.79193431e+00,\n",
       "        2.82954585e+01, -2.55912544e+01,  3.37009075e+01, -1.11761780e+01,\n",
       "       -2.33103855e+01,  5.18549790e+00,  2.91634417e+01, -2.86346888e+01,\n",
       "       -1.42430191e+01,  2.42016339e+01,  2.32601682e+01,  1.46201521e+01,\n",
       "        1.55868427e+01,  6.93967997e+00,  2.47992601e+01,  2.02150933e+01,\n",
       "       -7.27586850e+00,  1.10667606e+01, -1.23295209e+01,  4.34365507e+01,\n",
       "        9.94929494e+00,  6.09760868e+00, -8.44315528e+00, -2.23561481e+01,\n",
       "       -8.90768464e+00,  3.25252808e+01,  3.77193468e+01,  9.70916462e+00,\n",
       "       -4.00370607e+01, -2.34340613e+01, -2.36103233e+00, -4.23347390e+00,\n",
       "       -3.08190822e+01, -1.93732074e+01, -7.68669124e+00, -4.86034415e+00,\n",
       "        3.00635634e+01, -2.47727727e+01, -1.86588970e+01,  2.03292674e+00,\n",
       "       -2.32353145e+01, -2.30993811e+01, -8.00790986e+00,  2.34851453e+01,\n",
       "       -2.09493698e+01, -1.33219059e+01, -6.17340123e+00,  1.31543974e+01,\n",
       "       -1.02752511e+00, -2.33554694e+01, -5.67758566e+00,  1.16259014e+01,\n",
       "       -1.03124902e+01,  1.50834575e+00,  5.54092647e+01,  1.93808730e+01,\n",
       "        1.07798969e+01, -1.86069196e+01,  5.28824272e+01, -3.30988211e+01])"
      ]
     },
     "execution_count": 194,
     "metadata": {},
     "output_type": "execute_result"
    }
   ],
   "source": [
    "pred = lr.predict(test_input) #testing Linear regression model\n",
    "pred"
   ]
  },
  {
   "cell_type": "code",
   "execution_count": 195,
   "id": "771e696f",
   "metadata": {},
   "outputs": [
    {
     "data": {
      "text/plain": [
       "(100,)"
      ]
     },
     "execution_count": 195,
     "metadata": {},
     "output_type": "execute_result"
    }
   ],
   "source": [
    "pred.shape"
   ]
  },
  {
   "cell_type": "code",
   "execution_count": 196,
   "id": "b7c91f0d",
   "metadata": {},
   "outputs": [],
   "source": [
    "from sklearn.metrics import r2_score,mean_squared_error #testing model accuracy"
   ]
  },
  {
   "cell_type": "code",
   "execution_count": 197,
   "id": "ef7e43c7",
   "metadata": {},
   "outputs": [
    {
     "data": {
      "text/plain": [
       "0.7810298046050433"
      ]
     },
     "execution_count": 197,
     "metadata": {},
     "output_type": "execute_result"
    }
   ],
   "source": [
    "r2_score(test_output,pred)  #test accuracy score of the model its only used in case of regression"
   ]
  },
  {
   "cell_type": "code",
   "execution_count": null,
   "id": "c35823a1",
   "metadata": {},
   "outputs": [],
   "source": []
  }
 ],
 "metadata": {
  "kernelspec": {
   "display_name": "Python [conda env:tensorflow] *",
   "language": "python",
   "name": "conda-env-tensorflow-py"
  },
  "language_info": {
   "codemirror_mode": {
    "name": "ipython",
    "version": 3
   },
   "file_extension": ".py",
   "mimetype": "text/x-python",
   "name": "python",
   "nbconvert_exporter": "python",
   "pygments_lexer": "ipython3",
   "version": "3.8.12"
  }
 },
 "nbformat": 4,
 "nbformat_minor": 5
}

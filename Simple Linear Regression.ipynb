{
 "cells": [
  {
   "cell_type": "markdown",
   "id": "4bc877a1",
   "metadata": {},
   "source": [
    "# Simple Linear Regression"
   ]
  },
  {
   "cell_type": "code",
   "execution_count": 63,
   "id": "f7b0e717",
   "metadata": {},
   "outputs": [],
   "source": [
    "import pandas as pd\n",
    "import numpy as np\n",
    "import matplotlib.pyplot as plt"
   ]
  },
  {
   "cell_type": "markdown",
   "id": "1d76c08b",
   "metadata": {},
   "source": [
    "# scikit-learn is a machine learning library"
   ]
  },
  {
   "cell_type": "code",
   "execution_count": 64,
   "id": "58021056",
   "metadata": {},
   "outputs": [],
   "source": [
    "import sklearn #importing scikit-learn"
   ]
  },
  {
   "cell_type": "markdown",
   "id": "3b7adf00",
   "metadata": {},
   "source": [
    "## Steps of machine learning"
   ]
  },
  {
   "cell_type": "code",
   "execution_count": 65,
   "id": "efb4b7b5",
   "metadata": {},
   "outputs": [],
   "source": [
    "# collect and prepare data\n",
    "# choose alogrithm\n",
    "# train algo using training data\n",
    "# evaluate madel performance"
   ]
  },
  {
   "cell_type": "code",
   "execution_count": 66,
   "id": "5945a4d5",
   "metadata": {},
   "outputs": [],
   "source": [
    "df = pd.read_csv('Salary_Data.csv') #importing data and make a dataframe"
   ]
  },
  {
   "cell_type": "code",
   "execution_count": 67,
   "id": "eb16b91e",
   "metadata": {},
   "outputs": [
    {
     "data": {
      "text/html": [
       "<div>\n",
       "<style scoped>\n",
       "    .dataframe tbody tr th:only-of-type {\n",
       "        vertical-align: middle;\n",
       "    }\n",
       "\n",
       "    .dataframe tbody tr th {\n",
       "        vertical-align: top;\n",
       "    }\n",
       "\n",
       "    .dataframe thead th {\n",
       "        text-align: right;\n",
       "    }\n",
       "</style>\n",
       "<table border=\"1\" class=\"dataframe\">\n",
       "  <thead>\n",
       "    <tr style=\"text-align: right;\">\n",
       "      <th></th>\n",
       "      <th>YearsExperience</th>\n",
       "      <th>Salary</th>\n",
       "    </tr>\n",
       "  </thead>\n",
       "  <tbody>\n",
       "    <tr>\n",
       "      <th>0</th>\n",
       "      <td>1.1</td>\n",
       "      <td>39343.0</td>\n",
       "    </tr>\n",
       "    <tr>\n",
       "      <th>1</th>\n",
       "      <td>1.3</td>\n",
       "      <td>46205.0</td>\n",
       "    </tr>\n",
       "    <tr>\n",
       "      <th>2</th>\n",
       "      <td>1.5</td>\n",
       "      <td>37731.0</td>\n",
       "    </tr>\n",
       "    <tr>\n",
       "      <th>3</th>\n",
       "      <td>2.0</td>\n",
       "      <td>43525.0</td>\n",
       "    </tr>\n",
       "    <tr>\n",
       "      <th>4</th>\n",
       "      <td>2.2</td>\n",
       "      <td>39891.0</td>\n",
       "    </tr>\n",
       "    <tr>\n",
       "      <th>5</th>\n",
       "      <td>2.9</td>\n",
       "      <td>56642.0</td>\n",
       "    </tr>\n",
       "    <tr>\n",
       "      <th>6</th>\n",
       "      <td>3.0</td>\n",
       "      <td>60150.0</td>\n",
       "    </tr>\n",
       "    <tr>\n",
       "      <th>7</th>\n",
       "      <td>3.2</td>\n",
       "      <td>54445.0</td>\n",
       "    </tr>\n",
       "    <tr>\n",
       "      <th>8</th>\n",
       "      <td>3.2</td>\n",
       "      <td>64445.0</td>\n",
       "    </tr>\n",
       "    <tr>\n",
       "      <th>9</th>\n",
       "      <td>3.7</td>\n",
       "      <td>57189.0</td>\n",
       "    </tr>\n",
       "    <tr>\n",
       "      <th>10</th>\n",
       "      <td>3.9</td>\n",
       "      <td>63218.0</td>\n",
       "    </tr>\n",
       "    <tr>\n",
       "      <th>11</th>\n",
       "      <td>4.0</td>\n",
       "      <td>55794.0</td>\n",
       "    </tr>\n",
       "    <tr>\n",
       "      <th>12</th>\n",
       "      <td>4.0</td>\n",
       "      <td>56957.0</td>\n",
       "    </tr>\n",
       "    <tr>\n",
       "      <th>13</th>\n",
       "      <td>4.1</td>\n",
       "      <td>57081.0</td>\n",
       "    </tr>\n",
       "    <tr>\n",
       "      <th>14</th>\n",
       "      <td>4.5</td>\n",
       "      <td>61111.0</td>\n",
       "    </tr>\n",
       "    <tr>\n",
       "      <th>15</th>\n",
       "      <td>4.9</td>\n",
       "      <td>67938.0</td>\n",
       "    </tr>\n",
       "    <tr>\n",
       "      <th>16</th>\n",
       "      <td>5.1</td>\n",
       "      <td>66029.0</td>\n",
       "    </tr>\n",
       "    <tr>\n",
       "      <th>17</th>\n",
       "      <td>5.3</td>\n",
       "      <td>83088.0</td>\n",
       "    </tr>\n",
       "    <tr>\n",
       "      <th>18</th>\n",
       "      <td>5.9</td>\n",
       "      <td>81363.0</td>\n",
       "    </tr>\n",
       "    <tr>\n",
       "      <th>19</th>\n",
       "      <td>6.0</td>\n",
       "      <td>93940.0</td>\n",
       "    </tr>\n",
       "    <tr>\n",
       "      <th>20</th>\n",
       "      <td>6.8</td>\n",
       "      <td>91738.0</td>\n",
       "    </tr>\n",
       "    <tr>\n",
       "      <th>21</th>\n",
       "      <td>7.1</td>\n",
       "      <td>98273.0</td>\n",
       "    </tr>\n",
       "    <tr>\n",
       "      <th>22</th>\n",
       "      <td>7.9</td>\n",
       "      <td>101302.0</td>\n",
       "    </tr>\n",
       "    <tr>\n",
       "      <th>23</th>\n",
       "      <td>8.2</td>\n",
       "      <td>113812.0</td>\n",
       "    </tr>\n",
       "    <tr>\n",
       "      <th>24</th>\n",
       "      <td>8.7</td>\n",
       "      <td>109431.0</td>\n",
       "    </tr>\n",
       "    <tr>\n",
       "      <th>25</th>\n",
       "      <td>9.0</td>\n",
       "      <td>105582.0</td>\n",
       "    </tr>\n",
       "    <tr>\n",
       "      <th>26</th>\n",
       "      <td>9.5</td>\n",
       "      <td>116969.0</td>\n",
       "    </tr>\n",
       "    <tr>\n",
       "      <th>27</th>\n",
       "      <td>9.6</td>\n",
       "      <td>112635.0</td>\n",
       "    </tr>\n",
       "    <tr>\n",
       "      <th>28</th>\n",
       "      <td>10.3</td>\n",
       "      <td>122391.0</td>\n",
       "    </tr>\n",
       "    <tr>\n",
       "      <th>29</th>\n",
       "      <td>10.5</td>\n",
       "      <td>121872.0</td>\n",
       "    </tr>\n",
       "  </tbody>\n",
       "</table>\n",
       "</div>"
      ],
      "text/plain": [
       "    YearsExperience    Salary\n",
       "0               1.1   39343.0\n",
       "1               1.3   46205.0\n",
       "2               1.5   37731.0\n",
       "3               2.0   43525.0\n",
       "4               2.2   39891.0\n",
       "5               2.9   56642.0\n",
       "6               3.0   60150.0\n",
       "7               3.2   54445.0\n",
       "8               3.2   64445.0\n",
       "9               3.7   57189.0\n",
       "10              3.9   63218.0\n",
       "11              4.0   55794.0\n",
       "12              4.0   56957.0\n",
       "13              4.1   57081.0\n",
       "14              4.5   61111.0\n",
       "15              4.9   67938.0\n",
       "16              5.1   66029.0\n",
       "17              5.3   83088.0\n",
       "18              5.9   81363.0\n",
       "19              6.0   93940.0\n",
       "20              6.8   91738.0\n",
       "21              7.1   98273.0\n",
       "22              7.9  101302.0\n",
       "23              8.2  113812.0\n",
       "24              8.7  109431.0\n",
       "25              9.0  105582.0\n",
       "26              9.5  116969.0\n",
       "27              9.6  112635.0\n",
       "28             10.3  122391.0\n",
       "29             10.5  121872.0"
      ]
     },
     "execution_count": 67,
     "metadata": {},
     "output_type": "execute_result"
    }
   ],
   "source": [
    "df"
   ]
  },
  {
   "cell_type": "code",
   "execution_count": 68,
   "id": "0e495671",
   "metadata": {},
   "outputs": [],
   "source": [
    "# checking missing data in the dataframe"
   ]
  },
  {
   "cell_type": "code",
   "execution_count": 69,
   "id": "42218980",
   "metadata": {},
   "outputs": [
    {
     "data": {
      "text/plain": [
       "YearsExperience    0\n",
       "Salary             0\n",
       "dtype: int64"
      ]
     },
     "execution_count": 69,
     "metadata": {},
     "output_type": "execute_result"
    }
   ],
   "source": [
    "df.isnull().sum()"
   ]
  },
  {
   "cell_type": "code",
   "execution_count": 70,
   "id": "a6411880",
   "metadata": {},
   "outputs": [],
   "source": [
    "#Split data into training and test data"
   ]
  },
  {
   "cell_type": "code",
   "execution_count": 71,
   "id": "5ff23cd3",
   "metadata": {},
   "outputs": [],
   "source": [
    "#train data : 80 or 70%\n",
    "#test data : 20 or 30%"
   ]
  },
  {
   "cell_type": "code",
   "execution_count": 133,
   "id": "f2f9031c",
   "metadata": {},
   "outputs": [],
   "source": [
    "# x = df.iloc[starting row index:ending row index,starting column index:ending column index].values\n",
    "x = df.iloc[:,:-1].values # 2 dimensional we've used iloc here beacause we want iloc to be 2D\n",
    "#x = input data should be 2D\n",
    "y = df.Salary.values\n",
    "#y = output data should be 1D"
   ]
  },
  {
   "cell_type": "code",
   "execution_count": 134,
   "id": "4baf68a7",
   "metadata": {},
   "outputs": [
    {
     "data": {
      "text/plain": [
       "array([ 39343.,  46205.,  37731.,  43525.,  39891.,  56642.,  60150.,\n",
       "        54445.,  64445.,  57189.,  63218.,  55794.,  56957.,  57081.,\n",
       "        61111.,  67938.,  66029.,  83088.,  81363.,  93940.,  91738.,\n",
       "        98273., 101302., 113812., 109431., 105582., 116969., 112635.,\n",
       "       122391., 121872.])"
      ]
     },
     "execution_count": 134,
     "metadata": {},
     "output_type": "execute_result"
    }
   ],
   "source": [
    "y #output data Salary"
   ]
  },
  {
   "cell_type": "code",
   "execution_count": 135,
   "id": "292b9c8b",
   "metadata": {},
   "outputs": [
    {
     "data": {
      "text/plain": [
       "(30,)"
      ]
     },
     "execution_count": 135,
     "metadata": {},
     "output_type": "execute_result"
    }
   ],
   "source": [
    "y.shape"
   ]
  },
  {
   "cell_type": "code",
   "execution_count": 136,
   "id": "221a26cc",
   "metadata": {},
   "outputs": [
    {
     "data": {
      "text/plain": [
       "array([[ 1.1],\n",
       "       [ 1.3],\n",
       "       [ 1.5],\n",
       "       [ 2. ],\n",
       "       [ 2.2],\n",
       "       [ 2.9],\n",
       "       [ 3. ],\n",
       "       [ 3.2],\n",
       "       [ 3.2],\n",
       "       [ 3.7],\n",
       "       [ 3.9],\n",
       "       [ 4. ],\n",
       "       [ 4. ],\n",
       "       [ 4.1],\n",
       "       [ 4.5],\n",
       "       [ 4.9],\n",
       "       [ 5.1],\n",
       "       [ 5.3],\n",
       "       [ 5.9],\n",
       "       [ 6. ],\n",
       "       [ 6.8],\n",
       "       [ 7.1],\n",
       "       [ 7.9],\n",
       "       [ 8.2],\n",
       "       [ 8.7],\n",
       "       [ 9. ],\n",
       "       [ 9.5],\n",
       "       [ 9.6],\n",
       "       [10.3],\n",
       "       [10.5]])"
      ]
     },
     "execution_count": 136,
     "metadata": {},
     "output_type": "execute_result"
    }
   ],
   "source": [
    "x #input data Years of experience"
   ]
  },
  {
   "cell_type": "code",
   "execution_count": 127,
   "id": "ec5ab471",
   "metadata": {},
   "outputs": [
    {
     "data": {
      "text/plain": [
       "(30, 1)"
      ]
     },
     "execution_count": 127,
     "metadata": {},
     "output_type": "execute_result"
    }
   ],
   "source": [
    "x.shape"
   ]
  },
  {
   "cell_type": "markdown",
   "id": "8db4b001",
   "metadata": {},
   "source": [
    "# Splitting data into training and test data"
   ]
  },
  {
   "cell_type": "code",
   "execution_count": 77,
   "id": "2b3da96c",
   "metadata": {},
   "outputs": [],
   "source": [
    "from sklearn.model_selection import train_test_split"
   ]
  },
  {
   "cell_type": "code",
   "execution_count": 79,
   "id": "f8d719af",
   "metadata": {},
   "outputs": [],
   "source": [
    "#Spliting data into training and testing data\n",
    "#Spliting happens randomly so the accuracy changes everytime you run this line\n",
    "train_input,test_input,train_output,test_output = train_test_split(x,y,test_size=.20)"
   ]
  },
  {
   "cell_type": "code",
   "execution_count": 80,
   "id": "e601cdce",
   "metadata": {},
   "outputs": [
    {
     "data": {
      "text/plain": [
       "(24, 1)"
      ]
     },
     "execution_count": 80,
     "metadata": {},
     "output_type": "execute_result"
    }
   ],
   "source": [
    "train_input.shape"
   ]
  },
  {
   "cell_type": "code",
   "execution_count": 81,
   "id": "2fdc78a5",
   "metadata": {},
   "outputs": [
    {
     "data": {
      "text/plain": [
       "(6, 1)"
      ]
     },
     "execution_count": 81,
     "metadata": {},
     "output_type": "execute_result"
    }
   ],
   "source": [
    "test_input.shape"
   ]
  },
  {
   "cell_type": "code",
   "execution_count": 82,
   "id": "e780c6a7",
   "metadata": {},
   "outputs": [
    {
     "data": {
      "text/plain": [
       "(24,)"
      ]
     },
     "execution_count": 82,
     "metadata": {},
     "output_type": "execute_result"
    }
   ],
   "source": [
    "train_output.shape"
   ]
  },
  {
   "cell_type": "code",
   "execution_count": 83,
   "id": "3838cd48",
   "metadata": {},
   "outputs": [
    {
     "data": {
      "text/plain": [
       "(6,)"
      ]
     },
     "execution_count": 83,
     "metadata": {},
     "output_type": "execute_result"
    }
   ],
   "source": [
    "test_output.shape"
   ]
  },
  {
   "cell_type": "markdown",
   "id": "3ce2b6ae",
   "metadata": {},
   "source": [
    "# Choose ML algorithm"
   ]
  },
  {
   "cell_type": "code",
   "execution_count": 84,
   "id": "83efd365",
   "metadata": {},
   "outputs": [],
   "source": [
    "# Use Linear regression when all the values are continues not as a label\n",
    "# for example predicting salary, sales,student marks, stock market prediciton etc."
   ]
  },
  {
   "cell_type": "code",
   "execution_count": 85,
   "id": "042a286d",
   "metadata": {},
   "outputs": [],
   "source": [
    "from sklearn.linear_model import LinearRegression"
   ]
  },
  {
   "cell_type": "code",
   "execution_count": 86,
   "id": "38fd5945",
   "metadata": {},
   "outputs": [],
   "source": [
    "lr = LinearRegression()"
   ]
  },
  {
   "cell_type": "code",
   "execution_count": 87,
   "id": "de92c1e8",
   "metadata": {},
   "outputs": [],
   "source": [
    "# train set:training a model (60%)\n",
    "# valid set:evaluation       (20%)\n",
    "# test set: once we get our final model (20%)"
   ]
  },
  {
   "cell_type": "code",
   "execution_count": 88,
   "id": "6ed5d5bf",
   "metadata": {},
   "outputs": [
    {
     "data": {
      "text/plain": [
       "LinearRegression()"
      ]
     },
     "execution_count": 88,
     "metadata": {},
     "output_type": "execute_result"
    }
   ],
   "source": [
    "lr.fit(train_input,train_output)\n",
    "# lr.fit(train_input data,train_output data)\n",
    "# y=mx+b fit will find m and b values incase of regression"
   ]
  },
  {
   "cell_type": "code",
   "execution_count": 89,
   "id": "19d2658e",
   "metadata": {},
   "outputs": [
    {
     "data": {
      "text/plain": [
       "9473.673752864755"
      ]
     },
     "execution_count": 89,
     "metadata": {},
     "output_type": "execute_result"
    }
   ],
   "source": [
    "m = lr.coef_[0] # y = mx+b finding m coefficient may be one or more hence it returns values in array\n",
    "m"
   ]
  },
  {
   "cell_type": "code",
   "execution_count": 90,
   "id": "24cf6db8",
   "metadata": {},
   "outputs": [
    {
     "data": {
      "text/plain": [
       "26262.405823489775"
      ]
     },
     "execution_count": 90,
     "metadata": {},
     "output_type": "execute_result"
    }
   ],
   "source": [
    "b = lr.intercept_ # y = mx+b finding b always returns only one value\n",
    "b"
   ]
  },
  {
   "cell_type": "markdown",
   "id": "5f9242b6",
   "metadata": {},
   "source": [
    "# Evaluate model performance"
   ]
  },
  {
   "cell_type": "code",
   "execution_count": 91,
   "id": "814f3e51",
   "metadata": {},
   "outputs": [],
   "source": [
    "test = 7.2"
   ]
  },
  {
   "cell_type": "code",
   "execution_count": 92,
   "id": "5839ab10",
   "metadata": {},
   "outputs": [
    {
     "data": {
      "text/plain": [
       "array([94472.85684412])"
      ]
     },
     "execution_count": 92,
     "metadata": {},
     "output_type": "execute_result"
    }
   ],
   "source": [
    "lr.predict([[test]])# it finds m and b in formula y=mx+b "
   ]
  },
  {
   "cell_type": "code",
   "execution_count": 93,
   "id": "ccb5ac6a",
   "metadata": {},
   "outputs": [
    {
     "data": {
      "text/plain": [
       "array([[3.9],\n",
       "       [9. ],\n",
       "       [9.5],\n",
       "       [2.9],\n",
       "       [4. ],\n",
       "       [4. ]])"
      ]
     },
     "execution_count": 93,
     "metadata": {},
     "output_type": "execute_result"
    }
   ],
   "source": [
    "test_input"
   ]
  },
  {
   "cell_type": "code",
   "execution_count": 94,
   "id": "79502176",
   "metadata": {},
   "outputs": [],
   "source": [
    "pred = lr.predict(test_input) #testing Linear regression model"
   ]
  },
  {
   "cell_type": "code",
   "execution_count": 95,
   "id": "2c0c25ad",
   "metadata": {},
   "outputs": [
    {
     "data": {
      "text/plain": [
       "array([ 63209.73345966, 111525.46959927, 116262.3064757 ,  53736.0597068 ,\n",
       "        64157.10083495,  64157.10083495])"
      ]
     },
     "execution_count": 95,
     "metadata": {},
     "output_type": "execute_result"
    }
   ],
   "source": [
    "pred"
   ]
  },
  {
   "cell_type": "code",
   "execution_count": 96,
   "id": "5facd449",
   "metadata": {},
   "outputs": [
    {
     "data": {
      "text/plain": [
       "array([ 63218., 105582., 116969.,  56642.,  55794.,  56957.])"
      ]
     },
     "execution_count": 96,
     "metadata": {},
     "output_type": "execute_result"
    }
   ],
   "source": [
    "test_output"
   ]
  },
  {
   "cell_type": "code",
   "execution_count": 97,
   "id": "016b429f",
   "metadata": {},
   "outputs": [],
   "source": [
    "from sklearn.metrics import r2_score,mean_squared_error"
   ]
  },
  {
   "cell_type": "code",
   "execution_count": 98,
   "id": "d17fbb6e",
   "metadata": {},
   "outputs": [
    {
     "data": {
      "text/plain": [
       "0.9570088940570057"
      ]
     },
     "execution_count": 98,
     "metadata": {},
     "output_type": "execute_result"
    }
   ],
   "source": [
    "r2_score(test_output,pred)  #test accuracy score of the model its only used in case of regression"
   ]
  },
  {
   "cell_type": "code",
   "execution_count": 99,
   "id": "acd37a09",
   "metadata": {},
   "outputs": [
    {
     "data": {
      "text/plain": [
       "27675285.25784266"
      ]
     },
     "execution_count": 99,
     "metadata": {},
     "output_type": "execute_result"
    }
   ],
   "source": [
    "mean_squared_error(test_output,pred) # "
   ]
  },
  {
   "cell_type": "markdown",
   "id": "dacb026c",
   "metadata": {},
   "source": [
    "# Pratice regression on generated data"
   ]
  },
  {
   "cell_type": "code",
   "execution_count": 100,
   "id": "ee581024",
   "metadata": {},
   "outputs": [],
   "source": [
    "from sklearn.datasets import make_regression"
   ]
  },
  {
   "cell_type": "code",
   "execution_count": 101,
   "id": "11f4588a",
   "metadata": {},
   "outputs": [
    {
     "data": {
      "image/png": "[encoded data removed]",
      "text/plain": [
       "<Figure size 432x288 with 1 Axes>"
      ]
     },
     "metadata": {
      "needs_background": "light"
     },
     "output_type": "display_data"
    }
   ],
   "source": [
    "x1,y1 = make_regression(n_samples=500,n_features=1,noise=12,random_state=2)\n",
    "#arguments:\n",
    "#n_samples = no of samples\n",
    "#n_features no of features\n",
    "#noise to add noise in data (complexity of data)\n",
    "# random_state ; pass any integer no to get same random values\n",
    "plt.scatter(x1,y1)\n",
    "plt.show()"
   ]
  },
  {
   "cell_type": "code",
   "execution_count": 102,
   "id": "665b7a21",
   "metadata": {},
   "outputs": [
    {
     "data": {
      "text/plain": [
       "(500, 1)"
      ]
     },
     "execution_count": 102,
     "metadata": {},
     "output_type": "execute_result"
    }
   ],
   "source": [
    "x1.shape #x1 is 2D which is going to be our input data"
   ]
  },
  {
   "cell_type": "code",
   "execution_count": 103,
   "id": "3e759533",
   "metadata": {},
   "outputs": [
    {
     "data": {
      "text/plain": [
       "(500,)"
      ]
     },
     "execution_count": 103,
     "metadata": {},
     "output_type": "execute_result"
    }
   ],
   "source": [
    "y1.shape #y1 is 1D which is going to be our output data"
   ]
  },
  {
   "cell_type": "code",
   "execution_count": 104,
   "id": "a616795e",
   "metadata": {},
   "outputs": [],
   "source": [
    "from sklearn.model_selection import train_test_split\n",
    "#Spliting data into training and testing data\n",
    "#Spliting happens randomly so the accuracy changes everytime you run this line\n",
    "train_input,test_input,train_output,test_output = train_test_split(x1,y1,test_size=.20)"
   ]
  },
  {
   "cell_type": "code",
   "execution_count": 105,
   "id": "6b3d037f",
   "metadata": {},
   "outputs": [
    {
     "data": {
      "text/plain": [
       "(400, 1)"
      ]
     },
     "execution_count": 105,
     "metadata": {},
     "output_type": "execute_result"
    }
   ],
   "source": [
    "train_input.shape"
   ]
  },
  {
   "cell_type": "code",
   "execution_count": 106,
   "id": "fee7f018",
   "metadata": {},
   "outputs": [
    {
     "data": {
      "text/plain": [
       "(100, 1)"
      ]
     },
     "execution_count": 106,
     "metadata": {},
     "output_type": "execute_result"
    }
   ],
   "source": [
    "test_input.shape"
   ]
  },
  {
   "cell_type": "code",
   "execution_count": 107,
   "id": "d200d459",
   "metadata": {},
   "outputs": [
    {
     "data": {
      "text/plain": [
       "(400,)"
      ]
     },
     "execution_count": 107,
     "metadata": {},
     "output_type": "execute_result"
    }
   ],
   "source": [
    "train_output.shape"
   ]
  },
  {
   "cell_type": "code",
   "execution_count": 108,
   "id": "03500871",
   "metadata": {},
   "outputs": [
    {
     "data": {
      "text/plain": [
       "(100,)"
      ]
     },
     "execution_count": 108,
     "metadata": {},
     "output_type": "execute_result"
    }
   ],
   "source": [
    "test_output.shape"
   ]
  },
  {
   "cell_type": "code",
   "execution_count": 109,
   "id": "c4c4471e",
   "metadata": {},
   "outputs": [],
   "source": [
    "# Use Linear regression when all the values are continues not as a label\n",
    "# for example predicting salary, sales,student marks, stock market prediciton etc."
   ]
  },
  {
   "cell_type": "code",
   "execution_count": 110,
   "id": "23c3b78f",
   "metadata": {},
   "outputs": [],
   "source": [
    "from sklearn.linear_model import LinearRegression"
   ]
  },
  {
   "cell_type": "code",
   "execution_count": 111,
   "id": "7e2beda0",
   "metadata": {},
   "outputs": [],
   "source": [
    "lr = LinearRegression()"
   ]
  },
  {
   "cell_type": "code",
   "execution_count": 112,
   "id": "679aa3eb",
   "metadata": {},
   "outputs": [],
   "source": [
    "# train set:training a model (60%)\n",
    "# valid set:evaluation       (20%)\n",
    "# test set: once we get our final model (20%)"
   ]
  },
  {
   "cell_type": "markdown",
   "id": "37eca489",
   "metadata": {},
   "source": [
    "## Training Linear regression model"
   ]
  },
  {
   "cell_type": "code",
   "execution_count": 131,
   "id": "1dc3d602",
   "metadata": {},
   "outputs": [
    {
     "data": {
      "text/plain": [
       "LinearRegression()"
      ]
     },
     "execution_count": 131,
     "metadata": {},
     "output_type": "execute_result"
    }
   ],
   "source": [
    "lr.fit(train_input,train_output)\n",
    "# lr.fit(train_input data,train_output data)\n",
    "# y=mx+b fit will find m and b values incase of regression \n",
    "# fit method call means training model"
   ]
  },
  {
   "cell_type": "code",
   "execution_count": 114,
   "id": "c7dab60c",
   "metadata": {},
   "outputs": [
    {
     "data": {
      "text/plain": [
       "21.310482429242203"
      ]
     },
     "execution_count": 114,
     "metadata": {},
     "output_type": "execute_result"
    }
   ],
   "source": [
    "m = lr.coef_[0] # y = mx+b finding m coefficient may be one or more hence it returns values in array\n",
    "m"
   ]
  },
  {
   "cell_type": "code",
   "execution_count": 115,
   "id": "830291dc",
   "metadata": {},
   "outputs": [
    {
     "data": {
      "text/plain": [
       "-1.2369337865171384"
      ]
     },
     "execution_count": 115,
     "metadata": {},
     "output_type": "execute_result"
    }
   ],
   "source": [
    "b = lr.intercept_ # y = mx+b finding b always returns only one value\n",
    "b"
   ]
  },
  {
   "cell_type": "code",
   "execution_count": 116,
   "id": "6b0c1416",
   "metadata": {},
   "outputs": [],
   "source": [
    "test = 0.52"
   ]
  },
  {
   "cell_type": "code",
   "execution_count": 117,
   "id": "7b4d1f3e",
   "metadata": {},
   "outputs": [
    {
     "data": {
      "text/plain": [
       "array([9.84451708])"
      ]
     },
     "execution_count": 117,
     "metadata": {},
     "output_type": "execute_result"
    }
   ],
   "source": [
    "lr.predict([[test]]) # it finds m and b in formula y=mx+b and solves it"
   ]
  },
  {
   "cell_type": "code",
   "execution_count": 118,
   "id": "2df87d9f",
   "metadata": {},
   "outputs": [
    {
     "data": {
      "text/plain": [
       "array([[ 1.33556617e+00],\n",
       "       [-3.37972149e-01],\n",
       "       [ 6.01515814e-01],\n",
       "       [ 1.86521520e-01],\n",
       "       [ 1.16152149e+00],\n",
       "       [-1.49783981e+00],\n",
       "       [ 2.10222927e+00],\n",
       "       [-9.93760983e-01],\n",
       "       [ 1.26504175e-01],\n",
       "       [ 6.35363758e-01],\n",
       "       [ 1.23403468e+00],\n",
       "       [-6.31118683e-01],\n",
       "       [-5.78472626e-02],\n",
       "       [-1.73795950e+00],\n",
       "       [-2.15050132e-01],\n",
       "       [ 3.30488064e-01],\n",
       "       [ 5.92806797e-01],\n",
       "       [-2.76179492e-01],\n",
       "       [ 7.74082033e-01],\n",
       "       [ 1.08580640e+00],\n",
       "       [ 9.75509412e-01],\n",
       "       [ 8.19885117e-01],\n",
       "       [ 1.94168696e-01],\n",
       "       [ 7.89059649e-01],\n",
       "       [-1.73071165e-01],\n",
       "       [ 2.04207979e-01],\n",
       "       [-2.30917497e-01],\n",
       "       [-5.60234506e-01],\n",
       "       [-1.98584577e+00],\n",
       "       [-8.78107893e-01],\n",
       "       [-1.08709057e+00],\n",
       "       [ 3.36065952e-01],\n",
       "       [-2.20644541e-03],\n",
       "       [ 1.36723542e+00],\n",
       "       [-4.26522471e-01],\n",
       "       [-2.54530459e-01],\n",
       "       [-4.47500876e-01],\n",
       "       [-8.44213704e-01],\n",
       "       [-1.13313327e+00],\n",
       "       [ 1.35963386e+00],\n",
       "       [ 5.91666521e-01],\n",
       "       [ 2.67972576e-01],\n",
       "       [ 7.79480054e-01],\n",
       "       [ 7.80754356e-01],\n",
       "       [-8.41747366e-01],\n",
       "       [-4.92994911e-01],\n",
       "       [-1.37775793e+00],\n",
       "       [ 1.64027081e+00],\n",
       "       [ 1.24845030e+00],\n",
       "       [ 1.27837923e+00],\n",
       "       [ 5.38424263e-01],\n",
       "       [ 5.21109431e-01],\n",
       "       [-1.48147191e-01],\n",
       "       [-6.57718447e-01],\n",
       "       [ 1.80409807e-01],\n",
       "       [ 1.02659795e+00],\n",
       "       [-1.53111111e+00],\n",
       "       [-1.13431848e+00],\n",
       "       [-7.72186654e-02],\n",
       "       [ 1.45840073e-01],\n",
       "       [ 8.20564332e-01],\n",
       "       [-2.06961226e+00],\n",
       "       [ 3.50888494e-01],\n",
       "       [ 3.70304843e-01],\n",
       "       [ 1.61517627e+00],\n",
       "       [ 5.51454045e-01],\n",
       "       [ 1.14053878e-01],\n",
       "       [ 3.78794466e-01],\n",
       "       [ 1.36901602e+00],\n",
       "       [-1.31682403e-01],\n",
       "       [ 6.04624490e-02],\n",
       "       [-8.52341797e-01],\n",
       "       [-1.74996844e-01],\n",
       "       [-1.07502856e+00],\n",
       "       [-1.02141473e+00],\n",
       "       [-2.42440600e-01],\n",
       "       [-4.46857897e-01],\n",
       "       [-1.64515057e-01],\n",
       "       [ 3.27974540e+00],\n",
       "       [-1.09929731e+00],\n",
       "       [ 5.24296430e-01],\n",
       "       [ 1.45116990e+00],\n",
       "       [ 4.62555231e-02],\n",
       "       [-1.67168774e-01],\n",
       "       [ 3.65949071e-03],\n",
       "       [ 9.70861320e-01],\n",
       "       [-5.16883894e-01],\n",
       "       [-8.49995503e-01],\n",
       "       [ 3.02629336e-01],\n",
       "       [ 1.24823646e-01],\n",
       "       [-2.43476758e+00],\n",
       "       [-2.17135269e-01],\n",
       "       [-4.62005348e-01],\n",
       "       [-1.01964910e+00],\n",
       "       [-2.36184031e-01],\n",
       "       [-1.59724130e-01],\n",
       "       [-7.44707629e-02],\n",
       "       [ 8.69598198e-01],\n",
       "       [ 9.60781945e-01],\n",
       "       [ 5.52663696e-01]])"
      ]
     },
     "execution_count": 118,
     "metadata": {},
     "output_type": "execute_result"
    }
   ],
   "source": [
    "test_input"
   ]
  },
  {
   "cell_type": "code",
   "execution_count": 119,
   "id": "e852fcc6",
   "metadata": {},
   "outputs": [
    {
     "data": {
      "text/plain": [
       "array([ 2.72246256e+01, -8.43928334e+00,  1.15816584e+01,  2.73792979e+00,\n",
       "        2.35156495e+01, -3.31566226e+01,  4.35625861e+01, -2.24144598e+01,\n",
       "        1.45893122e+00,  1.23029744e+01,  2.50609406e+01, -1.46863774e+01,\n",
       "       -2.46968686e+00, -3.82736893e+01, -5.81975584e+00,  5.80592629e+00,\n",
       "        1.13960650e+01, -7.12245200e+00,  1.52591278e+01,  2.19021245e+01,\n",
       "        1.95516424e+01,  1.62352136e+01,  2.90089479e+00,  1.55783080e+01,\n",
       "       -4.92516381e+00,  3.11483676e+00, -6.15789705e+00, -1.31758014e+01,\n",
       "       -4.35562653e+01, -1.99498366e+01, -2.44033584e+01,  5.92479377e+00,\n",
       "       -1.28395420e+00,  2.78995127e+01, -1.03263334e+01, -6.66110067e+00,\n",
       "       -1.07733933e+01, -1.92275351e+01, -2.53845505e+01,  2.77375198e+01,\n",
       "        1.13717652e+01,  4.47369110e+00,  1.53741622e+01,  1.54013182e+01,\n",
       "       -1.91749762e+01, -1.17428932e+01, -3.05976200e+01,  3.37180285e+01,\n",
       "        2.53681444e+01,  2.60059443e+01,  1.02371470e+01,  9.86815959e+00,\n",
       "       -4.39402190e+00, -1.52532312e+01,  2.60768623e+00,  2.06403638e+01,\n",
       "       -3.38656501e+01, -2.54098079e+01, -2.88250080e+00,  1.87098853e+00,\n",
       "        1.62496880e+01, -4.53413695e+01,  6.24066930e+00,  6.65444106e+00,\n",
       "        3.31832517e+01,  1.05148179e+01,  1.19360938e+00,  6.83535902e+00,\n",
       "        2.79374581e+01, -4.04314933e+00,  5.15501706e-02, -1.94007487e+01,\n",
       "       -4.96620095e+00, -2.41463111e+01, -2.30037745e+01, -6.40345994e+00,\n",
       "       -1.07596911e+01, -4.74282902e+00,  6.86560230e+01, -2.46634898e+01,\n",
       "        9.93607607e+00,  2.96881969e+01, -2.51206273e-01, -4.79938102e+00,\n",
       "       -1.15894827e+00,  1.94525893e+01, -1.22519789e+01, -1.93507480e+01,\n",
       "        5.21224336e+00,  1.42311834e+00, -5.31230054e+01, -5.86419112e+00,\n",
       "       -1.10824906e+01, -2.29661480e+01, -6.27012943e+00, -4.64073205e+00,\n",
       "       -2.82394167e+00,  1.72946233e+01,  1.92377930e+01,  1.05405962e+01])"
      ]
     },
     "execution_count": 119,
     "metadata": {},
     "output_type": "execute_result"
    }
   ],
   "source": [
    "pred = lr.predict(test_input) #testing Linear regression model\n",
    "pred"
   ]
  },
  {
   "cell_type": "code",
   "execution_count": 120,
   "id": "d94a4b48",
   "metadata": {},
   "outputs": [
    {
     "data": {
      "text/plain": [
       "(100,)"
      ]
     },
     "execution_count": 120,
     "metadata": {},
     "output_type": "execute_result"
    }
   ],
   "source": [
    "pred.shape"
   ]
  },
  {
   "cell_type": "markdown",
   "id": "f74bc8e3",
   "metadata": {},
   "source": [
    "## How to draw a best fit line"
   ]
  },
  {
   "cell_type": "code",
   "execution_count": 143,
   "id": "79e3d118",
   "metadata": {},
   "outputs": [
    {
     "data": {
      "image/png": "[encoded data removed]",
      "text/plain": [
       "<Figure size 432x288 with 1 Axes>"
      ]
     },
     "metadata": {
      "needs_background": "light"
     },
     "output_type": "display_data"
    }
   ],
   "source": [
    "plt.scatter(test_input,test_output,label='test data') # x_test = test_input and y_test = test_output\n",
    "plt.plot(test_input,pred,color='red',marker='*')\n",
    "plt.legend()\n",
    "plt.show()"
   ]
  },
  {
   "cell_type": "code",
   "execution_count": 121,
   "id": "b41dd49b",
   "metadata": {},
   "outputs": [],
   "source": [
    "from sklearn.metrics import r2_score,mean_squared_error #testing model accuracy"
   ]
  },
  {
   "cell_type": "code",
   "execution_count": 122,
   "id": "a63e53ee",
   "metadata": {},
   "outputs": [
    {
     "data": {
      "text/plain": [
       "0.730651619293341"
      ]
     },
     "execution_count": 122,
     "metadata": {},
     "output_type": "execute_result"
    }
   ],
   "source": [
    "r2_score(test_output,pred)  #test accuracy score of the model its only used in case of regression\n",
    "# r2_score is actually r squared value"
   ]
  },
  {
   "cell_type": "markdown",
   "id": "90a181c3",
   "metadata": {},
   "source": [
    "# When will Linear Regression be used"
   ]
  },
  {
   "cell_type": "code",
   "execution_count": null,
   "id": "b2c5bf5f",
   "metadata": {},
   "outputs": [],
   "source": [
    "# Tock price predictions\n",
    "# student marks prediction etc\n",
    "# We will implement regression when there are no column which contains categories but only contains numbers\n",
    "# in regression we have to find best fit line by finding linear relation \n",
    "# equation used to find best fit line y=mx+b"
   ]
  },
  {
   "cell_type": "code",
   "execution_count": 129,
   "id": "e8c3167d",
   "metadata": {},
   "outputs": [],
   "source": [
    "# If the value of sse(sum of squared error) is close to zero then Linear regression model have high accuracy\n",
    "# Mean of Squared error MSE it have the same function as SSE\n",
    "\n",
    "# $$ Mostly used is R squared value if R squared value is closer to 1 then Regression model performance is good \n",
    "# (if R^2 value is closer to 1 then actual value and predicted vale have smaller gap between them)\n",
    "# If R squared value is closer to 0 then performance of regression model is not good \n",
    "# (if R^2 value is closer to 0 then actual value and predicted vale have Larger gap between them)$$\n",
    "# Syntax to use R squared in Ml is r2_score(test_output,pred)"
   ]
  },
  {
   "cell_type": "code",
   "execution_count": 132,
   "id": "2236e811",
   "metadata": {},
   "outputs": [
    {
     "data": {
      "text/plain": [
       "' \\n1. when we have only 1 feature and we have to find output data in Linear regression\\n   then we will use y=mx+b\\n2. when we have multiple features and we have to find output data in Linear regression\\n   then the number of coefficient will increase y=( m1x1 +m2x2 ....)+b\\n'"
      ]
     },
     "execution_count": 132,
     "metadata": {},
     "output_type": "execute_result"
    }
   ],
   "source": [
    "''' \n",
    "1. when we have only 1 feature and we have to find output data in Linear regression\n",
    "   then we will use y=mx+b\n",
    "2. when we have multiple features and we have to find output data in Linear regression\n",
    "   then the number of coefficient will increase y=( m1x1 +m2x2 ....)+b\n",
    "'''"
   ]
  },
  {
   "cell_type": "code",
   "execution_count": null,
   "id": "3f6e4cc0",
   "metadata": {},
   "outputs": [],
   "source": []
  }
 ],
 "metadata": {
  "kernelspec": {
   "display_name": "Python [conda env:tensorflow] *",
   "language": "python",
   "name": "conda-env-tensorflow-py"
  },
  "language_info": {
   "codemirror_mode": {
    "name": "ipython",
    "version": 3
   },
   "file_extension": ".py",
   "mimetype": "text/x-python",
   "name": "python",
   "nbconvert_exporter": "python",
   "pygments_lexer": "ipython3",
   "version": "3.8.12"
  }
 },
 "nbformat": 4,
 "nbformat_minor": 5
}
